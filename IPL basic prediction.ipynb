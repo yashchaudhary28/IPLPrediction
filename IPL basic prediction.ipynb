{
 "cells": [
  {
   "cell_type": "code",
   "execution_count": 1,
   "metadata": {
    "ExecuteTime": {
     "end_time": "2020-09-19T12:42:53.890899Z",
     "start_time": "2020-09-19T12:42:52.369967Z"
    }
   },
   "outputs": [],
   "source": [
    "import pandas as pd\n",
    "import numpy as np\n",
    "import matplotlib.pyplot as plt\n",
    "import seaborn as sns"
   ]
  },
  {
   "cell_type": "code",
   "execution_count": 2,
   "metadata": {
    "ExecuteTime": {
     "end_time": "2020-09-19T12:42:53.907876Z",
     "start_time": "2020-09-19T12:42:53.891897Z"
    }
   },
   "outputs": [],
   "source": [
    "matches = pd.read_csv(\"matches.csv\")"
   ]
  },
  {
   "cell_type": "code",
   "execution_count": 3,
   "metadata": {
    "ExecuteTime": {
     "end_time": "2020-09-19T12:42:53.941762Z",
     "start_time": "2020-09-19T12:42:53.911844Z"
    }
   },
   "outputs": [
    {
     "data": {
      "text/html": [
       "<div>\n",
       "<style scoped>\n",
       "    .dataframe tbody tr th:only-of-type {\n",
       "        vertical-align: middle;\n",
       "    }\n",
       "\n",
       "    .dataframe tbody tr th {\n",
       "        vertical-align: top;\n",
       "    }\n",
       "\n",
       "    .dataframe thead th {\n",
       "        text-align: right;\n",
       "    }\n",
       "</style>\n",
       "<table border=\"1\" class=\"dataframe\">\n",
       "  <thead>\n",
       "    <tr style=\"text-align: right;\">\n",
       "      <th></th>\n",
       "      <th>id</th>\n",
       "      <th>season</th>\n",
       "      <th>city</th>\n",
       "      <th>date</th>\n",
       "      <th>team1</th>\n",
       "      <th>team2</th>\n",
       "      <th>toss_winner</th>\n",
       "      <th>toss_decision</th>\n",
       "      <th>result</th>\n",
       "      <th>dl_applied</th>\n",
       "      <th>winner</th>\n",
       "      <th>win_by_runs</th>\n",
       "      <th>win_by_wickets</th>\n",
       "      <th>player_of_match</th>\n",
       "      <th>venue</th>\n",
       "      <th>umpire1</th>\n",
       "      <th>umpire2</th>\n",
       "      <th>umpire3</th>\n",
       "    </tr>\n",
       "  </thead>\n",
       "  <tbody>\n",
       "    <tr>\n",
       "      <th>0</th>\n",
       "      <td>1</td>\n",
       "      <td>2017</td>\n",
       "      <td>Hyderabad</td>\n",
       "      <td>2017-04-05</td>\n",
       "      <td>Sunrisers Hyderabad</td>\n",
       "      <td>Royal Challengers Bangalore</td>\n",
       "      <td>Royal Challengers Bangalore</td>\n",
       "      <td>field</td>\n",
       "      <td>normal</td>\n",
       "      <td>0</td>\n",
       "      <td>Sunrisers Hyderabad</td>\n",
       "      <td>35</td>\n",
       "      <td>0</td>\n",
       "      <td>Yuvraj Singh</td>\n",
       "      <td>Rajiv Gandhi International Stadium, Uppal</td>\n",
       "      <td>AY Dandekar</td>\n",
       "      <td>NJ Llong</td>\n",
       "      <td>NaN</td>\n",
       "    </tr>\n",
       "    <tr>\n",
       "      <th>1</th>\n",
       "      <td>2</td>\n",
       "      <td>2017</td>\n",
       "      <td>Pune</td>\n",
       "      <td>2017-04-06</td>\n",
       "      <td>Mumbai Indians</td>\n",
       "      <td>Rising Pune Supergiant</td>\n",
       "      <td>Rising Pune Supergiant</td>\n",
       "      <td>field</td>\n",
       "      <td>normal</td>\n",
       "      <td>0</td>\n",
       "      <td>Rising Pune Supergiant</td>\n",
       "      <td>0</td>\n",
       "      <td>7</td>\n",
       "      <td>SPD Smith</td>\n",
       "      <td>Maharashtra Cricket Association Stadium</td>\n",
       "      <td>A Nand Kishore</td>\n",
       "      <td>S Ravi</td>\n",
       "      <td>NaN</td>\n",
       "    </tr>\n",
       "    <tr>\n",
       "      <th>2</th>\n",
       "      <td>3</td>\n",
       "      <td>2017</td>\n",
       "      <td>Rajkot</td>\n",
       "      <td>2017-04-07</td>\n",
       "      <td>Gujarat Lions</td>\n",
       "      <td>Kolkata Knight Riders</td>\n",
       "      <td>Kolkata Knight Riders</td>\n",
       "      <td>field</td>\n",
       "      <td>normal</td>\n",
       "      <td>0</td>\n",
       "      <td>Kolkata Knight Riders</td>\n",
       "      <td>0</td>\n",
       "      <td>10</td>\n",
       "      <td>CA Lynn</td>\n",
       "      <td>Saurashtra Cricket Association Stadium</td>\n",
       "      <td>Nitin Menon</td>\n",
       "      <td>CK Nandan</td>\n",
       "      <td>NaN</td>\n",
       "    </tr>\n",
       "    <tr>\n",
       "      <th>3</th>\n",
       "      <td>4</td>\n",
       "      <td>2017</td>\n",
       "      <td>Indore</td>\n",
       "      <td>2017-04-08</td>\n",
       "      <td>Rising Pune Supergiant</td>\n",
       "      <td>Kings XI Punjab</td>\n",
       "      <td>Kings XI Punjab</td>\n",
       "      <td>field</td>\n",
       "      <td>normal</td>\n",
       "      <td>0</td>\n",
       "      <td>Kings XI Punjab</td>\n",
       "      <td>0</td>\n",
       "      <td>6</td>\n",
       "      <td>GJ Maxwell</td>\n",
       "      <td>Holkar Cricket Stadium</td>\n",
       "      <td>AK Chaudhary</td>\n",
       "      <td>C Shamshuddin</td>\n",
       "      <td>NaN</td>\n",
       "    </tr>\n",
       "    <tr>\n",
       "      <th>4</th>\n",
       "      <td>5</td>\n",
       "      <td>2017</td>\n",
       "      <td>Bangalore</td>\n",
       "      <td>2017-04-08</td>\n",
       "      <td>Royal Challengers Bangalore</td>\n",
       "      <td>Delhi Daredevils</td>\n",
       "      <td>Royal Challengers Bangalore</td>\n",
       "      <td>bat</td>\n",
       "      <td>normal</td>\n",
       "      <td>0</td>\n",
       "      <td>Royal Challengers Bangalore</td>\n",
       "      <td>15</td>\n",
       "      <td>0</td>\n",
       "      <td>KM Jadhav</td>\n",
       "      <td>M Chinnaswamy Stadium</td>\n",
       "      <td>NaN</td>\n",
       "      <td>NaN</td>\n",
       "      <td>NaN</td>\n",
       "    </tr>\n",
       "  </tbody>\n",
       "</table>\n",
       "</div>"
      ],
      "text/plain": [
       "   id  season       city        date                        team1  \\\n",
       "0   1    2017  Hyderabad  2017-04-05          Sunrisers Hyderabad   \n",
       "1   2    2017       Pune  2017-04-06               Mumbai Indians   \n",
       "2   3    2017     Rajkot  2017-04-07                Gujarat Lions   \n",
       "3   4    2017     Indore  2017-04-08       Rising Pune Supergiant   \n",
       "4   5    2017  Bangalore  2017-04-08  Royal Challengers Bangalore   \n",
       "\n",
       "                         team2                  toss_winner toss_decision  \\\n",
       "0  Royal Challengers Bangalore  Royal Challengers Bangalore         field   \n",
       "1       Rising Pune Supergiant       Rising Pune Supergiant         field   \n",
       "2        Kolkata Knight Riders        Kolkata Knight Riders         field   \n",
       "3              Kings XI Punjab              Kings XI Punjab         field   \n",
       "4             Delhi Daredevils  Royal Challengers Bangalore           bat   \n",
       "\n",
       "   result  dl_applied                       winner  win_by_runs  \\\n",
       "0  normal           0          Sunrisers Hyderabad           35   \n",
       "1  normal           0       Rising Pune Supergiant            0   \n",
       "2  normal           0        Kolkata Knight Riders            0   \n",
       "3  normal           0              Kings XI Punjab            0   \n",
       "4  normal           0  Royal Challengers Bangalore           15   \n",
       "\n",
       "   win_by_wickets player_of_match                                      venue  \\\n",
       "0               0    Yuvraj Singh  Rajiv Gandhi International Stadium, Uppal   \n",
       "1               7       SPD Smith    Maharashtra Cricket Association Stadium   \n",
       "2              10         CA Lynn     Saurashtra Cricket Association Stadium   \n",
       "3               6      GJ Maxwell                     Holkar Cricket Stadium   \n",
       "4               0       KM Jadhav                      M Chinnaswamy Stadium   \n",
       "\n",
       "          umpire1        umpire2 umpire3  \n",
       "0     AY Dandekar       NJ Llong     NaN  \n",
       "1  A Nand Kishore         S Ravi     NaN  \n",
       "2     Nitin Menon      CK Nandan     NaN  \n",
       "3    AK Chaudhary  C Shamshuddin     NaN  \n",
       "4             NaN            NaN     NaN  "
      ]
     },
     "execution_count": 3,
     "metadata": {},
     "output_type": "execute_result"
    }
   ],
   "source": [
    "matches.head()"
   ]
  },
  {
   "cell_type": "code",
   "execution_count": 4,
   "metadata": {
    "ExecuteTime": {
     "end_time": "2020-09-19T12:42:53.970709Z",
     "start_time": "2020-09-19T12:42:53.945752Z"
    }
   },
   "outputs": [
    {
     "data": {
      "text/html": [
       "<div>\n",
       "<style scoped>\n",
       "    .dataframe tbody tr th:only-of-type {\n",
       "        vertical-align: middle;\n",
       "    }\n",
       "\n",
       "    .dataframe tbody tr th {\n",
       "        vertical-align: top;\n",
       "    }\n",
       "\n",
       "    .dataframe thead th {\n",
       "        text-align: right;\n",
       "    }\n",
       "</style>\n",
       "<table border=\"1\" class=\"dataframe\">\n",
       "  <thead>\n",
       "    <tr style=\"text-align: right;\">\n",
       "      <th></th>\n",
       "      <th>id</th>\n",
       "      <th>season</th>\n",
       "      <th>city</th>\n",
       "      <th>date</th>\n",
       "      <th>team1</th>\n",
       "      <th>team2</th>\n",
       "      <th>toss_winner</th>\n",
       "      <th>toss_decision</th>\n",
       "      <th>result</th>\n",
       "      <th>dl_applied</th>\n",
       "      <th>winner</th>\n",
       "      <th>win_by_runs</th>\n",
       "      <th>win_by_wickets</th>\n",
       "      <th>player_of_match</th>\n",
       "      <th>venue</th>\n",
       "      <th>umpire1</th>\n",
       "      <th>umpire2</th>\n",
       "      <th>umpire3</th>\n",
       "    </tr>\n",
       "  </thead>\n",
       "  <tbody>\n",
       "    <tr>\n",
       "      <th>461</th>\n",
       "      <td>462</td>\n",
       "      <td>2014</td>\n",
       "      <td>NaN</td>\n",
       "      <td>2014-04-19</td>\n",
       "      <td>Mumbai Indians</td>\n",
       "      <td>Royal Challengers Bangalore</td>\n",
       "      <td>Royal Challengers Bangalore</td>\n",
       "      <td>field</td>\n",
       "      <td>normal</td>\n",
       "      <td>0</td>\n",
       "      <td>Royal Challengers Bangalore</td>\n",
       "      <td>0</td>\n",
       "      <td>7</td>\n",
       "      <td>PA Patel</td>\n",
       "      <td>Dubai International Cricket Stadium</td>\n",
       "      <td>Aleem Dar</td>\n",
       "      <td>AK Chaudhary</td>\n",
       "      <td>NaN</td>\n",
       "    </tr>\n",
       "    <tr>\n",
       "      <th>462</th>\n",
       "      <td>463</td>\n",
       "      <td>2014</td>\n",
       "      <td>NaN</td>\n",
       "      <td>2014-04-19</td>\n",
       "      <td>Kolkata Knight Riders</td>\n",
       "      <td>Delhi Daredevils</td>\n",
       "      <td>Kolkata Knight Riders</td>\n",
       "      <td>bat</td>\n",
       "      <td>normal</td>\n",
       "      <td>0</td>\n",
       "      <td>Delhi Daredevils</td>\n",
       "      <td>0</td>\n",
       "      <td>4</td>\n",
       "      <td>JP Duminy</td>\n",
       "      <td>Dubai International Cricket Stadium</td>\n",
       "      <td>Aleem Dar</td>\n",
       "      <td>VA Kulkarni</td>\n",
       "      <td>NaN</td>\n",
       "    </tr>\n",
       "    <tr>\n",
       "      <th>466</th>\n",
       "      <td>467</td>\n",
       "      <td>2014</td>\n",
       "      <td>NaN</td>\n",
       "      <td>2014-04-23</td>\n",
       "      <td>Chennai Super Kings</td>\n",
       "      <td>Rajasthan Royals</td>\n",
       "      <td>Rajasthan Royals</td>\n",
       "      <td>field</td>\n",
       "      <td>normal</td>\n",
       "      <td>0</td>\n",
       "      <td>Chennai Super Kings</td>\n",
       "      <td>7</td>\n",
       "      <td>0</td>\n",
       "      <td>RA Jadeja</td>\n",
       "      <td>Dubai International Cricket Stadium</td>\n",
       "      <td>HDPK Dharmasena</td>\n",
       "      <td>RK Illingworth</td>\n",
       "      <td>NaN</td>\n",
       "    </tr>\n",
       "    <tr>\n",
       "      <th>468</th>\n",
       "      <td>469</td>\n",
       "      <td>2014</td>\n",
       "      <td>NaN</td>\n",
       "      <td>2014-04-25</td>\n",
       "      <td>Sunrisers Hyderabad</td>\n",
       "      <td>Delhi Daredevils</td>\n",
       "      <td>Sunrisers Hyderabad</td>\n",
       "      <td>bat</td>\n",
       "      <td>normal</td>\n",
       "      <td>0</td>\n",
       "      <td>Sunrisers Hyderabad</td>\n",
       "      <td>4</td>\n",
       "      <td>0</td>\n",
       "      <td>AJ Finch</td>\n",
       "      <td>Dubai International Cricket Stadium</td>\n",
       "      <td>M Erasmus</td>\n",
       "      <td>S Ravi</td>\n",
       "      <td>NaN</td>\n",
       "    </tr>\n",
       "    <tr>\n",
       "      <th>469</th>\n",
       "      <td>470</td>\n",
       "      <td>2014</td>\n",
       "      <td>NaN</td>\n",
       "      <td>2014-04-25</td>\n",
       "      <td>Mumbai Indians</td>\n",
       "      <td>Chennai Super Kings</td>\n",
       "      <td>Mumbai Indians</td>\n",
       "      <td>bat</td>\n",
       "      <td>normal</td>\n",
       "      <td>0</td>\n",
       "      <td>Chennai Super Kings</td>\n",
       "      <td>0</td>\n",
       "      <td>7</td>\n",
       "      <td>MM Sharma</td>\n",
       "      <td>Dubai International Cricket Stadium</td>\n",
       "      <td>BF Bowden</td>\n",
       "      <td>M Erasmus</td>\n",
       "      <td>NaN</td>\n",
       "    </tr>\n",
       "    <tr>\n",
       "      <th>474</th>\n",
       "      <td>475</td>\n",
       "      <td>2014</td>\n",
       "      <td>NaN</td>\n",
       "      <td>2014-04-28</td>\n",
       "      <td>Royal Challengers Bangalore</td>\n",
       "      <td>Kings XI Punjab</td>\n",
       "      <td>Kings XI Punjab</td>\n",
       "      <td>field</td>\n",
       "      <td>normal</td>\n",
       "      <td>0</td>\n",
       "      <td>Kings XI Punjab</td>\n",
       "      <td>0</td>\n",
       "      <td>5</td>\n",
       "      <td>Sandeep Sharma</td>\n",
       "      <td>Dubai International Cricket Stadium</td>\n",
       "      <td>BF Bowden</td>\n",
       "      <td>S Ravi</td>\n",
       "      <td>NaN</td>\n",
       "    </tr>\n",
       "    <tr>\n",
       "      <th>476</th>\n",
       "      <td>477</td>\n",
       "      <td>2014</td>\n",
       "      <td>NaN</td>\n",
       "      <td>2014-04-30</td>\n",
       "      <td>Sunrisers Hyderabad</td>\n",
       "      <td>Mumbai Indians</td>\n",
       "      <td>Mumbai Indians</td>\n",
       "      <td>field</td>\n",
       "      <td>normal</td>\n",
       "      <td>0</td>\n",
       "      <td>Sunrisers Hyderabad</td>\n",
       "      <td>15</td>\n",
       "      <td>0</td>\n",
       "      <td>B Kumar</td>\n",
       "      <td>Dubai International Cricket Stadium</td>\n",
       "      <td>HDPK Dharmasena</td>\n",
       "      <td>M Erasmus</td>\n",
       "      <td>NaN</td>\n",
       "    </tr>\n",
       "  </tbody>\n",
       "</table>\n",
       "</div>"
      ],
      "text/plain": [
       "      id  season city        date                        team1  \\\n",
       "461  462    2014  NaN  2014-04-19               Mumbai Indians   \n",
       "462  463    2014  NaN  2014-04-19        Kolkata Knight Riders   \n",
       "466  467    2014  NaN  2014-04-23          Chennai Super Kings   \n",
       "468  469    2014  NaN  2014-04-25          Sunrisers Hyderabad   \n",
       "469  470    2014  NaN  2014-04-25               Mumbai Indians   \n",
       "474  475    2014  NaN  2014-04-28  Royal Challengers Bangalore   \n",
       "476  477    2014  NaN  2014-04-30          Sunrisers Hyderabad   \n",
       "\n",
       "                           team2                  toss_winner toss_decision  \\\n",
       "461  Royal Challengers Bangalore  Royal Challengers Bangalore         field   \n",
       "462             Delhi Daredevils        Kolkata Knight Riders           bat   \n",
       "466             Rajasthan Royals             Rajasthan Royals         field   \n",
       "468             Delhi Daredevils          Sunrisers Hyderabad           bat   \n",
       "469          Chennai Super Kings               Mumbai Indians           bat   \n",
       "474              Kings XI Punjab              Kings XI Punjab         field   \n",
       "476               Mumbai Indians               Mumbai Indians         field   \n",
       "\n",
       "     result  dl_applied                       winner  win_by_runs  \\\n",
       "461  normal           0  Royal Challengers Bangalore            0   \n",
       "462  normal           0             Delhi Daredevils            0   \n",
       "466  normal           0          Chennai Super Kings            7   \n",
       "468  normal           0          Sunrisers Hyderabad            4   \n",
       "469  normal           0          Chennai Super Kings            0   \n",
       "474  normal           0              Kings XI Punjab            0   \n",
       "476  normal           0          Sunrisers Hyderabad           15   \n",
       "\n",
       "     win_by_wickets player_of_match                                venue  \\\n",
       "461               7        PA Patel  Dubai International Cricket Stadium   \n",
       "462               4       JP Duminy  Dubai International Cricket Stadium   \n",
       "466               0       RA Jadeja  Dubai International Cricket Stadium   \n",
       "468               0        AJ Finch  Dubai International Cricket Stadium   \n",
       "469               7       MM Sharma  Dubai International Cricket Stadium   \n",
       "474               5  Sandeep Sharma  Dubai International Cricket Stadium   \n",
       "476               0         B Kumar  Dubai International Cricket Stadium   \n",
       "\n",
       "             umpire1         umpire2 umpire3  \n",
       "461        Aleem Dar    AK Chaudhary     NaN  \n",
       "462        Aleem Dar     VA Kulkarni     NaN  \n",
       "466  HDPK Dharmasena  RK Illingworth     NaN  \n",
       "468        M Erasmus          S Ravi     NaN  \n",
       "469        BF Bowden       M Erasmus     NaN  \n",
       "474        BF Bowden          S Ravi     NaN  \n",
       "476  HDPK Dharmasena       M Erasmus     NaN  "
      ]
     },
     "execution_count": 4,
     "metadata": {},
     "output_type": "execute_result"
    }
   ],
   "source": [
    "matches[matches['venue'] == \"Dubai International Cricket Stadium\"]"
   ]
  },
  {
   "cell_type": "code",
   "execution_count": 5,
   "metadata": {
    "ExecuteTime": {
     "end_time": "2020-09-19T12:42:53.989650Z",
     "start_time": "2020-09-19T12:42:53.973678Z"
    }
   },
   "outputs": [
    {
     "data": {
      "text/plain": [
       "id                   0\n",
       "season               0\n",
       "city                 7\n",
       "date                 0\n",
       "team1                0\n",
       "team2                0\n",
       "toss_winner          0\n",
       "toss_decision        0\n",
       "result               0\n",
       "dl_applied           0\n",
       "winner               4\n",
       "win_by_runs          0\n",
       "win_by_wickets       0\n",
       "player_of_match      4\n",
       "venue                0\n",
       "umpire1              2\n",
       "umpire2              2\n",
       "umpire3            637\n",
       "dtype: int64"
      ]
     },
     "execution_count": 5,
     "metadata": {},
     "output_type": "execute_result"
    }
   ],
   "source": [
    "matches.isnull().sum()"
   ]
  },
  {
   "cell_type": "code",
   "execution_count": 6,
   "metadata": {
    "ExecuteTime": {
     "end_time": "2020-09-19T12:42:54.004610Z",
     "start_time": "2020-09-19T12:42:53.992631Z"
    }
   },
   "outputs": [],
   "source": [
    "matches['city'].fillna('Dubai', inplace = True)"
   ]
  },
  {
   "cell_type": "code",
   "execution_count": 7,
   "metadata": {
    "ExecuteTime": {
     "end_time": "2020-09-19T12:42:54.045485Z",
     "start_time": "2020-09-19T12:42:54.008603Z"
    }
   },
   "outputs": [
    {
     "data": {
      "text/html": [
       "<div>\n",
       "<style scoped>\n",
       "    .dataframe tbody tr th:only-of-type {\n",
       "        vertical-align: middle;\n",
       "    }\n",
       "\n",
       "    .dataframe tbody tr th {\n",
       "        vertical-align: top;\n",
       "    }\n",
       "\n",
       "    .dataframe thead th {\n",
       "        text-align: right;\n",
       "    }\n",
       "</style>\n",
       "<table border=\"1\" class=\"dataframe\">\n",
       "  <thead>\n",
       "    <tr style=\"text-align: right;\">\n",
       "      <th></th>\n",
       "      <th>id</th>\n",
       "      <th>season</th>\n",
       "      <th>city</th>\n",
       "      <th>date</th>\n",
       "      <th>team1</th>\n",
       "      <th>team2</th>\n",
       "      <th>toss_winner</th>\n",
       "      <th>toss_decision</th>\n",
       "      <th>result</th>\n",
       "      <th>dl_applied</th>\n",
       "      <th>winner</th>\n",
       "      <th>win_by_runs</th>\n",
       "      <th>win_by_wickets</th>\n",
       "      <th>player_of_match</th>\n",
       "      <th>venue</th>\n",
       "      <th>umpire1</th>\n",
       "      <th>umpire2</th>\n",
       "      <th>umpire3</th>\n",
       "    </tr>\n",
       "  </thead>\n",
       "  <tbody>\n",
       "    <tr>\n",
       "      <th>300</th>\n",
       "      <td>301</td>\n",
       "      <td>2011</td>\n",
       "      <td>Delhi</td>\n",
       "      <td>2011-05-21</td>\n",
       "      <td>Delhi Daredevils</td>\n",
       "      <td>Pune Warriors</td>\n",
       "      <td>Delhi Daredevils</td>\n",
       "      <td>bat</td>\n",
       "      <td>no result</td>\n",
       "      <td>0</td>\n",
       "      <td>NaN</td>\n",
       "      <td>0</td>\n",
       "      <td>0</td>\n",
       "      <td>NaN</td>\n",
       "      <td>Feroz Shah Kotla</td>\n",
       "      <td>SS Hazare</td>\n",
       "      <td>RJ Tucker</td>\n",
       "      <td>NaN</td>\n",
       "    </tr>\n",
       "    <tr>\n",
       "      <th>545</th>\n",
       "      <td>546</td>\n",
       "      <td>2015</td>\n",
       "      <td>Bangalore</td>\n",
       "      <td>2015-04-29</td>\n",
       "      <td>Royal Challengers Bangalore</td>\n",
       "      <td>Rajasthan Royals</td>\n",
       "      <td>Rajasthan Royals</td>\n",
       "      <td>field</td>\n",
       "      <td>no result</td>\n",
       "      <td>0</td>\n",
       "      <td>NaN</td>\n",
       "      <td>0</td>\n",
       "      <td>0</td>\n",
       "      <td>NaN</td>\n",
       "      <td>M Chinnaswamy Stadium</td>\n",
       "      <td>JD Cloete</td>\n",
       "      <td>PG Pathak</td>\n",
       "      <td>NaN</td>\n",
       "    </tr>\n",
       "    <tr>\n",
       "      <th>570</th>\n",
       "      <td>571</td>\n",
       "      <td>2015</td>\n",
       "      <td>Bangalore</td>\n",
       "      <td>2015-05-17</td>\n",
       "      <td>Delhi Daredevils</td>\n",
       "      <td>Royal Challengers Bangalore</td>\n",
       "      <td>Royal Challengers Bangalore</td>\n",
       "      <td>field</td>\n",
       "      <td>no result</td>\n",
       "      <td>0</td>\n",
       "      <td>NaN</td>\n",
       "      <td>0</td>\n",
       "      <td>0</td>\n",
       "      <td>NaN</td>\n",
       "      <td>M Chinnaswamy Stadium</td>\n",
       "      <td>HDPK Dharmasena</td>\n",
       "      <td>K Srinivasan</td>\n",
       "      <td>NaN</td>\n",
       "    </tr>\n",
       "    <tr>\n",
       "      <th>744</th>\n",
       "      <td>11340</td>\n",
       "      <td>2019</td>\n",
       "      <td>Bengaluru</td>\n",
       "      <td>30/04/19</td>\n",
       "      <td>Royal Challengers Bangalore</td>\n",
       "      <td>Rajasthan Royals</td>\n",
       "      <td>Rajasthan Royals</td>\n",
       "      <td>field</td>\n",
       "      <td>no result</td>\n",
       "      <td>0</td>\n",
       "      <td>NaN</td>\n",
       "      <td>0</td>\n",
       "      <td>0</td>\n",
       "      <td>NaN</td>\n",
       "      <td>M. Chinnaswamy Stadium</td>\n",
       "      <td>Nigel Llong</td>\n",
       "      <td>Ulhas Gandhe</td>\n",
       "      <td>Anil Chaudhary</td>\n",
       "    </tr>\n",
       "  </tbody>\n",
       "</table>\n",
       "</div>"
      ],
      "text/plain": [
       "        id  season       city        date                        team1  \\\n",
       "300    301    2011      Delhi  2011-05-21             Delhi Daredevils   \n",
       "545    546    2015  Bangalore  2015-04-29  Royal Challengers Bangalore   \n",
       "570    571    2015  Bangalore  2015-05-17             Delhi Daredevils   \n",
       "744  11340    2019  Bengaluru    30/04/19  Royal Challengers Bangalore   \n",
       "\n",
       "                           team2                  toss_winner toss_decision  \\\n",
       "300                Pune Warriors             Delhi Daredevils           bat   \n",
       "545             Rajasthan Royals             Rajasthan Royals         field   \n",
       "570  Royal Challengers Bangalore  Royal Challengers Bangalore         field   \n",
       "744             Rajasthan Royals             Rajasthan Royals         field   \n",
       "\n",
       "        result  dl_applied winner  win_by_runs  win_by_wickets  \\\n",
       "300  no result           0    NaN            0               0   \n",
       "545  no result           0    NaN            0               0   \n",
       "570  no result           0    NaN            0               0   \n",
       "744  no result           0    NaN            0               0   \n",
       "\n",
       "    player_of_match                   venue          umpire1       umpire2  \\\n",
       "300             NaN        Feroz Shah Kotla        SS Hazare     RJ Tucker   \n",
       "545             NaN   M Chinnaswamy Stadium        JD Cloete     PG Pathak   \n",
       "570             NaN   M Chinnaswamy Stadium  HDPK Dharmasena  K Srinivasan   \n",
       "744             NaN  M. Chinnaswamy Stadium      Nigel Llong  Ulhas Gandhe   \n",
       "\n",
       "            umpire3  \n",
       "300             NaN  \n",
       "545             NaN  \n",
       "570             NaN  \n",
       "744  Anil Chaudhary  "
      ]
     },
     "execution_count": 7,
     "metadata": {},
     "output_type": "execute_result"
    }
   ],
   "source": [
    "matches[pd.isnull(matches['winner'])]"
   ]
  },
  {
   "cell_type": "code",
   "execution_count": 8,
   "metadata": {
    "ExecuteTime": {
     "end_time": "2020-09-19T12:42:54.059455Z",
     "start_time": "2020-09-19T12:42:54.050474Z"
    }
   },
   "outputs": [
    {
     "data": {
      "text/plain": [
       "(756, 18)"
      ]
     },
     "execution_count": 8,
     "metadata": {},
     "output_type": "execute_result"
    }
   ],
   "source": [
    "matches.shape"
   ]
  },
  {
   "cell_type": "code",
   "execution_count": 9,
   "metadata": {
    "ExecuteTime": {
     "end_time": "2020-09-19T12:42:54.074411Z",
     "start_time": "2020-09-19T12:42:54.062455Z"
    }
   },
   "outputs": [],
   "source": [
    "matches.drop(['umpire1', 'umpire2', 'umpire3', 'player_of_match', 'result', 'win_by_runs', 'win_by_wickets'], axis = 1, inplace = True)"
   ]
  },
  {
   "cell_type": "code",
   "execution_count": 10,
   "metadata": {
    "ExecuteTime": {
     "end_time": "2020-09-19T12:42:54.105326Z",
     "start_time": "2020-09-19T12:42:54.077401Z"
    }
   },
   "outputs": [],
   "source": [
    "matches.dropna(inplace = True)"
   ]
  },
  {
   "cell_type": "code",
   "execution_count": 11,
   "metadata": {
    "ExecuteTime": {
     "end_time": "2020-09-19T12:42:54.133253Z",
     "start_time": "2020-09-19T12:42:54.106323Z"
    }
   },
   "outputs": [
    {
     "data": {
      "text/html": [
       "<div>\n",
       "<style scoped>\n",
       "    .dataframe tbody tr th:only-of-type {\n",
       "        vertical-align: middle;\n",
       "    }\n",
       "\n",
       "    .dataframe tbody tr th {\n",
       "        vertical-align: top;\n",
       "    }\n",
       "\n",
       "    .dataframe thead th {\n",
       "        text-align: right;\n",
       "    }\n",
       "</style>\n",
       "<table border=\"1\" class=\"dataframe\">\n",
       "  <thead>\n",
       "    <tr style=\"text-align: right;\">\n",
       "      <th></th>\n",
       "      <th>id</th>\n",
       "      <th>season</th>\n",
       "      <th>city</th>\n",
       "      <th>date</th>\n",
       "      <th>team1</th>\n",
       "      <th>team2</th>\n",
       "      <th>toss_winner</th>\n",
       "      <th>toss_decision</th>\n",
       "      <th>dl_applied</th>\n",
       "      <th>winner</th>\n",
       "      <th>venue</th>\n",
       "    </tr>\n",
       "  </thead>\n",
       "  <tbody>\n",
       "    <tr>\n",
       "      <th>0</th>\n",
       "      <td>1</td>\n",
       "      <td>2017</td>\n",
       "      <td>Hyderabad</td>\n",
       "      <td>2017-04-05</td>\n",
       "      <td>Sunrisers Hyderabad</td>\n",
       "      <td>Royal Challengers Bangalore</td>\n",
       "      <td>Royal Challengers Bangalore</td>\n",
       "      <td>field</td>\n",
       "      <td>0</td>\n",
       "      <td>Sunrisers Hyderabad</td>\n",
       "      <td>Rajiv Gandhi International Stadium, Uppal</td>\n",
       "    </tr>\n",
       "    <tr>\n",
       "      <th>1</th>\n",
       "      <td>2</td>\n",
       "      <td>2017</td>\n",
       "      <td>Pune</td>\n",
       "      <td>2017-04-06</td>\n",
       "      <td>Mumbai Indians</td>\n",
       "      <td>Rising Pune Supergiant</td>\n",
       "      <td>Rising Pune Supergiant</td>\n",
       "      <td>field</td>\n",
       "      <td>0</td>\n",
       "      <td>Rising Pune Supergiant</td>\n",
       "      <td>Maharashtra Cricket Association Stadium</td>\n",
       "    </tr>\n",
       "    <tr>\n",
       "      <th>2</th>\n",
       "      <td>3</td>\n",
       "      <td>2017</td>\n",
       "      <td>Rajkot</td>\n",
       "      <td>2017-04-07</td>\n",
       "      <td>Gujarat Lions</td>\n",
       "      <td>Kolkata Knight Riders</td>\n",
       "      <td>Kolkata Knight Riders</td>\n",
       "      <td>field</td>\n",
       "      <td>0</td>\n",
       "      <td>Kolkata Knight Riders</td>\n",
       "      <td>Saurashtra Cricket Association Stadium</td>\n",
       "    </tr>\n",
       "    <tr>\n",
       "      <th>3</th>\n",
       "      <td>4</td>\n",
       "      <td>2017</td>\n",
       "      <td>Indore</td>\n",
       "      <td>2017-04-08</td>\n",
       "      <td>Rising Pune Supergiant</td>\n",
       "      <td>Kings XI Punjab</td>\n",
       "      <td>Kings XI Punjab</td>\n",
       "      <td>field</td>\n",
       "      <td>0</td>\n",
       "      <td>Kings XI Punjab</td>\n",
       "      <td>Holkar Cricket Stadium</td>\n",
       "    </tr>\n",
       "    <tr>\n",
       "      <th>4</th>\n",
       "      <td>5</td>\n",
       "      <td>2017</td>\n",
       "      <td>Bangalore</td>\n",
       "      <td>2017-04-08</td>\n",
       "      <td>Royal Challengers Bangalore</td>\n",
       "      <td>Delhi Daredevils</td>\n",
       "      <td>Royal Challengers Bangalore</td>\n",
       "      <td>bat</td>\n",
       "      <td>0</td>\n",
       "      <td>Royal Challengers Bangalore</td>\n",
       "      <td>M Chinnaswamy Stadium</td>\n",
       "    </tr>\n",
       "  </tbody>\n",
       "</table>\n",
       "</div>"
      ],
      "text/plain": [
       "   id  season       city        date                        team1  \\\n",
       "0   1    2017  Hyderabad  2017-04-05          Sunrisers Hyderabad   \n",
       "1   2    2017       Pune  2017-04-06               Mumbai Indians   \n",
       "2   3    2017     Rajkot  2017-04-07                Gujarat Lions   \n",
       "3   4    2017     Indore  2017-04-08       Rising Pune Supergiant   \n",
       "4   5    2017  Bangalore  2017-04-08  Royal Challengers Bangalore   \n",
       "\n",
       "                         team2                  toss_winner toss_decision  \\\n",
       "0  Royal Challengers Bangalore  Royal Challengers Bangalore         field   \n",
       "1       Rising Pune Supergiant       Rising Pune Supergiant         field   \n",
       "2        Kolkata Knight Riders        Kolkata Knight Riders         field   \n",
       "3              Kings XI Punjab              Kings XI Punjab         field   \n",
       "4             Delhi Daredevils  Royal Challengers Bangalore           bat   \n",
       "\n",
       "   dl_applied                       winner  \\\n",
       "0           0          Sunrisers Hyderabad   \n",
       "1           0       Rising Pune Supergiant   \n",
       "2           0        Kolkata Knight Riders   \n",
       "3           0              Kings XI Punjab   \n",
       "4           0  Royal Challengers Bangalore   \n",
       "\n",
       "                                       venue  \n",
       "0  Rajiv Gandhi International Stadium, Uppal  \n",
       "1    Maharashtra Cricket Association Stadium  \n",
       "2     Saurashtra Cricket Association Stadium  \n",
       "3                     Holkar Cricket Stadium  \n",
       "4                      M Chinnaswamy Stadium  "
      ]
     },
     "execution_count": 11,
     "metadata": {},
     "output_type": "execute_result"
    }
   ],
   "source": [
    "matches.head()"
   ]
  },
  {
   "cell_type": "code",
   "execution_count": 12,
   "metadata": {
    "ExecuteTime": {
     "end_time": "2020-09-19T12:42:54.151203Z",
     "start_time": "2020-09-19T12:42:54.136242Z"
    }
   },
   "outputs": [
    {
     "data": {
      "text/plain": [
       "Mumbai Indians                 109\n",
       "Chennai Super Kings            100\n",
       "Kolkata Knight Riders           92\n",
       "Royal Challengers Bangalore     84\n",
       "Kings XI Punjab                 82\n",
       "Rajasthan Royals                75\n",
       "Delhi Daredevils                67\n",
       "Sunrisers Hyderabad             58\n",
       "Deccan Chargers                 29\n",
       "Gujarat Lions                   13\n",
       "Pune Warriors                   12\n",
       "Rising Pune Supergiant          10\n",
       "Delhi Capitals                  10\n",
       "Kochi Tuskers Kerala             6\n",
       "Rising Pune Supergiants          5\n",
       "Name: winner, dtype: int64"
      ]
     },
     "execution_count": 12,
     "metadata": {},
     "output_type": "execute_result"
    }
   ],
   "source": [
    "matches['winner'].value_counts()"
   ]
  },
  {
   "cell_type": "code",
   "execution_count": 13,
   "metadata": {
    "ExecuteTime": {
     "end_time": "2020-09-19T12:42:54.171164Z",
     "start_time": "2020-09-19T12:42:54.154195Z"
    }
   },
   "outputs": [],
   "source": [
    "matches.replace(['Rising Pune Supergiants', 'Delhi Daredevils'], ['Rising Pune Supergiant', 'Delhi Capitals'], inplace = True)"
   ]
  },
  {
   "cell_type": "code",
   "execution_count": 14,
   "metadata": {
    "ExecuteTime": {
     "end_time": "2020-09-19T12:42:54.184115Z",
     "start_time": "2020-09-19T12:42:54.174141Z"
    }
   },
   "outputs": [
    {
     "data": {
      "text/plain": [
       "13"
      ]
     },
     "execution_count": 14,
     "metadata": {},
     "output_type": "execute_result"
    }
   ],
   "source": [
    "matches['team1'].value_counts().count()"
   ]
  },
  {
   "cell_type": "code",
   "execution_count": 15,
   "metadata": {
    "ExecuteTime": {
     "end_time": "2020-09-19T12:42:54.198084Z",
     "start_time": "2020-09-19T12:42:54.187107Z"
    }
   },
   "outputs": [
    {
     "data": {
      "text/plain": [
       "41"
      ]
     },
     "execution_count": 15,
     "metadata": {},
     "output_type": "execute_result"
    }
   ],
   "source": [
    "matches['venue'].value_counts().count()"
   ]
  },
  {
   "cell_type": "code",
   "execution_count": 16,
   "metadata": {
    "ExecuteTime": {
     "end_time": "2020-09-19T12:42:54.215032Z",
     "start_time": "2020-09-19T12:42:54.201081Z"
    }
   },
   "outputs": [],
   "source": [
    "matches['venue'].replace(['Punjab Cricket Association Stadium, Mohali', 'Subrata Roy Sahara Stadium', 'M. A. Chidambaram Stadium', 'Rajiv Gandhi Intl. Cricket Stadium', 'IS Bindra Stadium', 'M. Chinnaswamy Stadium', 'Feroz Shah Kotla Ground', 'ACA-VDCA Stadium'], ['Punjab Cricket Association IS Bindra Stadium, Mohali', 'Maharashtra Cricket Association Stadium', 'MA Chidambaram Stadium, Chepauk', 'Rajiv Gandhi International Stadium, Uppal', 'Punjab Cricket Association IS Bindra Stadium, Mohali', 'M Chinnaswamy Stadium', 'Feroz Shah Kotla', 'Dr. Y.S. Rajasekhara Reddy ACA-VDCA Cricket Stadium'], inplace = True)"
   ]
  },
  {
   "cell_type": "code",
   "execution_count": 17,
   "metadata": {
    "ExecuteTime": {
     "end_time": "2020-09-19T12:42:54.231986Z",
     "start_time": "2020-09-19T12:42:54.217029Z"
    }
   },
   "outputs": [
    {
     "data": {
      "text/plain": [
       "33"
      ]
     },
     "execution_count": 17,
     "metadata": {},
     "output_type": "execute_result"
    }
   ],
   "source": [
    "matches['venue'].value_counts().count()"
   ]
  },
  {
   "cell_type": "code",
   "execution_count": 18,
   "metadata": {
    "ExecuteTime": {
     "end_time": "2020-09-19T12:42:54.260910Z",
     "start_time": "2020-09-19T12:42:54.235975Z"
    }
   },
   "outputs": [
    {
     "data": {
      "text/html": [
       "<div>\n",
       "<style scoped>\n",
       "    .dataframe tbody tr th:only-of-type {\n",
       "        vertical-align: middle;\n",
       "    }\n",
       "\n",
       "    .dataframe tbody tr th {\n",
       "        vertical-align: top;\n",
       "    }\n",
       "\n",
       "    .dataframe thead th {\n",
       "        text-align: right;\n",
       "    }\n",
       "</style>\n",
       "<table border=\"1\" class=\"dataframe\">\n",
       "  <thead>\n",
       "    <tr style=\"text-align: right;\">\n",
       "      <th></th>\n",
       "      <th>id</th>\n",
       "      <th>season</th>\n",
       "      <th>city</th>\n",
       "      <th>date</th>\n",
       "      <th>team1</th>\n",
       "      <th>team2</th>\n",
       "      <th>toss_winner</th>\n",
       "      <th>toss_decision</th>\n",
       "      <th>dl_applied</th>\n",
       "      <th>winner</th>\n",
       "      <th>venue</th>\n",
       "    </tr>\n",
       "  </thead>\n",
       "  <tbody>\n",
       "    <tr>\n",
       "      <th>0</th>\n",
       "      <td>1</td>\n",
       "      <td>2017</td>\n",
       "      <td>Hyderabad</td>\n",
       "      <td>2017-04-05</td>\n",
       "      <td>Sunrisers Hyderabad</td>\n",
       "      <td>Royal Challengers Bangalore</td>\n",
       "      <td>Royal Challengers Bangalore</td>\n",
       "      <td>field</td>\n",
       "      <td>0</td>\n",
       "      <td>Sunrisers Hyderabad</td>\n",
       "      <td>Rajiv Gandhi International Stadium, Uppal</td>\n",
       "    </tr>\n",
       "    <tr>\n",
       "      <th>1</th>\n",
       "      <td>2</td>\n",
       "      <td>2017</td>\n",
       "      <td>Pune</td>\n",
       "      <td>2017-04-06</td>\n",
       "      <td>Mumbai Indians</td>\n",
       "      <td>Rising Pune Supergiant</td>\n",
       "      <td>Rising Pune Supergiant</td>\n",
       "      <td>field</td>\n",
       "      <td>0</td>\n",
       "      <td>Rising Pune Supergiant</td>\n",
       "      <td>Maharashtra Cricket Association Stadium</td>\n",
       "    </tr>\n",
       "    <tr>\n",
       "      <th>2</th>\n",
       "      <td>3</td>\n",
       "      <td>2017</td>\n",
       "      <td>Rajkot</td>\n",
       "      <td>2017-04-07</td>\n",
       "      <td>Gujarat Lions</td>\n",
       "      <td>Kolkata Knight Riders</td>\n",
       "      <td>Kolkata Knight Riders</td>\n",
       "      <td>field</td>\n",
       "      <td>0</td>\n",
       "      <td>Kolkata Knight Riders</td>\n",
       "      <td>Saurashtra Cricket Association Stadium</td>\n",
       "    </tr>\n",
       "    <tr>\n",
       "      <th>3</th>\n",
       "      <td>4</td>\n",
       "      <td>2017</td>\n",
       "      <td>Indore</td>\n",
       "      <td>2017-04-08</td>\n",
       "      <td>Rising Pune Supergiant</td>\n",
       "      <td>Kings XI Punjab</td>\n",
       "      <td>Kings XI Punjab</td>\n",
       "      <td>field</td>\n",
       "      <td>0</td>\n",
       "      <td>Kings XI Punjab</td>\n",
       "      <td>Holkar Cricket Stadium</td>\n",
       "    </tr>\n",
       "    <tr>\n",
       "      <th>4</th>\n",
       "      <td>5</td>\n",
       "      <td>2017</td>\n",
       "      <td>Bangalore</td>\n",
       "      <td>2017-04-08</td>\n",
       "      <td>Royal Challengers Bangalore</td>\n",
       "      <td>Delhi Capitals</td>\n",
       "      <td>Royal Challengers Bangalore</td>\n",
       "      <td>bat</td>\n",
       "      <td>0</td>\n",
       "      <td>Royal Challengers Bangalore</td>\n",
       "      <td>M Chinnaswamy Stadium</td>\n",
       "    </tr>\n",
       "  </tbody>\n",
       "</table>\n",
       "</div>"
      ],
      "text/plain": [
       "   id  season       city        date                        team1  \\\n",
       "0   1    2017  Hyderabad  2017-04-05          Sunrisers Hyderabad   \n",
       "1   2    2017       Pune  2017-04-06               Mumbai Indians   \n",
       "2   3    2017     Rajkot  2017-04-07                Gujarat Lions   \n",
       "3   4    2017     Indore  2017-04-08       Rising Pune Supergiant   \n",
       "4   5    2017  Bangalore  2017-04-08  Royal Challengers Bangalore   \n",
       "\n",
       "                         team2                  toss_winner toss_decision  \\\n",
       "0  Royal Challengers Bangalore  Royal Challengers Bangalore         field   \n",
       "1       Rising Pune Supergiant       Rising Pune Supergiant         field   \n",
       "2        Kolkata Knight Riders        Kolkata Knight Riders         field   \n",
       "3              Kings XI Punjab              Kings XI Punjab         field   \n",
       "4               Delhi Capitals  Royal Challengers Bangalore           bat   \n",
       "\n",
       "   dl_applied                       winner  \\\n",
       "0           0          Sunrisers Hyderabad   \n",
       "1           0       Rising Pune Supergiant   \n",
       "2           0        Kolkata Knight Riders   \n",
       "3           0              Kings XI Punjab   \n",
       "4           0  Royal Challengers Bangalore   \n",
       "\n",
       "                                       venue  \n",
       "0  Rajiv Gandhi International Stadium, Uppal  \n",
       "1    Maharashtra Cricket Association Stadium  \n",
       "2     Saurashtra Cricket Association Stadium  \n",
       "3                     Holkar Cricket Stadium  \n",
       "4                      M Chinnaswamy Stadium  "
      ]
     },
     "execution_count": 18,
     "metadata": {},
     "output_type": "execute_result"
    }
   ],
   "source": [
    "matches.head()"
   ]
  },
  {
   "cell_type": "code",
   "execution_count": 19,
   "metadata": {
    "ExecuteTime": {
     "end_time": "2020-09-19T12:42:54.281867Z",
     "start_time": "2020-09-19T12:42:54.263914Z"
    }
   },
   "outputs": [],
   "source": [
    "matches['Result'] = np.where(matches['toss_winner'] == matches['winner'], 1, 0)"
   ]
  },
  {
   "cell_type": "code",
   "execution_count": 20,
   "metadata": {
    "ExecuteTime": {
     "end_time": "2020-09-19T12:42:54.302803Z",
     "start_time": "2020-09-19T12:42:54.285843Z"
    }
   },
   "outputs": [],
   "source": [
    "matches['toss_decision'] = np.where(matches['toss_decision'] == 'bat', 0, 1)"
   ]
  },
  {
   "cell_type": "code",
   "execution_count": 21,
   "metadata": {
    "ExecuteTime": {
     "end_time": "2020-09-19T12:42:54.330722Z",
     "start_time": "2020-09-19T12:42:54.305788Z"
    }
   },
   "outputs": [
    {
     "data": {
      "text/html": [
       "<div>\n",
       "<style scoped>\n",
       "    .dataframe tbody tr th:only-of-type {\n",
       "        vertical-align: middle;\n",
       "    }\n",
       "\n",
       "    .dataframe tbody tr th {\n",
       "        vertical-align: top;\n",
       "    }\n",
       "\n",
       "    .dataframe thead th {\n",
       "        text-align: right;\n",
       "    }\n",
       "</style>\n",
       "<table border=\"1\" class=\"dataframe\">\n",
       "  <thead>\n",
       "    <tr style=\"text-align: right;\">\n",
       "      <th></th>\n",
       "      <th>id</th>\n",
       "      <th>season</th>\n",
       "      <th>city</th>\n",
       "      <th>date</th>\n",
       "      <th>team1</th>\n",
       "      <th>team2</th>\n",
       "      <th>toss_winner</th>\n",
       "      <th>toss_decision</th>\n",
       "      <th>dl_applied</th>\n",
       "      <th>winner</th>\n",
       "      <th>venue</th>\n",
       "      <th>Result</th>\n",
       "    </tr>\n",
       "  </thead>\n",
       "  <tbody>\n",
       "    <tr>\n",
       "      <th>0</th>\n",
       "      <td>1</td>\n",
       "      <td>2017</td>\n",
       "      <td>Hyderabad</td>\n",
       "      <td>2017-04-05</td>\n",
       "      <td>Sunrisers Hyderabad</td>\n",
       "      <td>Royal Challengers Bangalore</td>\n",
       "      <td>Royal Challengers Bangalore</td>\n",
       "      <td>1</td>\n",
       "      <td>0</td>\n",
       "      <td>Sunrisers Hyderabad</td>\n",
       "      <td>Rajiv Gandhi International Stadium, Uppal</td>\n",
       "      <td>0</td>\n",
       "    </tr>\n",
       "    <tr>\n",
       "      <th>1</th>\n",
       "      <td>2</td>\n",
       "      <td>2017</td>\n",
       "      <td>Pune</td>\n",
       "      <td>2017-04-06</td>\n",
       "      <td>Mumbai Indians</td>\n",
       "      <td>Rising Pune Supergiant</td>\n",
       "      <td>Rising Pune Supergiant</td>\n",
       "      <td>1</td>\n",
       "      <td>0</td>\n",
       "      <td>Rising Pune Supergiant</td>\n",
       "      <td>Maharashtra Cricket Association Stadium</td>\n",
       "      <td>1</td>\n",
       "    </tr>\n",
       "    <tr>\n",
       "      <th>2</th>\n",
       "      <td>3</td>\n",
       "      <td>2017</td>\n",
       "      <td>Rajkot</td>\n",
       "      <td>2017-04-07</td>\n",
       "      <td>Gujarat Lions</td>\n",
       "      <td>Kolkata Knight Riders</td>\n",
       "      <td>Kolkata Knight Riders</td>\n",
       "      <td>1</td>\n",
       "      <td>0</td>\n",
       "      <td>Kolkata Knight Riders</td>\n",
       "      <td>Saurashtra Cricket Association Stadium</td>\n",
       "      <td>1</td>\n",
       "    </tr>\n",
       "    <tr>\n",
       "      <th>3</th>\n",
       "      <td>4</td>\n",
       "      <td>2017</td>\n",
       "      <td>Indore</td>\n",
       "      <td>2017-04-08</td>\n",
       "      <td>Rising Pune Supergiant</td>\n",
       "      <td>Kings XI Punjab</td>\n",
       "      <td>Kings XI Punjab</td>\n",
       "      <td>1</td>\n",
       "      <td>0</td>\n",
       "      <td>Kings XI Punjab</td>\n",
       "      <td>Holkar Cricket Stadium</td>\n",
       "      <td>1</td>\n",
       "    </tr>\n",
       "    <tr>\n",
       "      <th>4</th>\n",
       "      <td>5</td>\n",
       "      <td>2017</td>\n",
       "      <td>Bangalore</td>\n",
       "      <td>2017-04-08</td>\n",
       "      <td>Royal Challengers Bangalore</td>\n",
       "      <td>Delhi Capitals</td>\n",
       "      <td>Royal Challengers Bangalore</td>\n",
       "      <td>0</td>\n",
       "      <td>0</td>\n",
       "      <td>Royal Challengers Bangalore</td>\n",
       "      <td>M Chinnaswamy Stadium</td>\n",
       "      <td>1</td>\n",
       "    </tr>\n",
       "  </tbody>\n",
       "</table>\n",
       "</div>"
      ],
      "text/plain": [
       "   id  season       city        date                        team1  \\\n",
       "0   1    2017  Hyderabad  2017-04-05          Sunrisers Hyderabad   \n",
       "1   2    2017       Pune  2017-04-06               Mumbai Indians   \n",
       "2   3    2017     Rajkot  2017-04-07                Gujarat Lions   \n",
       "3   4    2017     Indore  2017-04-08       Rising Pune Supergiant   \n",
       "4   5    2017  Bangalore  2017-04-08  Royal Challengers Bangalore   \n",
       "\n",
       "                         team2                  toss_winner  toss_decision  \\\n",
       "0  Royal Challengers Bangalore  Royal Challengers Bangalore              1   \n",
       "1       Rising Pune Supergiant       Rising Pune Supergiant              1   \n",
       "2        Kolkata Knight Riders        Kolkata Knight Riders              1   \n",
       "3              Kings XI Punjab              Kings XI Punjab              1   \n",
       "4               Delhi Capitals  Royal Challengers Bangalore              0   \n",
       "\n",
       "   dl_applied                       winner  \\\n",
       "0           0          Sunrisers Hyderabad   \n",
       "1           0       Rising Pune Supergiant   \n",
       "2           0        Kolkata Knight Riders   \n",
       "3           0              Kings XI Punjab   \n",
       "4           0  Royal Challengers Bangalore   \n",
       "\n",
       "                                       venue  Result  \n",
       "0  Rajiv Gandhi International Stadium, Uppal       0  \n",
       "1    Maharashtra Cricket Association Stadium       1  \n",
       "2     Saurashtra Cricket Association Stadium       1  \n",
       "3                     Holkar Cricket Stadium       1  \n",
       "4                      M Chinnaswamy Stadium       1  "
      ]
     },
     "execution_count": 21,
     "metadata": {},
     "output_type": "execute_result"
    }
   ],
   "source": [
    "matches.head()"
   ]
  },
  {
   "cell_type": "code",
   "execution_count": 22,
   "metadata": {
    "ExecuteTime": {
     "end_time": "2020-09-19T12:42:54.346682Z",
     "start_time": "2020-09-19T12:42:54.332716Z"
    }
   },
   "outputs": [
    {
     "data": {
      "text/plain": [
       "(752, 12)"
      ]
     },
     "execution_count": 22,
     "metadata": {},
     "output_type": "execute_result"
    }
   ],
   "source": [
    "matches.shape"
   ]
  },
  {
   "cell_type": "code",
   "execution_count": 23,
   "metadata": {
    "ExecuteTime": {
     "end_time": "2020-09-19T12:42:54.366627Z",
     "start_time": "2020-09-19T12:42:54.355667Z"
    }
   },
   "outputs": [
    {
     "data": {
      "text/plain": [
       "0.5226063829787234"
      ]
     },
     "execution_count": 23,
     "metadata": {},
     "output_type": "execute_result"
    }
   ],
   "source": [
    "matches['Result'].sum()/752"
   ]
  },
  {
   "cell_type": "markdown",
   "metadata": {},
   "source": [
    "52.26% of the games are won by teams which won toss. "
   ]
  },
  {
   "cell_type": "code",
   "execution_count": 24,
   "metadata": {
    "ExecuteTime": {
     "end_time": "2020-09-19T12:42:54.382584Z",
     "start_time": "2020-09-19T12:42:54.370621Z"
    }
   },
   "outputs": [
    {
     "data": {
      "text/plain": [
       "0.6117021276595744"
      ]
     },
     "execution_count": 24,
     "metadata": {},
     "output_type": "execute_result"
    }
   ],
   "source": [
    "matches['toss_decision'].sum()/752"
   ]
  },
  {
   "cell_type": "markdown",
   "metadata": {},
   "source": [
    "61.17% of the time teams choose fielding first or batting second."
   ]
  },
  {
   "cell_type": "code",
   "execution_count": 25,
   "metadata": {
    "ExecuteTime": {
     "end_time": "2020-09-19T12:42:54.403528Z",
     "start_time": "2020-09-19T12:42:54.385575Z"
    }
   },
   "outputs": [],
   "source": [
    "def win_percentage(team, data):\n",
    "    a = data[(data['team1'] == team) | (data['team2'] == team)]\n",
    "    x = a.shape\n",
    "    a['win/lose'] = np.where(a['winner'] == team, 1, 0)\n",
    "    return (a['win/lose'].sum()/x[0])*100"
   ]
  },
  {
   "cell_type": "code",
   "execution_count": 26,
   "metadata": {
    "ExecuteTime": {
     "end_time": "2020-09-19T12:42:54.417491Z",
     "start_time": "2020-09-19T12:42:54.406519Z"
    }
   },
   "outputs": [],
   "source": [
    "teams = matches['team1'].unique()"
   ]
  },
  {
   "cell_type": "code",
   "execution_count": 27,
   "metadata": {
    "ExecuteTime": {
     "end_time": "2020-09-19T12:42:54.477333Z",
     "start_time": "2020-09-19T12:42:54.420482Z"
    }
   },
   "outputs": [
    {
     "name": "stdout",
     "output_type": "stream",
     "text": [
      "Sunrisers Hyderabad 53.70370370370371\n",
      "Mumbai Indians 58.288770053475936\n",
      "Gujarat Lions 43.333333333333336\n",
      "Rising Pune Supergiant 50.0\n",
      "Royal Challengers Bangalore 47.45762711864407\n",
      "Kolkata Knight Riders 51.68539325842697\n",
      "Delhi Capitals 44.0\n",
      "Kings XI Punjab 46.590909090909086\n",
      "Chennai Super Kings 60.97560975609756\n",
      "Rajasthan Royals 51.724137931034484\n",
      "Deccan Chargers 38.666666666666664\n",
      "Kochi Tuskers Kerala 42.857142857142854\n",
      "Pune Warriors 26.666666666666668\n"
     ]
    },
    {
     "name": "stderr",
     "output_type": "stream",
     "text": [
      "C:\\Users\\yashc\\AppData\\Local\\Continuum\\anaconda3\\lib\\site-packages\\ipykernel_launcher.py:4: SettingWithCopyWarning: \n",
      "A value is trying to be set on a copy of a slice from a DataFrame.\n",
      "Try using .loc[row_indexer,col_indexer] = value instead\n",
      "\n",
      "See the caveats in the documentation: https://pandas.pydata.org/pandas-docs/stable/user_guide/indexing.html#returning-a-view-versus-a-copy\n",
      "  after removing the cwd from sys.path.\n"
     ]
    }
   ],
   "source": [
    "for i in teams:\n",
    "    print(i,win_percentage(i, matches))"
   ]
  },
  {
   "cell_type": "code",
   "execution_count": 28,
   "metadata": {
    "ExecuteTime": {
     "end_time": "2020-09-19T12:42:54.498275Z",
     "start_time": "2020-09-19T12:42:54.479340Z"
    }
   },
   "outputs": [
    {
     "data": {
      "text/html": [
       "<div>\n",
       "<style scoped>\n",
       "    .dataframe tbody tr th:only-of-type {\n",
       "        vertical-align: middle;\n",
       "    }\n",
       "\n",
       "    .dataframe tbody tr th {\n",
       "        vertical-align: top;\n",
       "    }\n",
       "\n",
       "    .dataframe thead th {\n",
       "        text-align: right;\n",
       "    }\n",
       "</style>\n",
       "<table border=\"1\" class=\"dataframe\">\n",
       "  <thead>\n",
       "    <tr style=\"text-align: right;\">\n",
       "      <th></th>\n",
       "      <th>id</th>\n",
       "      <th>season</th>\n",
       "      <th>city</th>\n",
       "      <th>date</th>\n",
       "      <th>team1</th>\n",
       "      <th>team2</th>\n",
       "      <th>toss_winner</th>\n",
       "      <th>toss_decision</th>\n",
       "      <th>dl_applied</th>\n",
       "      <th>winner</th>\n",
       "      <th>venue</th>\n",
       "      <th>Result</th>\n",
       "    </tr>\n",
       "  </thead>\n",
       "  <tbody>\n",
       "    <tr>\n",
       "      <th>0</th>\n",
       "      <td>1</td>\n",
       "      <td>2017</td>\n",
       "      <td>Hyderabad</td>\n",
       "      <td>2017-04-05</td>\n",
       "      <td>Sunrisers Hyderabad</td>\n",
       "      <td>Royal Challengers Bangalore</td>\n",
       "      <td>Royal Challengers Bangalore</td>\n",
       "      <td>1</td>\n",
       "      <td>0</td>\n",
       "      <td>Sunrisers Hyderabad</td>\n",
       "      <td>Rajiv Gandhi International Stadium, Uppal</td>\n",
       "      <td>0</td>\n",
       "    </tr>\n",
       "    <tr>\n",
       "      <th>1</th>\n",
       "      <td>2</td>\n",
       "      <td>2017</td>\n",
       "      <td>Pune</td>\n",
       "      <td>2017-04-06</td>\n",
       "      <td>Mumbai Indians</td>\n",
       "      <td>Rising Pune Supergiant</td>\n",
       "      <td>Rising Pune Supergiant</td>\n",
       "      <td>1</td>\n",
       "      <td>0</td>\n",
       "      <td>Rising Pune Supergiant</td>\n",
       "      <td>Maharashtra Cricket Association Stadium</td>\n",
       "      <td>1</td>\n",
       "    </tr>\n",
       "    <tr>\n",
       "      <th>2</th>\n",
       "      <td>3</td>\n",
       "      <td>2017</td>\n",
       "      <td>Rajkot</td>\n",
       "      <td>2017-04-07</td>\n",
       "      <td>Gujarat Lions</td>\n",
       "      <td>Kolkata Knight Riders</td>\n",
       "      <td>Kolkata Knight Riders</td>\n",
       "      <td>1</td>\n",
       "      <td>0</td>\n",
       "      <td>Kolkata Knight Riders</td>\n",
       "      <td>Saurashtra Cricket Association Stadium</td>\n",
       "      <td>1</td>\n",
       "    </tr>\n",
       "    <tr>\n",
       "      <th>3</th>\n",
       "      <td>4</td>\n",
       "      <td>2017</td>\n",
       "      <td>Indore</td>\n",
       "      <td>2017-04-08</td>\n",
       "      <td>Rising Pune Supergiant</td>\n",
       "      <td>Kings XI Punjab</td>\n",
       "      <td>Kings XI Punjab</td>\n",
       "      <td>1</td>\n",
       "      <td>0</td>\n",
       "      <td>Kings XI Punjab</td>\n",
       "      <td>Holkar Cricket Stadium</td>\n",
       "      <td>1</td>\n",
       "    </tr>\n",
       "    <tr>\n",
       "      <th>4</th>\n",
       "      <td>5</td>\n",
       "      <td>2017</td>\n",
       "      <td>Bangalore</td>\n",
       "      <td>2017-04-08</td>\n",
       "      <td>Royal Challengers Bangalore</td>\n",
       "      <td>Delhi Capitals</td>\n",
       "      <td>Royal Challengers Bangalore</td>\n",
       "      <td>0</td>\n",
       "      <td>0</td>\n",
       "      <td>Royal Challengers Bangalore</td>\n",
       "      <td>M Chinnaswamy Stadium</td>\n",
       "      <td>1</td>\n",
       "    </tr>\n",
       "  </tbody>\n",
       "</table>\n",
       "</div>"
      ],
      "text/plain": [
       "   id  season       city        date                        team1  \\\n",
       "0   1    2017  Hyderabad  2017-04-05          Sunrisers Hyderabad   \n",
       "1   2    2017       Pune  2017-04-06               Mumbai Indians   \n",
       "2   3    2017     Rajkot  2017-04-07                Gujarat Lions   \n",
       "3   4    2017     Indore  2017-04-08       Rising Pune Supergiant   \n",
       "4   5    2017  Bangalore  2017-04-08  Royal Challengers Bangalore   \n",
       "\n",
       "                         team2                  toss_winner  toss_decision  \\\n",
       "0  Royal Challengers Bangalore  Royal Challengers Bangalore              1   \n",
       "1       Rising Pune Supergiant       Rising Pune Supergiant              1   \n",
       "2        Kolkata Knight Riders        Kolkata Knight Riders              1   \n",
       "3              Kings XI Punjab              Kings XI Punjab              1   \n",
       "4               Delhi Capitals  Royal Challengers Bangalore              0   \n",
       "\n",
       "   dl_applied                       winner  \\\n",
       "0           0          Sunrisers Hyderabad   \n",
       "1           0       Rising Pune Supergiant   \n",
       "2           0        Kolkata Knight Riders   \n",
       "3           0              Kings XI Punjab   \n",
       "4           0  Royal Challengers Bangalore   \n",
       "\n",
       "                                       venue  Result  \n",
       "0  Rajiv Gandhi International Stadium, Uppal       0  \n",
       "1    Maharashtra Cricket Association Stadium       1  \n",
       "2     Saurashtra Cricket Association Stadium       1  \n",
       "3                     Holkar Cricket Stadium       1  \n",
       "4                      M Chinnaswamy Stadium       1  "
      ]
     },
     "execution_count": 28,
     "metadata": {},
     "output_type": "execute_result"
    }
   ],
   "source": [
    "matches.head()"
   ]
  },
  {
   "cell_type": "code",
   "execution_count": 29,
   "metadata": {
    "ExecuteTime": {
     "end_time": "2020-09-19T12:42:54.506255Z",
     "start_time": "2020-09-19T12:42:54.500270Z"
    }
   },
   "outputs": [],
   "source": [
    "matches_final = matches.copy()"
   ]
  },
  {
   "cell_type": "code",
   "execution_count": 30,
   "metadata": {
    "ExecuteTime": {
     "end_time": "2020-09-19T12:42:54.518222Z",
     "start_time": "2020-09-19T12:42:54.510242Z"
    }
   },
   "outputs": [],
   "source": [
    "matches.drop(['id', 'city', 'winner', 'date'], axis = 1, inplace = True)"
   ]
  },
  {
   "cell_type": "code",
   "execution_count": 31,
   "metadata": {
    "ExecuteTime": {
     "end_time": "2020-09-19T12:42:54.538189Z",
     "start_time": "2020-09-19T12:42:54.521214Z"
    }
   },
   "outputs": [
    {
     "data": {
      "text/html": [
       "<div>\n",
       "<style scoped>\n",
       "    .dataframe tbody tr th:only-of-type {\n",
       "        vertical-align: middle;\n",
       "    }\n",
       "\n",
       "    .dataframe tbody tr th {\n",
       "        vertical-align: top;\n",
       "    }\n",
       "\n",
       "    .dataframe thead th {\n",
       "        text-align: right;\n",
       "    }\n",
       "</style>\n",
       "<table border=\"1\" class=\"dataframe\">\n",
       "  <thead>\n",
       "    <tr style=\"text-align: right;\">\n",
       "      <th></th>\n",
       "      <th>season</th>\n",
       "      <th>team1</th>\n",
       "      <th>team2</th>\n",
       "      <th>toss_winner</th>\n",
       "      <th>toss_decision</th>\n",
       "      <th>dl_applied</th>\n",
       "      <th>venue</th>\n",
       "      <th>Result</th>\n",
       "    </tr>\n",
       "  </thead>\n",
       "  <tbody>\n",
       "    <tr>\n",
       "      <th>0</th>\n",
       "      <td>2017</td>\n",
       "      <td>Sunrisers Hyderabad</td>\n",
       "      <td>Royal Challengers Bangalore</td>\n",
       "      <td>Royal Challengers Bangalore</td>\n",
       "      <td>1</td>\n",
       "      <td>0</td>\n",
       "      <td>Rajiv Gandhi International Stadium, Uppal</td>\n",
       "      <td>0</td>\n",
       "    </tr>\n",
       "    <tr>\n",
       "      <th>1</th>\n",
       "      <td>2017</td>\n",
       "      <td>Mumbai Indians</td>\n",
       "      <td>Rising Pune Supergiant</td>\n",
       "      <td>Rising Pune Supergiant</td>\n",
       "      <td>1</td>\n",
       "      <td>0</td>\n",
       "      <td>Maharashtra Cricket Association Stadium</td>\n",
       "      <td>1</td>\n",
       "    </tr>\n",
       "    <tr>\n",
       "      <th>2</th>\n",
       "      <td>2017</td>\n",
       "      <td>Gujarat Lions</td>\n",
       "      <td>Kolkata Knight Riders</td>\n",
       "      <td>Kolkata Knight Riders</td>\n",
       "      <td>1</td>\n",
       "      <td>0</td>\n",
       "      <td>Saurashtra Cricket Association Stadium</td>\n",
       "      <td>1</td>\n",
       "    </tr>\n",
       "    <tr>\n",
       "      <th>3</th>\n",
       "      <td>2017</td>\n",
       "      <td>Rising Pune Supergiant</td>\n",
       "      <td>Kings XI Punjab</td>\n",
       "      <td>Kings XI Punjab</td>\n",
       "      <td>1</td>\n",
       "      <td>0</td>\n",
       "      <td>Holkar Cricket Stadium</td>\n",
       "      <td>1</td>\n",
       "    </tr>\n",
       "    <tr>\n",
       "      <th>4</th>\n",
       "      <td>2017</td>\n",
       "      <td>Royal Challengers Bangalore</td>\n",
       "      <td>Delhi Capitals</td>\n",
       "      <td>Royal Challengers Bangalore</td>\n",
       "      <td>0</td>\n",
       "      <td>0</td>\n",
       "      <td>M Chinnaswamy Stadium</td>\n",
       "      <td>1</td>\n",
       "    </tr>\n",
       "  </tbody>\n",
       "</table>\n",
       "</div>"
      ],
      "text/plain": [
       "   season                        team1                        team2  \\\n",
       "0    2017          Sunrisers Hyderabad  Royal Challengers Bangalore   \n",
       "1    2017               Mumbai Indians       Rising Pune Supergiant   \n",
       "2    2017                Gujarat Lions        Kolkata Knight Riders   \n",
       "3    2017       Rising Pune Supergiant              Kings XI Punjab   \n",
       "4    2017  Royal Challengers Bangalore               Delhi Capitals   \n",
       "\n",
       "                   toss_winner  toss_decision  dl_applied  \\\n",
       "0  Royal Challengers Bangalore              1           0   \n",
       "1       Rising Pune Supergiant              1           0   \n",
       "2        Kolkata Knight Riders              1           0   \n",
       "3              Kings XI Punjab              1           0   \n",
       "4  Royal Challengers Bangalore              0           0   \n",
       "\n",
       "                                       venue  Result  \n",
       "0  Rajiv Gandhi International Stadium, Uppal       0  \n",
       "1    Maharashtra Cricket Association Stadium       1  \n",
       "2     Saurashtra Cricket Association Stadium       1  \n",
       "3                     Holkar Cricket Stadium       1  \n",
       "4                      M Chinnaswamy Stadium       1  "
      ]
     },
     "execution_count": 31,
     "metadata": {},
     "output_type": "execute_result"
    }
   ],
   "source": [
    "matches.head()"
   ]
  },
  {
   "cell_type": "code",
   "execution_count": 32,
   "metadata": {
    "ExecuteTime": {
     "end_time": "2020-09-19T12:42:54.557117Z",
     "start_time": "2020-09-19T12:42:54.540177Z"
    }
   },
   "outputs": [],
   "source": [
    "matches = pd.get_dummies(matches)"
   ]
  },
  {
   "cell_type": "code",
   "execution_count": 33,
   "metadata": {
    "ExecuteTime": {
     "end_time": "2020-09-19T12:42:54.566092Z",
     "start_time": "2020-09-19T12:42:54.559114Z"
    }
   },
   "outputs": [],
   "source": [
    "train = matches[matches['season'] <= 2018]"
   ]
  },
  {
   "cell_type": "code",
   "execution_count": 34,
   "metadata": {
    "ExecuteTime": {
     "end_time": "2020-09-19T12:42:54.577072Z",
     "start_time": "2020-09-19T12:42:54.569089Z"
    }
   },
   "outputs": [
    {
     "data": {
      "text/plain": [
       "(693, 76)"
      ]
     },
     "execution_count": 34,
     "metadata": {},
     "output_type": "execute_result"
    }
   ],
   "source": [
    "train.shape"
   ]
  },
  {
   "cell_type": "code",
   "execution_count": 35,
   "metadata": {
    "ExecuteTime": {
     "end_time": "2020-09-19T12:42:54.586040Z",
     "start_time": "2020-09-19T12:42:54.580055Z"
    }
   },
   "outputs": [],
   "source": [
    "test = matches[matches['season'] == 2019]"
   ]
  },
  {
   "cell_type": "code",
   "execution_count": 36,
   "metadata": {
    "ExecuteTime": {
     "end_time": "2020-09-19T12:42:54.596017Z",
     "start_time": "2020-09-19T12:42:54.589031Z"
    }
   },
   "outputs": [
    {
     "data": {
      "text/plain": [
       "(59, 76)"
      ]
     },
     "execution_count": 36,
     "metadata": {},
     "output_type": "execute_result"
    }
   ],
   "source": [
    "test.shape"
   ]
  },
  {
   "cell_type": "code",
   "execution_count": 37,
   "metadata": {
    "ExecuteTime": {
     "end_time": "2020-09-19T12:42:54.609976Z",
     "start_time": "2020-09-19T12:42:54.599004Z"
    }
   },
   "outputs": [
    {
     "name": "stderr",
     "output_type": "stream",
     "text": [
      "C:\\Users\\yashc\\AppData\\Local\\Continuum\\anaconda3\\lib\\site-packages\\pandas\\core\\frame.py:4167: SettingWithCopyWarning: \n",
      "A value is trying to be set on a copy of a slice from a DataFrame\n",
      "\n",
      "See the caveats in the documentation: https://pandas.pydata.org/pandas-docs/stable/user_guide/indexing.html#returning-a-view-versus-a-copy\n",
      "  errors=errors,\n"
     ]
    }
   ],
   "source": [
    "test.drop(['season', 'dl_applied'], axis = 1, inplace = True)"
   ]
  },
  {
   "cell_type": "code",
   "execution_count": 38,
   "metadata": {
    "ExecuteTime": {
     "end_time": "2020-09-19T12:42:54.636920Z",
     "start_time": "2020-09-19T12:42:54.612967Z"
    }
   },
   "outputs": [
    {
     "data": {
      "text/html": [
       "<div>\n",
       "<style scoped>\n",
       "    .dataframe tbody tr th:only-of-type {\n",
       "        vertical-align: middle;\n",
       "    }\n",
       "\n",
       "    .dataframe tbody tr th {\n",
       "        vertical-align: top;\n",
       "    }\n",
       "\n",
       "    .dataframe thead th {\n",
       "        text-align: right;\n",
       "    }\n",
       "</style>\n",
       "<table border=\"1\" class=\"dataframe\">\n",
       "  <thead>\n",
       "    <tr style=\"text-align: right;\">\n",
       "      <th></th>\n",
       "      <th>toss_decision</th>\n",
       "      <th>Result</th>\n",
       "      <th>team1_Chennai Super Kings</th>\n",
       "      <th>team1_Deccan Chargers</th>\n",
       "      <th>team1_Delhi Capitals</th>\n",
       "      <th>team1_Gujarat Lions</th>\n",
       "      <th>team1_Kings XI Punjab</th>\n",
       "      <th>team1_Kochi Tuskers Kerala</th>\n",
       "      <th>team1_Kolkata Knight Riders</th>\n",
       "      <th>team1_Mumbai Indians</th>\n",
       "      <th>...</th>\n",
       "      <th>venue_Sardar Patel Stadium, Motera</th>\n",
       "      <th>venue_Saurashtra Cricket Association Stadium</th>\n",
       "      <th>venue_Sawai Mansingh Stadium</th>\n",
       "      <th>venue_Shaheed Veer Narayan Singh International Stadium</th>\n",
       "      <th>venue_Sharjah Cricket Stadium</th>\n",
       "      <th>venue_Sheikh Zayed Stadium</th>\n",
       "      <th>venue_St George's Park</th>\n",
       "      <th>venue_SuperSport Park</th>\n",
       "      <th>venue_Vidarbha Cricket Association Stadium, Jamtha</th>\n",
       "      <th>venue_Wankhede Stadium</th>\n",
       "    </tr>\n",
       "  </thead>\n",
       "  <tbody>\n",
       "    <tr>\n",
       "      <th>696</th>\n",
       "      <td>1</td>\n",
       "      <td>1</td>\n",
       "      <td>0</td>\n",
       "      <td>0</td>\n",
       "      <td>0</td>\n",
       "      <td>0</td>\n",
       "      <td>0</td>\n",
       "      <td>0</td>\n",
       "      <td>0</td>\n",
       "      <td>0</td>\n",
       "      <td>...</td>\n",
       "      <td>0</td>\n",
       "      <td>0</td>\n",
       "      <td>0</td>\n",
       "      <td>0</td>\n",
       "      <td>0</td>\n",
       "      <td>0</td>\n",
       "      <td>0</td>\n",
       "      <td>0</td>\n",
       "      <td>0</td>\n",
       "      <td>0</td>\n",
       "    </tr>\n",
       "    <tr>\n",
       "      <th>697</th>\n",
       "      <td>1</td>\n",
       "      <td>1</td>\n",
       "      <td>0</td>\n",
       "      <td>0</td>\n",
       "      <td>0</td>\n",
       "      <td>0</td>\n",
       "      <td>0</td>\n",
       "      <td>0</td>\n",
       "      <td>0</td>\n",
       "      <td>0</td>\n",
       "      <td>...</td>\n",
       "      <td>0</td>\n",
       "      <td>0</td>\n",
       "      <td>0</td>\n",
       "      <td>0</td>\n",
       "      <td>0</td>\n",
       "      <td>0</td>\n",
       "      <td>0</td>\n",
       "      <td>0</td>\n",
       "      <td>0</td>\n",
       "      <td>0</td>\n",
       "    </tr>\n",
       "    <tr>\n",
       "      <th>698</th>\n",
       "      <td>1</td>\n",
       "      <td>0</td>\n",
       "      <td>0</td>\n",
       "      <td>0</td>\n",
       "      <td>1</td>\n",
       "      <td>0</td>\n",
       "      <td>0</td>\n",
       "      <td>0</td>\n",
       "      <td>0</td>\n",
       "      <td>0</td>\n",
       "      <td>...</td>\n",
       "      <td>0</td>\n",
       "      <td>0</td>\n",
       "      <td>0</td>\n",
       "      <td>0</td>\n",
       "      <td>0</td>\n",
       "      <td>0</td>\n",
       "      <td>0</td>\n",
       "      <td>0</td>\n",
       "      <td>0</td>\n",
       "      <td>1</td>\n",
       "    </tr>\n",
       "    <tr>\n",
       "      <th>699</th>\n",
       "      <td>1</td>\n",
       "      <td>0</td>\n",
       "      <td>0</td>\n",
       "      <td>0</td>\n",
       "      <td>0</td>\n",
       "      <td>0</td>\n",
       "      <td>1</td>\n",
       "      <td>0</td>\n",
       "      <td>0</td>\n",
       "      <td>0</td>\n",
       "      <td>...</td>\n",
       "      <td>0</td>\n",
       "      <td>0</td>\n",
       "      <td>1</td>\n",
       "      <td>0</td>\n",
       "      <td>0</td>\n",
       "      <td>0</td>\n",
       "      <td>0</td>\n",
       "      <td>0</td>\n",
       "      <td>0</td>\n",
       "      <td>0</td>\n",
       "    </tr>\n",
       "    <tr>\n",
       "      <th>700</th>\n",
       "      <td>0</td>\n",
       "      <td>0</td>\n",
       "      <td>0</td>\n",
       "      <td>0</td>\n",
       "      <td>1</td>\n",
       "      <td>0</td>\n",
       "      <td>0</td>\n",
       "      <td>0</td>\n",
       "      <td>0</td>\n",
       "      <td>0</td>\n",
       "      <td>...</td>\n",
       "      <td>0</td>\n",
       "      <td>0</td>\n",
       "      <td>0</td>\n",
       "      <td>0</td>\n",
       "      <td>0</td>\n",
       "      <td>0</td>\n",
       "      <td>0</td>\n",
       "      <td>0</td>\n",
       "      <td>0</td>\n",
       "      <td>0</td>\n",
       "    </tr>\n",
       "  </tbody>\n",
       "</table>\n",
       "<p>5 rows × 74 columns</p>\n",
       "</div>"
      ],
      "text/plain": [
       "     toss_decision  Result  team1_Chennai Super Kings  team1_Deccan Chargers  \\\n",
       "696              1       1                          0                      0   \n",
       "697              1       1                          0                      0   \n",
       "698              1       0                          0                      0   \n",
       "699              1       0                          0                      0   \n",
       "700              0       0                          0                      0   \n",
       "\n",
       "     team1_Delhi Capitals  team1_Gujarat Lions  team1_Kings XI Punjab  \\\n",
       "696                     0                    0                      0   \n",
       "697                     0                    0                      0   \n",
       "698                     1                    0                      0   \n",
       "699                     0                    0                      1   \n",
       "700                     1                    0                      0   \n",
       "\n",
       "     team1_Kochi Tuskers Kerala  team1_Kolkata Knight Riders  \\\n",
       "696                           0                            0   \n",
       "697                           0                            0   \n",
       "698                           0                            0   \n",
       "699                           0                            0   \n",
       "700                           0                            0   \n",
       "\n",
       "     team1_Mumbai Indians  ...  venue_Sardar Patel Stadium, Motera  \\\n",
       "696                     0  ...                                   0   \n",
       "697                     0  ...                                   0   \n",
       "698                     0  ...                                   0   \n",
       "699                     0  ...                                   0   \n",
       "700                     0  ...                                   0   \n",
       "\n",
       "     venue_Saurashtra Cricket Association Stadium  \\\n",
       "696                                             0   \n",
       "697                                             0   \n",
       "698                                             0   \n",
       "699                                             0   \n",
       "700                                             0   \n",
       "\n",
       "     venue_Sawai Mansingh Stadium  \\\n",
       "696                             0   \n",
       "697                             0   \n",
       "698                             0   \n",
       "699                             1   \n",
       "700                             0   \n",
       "\n",
       "     venue_Shaheed Veer Narayan Singh International Stadium  \\\n",
       "696                                                  0        \n",
       "697                                                  0        \n",
       "698                                                  0        \n",
       "699                                                  0        \n",
       "700                                                  0        \n",
       "\n",
       "     venue_Sharjah Cricket Stadium  venue_Sheikh Zayed Stadium  \\\n",
       "696                              0                           0   \n",
       "697                              0                           0   \n",
       "698                              0                           0   \n",
       "699                              0                           0   \n",
       "700                              0                           0   \n",
       "\n",
       "     venue_St George's Park  venue_SuperSport Park  \\\n",
       "696                       0                      0   \n",
       "697                       0                      0   \n",
       "698                       0                      0   \n",
       "699                       0                      0   \n",
       "700                       0                      0   \n",
       "\n",
       "     venue_Vidarbha Cricket Association Stadium, Jamtha  \\\n",
       "696                                                  0    \n",
       "697                                                  0    \n",
       "698                                                  0    \n",
       "699                                                  0    \n",
       "700                                                  0    \n",
       "\n",
       "     venue_Wankhede Stadium  \n",
       "696                       0  \n",
       "697                       0  \n",
       "698                       1  \n",
       "699                       0  \n",
       "700                       0  \n",
       "\n",
       "[5 rows x 74 columns]"
      ]
     },
     "execution_count": 38,
     "metadata": {},
     "output_type": "execute_result"
    }
   ],
   "source": [
    "test.head()"
   ]
  },
  {
   "cell_type": "code",
   "execution_count": 39,
   "metadata": {
    "ExecuteTime": {
     "end_time": "2020-09-19T12:42:54.645880Z",
     "start_time": "2020-09-19T12:42:54.638909Z"
    }
   },
   "outputs": [
    {
     "name": "stderr",
     "output_type": "stream",
     "text": [
      "C:\\Users\\yashc\\AppData\\Local\\Continuum\\anaconda3\\lib\\site-packages\\pandas\\core\\frame.py:4167: SettingWithCopyWarning: \n",
      "A value is trying to be set on a copy of a slice from a DataFrame\n",
      "\n",
      "See the caveats in the documentation: https://pandas.pydata.org/pandas-docs/stable/user_guide/indexing.html#returning-a-view-versus-a-copy\n",
      "  errors=errors,\n"
     ]
    }
   ],
   "source": [
    "train.drop(['season', 'dl_applied'], axis = 1, inplace = True)"
   ]
  },
  {
   "cell_type": "code",
   "execution_count": 40,
   "metadata": {
    "ExecuteTime": {
     "end_time": "2020-09-19T12:42:54.673804Z",
     "start_time": "2020-09-19T12:42:54.649871Z"
    }
   },
   "outputs": [
    {
     "data": {
      "text/html": [
       "<div>\n",
       "<style scoped>\n",
       "    .dataframe tbody tr th:only-of-type {\n",
       "        vertical-align: middle;\n",
       "    }\n",
       "\n",
       "    .dataframe tbody tr th {\n",
       "        vertical-align: top;\n",
       "    }\n",
       "\n",
       "    .dataframe thead th {\n",
       "        text-align: right;\n",
       "    }\n",
       "</style>\n",
       "<table border=\"1\" class=\"dataframe\">\n",
       "  <thead>\n",
       "    <tr style=\"text-align: right;\">\n",
       "      <th></th>\n",
       "      <th>toss_decision</th>\n",
       "      <th>Result</th>\n",
       "      <th>team1_Chennai Super Kings</th>\n",
       "      <th>team1_Deccan Chargers</th>\n",
       "      <th>team1_Delhi Capitals</th>\n",
       "      <th>team1_Gujarat Lions</th>\n",
       "      <th>team1_Kings XI Punjab</th>\n",
       "      <th>team1_Kochi Tuskers Kerala</th>\n",
       "      <th>team1_Kolkata Knight Riders</th>\n",
       "      <th>team1_Mumbai Indians</th>\n",
       "      <th>...</th>\n",
       "      <th>venue_Sardar Patel Stadium, Motera</th>\n",
       "      <th>venue_Saurashtra Cricket Association Stadium</th>\n",
       "      <th>venue_Sawai Mansingh Stadium</th>\n",
       "      <th>venue_Shaheed Veer Narayan Singh International Stadium</th>\n",
       "      <th>venue_Sharjah Cricket Stadium</th>\n",
       "      <th>venue_Sheikh Zayed Stadium</th>\n",
       "      <th>venue_St George's Park</th>\n",
       "      <th>venue_SuperSport Park</th>\n",
       "      <th>venue_Vidarbha Cricket Association Stadium, Jamtha</th>\n",
       "      <th>venue_Wankhede Stadium</th>\n",
       "    </tr>\n",
       "  </thead>\n",
       "  <tbody>\n",
       "    <tr>\n",
       "      <th>0</th>\n",
       "      <td>1</td>\n",
       "      <td>0</td>\n",
       "      <td>0</td>\n",
       "      <td>0</td>\n",
       "      <td>0</td>\n",
       "      <td>0</td>\n",
       "      <td>0</td>\n",
       "      <td>0</td>\n",
       "      <td>0</td>\n",
       "      <td>0</td>\n",
       "      <td>...</td>\n",
       "      <td>0</td>\n",
       "      <td>0</td>\n",
       "      <td>0</td>\n",
       "      <td>0</td>\n",
       "      <td>0</td>\n",
       "      <td>0</td>\n",
       "      <td>0</td>\n",
       "      <td>0</td>\n",
       "      <td>0</td>\n",
       "      <td>0</td>\n",
       "    </tr>\n",
       "    <tr>\n",
       "      <th>1</th>\n",
       "      <td>1</td>\n",
       "      <td>1</td>\n",
       "      <td>0</td>\n",
       "      <td>0</td>\n",
       "      <td>0</td>\n",
       "      <td>0</td>\n",
       "      <td>0</td>\n",
       "      <td>0</td>\n",
       "      <td>0</td>\n",
       "      <td>1</td>\n",
       "      <td>...</td>\n",
       "      <td>0</td>\n",
       "      <td>0</td>\n",
       "      <td>0</td>\n",
       "      <td>0</td>\n",
       "      <td>0</td>\n",
       "      <td>0</td>\n",
       "      <td>0</td>\n",
       "      <td>0</td>\n",
       "      <td>0</td>\n",
       "      <td>0</td>\n",
       "    </tr>\n",
       "    <tr>\n",
       "      <th>2</th>\n",
       "      <td>1</td>\n",
       "      <td>1</td>\n",
       "      <td>0</td>\n",
       "      <td>0</td>\n",
       "      <td>0</td>\n",
       "      <td>1</td>\n",
       "      <td>0</td>\n",
       "      <td>0</td>\n",
       "      <td>0</td>\n",
       "      <td>0</td>\n",
       "      <td>...</td>\n",
       "      <td>0</td>\n",
       "      <td>1</td>\n",
       "      <td>0</td>\n",
       "      <td>0</td>\n",
       "      <td>0</td>\n",
       "      <td>0</td>\n",
       "      <td>0</td>\n",
       "      <td>0</td>\n",
       "      <td>0</td>\n",
       "      <td>0</td>\n",
       "    </tr>\n",
       "    <tr>\n",
       "      <th>3</th>\n",
       "      <td>1</td>\n",
       "      <td>1</td>\n",
       "      <td>0</td>\n",
       "      <td>0</td>\n",
       "      <td>0</td>\n",
       "      <td>0</td>\n",
       "      <td>0</td>\n",
       "      <td>0</td>\n",
       "      <td>0</td>\n",
       "      <td>0</td>\n",
       "      <td>...</td>\n",
       "      <td>0</td>\n",
       "      <td>0</td>\n",
       "      <td>0</td>\n",
       "      <td>0</td>\n",
       "      <td>0</td>\n",
       "      <td>0</td>\n",
       "      <td>0</td>\n",
       "      <td>0</td>\n",
       "      <td>0</td>\n",
       "      <td>0</td>\n",
       "    </tr>\n",
       "    <tr>\n",
       "      <th>4</th>\n",
       "      <td>0</td>\n",
       "      <td>1</td>\n",
       "      <td>0</td>\n",
       "      <td>0</td>\n",
       "      <td>0</td>\n",
       "      <td>0</td>\n",
       "      <td>0</td>\n",
       "      <td>0</td>\n",
       "      <td>0</td>\n",
       "      <td>0</td>\n",
       "      <td>...</td>\n",
       "      <td>0</td>\n",
       "      <td>0</td>\n",
       "      <td>0</td>\n",
       "      <td>0</td>\n",
       "      <td>0</td>\n",
       "      <td>0</td>\n",
       "      <td>0</td>\n",
       "      <td>0</td>\n",
       "      <td>0</td>\n",
       "      <td>0</td>\n",
       "    </tr>\n",
       "  </tbody>\n",
       "</table>\n",
       "<p>5 rows × 74 columns</p>\n",
       "</div>"
      ],
      "text/plain": [
       "   toss_decision  Result  team1_Chennai Super Kings  team1_Deccan Chargers  \\\n",
       "0              1       0                          0                      0   \n",
       "1              1       1                          0                      0   \n",
       "2              1       1                          0                      0   \n",
       "3              1       1                          0                      0   \n",
       "4              0       1                          0                      0   \n",
       "\n",
       "   team1_Delhi Capitals  team1_Gujarat Lions  team1_Kings XI Punjab  \\\n",
       "0                     0                    0                      0   \n",
       "1                     0                    0                      0   \n",
       "2                     0                    1                      0   \n",
       "3                     0                    0                      0   \n",
       "4                     0                    0                      0   \n",
       "\n",
       "   team1_Kochi Tuskers Kerala  team1_Kolkata Knight Riders  \\\n",
       "0                           0                            0   \n",
       "1                           0                            0   \n",
       "2                           0                            0   \n",
       "3                           0                            0   \n",
       "4                           0                            0   \n",
       "\n",
       "   team1_Mumbai Indians  ...  venue_Sardar Patel Stadium, Motera  \\\n",
       "0                     0  ...                                   0   \n",
       "1                     1  ...                                   0   \n",
       "2                     0  ...                                   0   \n",
       "3                     0  ...                                   0   \n",
       "4                     0  ...                                   0   \n",
       "\n",
       "   venue_Saurashtra Cricket Association Stadium  venue_Sawai Mansingh Stadium  \\\n",
       "0                                             0                             0   \n",
       "1                                             0                             0   \n",
       "2                                             1                             0   \n",
       "3                                             0                             0   \n",
       "4                                             0                             0   \n",
       "\n",
       "   venue_Shaheed Veer Narayan Singh International Stadium  \\\n",
       "0                                                  0        \n",
       "1                                                  0        \n",
       "2                                                  0        \n",
       "3                                                  0        \n",
       "4                                                  0        \n",
       "\n",
       "   venue_Sharjah Cricket Stadium  venue_Sheikh Zayed Stadium  \\\n",
       "0                              0                           0   \n",
       "1                              0                           0   \n",
       "2                              0                           0   \n",
       "3                              0                           0   \n",
       "4                              0                           0   \n",
       "\n",
       "   venue_St George's Park  venue_SuperSport Park  \\\n",
       "0                       0                      0   \n",
       "1                       0                      0   \n",
       "2                       0                      0   \n",
       "3                       0                      0   \n",
       "4                       0                      0   \n",
       "\n",
       "   venue_Vidarbha Cricket Association Stadium, Jamtha  venue_Wankhede Stadium  \n",
       "0                                                  0                        0  \n",
       "1                                                  0                        0  \n",
       "2                                                  0                        0  \n",
       "3                                                  0                        0  \n",
       "4                                                  0                        0  \n",
       "\n",
       "[5 rows x 74 columns]"
      ]
     },
     "execution_count": 40,
     "metadata": {},
     "output_type": "execute_result"
    }
   ],
   "source": [
    "train.head()"
   ]
  },
  {
   "cell_type": "markdown",
   "metadata": {},
   "source": [
    "### Logistic Regression"
   ]
  },
  {
   "cell_type": "code",
   "execution_count": 41,
   "metadata": {
    "ExecuteTime": {
     "end_time": "2020-09-19T12:42:54.682782Z",
     "start_time": "2020-09-19T12:42:54.675799Z"
    }
   },
   "outputs": [],
   "source": [
    "X = train.drop('Result', axis = 1)\n",
    "y = train[['Result']]"
   ]
  },
  {
   "cell_type": "code",
   "execution_count": 42,
   "metadata": {
    "ExecuteTime": {
     "end_time": "2020-09-19T12:42:54.718694Z",
     "start_time": "2020-09-19T12:42:54.686770Z"
    }
   },
   "outputs": [
    {
     "data": {
      "text/html": [
       "<div>\n",
       "<style scoped>\n",
       "    .dataframe tbody tr th:only-of-type {\n",
       "        vertical-align: middle;\n",
       "    }\n",
       "\n",
       "    .dataframe tbody tr th {\n",
       "        vertical-align: top;\n",
       "    }\n",
       "\n",
       "    .dataframe thead th {\n",
       "        text-align: right;\n",
       "    }\n",
       "</style>\n",
       "<table border=\"1\" class=\"dataframe\">\n",
       "  <thead>\n",
       "    <tr style=\"text-align: right;\">\n",
       "      <th></th>\n",
       "      <th>toss_decision</th>\n",
       "      <th>team1_Chennai Super Kings</th>\n",
       "      <th>team1_Deccan Chargers</th>\n",
       "      <th>team1_Delhi Capitals</th>\n",
       "      <th>team1_Gujarat Lions</th>\n",
       "      <th>team1_Kings XI Punjab</th>\n",
       "      <th>team1_Kochi Tuskers Kerala</th>\n",
       "      <th>team1_Kolkata Knight Riders</th>\n",
       "      <th>team1_Mumbai Indians</th>\n",
       "      <th>team1_Pune Warriors</th>\n",
       "      <th>...</th>\n",
       "      <th>venue_Sardar Patel Stadium, Motera</th>\n",
       "      <th>venue_Saurashtra Cricket Association Stadium</th>\n",
       "      <th>venue_Sawai Mansingh Stadium</th>\n",
       "      <th>venue_Shaheed Veer Narayan Singh International Stadium</th>\n",
       "      <th>venue_Sharjah Cricket Stadium</th>\n",
       "      <th>venue_Sheikh Zayed Stadium</th>\n",
       "      <th>venue_St George's Park</th>\n",
       "      <th>venue_SuperSport Park</th>\n",
       "      <th>venue_Vidarbha Cricket Association Stadium, Jamtha</th>\n",
       "      <th>venue_Wankhede Stadium</th>\n",
       "    </tr>\n",
       "  </thead>\n",
       "  <tbody>\n",
       "    <tr>\n",
       "      <th>0</th>\n",
       "      <td>1</td>\n",
       "      <td>0</td>\n",
       "      <td>0</td>\n",
       "      <td>0</td>\n",
       "      <td>0</td>\n",
       "      <td>0</td>\n",
       "      <td>0</td>\n",
       "      <td>0</td>\n",
       "      <td>0</td>\n",
       "      <td>0</td>\n",
       "      <td>...</td>\n",
       "      <td>0</td>\n",
       "      <td>0</td>\n",
       "      <td>0</td>\n",
       "      <td>0</td>\n",
       "      <td>0</td>\n",
       "      <td>0</td>\n",
       "      <td>0</td>\n",
       "      <td>0</td>\n",
       "      <td>0</td>\n",
       "      <td>0</td>\n",
       "    </tr>\n",
       "    <tr>\n",
       "      <th>1</th>\n",
       "      <td>1</td>\n",
       "      <td>0</td>\n",
       "      <td>0</td>\n",
       "      <td>0</td>\n",
       "      <td>0</td>\n",
       "      <td>0</td>\n",
       "      <td>0</td>\n",
       "      <td>0</td>\n",
       "      <td>1</td>\n",
       "      <td>0</td>\n",
       "      <td>...</td>\n",
       "      <td>0</td>\n",
       "      <td>0</td>\n",
       "      <td>0</td>\n",
       "      <td>0</td>\n",
       "      <td>0</td>\n",
       "      <td>0</td>\n",
       "      <td>0</td>\n",
       "      <td>0</td>\n",
       "      <td>0</td>\n",
       "      <td>0</td>\n",
       "    </tr>\n",
       "    <tr>\n",
       "      <th>2</th>\n",
       "      <td>1</td>\n",
       "      <td>0</td>\n",
       "      <td>0</td>\n",
       "      <td>0</td>\n",
       "      <td>1</td>\n",
       "      <td>0</td>\n",
       "      <td>0</td>\n",
       "      <td>0</td>\n",
       "      <td>0</td>\n",
       "      <td>0</td>\n",
       "      <td>...</td>\n",
       "      <td>0</td>\n",
       "      <td>1</td>\n",
       "      <td>0</td>\n",
       "      <td>0</td>\n",
       "      <td>0</td>\n",
       "      <td>0</td>\n",
       "      <td>0</td>\n",
       "      <td>0</td>\n",
       "      <td>0</td>\n",
       "      <td>0</td>\n",
       "    </tr>\n",
       "    <tr>\n",
       "      <th>3</th>\n",
       "      <td>1</td>\n",
       "      <td>0</td>\n",
       "      <td>0</td>\n",
       "      <td>0</td>\n",
       "      <td>0</td>\n",
       "      <td>0</td>\n",
       "      <td>0</td>\n",
       "      <td>0</td>\n",
       "      <td>0</td>\n",
       "      <td>0</td>\n",
       "      <td>...</td>\n",
       "      <td>0</td>\n",
       "      <td>0</td>\n",
       "      <td>0</td>\n",
       "      <td>0</td>\n",
       "      <td>0</td>\n",
       "      <td>0</td>\n",
       "      <td>0</td>\n",
       "      <td>0</td>\n",
       "      <td>0</td>\n",
       "      <td>0</td>\n",
       "    </tr>\n",
       "    <tr>\n",
       "      <th>4</th>\n",
       "      <td>0</td>\n",
       "      <td>0</td>\n",
       "      <td>0</td>\n",
       "      <td>0</td>\n",
       "      <td>0</td>\n",
       "      <td>0</td>\n",
       "      <td>0</td>\n",
       "      <td>0</td>\n",
       "      <td>0</td>\n",
       "      <td>0</td>\n",
       "      <td>...</td>\n",
       "      <td>0</td>\n",
       "      <td>0</td>\n",
       "      <td>0</td>\n",
       "      <td>0</td>\n",
       "      <td>0</td>\n",
       "      <td>0</td>\n",
       "      <td>0</td>\n",
       "      <td>0</td>\n",
       "      <td>0</td>\n",
       "      <td>0</td>\n",
       "    </tr>\n",
       "    <tr>\n",
       "      <th>...</th>\n",
       "      <td>...</td>\n",
       "      <td>...</td>\n",
       "      <td>...</td>\n",
       "      <td>...</td>\n",
       "      <td>...</td>\n",
       "      <td>...</td>\n",
       "      <td>...</td>\n",
       "      <td>...</td>\n",
       "      <td>...</td>\n",
       "      <td>...</td>\n",
       "      <td>...</td>\n",
       "      <td>...</td>\n",
       "      <td>...</td>\n",
       "      <td>...</td>\n",
       "      <td>...</td>\n",
       "      <td>...</td>\n",
       "      <td>...</td>\n",
       "      <td>...</td>\n",
       "      <td>...</td>\n",
       "      <td>...</td>\n",
       "      <td>...</td>\n",
       "    </tr>\n",
       "    <tr>\n",
       "      <th>691</th>\n",
       "      <td>1</td>\n",
       "      <td>0</td>\n",
       "      <td>0</td>\n",
       "      <td>0</td>\n",
       "      <td>0</td>\n",
       "      <td>1</td>\n",
       "      <td>0</td>\n",
       "      <td>0</td>\n",
       "      <td>0</td>\n",
       "      <td>0</td>\n",
       "      <td>...</td>\n",
       "      <td>0</td>\n",
       "      <td>0</td>\n",
       "      <td>0</td>\n",
       "      <td>0</td>\n",
       "      <td>0</td>\n",
       "      <td>0</td>\n",
       "      <td>0</td>\n",
       "      <td>0</td>\n",
       "      <td>0</td>\n",
       "      <td>0</td>\n",
       "    </tr>\n",
       "    <tr>\n",
       "      <th>692</th>\n",
       "      <td>1</td>\n",
       "      <td>0</td>\n",
       "      <td>0</td>\n",
       "      <td>0</td>\n",
       "      <td>0</td>\n",
       "      <td>0</td>\n",
       "      <td>0</td>\n",
       "      <td>0</td>\n",
       "      <td>0</td>\n",
       "      <td>0</td>\n",
       "      <td>...</td>\n",
       "      <td>0</td>\n",
       "      <td>0</td>\n",
       "      <td>0</td>\n",
       "      <td>0</td>\n",
       "      <td>0</td>\n",
       "      <td>0</td>\n",
       "      <td>0</td>\n",
       "      <td>0</td>\n",
       "      <td>0</td>\n",
       "      <td>1</td>\n",
       "    </tr>\n",
       "    <tr>\n",
       "      <th>693</th>\n",
       "      <td>1</td>\n",
       "      <td>0</td>\n",
       "      <td>0</td>\n",
       "      <td>0</td>\n",
       "      <td>0</td>\n",
       "      <td>0</td>\n",
       "      <td>0</td>\n",
       "      <td>1</td>\n",
       "      <td>0</td>\n",
       "      <td>0</td>\n",
       "      <td>...</td>\n",
       "      <td>0</td>\n",
       "      <td>0</td>\n",
       "      <td>0</td>\n",
       "      <td>0</td>\n",
       "      <td>0</td>\n",
       "      <td>0</td>\n",
       "      <td>0</td>\n",
       "      <td>0</td>\n",
       "      <td>0</td>\n",
       "      <td>0</td>\n",
       "    </tr>\n",
       "    <tr>\n",
       "      <th>694</th>\n",
       "      <td>1</td>\n",
       "      <td>0</td>\n",
       "      <td>0</td>\n",
       "      <td>0</td>\n",
       "      <td>0</td>\n",
       "      <td>0</td>\n",
       "      <td>0</td>\n",
       "      <td>0</td>\n",
       "      <td>0</td>\n",
       "      <td>0</td>\n",
       "      <td>...</td>\n",
       "      <td>0</td>\n",
       "      <td>0</td>\n",
       "      <td>0</td>\n",
       "      <td>0</td>\n",
       "      <td>0</td>\n",
       "      <td>0</td>\n",
       "      <td>0</td>\n",
       "      <td>0</td>\n",
       "      <td>0</td>\n",
       "      <td>0</td>\n",
       "    </tr>\n",
       "    <tr>\n",
       "      <th>695</th>\n",
       "      <td>1</td>\n",
       "      <td>0</td>\n",
       "      <td>0</td>\n",
       "      <td>0</td>\n",
       "      <td>0</td>\n",
       "      <td>0</td>\n",
       "      <td>0</td>\n",
       "      <td>0</td>\n",
       "      <td>0</td>\n",
       "      <td>0</td>\n",
       "      <td>...</td>\n",
       "      <td>0</td>\n",
       "      <td>0</td>\n",
       "      <td>0</td>\n",
       "      <td>0</td>\n",
       "      <td>0</td>\n",
       "      <td>0</td>\n",
       "      <td>0</td>\n",
       "      <td>0</td>\n",
       "      <td>0</td>\n",
       "      <td>1</td>\n",
       "    </tr>\n",
       "  </tbody>\n",
       "</table>\n",
       "<p>693 rows × 73 columns</p>\n",
       "</div>"
      ],
      "text/plain": [
       "     toss_decision  team1_Chennai Super Kings  team1_Deccan Chargers  \\\n",
       "0                1                          0                      0   \n",
       "1                1                          0                      0   \n",
       "2                1                          0                      0   \n",
       "3                1                          0                      0   \n",
       "4                0                          0                      0   \n",
       "..             ...                        ...                    ...   \n",
       "691              1                          0                      0   \n",
       "692              1                          0                      0   \n",
       "693              1                          0                      0   \n",
       "694              1                          0                      0   \n",
       "695              1                          0                      0   \n",
       "\n",
       "     team1_Delhi Capitals  team1_Gujarat Lions  team1_Kings XI Punjab  \\\n",
       "0                       0                    0                      0   \n",
       "1                       0                    0                      0   \n",
       "2                       0                    1                      0   \n",
       "3                       0                    0                      0   \n",
       "4                       0                    0                      0   \n",
       "..                    ...                  ...                    ...   \n",
       "691                     0                    0                      1   \n",
       "692                     0                    0                      0   \n",
       "693                     0                    0                      0   \n",
       "694                     0                    0                      0   \n",
       "695                     0                    0                      0   \n",
       "\n",
       "     team1_Kochi Tuskers Kerala  team1_Kolkata Knight Riders  \\\n",
       "0                             0                            0   \n",
       "1                             0                            0   \n",
       "2                             0                            0   \n",
       "3                             0                            0   \n",
       "4                             0                            0   \n",
       "..                          ...                          ...   \n",
       "691                           0                            0   \n",
       "692                           0                            0   \n",
       "693                           0                            1   \n",
       "694                           0                            0   \n",
       "695                           0                            0   \n",
       "\n",
       "     team1_Mumbai Indians  team1_Pune Warriors  ...  \\\n",
       "0                       0                    0  ...   \n",
       "1                       1                    0  ...   \n",
       "2                       0                    0  ...   \n",
       "3                       0                    0  ...   \n",
       "4                       0                    0  ...   \n",
       "..                    ...                  ...  ...   \n",
       "691                     0                    0  ...   \n",
       "692                     0                    0  ...   \n",
       "693                     0                    0  ...   \n",
       "694                     0                    0  ...   \n",
       "695                     0                    0  ...   \n",
       "\n",
       "     venue_Sardar Patel Stadium, Motera  \\\n",
       "0                                     0   \n",
       "1                                     0   \n",
       "2                                     0   \n",
       "3                                     0   \n",
       "4                                     0   \n",
       "..                                  ...   \n",
       "691                                   0   \n",
       "692                                   0   \n",
       "693                                   0   \n",
       "694                                   0   \n",
       "695                                   0   \n",
       "\n",
       "     venue_Saurashtra Cricket Association Stadium  \\\n",
       "0                                               0   \n",
       "1                                               0   \n",
       "2                                               1   \n",
       "3                                               0   \n",
       "4                                               0   \n",
       "..                                            ...   \n",
       "691                                             0   \n",
       "692                                             0   \n",
       "693                                             0   \n",
       "694                                             0   \n",
       "695                                             0   \n",
       "\n",
       "     venue_Sawai Mansingh Stadium  \\\n",
       "0                               0   \n",
       "1                               0   \n",
       "2                               0   \n",
       "3                               0   \n",
       "4                               0   \n",
       "..                            ...   \n",
       "691                             0   \n",
       "692                             0   \n",
       "693                             0   \n",
       "694                             0   \n",
       "695                             0   \n",
       "\n",
       "     venue_Shaheed Veer Narayan Singh International Stadium  \\\n",
       "0                                                    0        \n",
       "1                                                    0        \n",
       "2                                                    0        \n",
       "3                                                    0        \n",
       "4                                                    0        \n",
       "..                                                 ...        \n",
       "691                                                  0        \n",
       "692                                                  0        \n",
       "693                                                  0        \n",
       "694                                                  0        \n",
       "695                                                  0        \n",
       "\n",
       "     venue_Sharjah Cricket Stadium  venue_Sheikh Zayed Stadium  \\\n",
       "0                                0                           0   \n",
       "1                                0                           0   \n",
       "2                                0                           0   \n",
       "3                                0                           0   \n",
       "4                                0                           0   \n",
       "..                             ...                         ...   \n",
       "691                              0                           0   \n",
       "692                              0                           0   \n",
       "693                              0                           0   \n",
       "694                              0                           0   \n",
       "695                              0                           0   \n",
       "\n",
       "     venue_St George's Park  venue_SuperSport Park  \\\n",
       "0                         0                      0   \n",
       "1                         0                      0   \n",
       "2                         0                      0   \n",
       "3                         0                      0   \n",
       "4                         0                      0   \n",
       "..                      ...                    ...   \n",
       "691                       0                      0   \n",
       "692                       0                      0   \n",
       "693                       0                      0   \n",
       "694                       0                      0   \n",
       "695                       0                      0   \n",
       "\n",
       "     venue_Vidarbha Cricket Association Stadium, Jamtha  \\\n",
       "0                                                    0    \n",
       "1                                                    0    \n",
       "2                                                    0    \n",
       "3                                                    0    \n",
       "4                                                    0    \n",
       "..                                                 ...    \n",
       "691                                                  0    \n",
       "692                                                  0    \n",
       "693                                                  0    \n",
       "694                                                  0    \n",
       "695                                                  0    \n",
       "\n",
       "     venue_Wankhede Stadium  \n",
       "0                         0  \n",
       "1                         0  \n",
       "2                         0  \n",
       "3                         0  \n",
       "4                         0  \n",
       "..                      ...  \n",
       "691                       0  \n",
       "692                       1  \n",
       "693                       0  \n",
       "694                       0  \n",
       "695                       1  \n",
       "\n",
       "[693 rows x 73 columns]"
      ]
     },
     "execution_count": 42,
     "metadata": {},
     "output_type": "execute_result"
    }
   ],
   "source": [
    "X"
   ]
  },
  {
   "cell_type": "code",
   "execution_count": 43,
   "metadata": {
    "ExecuteTime": {
     "end_time": "2020-09-19T12:42:54.732665Z",
     "start_time": "2020-09-19T12:42:54.721677Z"
    }
   },
   "outputs": [
    {
     "data": {
      "text/html": [
       "<div>\n",
       "<style scoped>\n",
       "    .dataframe tbody tr th:only-of-type {\n",
       "        vertical-align: middle;\n",
       "    }\n",
       "\n",
       "    .dataframe tbody tr th {\n",
       "        vertical-align: top;\n",
       "    }\n",
       "\n",
       "    .dataframe thead th {\n",
       "        text-align: right;\n",
       "    }\n",
       "</style>\n",
       "<table border=\"1\" class=\"dataframe\">\n",
       "  <thead>\n",
       "    <tr style=\"text-align: right;\">\n",
       "      <th></th>\n",
       "      <th>Result</th>\n",
       "    </tr>\n",
       "  </thead>\n",
       "  <tbody>\n",
       "    <tr>\n",
       "      <th>0</th>\n",
       "      <td>0</td>\n",
       "    </tr>\n",
       "    <tr>\n",
       "      <th>1</th>\n",
       "      <td>1</td>\n",
       "    </tr>\n",
       "    <tr>\n",
       "      <th>2</th>\n",
       "      <td>1</td>\n",
       "    </tr>\n",
       "    <tr>\n",
       "      <th>3</th>\n",
       "      <td>1</td>\n",
       "    </tr>\n",
       "    <tr>\n",
       "      <th>4</th>\n",
       "      <td>1</td>\n",
       "    </tr>\n",
       "    <tr>\n",
       "      <th>...</th>\n",
       "      <td>...</td>\n",
       "    </tr>\n",
       "    <tr>\n",
       "      <th>691</th>\n",
       "      <td>1</td>\n",
       "    </tr>\n",
       "    <tr>\n",
       "      <th>692</th>\n",
       "      <td>1</td>\n",
       "    </tr>\n",
       "    <tr>\n",
       "      <th>693</th>\n",
       "      <td>0</td>\n",
       "    </tr>\n",
       "    <tr>\n",
       "      <th>694</th>\n",
       "      <td>0</td>\n",
       "    </tr>\n",
       "    <tr>\n",
       "      <th>695</th>\n",
       "      <td>1</td>\n",
       "    </tr>\n",
       "  </tbody>\n",
       "</table>\n",
       "<p>693 rows × 1 columns</p>\n",
       "</div>"
      ],
      "text/plain": [
       "     Result\n",
       "0         0\n",
       "1         1\n",
       "2         1\n",
       "3         1\n",
       "4         1\n",
       "..      ...\n",
       "691       1\n",
       "692       1\n",
       "693       0\n",
       "694       0\n",
       "695       1\n",
       "\n",
       "[693 rows x 1 columns]"
      ]
     },
     "execution_count": 43,
     "metadata": {},
     "output_type": "execute_result"
    }
   ],
   "source": [
    "y"
   ]
  },
  {
   "cell_type": "code",
   "execution_count": 44,
   "metadata": {
    "ExecuteTime": {
     "end_time": "2020-09-19T12:42:55.389896Z",
     "start_time": "2020-09-19T12:42:54.735640Z"
    }
   },
   "outputs": [],
   "source": [
    "#Import train test split from sklearn library and split the datasets.\n",
    "from sklearn.model_selection import train_test_split\n",
    "\n",
    "X_train, X_cv, y_train, y_cv = train_test_split(X, y, test_size = 0.3)"
   ]
  },
  {
   "cell_type": "code",
   "execution_count": 45,
   "metadata": {
    "ExecuteTime": {
     "end_time": "2020-09-19T12:42:55.486629Z",
     "start_time": "2020-09-19T12:42:55.391886Z"
    }
   },
   "outputs": [
    {
     "name": "stderr",
     "output_type": "stream",
     "text": [
      "C:\\Users\\yashc\\AppData\\Local\\Continuum\\anaconda3\\lib\\site-packages\\sklearn\\utils\\validation.py:72: DataConversionWarning: A column-vector y was passed when a 1d array was expected. Please change the shape of y to (n_samples, ), for example using ravel().\n",
      "  return f(**kwargs)\n"
     ]
    },
    {
     "data": {
      "text/plain": [
       "0.5096153846153846"
      ]
     },
     "execution_count": 45,
     "metadata": {},
     "output_type": "execute_result"
    }
   ],
   "source": [
    "from sklearn.linear_model import LogisticRegression\n",
    "from sklearn.metrics import accuracy_score\n",
    "\n",
    "model = LogisticRegression()\n",
    "model.fit(X_train, y_train)\n",
    "\n",
    "pred_cv = model.predict(X_cv)\n",
    "\n",
    "accuracy_score(y_cv, pred_cv)"
   ]
  },
  {
   "cell_type": "markdown",
   "metadata": {},
   "source": [
    "Model gives accuracy of 59.69% on cv data."
   ]
  },
  {
   "cell_type": "code",
   "execution_count": 46,
   "metadata": {
    "ExecuteTime": {
     "end_time": "2020-09-19T12:42:55.496606Z",
     "start_time": "2020-09-19T12:42:55.489621Z"
    }
   },
   "outputs": [],
   "source": [
    "X_2019 = test.drop('Result', axis = 1)"
   ]
  },
  {
   "cell_type": "code",
   "execution_count": 47,
   "metadata": {
    "ExecuteTime": {
     "end_time": "2020-09-19T12:42:55.505579Z",
     "start_time": "2020-09-19T12:42:55.499609Z"
    }
   },
   "outputs": [],
   "source": [
    "y_2019 = test[['Result']]"
   ]
  },
  {
   "cell_type": "code",
   "execution_count": 48,
   "metadata": {
    "ExecuteTime": {
     "end_time": "2020-09-19T12:42:55.516552Z",
     "start_time": "2020-09-19T12:42:55.508574Z"
    }
   },
   "outputs": [],
   "source": [
    "pred_2019 = model.predict(X_2019)"
   ]
  },
  {
   "cell_type": "code",
   "execution_count": 49,
   "metadata": {
    "ExecuteTime": {
     "end_time": "2020-09-19T12:42:55.526531Z",
     "start_time": "2020-09-19T12:42:55.519543Z"
    }
   },
   "outputs": [
    {
     "data": {
      "text/plain": [
       "0.576271186440678"
      ]
     },
     "execution_count": 49,
     "metadata": {},
     "output_type": "execute_result"
    }
   ],
   "source": [
    "accuracy_score(y_2019, pred_2019)"
   ]
  },
  {
   "cell_type": "markdown",
   "metadata": {},
   "source": [
    "Our model gives correct prediction of winner 54.23% times for 2019 ipl matches"
   ]
  },
  {
   "cell_type": "markdown",
   "metadata": {},
   "source": [
    "### Decision Tree"
   ]
  },
  {
   "cell_type": "code",
   "execution_count": 50,
   "metadata": {
    "ExecuteTime": {
     "end_time": "2020-09-19T12:42:55.590352Z",
     "start_time": "2020-09-19T12:42:55.529516Z"
    }
   },
   "outputs": [],
   "source": [
    "from sklearn.tree import DecisionTreeClassifier\n",
    "from sklearn.tree import plot_tree\n",
    "from sklearn.model_selection import cross_val_score\n",
    "from sklearn.metrics import confusion_matrix"
   ]
  },
  {
   "cell_type": "code",
   "execution_count": 51,
   "metadata": {
    "ExecuteTime": {
     "end_time": "2020-09-19T12:42:55.596336Z",
     "start_time": "2020-09-19T12:42:55.592347Z"
    }
   },
   "outputs": [],
   "source": [
    "from sklearn.metrics import plot_confusion_matrix"
   ]
  },
  {
   "cell_type": "code",
   "execution_count": 52,
   "metadata": {
    "ExecuteTime": {
     "end_time": "2020-09-19T12:42:55.607308Z",
     "start_time": "2020-09-19T12:42:55.599328Z"
    }
   },
   "outputs": [],
   "source": [
    "X_train, X_cv, y_train, y_cv = train_test_split(X, y, test_size = 0.3)"
   ]
  },
  {
   "cell_type": "code",
   "execution_count": 53,
   "metadata": {
    "ExecuteTime": {
     "end_time": "2020-09-19T12:42:55.631242Z",
     "start_time": "2020-09-19T12:42:55.610299Z"
    }
   },
   "outputs": [],
   "source": [
    "clt_ipl = DecisionTreeClassifier()\n",
    "clt_ipl = clt_ipl.fit(X_train, y_train)"
   ]
  },
  {
   "cell_type": "code",
   "execution_count": 54,
   "metadata": {
    "ExecuteTime": {
     "end_time": "2020-09-19T12:43:17.791967Z",
     "start_time": "2020-09-19T12:42:55.633237Z"
    }
   },
   "outputs": [
    {
     "data": {
      "text/plain": [
       "[Text(700.3948974609375, 402.9593023255814, 'toss_winner_Pune Warriors <= 0.5\\ngini = 0.499\\nsamples = 485\\nvalue = [232, 253]\\nclass = Win'),\n",
       " Text(575.9865162333504, 393.4779069767442, 'toss_decision <= 0.5\\ngini = 0.498\\nsamples = 470\\nvalue = [219, 251]\\nclass = Win'),\n",
       " Text(378.55395107581967, 383.99651162790695, 'toss_winner_Chennai Super Kings <= 0.5\\ngini = 0.497\\nsamples = 189\\nvalue = [102, 87]\\nclass = Loose'),\n",
       " Text(336.3210169057377, 374.51511627906973, 'venue_Maharashtra Cricket Association Stadium <= 0.5\\ngini = 0.489\\nsamples = 153\\nvalue = [88, 65]\\nclass = Loose'),\n",
       " Text(324.12429559426226, 365.03372093023256, 'venue_Sheikh Zayed Stadium <= 0.5\\ngini = 0.483\\nsamples = 147\\nvalue = [87, 60]\\nclass = Loose'),\n",
       " Text(318.0259349385246, 355.55232558139534, 'team1_Mumbai Indians <= 0.5\\ngini = 0.48\\nsamples = 145\\nvalue = [87, 58]\\nclass = Loose'),\n",
       " Text(276.2485911885246, 346.0709302325581, 'venue_Himachal Pradesh Cricket Association Stadium <= 0.5\\ngini = 0.465\\nsamples = 117\\nvalue = [74, 43]\\nclass = Loose'),\n",
       " Text(270.15023053278685, 336.58953488372094, 'team1_Kings XI Punjab <= 0.5\\ngini = 0.462\\nsamples = 116\\nvalue = [74, 42]\\nclass = Loose'),\n",
       " Text(235.3824282786885, 327.1081395348837, 'team2_Chennai Super Kings <= 0.5\\ngini = 0.475\\nsamples = 98\\nvalue = [60, 38]\\nclass = Loose'),\n",
       " Text(208.53534836065572, 317.6267441860465, 'venue_Feroz Shah Kotla <= 0.5\\ngini = 0.485\\nsamples = 87\\nvalue = [51, 36]\\nclass = Loose'),\n",
       " Text(185.33299180327867, 308.1453488372093, 'toss_winner_Delhi Capitals <= 0.5\\ngini = 0.471\\nsamples = 71\\nvalue = [44, 27]\\nclass = Loose'),\n",
       " Text(179.23463114754097, 298.6639534883721, 'toss_winner_Rising Pune Supergiant <= 0.5\\ngini = 0.486\\nsamples = 65\\nvalue = [38, 27]\\nclass = Loose'),\n",
       " Text(173.13627049180326, 289.1825581395349, 'venue_SuperSport Park <= 0.5\\ngini = 0.49\\nsamples = 63\\nvalue = [36, 27]\\nclass = Loose'),\n",
       " Text(167.03790983606555, 279.70116279069765, 'venue_Barabati Stadium <= 0.5\\ngini = 0.487\\nsamples = 62\\nvalue = [36, 26]\\nclass = Loose'),\n",
       " Text(160.93954918032787, 270.2197674418604, 'toss_winner_Deccan Chargers <= 0.5\\ngini = 0.484\\nsamples = 61\\nvalue = [36, 25]\\nclass = Loose'),\n",
       " Text(132.82991803278688, 260.73837209302326, 'team1_Royal Challengers Bangalore <= 0.5\\ngini = 0.493\\nsamples = 52\\nvalue = [29, 23]\\nclass = Loose'),\n",
       " Text(107.10245901639344, 251.25697674418603, 'team2_Mumbai Indians <= 0.5\\ngini = 0.5\\nsamples = 41\\nvalue = [21, 20]\\nclass = Loose'),\n",
       " Text(86.13934426229508, 241.77558139534884, 'venue_Kingsmead <= 0.5\\ngini = 0.496\\nsamples = 33\\nvalue = [15, 18]\\nclass = Win'),\n",
       " Text(80.04098360655738, 232.2941860465116, 'team2_Kolkata Knight Riders <= 0.5\\ngini = 0.487\\nsamples = 31\\nvalue = [13, 18]\\nclass = Win'),\n",
       " Text(56.40983606557377, 222.81279069767442, 'venue_Eden Gardens <= 0.5\\ngini = 0.461\\nsamples = 25\\nvalue = [9, 16]\\nclass = Win'),\n",
       " Text(39.63934426229508, 213.33139534883722, 'team1_Kolkata Knight Riders <= 0.5\\ngini = 0.494\\nsamples = 18\\nvalue = [8, 10]\\nclass = Win'),\n",
       " Text(24.39344262295082, 203.85, 'venue_Sawai Mansingh Stadium <= 0.5\\ngini = 0.375\\nsamples = 12\\nvalue = [3, 9]\\nclass = Win'),\n",
       " Text(12.19672131147541, 194.3686046511628, 'team2_Royal Challengers Bangalore <= 0.5\\ngini = 0.219\\nsamples = 8\\nvalue = [1, 7]\\nclass = Win'),\n",
       " Text(6.098360655737705, 184.88720930232557, 'gini = 0.0\\nsamples = 5\\nvalue = [0, 5]\\nclass = Win'),\n",
       " Text(18.295081967213115, 184.88720930232557, 'toss_winner_Rajasthan Royals <= 0.5\\ngini = 0.444\\nsamples = 3\\nvalue = [1, 2]\\nclass = Win'),\n",
       " Text(12.19672131147541, 175.40581395348838, 'gini = 0.5\\nsamples = 2\\nvalue = [1, 1]\\nclass = Loose'),\n",
       " Text(24.39344262295082, 175.40581395348838, 'gini = 0.0\\nsamples = 1\\nvalue = [0, 1]\\nclass = Win'),\n",
       " Text(36.59016393442623, 194.3686046511628, 'team1_Rajasthan Royals <= 0.5\\ngini = 0.5\\nsamples = 4\\nvalue = [2, 2]\\nclass = Loose'),\n",
       " Text(30.491803278688522, 184.88720930232557, 'gini = 0.5\\nsamples = 2\\nvalue = [1, 1]\\nclass = Loose'),\n",
       " Text(42.68852459016393, 184.88720930232557, 'gini = 0.5\\nsamples = 2\\nvalue = [1, 1]\\nclass = Loose'),\n",
       " Text(54.885245901639344, 203.85, 'venue_Rajiv Gandhi International Stadium, Uppal <= 0.5\\ngini = 0.278\\nsamples = 6\\nvalue = [5, 1]\\nclass = Loose'),\n",
       " Text(48.78688524590164, 194.3686046511628, 'gini = 0.0\\nsamples = 4\\nvalue = [4, 0]\\nclass = Loose'),\n",
       " Text(60.983606557377044, 194.3686046511628, 'team2_Sunrisers Hyderabad <= 0.5\\ngini = 0.5\\nsamples = 2\\nvalue = [1, 1]\\nclass = Loose'),\n",
       " Text(54.885245901639344, 184.88720930232557, 'gini = 0.0\\nsamples = 1\\nvalue = [0, 1]\\nclass = Win'),\n",
       " Text(67.08196721311475, 184.88720930232557, 'gini = 0.0\\nsamples = 1\\nvalue = [1, 0]\\nclass = Loose'),\n",
       " Text(73.18032786885246, 213.33139534883722, 'team2_Kings XI Punjab <= 0.5\\ngini = 0.245\\nsamples = 7\\nvalue = [1, 6]\\nclass = Win'),\n",
       " Text(67.08196721311475, 203.85, 'gini = 0.0\\nsamples = 6\\nvalue = [0, 6]\\nclass = Win'),\n",
       " Text(79.27868852459017, 203.85, 'gini = 0.0\\nsamples = 1\\nvalue = [1, 0]\\nclass = Loose'),\n",
       " Text(103.67213114754098, 222.81279069767442, 'venue_Eden Gardens <= 0.5\\ngini = 0.444\\nsamples = 6\\nvalue = [4, 2]\\nclass = Loose'),\n",
       " Text(97.57377049180327, 213.33139534883722, 'venue_Rajiv Gandhi International Stadium, Uppal <= 0.5\\ngini = 0.444\\nsamples = 3\\nvalue = [1, 2]\\nclass = Win'),\n",
       " Text(91.47540983606557, 203.85, 'gini = 0.0\\nsamples = 2\\nvalue = [0, 2]\\nclass = Win'),\n",
       " Text(103.67213114754098, 203.85, 'gini = 0.0\\nsamples = 1\\nvalue = [1, 0]\\nclass = Loose'),\n",
       " Text(109.77049180327869, 213.33139534883722, 'gini = 0.0\\nsamples = 3\\nvalue = [3, 0]\\nclass = Loose'),\n",
       " Text(92.23770491803278, 232.2941860465116, 'gini = 0.0\\nsamples = 2\\nvalue = [2, 0]\\nclass = Loose'),\n",
       " Text(128.0655737704918, 241.77558139534884, 'venue_Kingsmead <= 0.5\\ngini = 0.375\\nsamples = 8\\nvalue = [6, 2]\\nclass = Loose'),\n",
       " Text(121.96721311475409, 232.2941860465116, 'venue_Sawai Mansingh Stadium <= 0.5\\ngini = 0.245\\nsamples = 7\\nvalue = [6, 1]\\nclass = Loose'),\n",
       " Text(115.86885245901638, 222.81279069767442, 'gini = 0.0\\nsamples = 5\\nvalue = [5, 0]\\nclass = Loose'),\n",
       " Text(128.0655737704918, 222.81279069767442, 'gini = 0.5\\nsamples = 2\\nvalue = [1, 1]\\nclass = Loose'),\n",
       " Text(134.1639344262295, 232.2941860465116, 'gini = 0.0\\nsamples = 1\\nvalue = [0, 1]\\nclass = Win'),\n",
       " Text(158.55737704918033, 251.25697674418603, 'team2_Delhi Capitals <= 0.5\\ngini = 0.397\\nsamples = 11\\nvalue = [8, 3]\\nclass = Loose'),\n",
       " Text(152.45901639344262, 241.77558139534884, 'team2_Mumbai Indians <= 0.5\\ngini = 0.32\\nsamples = 10\\nvalue = [8, 2]\\nclass = Loose'),\n",
       " Text(146.36065573770492, 232.2941860465116, 'venue_Kingsmead <= 0.5\\ngini = 0.219\\nsamples = 8\\nvalue = [7, 1]\\nclass = Loose'),\n",
       " Text(140.2622950819672, 222.81279069767442, 'gini = 0.0\\nsamples = 6\\nvalue = [6, 0]\\nclass = Loose'),\n",
       " Text(152.45901639344262, 222.81279069767442, 'gini = 0.5\\nsamples = 2\\nvalue = [1, 1]\\nclass = Loose'),\n",
       " Text(158.55737704918033, 232.2941860465116, 'gini = 0.5\\nsamples = 2\\nvalue = [1, 1]\\nclass = Loose'),\n",
       " Text(164.655737704918, 241.77558139534884, 'gini = 0.0\\nsamples = 1\\nvalue = [0, 1]\\nclass = Win'),\n",
       " Text(189.04918032786884, 260.73837209302326, 'venue_Wankhede Stadium <= 0.5\\ngini = 0.346\\nsamples = 9\\nvalue = [7, 2]\\nclass = Loose'),\n",
       " Text(182.95081967213113, 251.25697674418603, 'venue_De Beers Diamond Oval <= 0.5\\ngini = 0.219\\nsamples = 8\\nvalue = [7, 1]\\nclass = Loose'),\n",
       " Text(176.85245901639342, 241.77558139534884, 'gini = 0.0\\nsamples = 7\\nvalue = [7, 0]\\nclass = Loose'),\n",
       " Text(189.04918032786884, 241.77558139534884, 'gini = 0.0\\nsamples = 1\\nvalue = [0, 1]\\nclass = Win'),\n",
       " Text(195.14754098360655, 251.25697674418603, 'gini = 0.0\\nsamples = 1\\nvalue = [0, 1]\\nclass = Win'),\n",
       " Text(173.13627049180326, 270.2197674418604, 'gini = 0.0\\nsamples = 1\\nvalue = [0, 1]\\nclass = Win'),\n",
       " Text(179.23463114754097, 279.70116279069765, 'gini = 0.0\\nsamples = 1\\nvalue = [0, 1]\\nclass = Win'),\n",
       " Text(185.33299180327867, 289.1825581395349, 'gini = 0.0\\nsamples = 2\\nvalue = [2, 0]\\nclass = Loose'),\n",
       " Text(191.43135245901638, 298.6639534883721, 'gini = 0.0\\nsamples = 6\\nvalue = [6, 0]\\nclass = Loose'),\n",
       " Text(231.73770491803276, 308.1453488372093, 'team2_Sunrisers Hyderabad <= 0.5\\ngini = 0.492\\nsamples = 16\\nvalue = [7, 9]\\nclass = Win'),\n",
       " Text(225.63934426229508, 298.6639534883721, 'team1_Sunrisers Hyderabad <= 0.5\\ngini = 0.48\\nsamples = 15\\nvalue = [6, 9]\\nclass = Win'),\n",
       " Text(219.54098360655738, 289.1825581395349, 'team2_Kings XI Punjab <= 0.5\\ngini = 0.459\\nsamples = 14\\nvalue = [5, 9]\\nclass = Win'),\n",
       " Text(213.44262295081967, 279.70116279069765, 'team2_Kolkata Knight Riders <= 0.5\\ngini = 0.397\\nsamples = 11\\nvalue = [3, 8]\\nclass = Win'),\n",
       " Text(207.34426229508196, 270.2197674418604, 'toss_winner_Deccan Chargers <= 0.5\\ngini = 0.219\\nsamples = 8\\nvalue = [1, 7]\\nclass = Win'),\n",
       " Text(201.24590163934425, 260.73837209302326, 'gini = 0.0\\nsamples = 5\\nvalue = [0, 5]\\nclass = Win'),\n",
       " Text(213.44262295081967, 260.73837209302326, 'gini = 0.444\\nsamples = 3\\nvalue = [1, 2]\\nclass = Win'),\n",
       " Text(219.54098360655738, 270.2197674418604, 'gini = 0.444\\nsamples = 3\\nvalue = [2, 1]\\nclass = Loose'),\n",
       " Text(225.63934426229508, 279.70116279069765, 'gini = 0.444\\nsamples = 3\\nvalue = [2, 1]\\nclass = Loose'),\n",
       " Text(231.73770491803276, 289.1825581395349, 'gini = 0.0\\nsamples = 1\\nvalue = [1, 0]\\nclass = Loose'),\n",
       " Text(237.83606557377047, 298.6639534883721, 'gini = 0.0\\nsamples = 1\\nvalue = [1, 0]\\nclass = Loose'),\n",
       " Text(262.22950819672127, 317.6267441860465, 'toss_winner_Royal Challengers Bangalore <= 0.5\\ngini = 0.298\\nsamples = 11\\nvalue = [9, 2]\\nclass = Loose'),\n",
       " Text(256.1311475409836, 308.1453488372093, 'team1_Rajasthan Royals <= 0.5\\ngini = 0.198\\nsamples = 9\\nvalue = [8, 1]\\nclass = Loose'),\n",
       " Text(250.03278688524588, 298.6639534883721, 'gini = 0.0\\nsamples = 5\\nvalue = [5, 0]\\nclass = Loose'),\n",
       " Text(262.22950819672127, 298.6639534883721, 'venue_MA Chidambaram Stadium, Chepauk <= 0.5\\ngini = 0.375\\nsamples = 4\\nvalue = [3, 1]\\nclass = Loose'),\n",
       " Text(256.1311475409836, 289.1825581395349, 'gini = 0.0\\nsamples = 2\\nvalue = [2, 0]\\nclass = Loose'),\n",
       " Text(268.327868852459, 289.1825581395349, 'gini = 0.5\\nsamples = 2\\nvalue = [1, 1]\\nclass = Loose'),\n",
       " Text(268.327868852459, 308.1453488372093, 'gini = 0.5\\nsamples = 2\\nvalue = [1, 1]\\nclass = Loose'),\n",
       " Text(304.91803278688525, 327.1081395348837, 'venue_MA Chidambaram Stadium, Chepauk <= 0.5\\ngini = 0.346\\nsamples = 18\\nvalue = [14, 4]\\nclass = Loose'),\n",
       " Text(298.8196721311475, 317.6267441860465, 'venue_Kingsmead <= 0.5\\ngini = 0.291\\nsamples = 17\\nvalue = [14, 3]\\nclass = Loose'),\n",
       " Text(292.72131147540983, 308.1453488372093, 'venue_Newlands <= 0.5\\ngini = 0.219\\nsamples = 16\\nvalue = [14, 2]\\nclass = Loose'),\n",
       " Text(286.6229508196721, 298.6639534883721, 'team2_Kolkata Knight Riders <= 0.5\\ngini = 0.124\\nsamples = 15\\nvalue = [14, 1]\\nclass = Loose'),\n",
       " Text(280.5245901639344, 289.1825581395349, 'gini = 0.0\\nsamples = 11\\nvalue = [11, 0]\\nclass = Loose'),\n",
       " Text(292.72131147540983, 289.1825581395349, 'venue_Punjab Cricket Association IS Bindra Stadium, Mohali <= 0.5\\ngini = 0.375\\nsamples = 4\\nvalue = [3, 1]\\nclass = Loose'),\n",
       " Text(286.6229508196721, 279.70116279069765, 'gini = 0.0\\nsamples = 2\\nvalue = [2, 0]\\nclass = Loose'),\n",
       " Text(298.8196721311475, 279.70116279069765, 'gini = 0.5\\nsamples = 2\\nvalue = [1, 1]\\nclass = Loose'),\n",
       " Text(298.8196721311475, 298.6639534883721, 'gini = 0.0\\nsamples = 1\\nvalue = [0, 1]\\nclass = Win'),\n",
       " Text(304.91803278688525, 308.1453488372093, 'gini = 0.0\\nsamples = 1\\nvalue = [0, 1]\\nclass = Win'),\n",
       " Text(311.0163934426229, 317.6267441860465, 'gini = 0.0\\nsamples = 1\\nvalue = [0, 1]\\nclass = Win'),\n",
       " Text(282.34695184426226, 336.58953488372094, 'gini = 0.0\\nsamples = 1\\nvalue = [0, 1]\\nclass = Win'),\n",
       " Text(359.8032786885246, 346.0709302325581, 'team2_Kings XI Punjab <= 0.5\\ngini = 0.497\\nsamples = 28\\nvalue = [13, 15]\\nclass = Win'),\n",
       " Text(353.70491803278685, 336.58953488372094, 'venue_Brabourne Stadium <= 0.5\\ngini = 0.48\\nsamples = 25\\nvalue = [10, 15]\\nclass = Win'),\n",
       " Text(347.60655737704917, 327.1081395348837, 'team2_Rajasthan Royals <= 0.5\\ngini = 0.496\\nsamples = 22\\nvalue = [10, 12]\\nclass = Win'),\n",
       " Text(341.50819672131144, 317.6267441860465, 'venue_Feroz Shah Kotla <= 0.5\\ngini = 0.48\\nsamples = 20\\nvalue = [8, 12]\\nclass = Win'),\n",
       " Text(335.40983606557376, 308.1453488372093, 'venue_Dubai International Cricket Stadium <= 0.5\\ngini = 0.465\\nsamples = 19\\nvalue = [7, 12]\\nclass = Win'),\n",
       " Text(329.311475409836, 298.6639534883721, 'team2_Kolkata Knight Riders <= 0.5\\ngini = 0.444\\nsamples = 18\\nvalue = [6, 12]\\nclass = Win'),\n",
       " Text(317.11475409836066, 289.1825581395349, 'venue_Eden Gardens <= 0.5\\ngini = 0.473\\nsamples = 13\\nvalue = [5, 8]\\nclass = Win'),\n",
       " Text(311.0163934426229, 279.70116279069765, 'venue_MA Chidambaram Stadium, Chepauk <= 0.5\\ngini = 0.486\\nsamples = 12\\nvalue = [5, 7]\\nclass = Win'),\n",
       " Text(304.91803278688525, 270.2197674418604, 'team2_Royal Challengers Bangalore <= 0.5\\ngini = 0.496\\nsamples = 11\\nvalue = [5, 6]\\nclass = Win'),\n",
       " Text(292.72131147540983, 260.73837209302326, \"venue_St George's Park <= 0.5\\ngini = 0.5\\nsamples = 8\\nvalue = [4, 4]\\nclass = Loose\"),\n",
       " Text(286.6229508196721, 251.25697674418603, 'team2_Chennai Super Kings <= 0.5\\ngini = 0.49\\nsamples = 7\\nvalue = [3, 4]\\nclass = Win'),\n",
       " Text(280.5245901639344, 241.77558139534884, 'team2_Sunrisers Hyderabad <= 0.5\\ngini = 0.5\\nsamples = 4\\nvalue = [2, 2]\\nclass = Loose'),\n",
       " Text(268.327868852459, 232.2941860465116, 'venue_Rajiv Gandhi International Stadium, Uppal <= 0.5\\ngini = 0.5\\nsamples = 2\\nvalue = [1, 1]\\nclass = Loose'),\n",
       " Text(262.22950819672127, 222.81279069767442, 'gini = 0.0\\nsamples = 1\\nvalue = [1, 0]\\nclass = Loose'),\n",
       " Text(274.4262295081967, 222.81279069767442, 'gini = 0.0\\nsamples = 1\\nvalue = [0, 1]\\nclass = Win'),\n",
       " Text(292.72131147540983, 232.2941860465116, 'venue_Wankhede Stadium <= 0.5\\ngini = 0.5\\nsamples = 2\\nvalue = [1, 1]\\nclass = Loose'),\n",
       " Text(286.6229508196721, 222.81279069767442, 'gini = 0.0\\nsamples = 1\\nvalue = [1, 0]\\nclass = Loose'),\n",
       " Text(298.8196721311475, 222.81279069767442, 'gini = 0.0\\nsamples = 1\\nvalue = [0, 1]\\nclass = Win'),\n",
       " Text(292.72131147540983, 241.77558139534884, 'gini = 0.444\\nsamples = 3\\nvalue = [1, 2]\\nclass = Win'),\n",
       " Text(298.8196721311475, 251.25697674418603, 'gini = 0.0\\nsamples = 1\\nvalue = [1, 0]\\nclass = Loose'),\n",
       " Text(317.11475409836066, 260.73837209302326, \"venue_St George's Park <= 0.5\\ngini = 0.444\\nsamples = 3\\nvalue = [1, 2]\\nclass = Win\"),\n",
       " Text(311.0163934426229, 251.25697674418603, 'gini = 0.5\\nsamples = 2\\nvalue = [1, 1]\\nclass = Loose'),\n",
       " Text(323.21311475409834, 251.25697674418603, 'gini = 0.0\\nsamples = 1\\nvalue = [0, 1]\\nclass = Win'),\n",
       " Text(317.11475409836066, 270.2197674418604, 'gini = 0.0\\nsamples = 1\\nvalue = [0, 1]\\nclass = Win'),\n",
       " Text(323.21311475409834, 279.70116279069765, 'gini = 0.0\\nsamples = 1\\nvalue = [0, 1]\\nclass = Win'),\n",
       " Text(341.50819672131144, 289.1825581395349, 'venue_Eden Gardens <= 0.5\\ngini = 0.32\\nsamples = 5\\nvalue = [1, 4]\\nclass = Win'),\n",
       " Text(335.40983606557376, 279.70116279069765, 'gini = 0.0\\nsamples = 3\\nvalue = [0, 3]\\nclass = Win'),\n",
       " Text(347.60655737704917, 279.70116279069765, 'gini = 0.5\\nsamples = 2\\nvalue = [1, 1]\\nclass = Loose'),\n",
       " Text(341.50819672131144, 298.6639534883721, 'gini = 0.0\\nsamples = 1\\nvalue = [1, 0]\\nclass = Loose'),\n",
       " Text(347.60655737704917, 308.1453488372093, 'gini = 0.0\\nsamples = 1\\nvalue = [1, 0]\\nclass = Loose'),\n",
       " Text(353.70491803278685, 317.6267441860465, 'gini = 0.0\\nsamples = 2\\nvalue = [2, 0]\\nclass = Loose'),\n",
       " Text(359.8032786885246, 327.1081395348837, 'gini = 0.0\\nsamples = 3\\nvalue = [0, 3]\\nclass = Win'),\n",
       " Text(365.90163934426226, 336.58953488372094, 'gini = 0.0\\nsamples = 3\\nvalue = [3, 0]\\nclass = Loose'),\n",
       " Text(330.22265625, 355.55232558139534, 'gini = 0.0\\nsamples = 2\\nvalue = [0, 2]\\nclass = Win'),\n",
       " Text(348.5177382172131, 365.03372093023256, 'toss_winner_Kings XI Punjab <= 0.5\\ngini = 0.278\\nsamples = 6\\nvalue = [1, 5]\\nclass = Win'),\n",
       " Text(342.4193775614754, 355.55232558139534, 'gini = 0.0\\nsamples = 5\\nvalue = [0, 5]\\nclass = Win'),\n",
       " Text(354.6160988729508, 355.55232558139534, 'gini = 0.0\\nsamples = 1\\nvalue = [1, 0]\\nclass = Loose'),\n",
       " Text(420.7868852459016, 374.51511627906973, 'venue_Sawai Mansingh Stadium <= 0.5\\ngini = 0.475\\nsamples = 36\\nvalue = [14, 22]\\nclass = Win'),\n",
       " Text(414.6885245901639, 365.03372093023256, 'venue_Vidarbha Cricket Association Stadium, Jamtha <= 0.5\\ngini = 0.457\\nsamples = 34\\nvalue = [12, 22]\\nclass = Win'),\n",
       " Text(408.5901639344262, 355.55232558139534, 'team2_Deccan Chargers <= 0.5\\ngini = 0.444\\nsamples = 33\\nvalue = [11, 22]\\nclass = Win'),\n",
       " Text(402.4918032786885, 346.0709302325581, 'venue_Sheikh Zayed Stadium <= 0.5\\ngini = 0.471\\nsamples = 29\\nvalue = [11, 18]\\nclass = Win'),\n",
       " Text(396.3934426229508, 336.58953488372094, 'team2_Kings XI Punjab <= 0.5\\ngini = 0.459\\nsamples = 28\\nvalue = [10, 18]\\nclass = Win'),\n",
       " Text(390.2950819672131, 327.1081395348837, 'venue_SuperSport Park <= 0.5\\ngini = 0.486\\nsamples = 24\\nvalue = [10, 14]\\nclass = Win'),\n",
       " Text(384.1967213114754, 317.6267441860465, 'venue_Sardar Patel Stadium, Motera <= 0.5\\ngini = 0.476\\nsamples = 23\\nvalue = [9, 14]\\nclass = Win'),\n",
       " Text(378.0983606557377, 308.1453488372093, 'venue_Kingsmead <= 0.5\\ngini = 0.463\\nsamples = 22\\nvalue = [8, 14]\\nclass = Win'),\n",
       " Text(372.0, 298.6639534883721, 'team2_Royal Challengers Bangalore <= 0.5\\ngini = 0.444\\nsamples = 21\\nvalue = [7, 14]\\nclass = Win'),\n",
       " Text(365.90163934426226, 289.1825581395349, 'venue_Shaheed Veer Narayan Singh International Stadium <= 0.5\\ngini = 0.484\\nsamples = 17\\nvalue = [7, 10]\\nclass = Win'),\n",
       " Text(359.8032786885246, 279.70116279069765, 'venue_MA Chidambaram Stadium, Chepauk <= 0.5\\ngini = 0.469\\nsamples = 16\\nvalue = [6, 10]\\nclass = Win'),\n",
       " Text(347.60655737704917, 270.2197674418604, 'venue_Eden Gardens <= 0.5\\ngini = 0.32\\nsamples = 5\\nvalue = [1, 4]\\nclass = Win'),\n",
       " Text(341.50819672131144, 260.73837209302326, 'gini = 0.0\\nsamples = 3\\nvalue = [0, 3]\\nclass = Win'),\n",
       " Text(353.70491803278685, 260.73837209302326, 'gini = 0.5\\nsamples = 2\\nvalue = [1, 1]\\nclass = Loose'),\n",
       " Text(372.0, 270.2197674418604, 'team2_Kochi Tuskers Kerala <= 0.5\\ngini = 0.496\\nsamples = 11\\nvalue = [5, 6]\\nclass = Win'),\n",
       " Text(365.90163934426226, 260.73837209302326, 'team2_Rajasthan Royals <= 0.5\\ngini = 0.5\\nsamples = 10\\nvalue = [5, 5]\\nclass = Loose'),\n",
       " Text(359.8032786885246, 251.25697674418603, 'team2_Kolkata Knight Riders <= 0.5\\ngini = 0.494\\nsamples = 9\\nvalue = [5, 4]\\nclass = Loose'),\n",
       " Text(353.70491803278685, 241.77558139534884, 'team2_Mumbai Indians <= 0.5\\ngini = 0.5\\nsamples = 6\\nvalue = [3, 3]\\nclass = Loose'),\n",
       " Text(347.60655737704917, 232.2941860465116, 'gini = 0.5\\nsamples = 4\\nvalue = [2, 2]\\nclass = Loose'),\n",
       " Text(359.8032786885246, 232.2941860465116, 'gini = 0.5\\nsamples = 2\\nvalue = [1, 1]\\nclass = Loose'),\n",
       " Text(365.90163934426226, 241.77558139534884, 'gini = 0.444\\nsamples = 3\\nvalue = [2, 1]\\nclass = Loose'),\n",
       " Text(372.0, 251.25697674418603, 'gini = 0.0\\nsamples = 1\\nvalue = [0, 1]\\nclass = Win'),\n",
       " Text(378.0983606557377, 260.73837209302326, 'gini = 0.0\\nsamples = 1\\nvalue = [0, 1]\\nclass = Win'),\n",
       " Text(372.0, 279.70116279069765, 'gini = 0.0\\nsamples = 1\\nvalue = [1, 0]\\nclass = Loose'),\n",
       " Text(378.0983606557377, 289.1825581395349, 'gini = 0.0\\nsamples = 4\\nvalue = [0, 4]\\nclass = Win'),\n",
       " Text(384.1967213114754, 298.6639534883721, 'gini = 0.0\\nsamples = 1\\nvalue = [1, 0]\\nclass = Loose'),\n",
       " Text(390.2950819672131, 308.1453488372093, 'gini = 0.0\\nsamples = 1\\nvalue = [1, 0]\\nclass = Loose'),\n",
       " Text(396.3934426229508, 317.6267441860465, 'gini = 0.0\\nsamples = 1\\nvalue = [1, 0]\\nclass = Loose'),\n",
       " Text(402.4918032786885, 327.1081395348837, 'gini = 0.0\\nsamples = 4\\nvalue = [0, 4]\\nclass = Win'),\n",
       " Text(408.5901639344262, 336.58953488372094, 'gini = 0.0\\nsamples = 1\\nvalue = [1, 0]\\nclass = Loose'),\n",
       " Text(414.6885245901639, 346.0709302325581, 'gini = 0.0\\nsamples = 4\\nvalue = [0, 4]\\nclass = Win'),\n",
       " Text(420.7868852459016, 355.55232558139534, 'gini = 0.0\\nsamples = 1\\nvalue = [1, 0]\\nclass = Loose'),\n",
       " Text(426.88524590163934, 365.03372093023256, 'gini = 0.0\\nsamples = 2\\nvalue = [2, 0]\\nclass = Loose'),\n",
       " Text(773.4190813908812, 383.99651162790695, 'venue_Feroz Shah Kotla <= 0.5\\ngini = 0.486\\nsamples = 281\\nvalue = [117, 164]\\nclass = Win'),\n",
       " Text(746.4283267161885, 374.51511627906973, 'team1_Gujarat Lions <= 0.5\\ngini = 0.478\\nsamples = 261\\nvalue = [103, 158]\\nclass = Win'),\n",
       " Text(740.3299660604508, 365.03372093023256, 'team2_Gujarat Lions <= 0.5\\ngini = 0.483\\nsamples = 253\\nvalue = [103, 150]\\nclass = Win'),\n",
       " Text(716.840259989754, 355.55232558139534, 'team1_Delhi Capitals <= 0.5\\ngini = 0.488\\nsamples = 242\\nvalue = [102, 140]\\nclass = Win'),\n",
       " Text(688.1559298155737, 346.0709302325581, 'team2_Chennai Super Kings <= 0.5\\ngini = 0.492\\nsamples = 232\\nvalue = [101, 131]\\nclass = Win'),\n",
       " Text(649.0823514344262, 336.58953488372094, 'venue_Holkar Cricket Stadium <= 0.5\\ngini = 0.496\\nsamples = 209\\nvalue = [95, 114]\\nclass = Win'),\n",
       " Text(613.623719262295, 327.1081395348837, 'venue_Eden Gardens <= 0.5\\ngini = 0.498\\nsamples = 202\\nvalue = [94, 108]\\nclass = Win'),\n",
       " Text(561.0015368852459, 317.6267441860465, 'venue_Nehru Stadium <= 0.5\\ngini = 0.5\\nsamples = 177\\nvalue = [86, 91]\\nclass = Win'),\n",
       " Text(554.9031762295082, 308.1453488372093, 'team1_Kings XI Punjab <= 0.5\\ngini = 0.499\\nsamples = 175\\nvalue = [84, 91]\\nclass = Win'),\n",
       " Text(507.593237704918, 298.6639534883721, 'toss_winner_Rajasthan Royals <= 0.5\\ngini = 0.496\\nsamples = 149\\nvalue = [68, 81]\\nclass = Win'),\n",
       " Text(477.0061475409836, 289.1825581395349, 'venue_Dr. Y.S. Rajasekhara Reddy ACA-VDCA Cricket Stadium <= 0.5\\ngini = 0.499\\nsamples = 129\\nvalue = [62, 67]\\nclass = Win'),\n",
       " Text(470.90778688524586, 279.70116279069765, 'venue_MA Chidambaram Stadium, Chepauk <= 0.5\\ngini = 0.498\\nsamples = 127\\nvalue = [60, 67]\\nclass = Win'),\n",
       " Text(440.2254098360655, 270.2197674418604, 'venue_Rajiv Gandhi International Stadium, Uppal <= 0.5\\ngini = 0.497\\nsamples = 120\\nvalue = [55, 65]\\nclass = Win'),\n",
       " Text(409.3524590163934, 260.73837209302326, 'team2_Kings XI Punjab <= 0.5\\ngini = 0.491\\nsamples = 102\\nvalue = [44, 58]\\nclass = Win'),\n",
       " Text(384.1967213114754, 251.25697674418603, 'venue_Sharjah Cricket Stadium <= 0.5\\ngini = 0.479\\nsamples = 83\\nvalue = [33, 50]\\nclass = Win'),\n",
       " Text(378.0983606557377, 241.77558139534884, 'venue_Vidarbha Cricket Association Stadium, Jamtha <= 0.5\\ngini = 0.476\\nsamples = 82\\nvalue = [32, 50]\\nclass = Win'),\n",
       " Text(372.0, 232.2941860465116, 'venue_Newlands <= 0.5\\ngini = 0.472\\nsamples = 81\\nvalue = [31, 50]\\nclass = Win'),\n",
       " Text(365.90163934426226, 222.81279069767442, 'venue_Maharashtra Cricket Association Stadium <= 0.5\\ngini = 0.469\\nsamples = 80\\nvalue = [30, 50]\\nclass = Win'),\n",
       " Text(346.08196721311475, 213.33139534883722, 'team1_Kolkata Knight Riders <= 0.5\\ngini = 0.477\\nsamples = 74\\nvalue = [29, 45]\\nclass = Win'),\n",
       " Text(324.73770491803276, 203.85, 'venue_New Wanderers Stadium <= 0.5\\ngini = 0.487\\nsamples = 62\\nvalue = [26, 36]\\nclass = Win'),\n",
       " Text(318.6393442622951, 194.3686046511628, 'team1_Pune Warriors <= 0.5\\ngini = 0.484\\nsamples = 61\\nvalue = [25, 36]\\nclass = Win'),\n",
       " Text(306.44262295081967, 184.88720930232557, 'venue_JSCA International Stadium Complex <= 0.5\\ngini = 0.479\\nsamples = 58\\nvalue = [23, 35]\\nclass = Win'),\n",
       " Text(300.34426229508193, 175.40581395348838, 'team2_Sunrisers Hyderabad <= 0.5\\ngini = 0.484\\nsamples = 56\\nvalue = [23, 33]\\nclass = Win'),\n",
       " Text(294.24590163934425, 165.92441860465115, 'venue_Sardar Patel Stadium, Motera <= 0.5\\ngini = 0.478\\nsamples = 53\\nvalue = [21, 32]\\nclass = Win'),\n",
       " Text(282.04918032786884, 156.44302325581396, 'venue_Kingsmead <= 0.5\\ngini = 0.471\\nsamples = 50\\nvalue = [19, 31]\\nclass = Win'),\n",
       " Text(275.95081967213116, 146.96162790697673, 'team2_Kochi Tuskers Kerala <= 0.5\\ngini = 0.475\\nsamples = 49\\nvalue = [19, 30]\\nclass = Win'),\n",
       " Text(269.8524590163934, 137.48023255813956, 'team1_Deccan Chargers <= 0.5\\ngini = 0.478\\nsamples = 48\\nvalue = [19, 29]\\nclass = Win'),\n",
       " Text(263.75409836065575, 127.99883720930234, 'team1_Royal Challengers Bangalore <= 0.5\\ngini = 0.482\\nsamples = 47\\nvalue = [19, 28]\\nclass = Win'),\n",
       " Text(251.5573770491803, 118.51744186046511, 'team2_Deccan Chargers <= 0.5\\ngini = 0.493\\nsamples = 34\\nvalue = [15, 19]\\nclass = Win'),\n",
       " Text(245.4590163934426, 109.03604651162789, 'venue_Barabati Stadium <= 0.5\\ngini = 0.496\\nsamples = 33\\nvalue = [15, 18]\\nclass = Win'),\n",
       " Text(239.36065573770492, 99.55465116279072, 'venue_Shaheed Veer Narayan Singh International Stadium <= 0.5\\ngini = 0.498\\nsamples = 32\\nvalue = [15, 17]\\nclass = Win'),\n",
       " Text(233.2622950819672, 90.0732558139535, 'toss_winner_Delhi Capitals <= 0.5\\ngini = 0.499\\nsamples = 31\\nvalue = [15, 16]\\nclass = Win'),\n",
       " Text(216.4918032786885, 80.59186046511627, 'team1_Rajasthan Royals <= 0.5\\ngini = 0.493\\nsamples = 25\\nvalue = [11, 14]\\nclass = Win'),\n",
       " Text(201.24590163934425, 71.11046511627904, 'venue_Brabourne Stadium <= 0.5\\ngini = 0.498\\nsamples = 17\\nvalue = [9, 8]\\nclass = Loose'),\n",
       " Text(195.14754098360655, 61.62906976744188, 'toss_winner_Royal Challengers Bangalore <= 0.5\\ngini = 0.492\\nsamples = 16\\nvalue = [9, 7]\\nclass = Loose'),\n",
       " Text(182.95081967213113, 52.14767441860465, 'team1_Mumbai Indians <= 0.5\\ngini = 0.444\\nsamples = 9\\nvalue = [6, 3]\\nclass = Loose'),\n",
       " Text(176.85245901639342, 42.66627906976743, 'team2_Mumbai Indians <= 0.5\\ngini = 0.49\\nsamples = 7\\nvalue = [4, 3]\\nclass = Loose'),\n",
       " Text(170.75409836065572, 33.18488372093026, 'gini = 0.0\\nsamples = 1\\nvalue = [0, 1]\\nclass = Win'),\n",
       " Text(182.95081967213113, 33.18488372093026, 'venue_Wankhede Stadium <= 0.5\\ngini = 0.444\\nsamples = 6\\nvalue = [4, 2]\\nclass = Loose'),\n",
       " Text(176.85245901639342, 23.703488372093034, 'gini = 0.0\\nsamples = 2\\nvalue = [2, 0]\\nclass = Loose'),\n",
       " Text(189.04918032786884, 23.703488372093034, 'team1_Chennai Super Kings <= 0.5\\ngini = 0.5\\nsamples = 4\\nvalue = [2, 2]\\nclass = Loose'),\n",
       " Text(182.95081967213113, 14.222093023255809, 'team1_Sunrisers Hyderabad <= 0.5\\ngini = 0.444\\nsamples = 3\\nvalue = [2, 1]\\nclass = Loose'),\n",
       " Text(176.85245901639342, 4.740697674418584, 'gini = 0.0\\nsamples = 1\\nvalue = [1, 0]\\nclass = Loose'),\n",
       " Text(189.04918032786884, 4.740697674418584, 'gini = 0.5\\nsamples = 2\\nvalue = [1, 1]\\nclass = Loose'),\n",
       " Text(195.14754098360655, 14.222093023255809, 'gini = 0.0\\nsamples = 1\\nvalue = [0, 1]\\nclass = Win'),\n",
       " Text(189.04918032786884, 42.66627906976743, 'gini = 0.0\\nsamples = 2\\nvalue = [2, 0]\\nclass = Loose'),\n",
       " Text(207.34426229508196, 52.14767441860465, 'venue_M Chinnaswamy Stadium <= 0.5\\ngini = 0.49\\nsamples = 7\\nvalue = [3, 4]\\nclass = Win'),\n",
       " Text(201.24590163934425, 42.66627906976743, 'gini = 0.0\\nsamples = 2\\nvalue = [0, 2]\\nclass = Win'),\n",
       " Text(213.44262295081967, 42.66627906976743, 'team1_Mumbai Indians <= 0.5\\ngini = 0.48\\nsamples = 5\\nvalue = [3, 2]\\nclass = Loose'),\n",
       " Text(207.34426229508196, 33.18488372093026, 'team1_Chennai Super Kings <= 0.5\\ngini = 0.444\\nsamples = 3\\nvalue = [1, 2]\\nclass = Win'),\n",
       " Text(201.24590163934425, 23.703488372093034, 'gini = 0.0\\nsamples = 2\\nvalue = [0, 2]\\nclass = Win'),\n",
       " Text(213.44262295081967, 23.703488372093034, 'gini = 0.0\\nsamples = 1\\nvalue = [1, 0]\\nclass = Loose'),\n",
       " Text(219.54098360655738, 33.18488372093026, 'gini = 0.0\\nsamples = 2\\nvalue = [2, 0]\\nclass = Loose'),\n",
       " Text(207.34426229508196, 61.62906976744188, 'gini = 0.0\\nsamples = 1\\nvalue = [0, 1]\\nclass = Win'),\n",
       " Text(231.73770491803276, 71.11046511627904, 'toss_winner_Mumbai Indians <= 0.5\\ngini = 0.375\\nsamples = 8\\nvalue = [2, 6]\\nclass = Win'),\n",
       " Text(225.63934426229508, 61.62906976744188, 'toss_winner_Royal Challengers Bangalore <= 0.5\\ngini = 0.444\\nsamples = 6\\nvalue = [2, 4]\\nclass = Win'),\n",
       " Text(219.54098360655738, 52.14767441860465, 'gini = 0.5\\nsamples = 2\\nvalue = [1, 1]\\nclass = Loose'),\n",
       " Text(231.73770491803276, 52.14767441860465, 'venue_Sawai Mansingh Stadium <= 0.5\\ngini = 0.375\\nsamples = 4\\nvalue = [1, 3]\\nclass = Win'),\n",
       " Text(225.63934426229508, 42.66627906976743, 'gini = 0.444\\nsamples = 3\\nvalue = [1, 2]\\nclass = Win'),\n",
       " Text(237.83606557377047, 42.66627906976743, 'gini = 0.0\\nsamples = 1\\nvalue = [0, 1]\\nclass = Win'),\n",
       " Text(237.83606557377047, 61.62906976744188, 'gini = 0.0\\nsamples = 2\\nvalue = [0, 2]\\nclass = Win'),\n",
       " Text(250.03278688524588, 80.59186046511627, 'venue_Wankhede Stadium <= 0.5\\ngini = 0.444\\nsamples = 6\\nvalue = [4, 2]\\nclass = Loose'),\n",
       " Text(243.93442622950818, 71.11046511627904, 'gini = 0.0\\nsamples = 3\\nvalue = [3, 0]\\nclass = Loose'),\n",
       " Text(256.1311475409836, 71.11046511627904, 'team1_Rajasthan Royals <= 0.5\\ngini = 0.444\\nsamples = 3\\nvalue = [1, 2]\\nclass = Win'),\n",
       " Text(250.03278688524588, 61.62906976744188, 'gini = 0.0\\nsamples = 2\\nvalue = [0, 2]\\nclass = Win'),\n",
       " Text(262.22950819672127, 61.62906976744188, 'gini = 0.0\\nsamples = 1\\nvalue = [1, 0]\\nclass = Loose'),\n",
       " Text(245.4590163934426, 90.0732558139535, 'gini = 0.0\\nsamples = 1\\nvalue = [0, 1]\\nclass = Win'),\n",
       " Text(251.5573770491803, 99.55465116279072, 'gini = 0.0\\nsamples = 1\\nvalue = [0, 1]\\nclass = Win'),\n",
       " Text(257.655737704918, 109.03604651162789, 'gini = 0.0\\nsamples = 1\\nvalue = [0, 1]\\nclass = Win'),\n",
       " Text(275.95081967213116, 118.51744186046511, 'toss_winner_Kolkata Knight Riders <= 0.5\\ngini = 0.426\\nsamples = 13\\nvalue = [4, 9]\\nclass = Win'),\n",
       " Text(269.8524590163934, 109.03604651162789, 'toss_winner_Deccan Chargers <= 0.5\\ngini = 0.463\\nsamples = 11\\nvalue = [4, 7]\\nclass = Win'),\n",
       " Text(263.75409836065575, 99.55465116279072, 'team2_Mumbai Indians <= 0.5\\ngini = 0.444\\nsamples = 9\\nvalue = [3, 6]\\nclass = Win'),\n",
       " Text(257.655737704918, 90.0732558139535, 'gini = 0.444\\nsamples = 3\\nvalue = [1, 2]\\nclass = Win'),\n",
       " Text(269.8524590163934, 90.0732558139535, 'gini = 0.444\\nsamples = 6\\nvalue = [2, 4]\\nclass = Win'),\n",
       " Text(275.95081967213116, 99.55465116279072, 'gini = 0.5\\nsamples = 2\\nvalue = [1, 1]\\nclass = Loose'),\n",
       " Text(282.04918032786884, 109.03604651162789, 'gini = 0.0\\nsamples = 2\\nvalue = [0, 2]\\nclass = Win'),\n",
       " Text(275.95081967213116, 127.99883720930234, 'gini = 0.0\\nsamples = 1\\nvalue = [0, 1]\\nclass = Win'),\n",
       " Text(282.04918032786884, 137.48023255813956, 'gini = 0.0\\nsamples = 1\\nvalue = [0, 1]\\nclass = Win'),\n",
       " Text(288.1475409836065, 146.96162790697673, 'gini = 0.0\\nsamples = 1\\nvalue = [0, 1]\\nclass = Win'),\n",
       " Text(306.44262295081967, 156.44302325581396, 'team2_Delhi Capitals <= 0.5\\ngini = 0.444\\nsamples = 3\\nvalue = [2, 1]\\nclass = Loose'),\n",
       " Text(300.34426229508193, 146.96162790697673, 'gini = 0.0\\nsamples = 1\\nvalue = [1, 0]\\nclass = Loose'),\n",
       " Text(312.54098360655735, 146.96162790697673, 'gini = 0.5\\nsamples = 2\\nvalue = [1, 1]\\nclass = Loose'),\n",
       " Text(306.44262295081967, 165.92441860465115, 'gini = 0.444\\nsamples = 3\\nvalue = [2, 1]\\nclass = Loose'),\n",
       " Text(312.54098360655735, 175.40581395348838, 'gini = 0.0\\nsamples = 2\\nvalue = [0, 2]\\nclass = Win'),\n",
       " Text(330.8360655737705, 184.88720930232557, 'team2_Deccan Chargers <= 0.5\\ngini = 0.444\\nsamples = 3\\nvalue = [2, 1]\\nclass = Loose'),\n",
       " Text(324.73770491803276, 175.40581395348838, 'gini = 0.0\\nsamples = 2\\nvalue = [2, 0]\\nclass = Loose'),\n",
       " Text(336.9344262295082, 175.40581395348838, 'gini = 0.0\\nsamples = 1\\nvalue = [0, 1]\\nclass = Win'),\n",
       " Text(330.8360655737705, 194.3686046511628, 'gini = 0.0\\nsamples = 1\\nvalue = [1, 0]\\nclass = Loose'),\n",
       " Text(367.4262295081967, 203.85, 'venue_Dr DY Patil Sports Academy <= 0.5\\ngini = 0.375\\nsamples = 12\\nvalue = [3, 9]\\nclass = Win'),\n",
       " Text(361.327868852459, 194.3686046511628, 'team2_Deccan Chargers <= 0.5\\ngini = 0.298\\nsamples = 11\\nvalue = [2, 9]\\nclass = Win'),\n",
       " Text(355.22950819672127, 184.88720930232557, 'toss_winner_Mumbai Indians <= 0.5\\ngini = 0.32\\nsamples = 10\\nvalue = [2, 8]\\nclass = Win'),\n",
       " Text(349.1311475409836, 175.40581395348838, 'gini = 0.375\\nsamples = 4\\nvalue = [1, 3]\\nclass = Win'),\n",
       " Text(361.327868852459, 175.40581395348838, 'venue_M Chinnaswamy Stadium <= 0.5\\ngini = 0.278\\nsamples = 6\\nvalue = [1, 5]\\nclass = Win'),\n",
       " Text(355.22950819672127, 165.92441860465115, 'gini = 0.32\\nsamples = 5\\nvalue = [1, 4]\\nclass = Win'),\n",
       " Text(367.4262295081967, 165.92441860465115, 'gini = 0.0\\nsamples = 1\\nvalue = [0, 1]\\nclass = Win'),\n",
       " Text(367.4262295081967, 184.88720930232557, 'gini = 0.0\\nsamples = 1\\nvalue = [0, 1]\\nclass = Win'),\n",
       " Text(373.5245901639344, 194.3686046511628, 'gini = 0.0\\nsamples = 1\\nvalue = [1, 0]\\nclass = Loose'),\n",
       " Text(385.72131147540983, 213.33139534883722, 'team1_Royal Challengers Bangalore <= 0.5\\ngini = 0.278\\nsamples = 6\\nvalue = [1, 5]\\nclass = Win'),\n",
       " Text(379.6229508196721, 203.85, 'gini = 0.0\\nsamples = 5\\nvalue = [0, 5]\\nclass = Win'),\n",
       " Text(391.8196721311475, 203.85, 'gini = 0.0\\nsamples = 1\\nvalue = [1, 0]\\nclass = Loose'),\n",
       " Text(378.0983606557377, 222.81279069767442, 'gini = 0.0\\nsamples = 1\\nvalue = [1, 0]\\nclass = Loose'),\n",
       " Text(384.1967213114754, 232.2941860465116, 'gini = 0.0\\nsamples = 1\\nvalue = [1, 0]\\nclass = Loose'),\n",
       " Text(390.2950819672131, 241.77558139534884, 'gini = 0.0\\nsamples = 1\\nvalue = [1, 0]\\nclass = Loose'),\n",
       " Text(434.50819672131144, 251.25697674418603, 'venue_Sardar Patel Stadium, Motera <= 0.5\\ngini = 0.488\\nsamples = 19\\nvalue = [11, 8]\\nclass = Loose'),\n",
       " Text(428.40983606557376, 241.77558139534884, 'team1_Pune Warriors <= 0.5\\ngini = 0.475\\nsamples = 18\\nvalue = [11, 7]\\nclass = Loose'),\n",
       " Text(422.311475409836, 232.2941860465116, 'venue_De Beers Diamond Oval <= 0.5\\ngini = 0.457\\nsamples = 17\\nvalue = [11, 6]\\nclass = Loose'),\n",
       " Text(416.21311475409834, 222.81279069767442, 'venue_Sharjah Cricket Stadium <= 0.5\\ngini = 0.43\\nsamples = 16\\nvalue = [11, 5]\\nclass = Loose'),\n",
       " Text(410.1147540983606, 213.33139534883722, 'venue_M Chinnaswamy Stadium <= 0.5\\ngini = 0.391\\nsamples = 15\\nvalue = [11, 4]\\nclass = Loose'),\n",
       " Text(404.0163934426229, 203.85, 'team1_Deccan Chargers <= 0.5\\ngini = 0.198\\nsamples = 9\\nvalue = [8, 1]\\nclass = Loose'),\n",
       " Text(397.91803278688525, 194.3686046511628, 'gini = 0.0\\nsamples = 6\\nvalue = [6, 0]\\nclass = Loose'),\n",
       " Text(410.1147540983606, 194.3686046511628, 'venue_Punjab Cricket Association IS Bindra Stadium, Mohali <= 0.5\\ngini = 0.444\\nsamples = 3\\nvalue = [2, 1]\\nclass = Loose'),\n",
       " Text(404.0163934426229, 184.88720930232557, 'gini = 0.0\\nsamples = 2\\nvalue = [2, 0]\\nclass = Loose'),\n",
       " Text(416.21311475409834, 184.88720930232557, 'gini = 0.0\\nsamples = 1\\nvalue = [0, 1]\\nclass = Win'),\n",
       " Text(416.21311475409834, 203.85, 'gini = 0.5\\nsamples = 6\\nvalue = [3, 3]\\nclass = Loose'),\n",
       " Text(422.311475409836, 213.33139534883722, 'gini = 0.0\\nsamples = 1\\nvalue = [0, 1]\\nclass = Win'),\n",
       " Text(428.40983606557376, 222.81279069767442, 'gini = 0.0\\nsamples = 1\\nvalue = [0, 1]\\nclass = Win'),\n",
       " Text(434.50819672131144, 232.2941860465116, 'gini = 0.0\\nsamples = 1\\nvalue = [0, 1]\\nclass = Win'),\n",
       " Text(440.60655737704917, 241.77558139534884, 'gini = 0.0\\nsamples = 1\\nvalue = [0, 1]\\nclass = Win'),\n",
       " Text(471.0983606557377, 260.73837209302326, 'team2_Delhi Capitals <= 0.5\\ngini = 0.475\\nsamples = 18\\nvalue = [11, 7]\\nclass = Loose'),\n",
       " Text(465.0, 251.25697674418603, 'toss_winner_Kings XI Punjab <= 0.5\\ngini = 0.43\\nsamples = 16\\nvalue = [11, 5]\\nclass = Loose'),\n",
       " Text(452.8032786885246, 241.77558139534884, 'team2_Sunrisers Hyderabad <= 0.5\\ngini = 0.298\\nsamples = 11\\nvalue = [9, 2]\\nclass = Loose'),\n",
       " Text(446.70491803278685, 232.2941860465116, 'gini = 0.0\\nsamples = 8\\nvalue = [8, 0]\\nclass = Loose'),\n",
       " Text(458.90163934426226, 232.2941860465116, 'team1_Chennai Super Kings <= 0.5\\ngini = 0.444\\nsamples = 3\\nvalue = [1, 2]\\nclass = Win'),\n",
       " Text(452.8032786885246, 222.81279069767442, 'gini = 0.0\\nsamples = 2\\nvalue = [0, 2]\\nclass = Win'),\n",
       " Text(465.0, 222.81279069767442, 'gini = 0.0\\nsamples = 1\\nvalue = [1, 0]\\nclass = Loose'),\n",
       " Text(477.19672131147536, 241.77558139534884, 'team1_Deccan Chargers <= 0.5\\ngini = 0.48\\nsamples = 5\\nvalue = [2, 3]\\nclass = Win'),\n",
       " Text(471.0983606557377, 232.2941860465116, 'gini = 0.444\\nsamples = 3\\nvalue = [2, 1]\\nclass = Loose'),\n",
       " Text(483.2950819672131, 232.2941860465116, 'gini = 0.0\\nsamples = 2\\nvalue = [0, 2]\\nclass = Win'),\n",
       " Text(477.19672131147536, 251.25697674418603, 'gini = 0.0\\nsamples = 2\\nvalue = [0, 2]\\nclass = Win'),\n",
       " Text(501.5901639344262, 270.2197674418604, 'team2_Deccan Chargers <= 0.5\\ngini = 0.408\\nsamples = 7\\nvalue = [5, 2]\\nclass = Loose'),\n",
       " Text(495.4918032786885, 260.73837209302326, 'toss_winner_Mumbai Indians <= 0.5\\ngini = 0.278\\nsamples = 6\\nvalue = [5, 1]\\nclass = Loose'),\n",
       " Text(489.3934426229508, 251.25697674418603, 'gini = 0.0\\nsamples = 3\\nvalue = [3, 0]\\nclass = Loose'),\n",
       " Text(501.5901639344262, 251.25697674418603, 'team1_Royal Challengers Bangalore <= 0.5\\ngini = 0.444\\nsamples = 3\\nvalue = [2, 1]\\nclass = Loose'),\n",
       " Text(495.4918032786885, 241.77558139534884, 'gini = 0.5\\nsamples = 2\\nvalue = [1, 1]\\nclass = Loose'),\n",
       " Text(507.6885245901639, 241.77558139534884, 'gini = 0.0\\nsamples = 1\\nvalue = [1, 0]\\nclass = Loose'),\n",
       " Text(507.6885245901639, 260.73837209302326, 'gini = 0.0\\nsamples = 1\\nvalue = [0, 1]\\nclass = Win'),\n",
       " Text(483.10450819672127, 279.70116279069765, 'gini = 0.0\\nsamples = 2\\nvalue = [2, 0]\\nclass = Loose'),\n",
       " Text(538.1803278688524, 289.1825581395349, 'venue_Dubai International Cricket Stadium <= 0.5\\ngini = 0.42\\nsamples = 20\\nvalue = [6, 14]\\nclass = Win'),\n",
       " Text(532.0819672131147, 279.70116279069765, 'venue_Wankhede Stadium <= 0.5\\ngini = 0.388\\nsamples = 19\\nvalue = [5, 14]\\nclass = Win'),\n",
       " Text(525.983606557377, 270.2197674418604, 'venue_Brabourne Stadium <= 0.5\\ngini = 0.305\\nsamples = 16\\nvalue = [3, 13]\\nclass = Win'),\n",
       " Text(519.8852459016393, 260.73837209302326, 'venue_Sawai Mansingh Stadium <= 0.5\\ngini = 0.231\\nsamples = 15\\nvalue = [2, 13]\\nclass = Win'),\n",
       " Text(513.7868852459017, 251.25697674418603, 'gini = 0.0\\nsamples = 6\\nvalue = [0, 6]\\nclass = Win'),\n",
       " Text(525.983606557377, 251.25697674418603, 'team1_Chennai Super Kings <= 0.5\\ngini = 0.346\\nsamples = 9\\nvalue = [2, 7]\\nclass = Win'),\n",
       " Text(519.8852459016393, 241.77558139534884, 'team1_Mumbai Indians <= 0.5\\ngini = 0.245\\nsamples = 7\\nvalue = [1, 6]\\nclass = Win'),\n",
       " Text(513.7868852459017, 232.2941860465116, 'gini = 0.0\\nsamples = 4\\nvalue = [0, 4]\\nclass = Win'),\n",
       " Text(525.983606557377, 232.2941860465116, 'gini = 0.444\\nsamples = 3\\nvalue = [1, 2]\\nclass = Win'),\n",
       " Text(532.0819672131147, 241.77558139534884, 'gini = 0.5\\nsamples = 2\\nvalue = [1, 1]\\nclass = Loose'),\n",
       " Text(532.0819672131147, 260.73837209302326, 'gini = 0.0\\nsamples = 1\\nvalue = [1, 0]\\nclass = Loose'),\n",
       " Text(538.1803278688524, 270.2197674418604, 'gini = 0.444\\nsamples = 3\\nvalue = [2, 1]\\nclass = Loose'),\n",
       " Text(544.2786885245902, 279.70116279069765, 'gini = 0.0\\nsamples = 1\\nvalue = [1, 0]\\nclass = Loose'),\n",
       " Text(602.2131147540983, 298.6639534883721, 'team2_Delhi Capitals <= 0.5\\ngini = 0.473\\nsamples = 26\\nvalue = [16, 10]\\nclass = Loose'),\n",
       " Text(586.967213114754, 289.1825581395349, 'team2_Kolkata Knight Riders <= 0.5\\ngini = 0.434\\nsamples = 22\\nvalue = [15, 7]\\nclass = Loose'),\n",
       " Text(574.7704918032787, 279.70116279069765, 'team2_Rising Pune Supergiant <= 0.5\\ngini = 0.36\\nsamples = 17\\nvalue = [13, 4]\\nclass = Loose'),\n",
       " Text(568.672131147541, 270.2197674418604, 'venue_Brabourne Stadium <= 0.5\\ngini = 0.305\\nsamples = 16\\nvalue = [13, 3]\\nclass = Loose'),\n",
       " Text(562.5737704918032, 260.73837209302326, 'venue_Himachal Pradesh Cricket Association Stadium <= 0.5\\ngini = 0.231\\nsamples = 15\\nvalue = [13, 2]\\nclass = Loose'),\n",
       " Text(550.3770491803278, 251.25697674418603, 'team2_Rajasthan Royals <= 0.5\\ngini = 0.142\\nsamples = 13\\nvalue = [12, 1]\\nclass = Loose'),\n",
       " Text(544.2786885245902, 241.77558139534884, 'gini = 0.0\\nsamples = 9\\nvalue = [9, 0]\\nclass = Loose'),\n",
       " Text(556.4754098360655, 241.77558139534884, 'gini = 0.375\\nsamples = 4\\nvalue = [3, 1]\\nclass = Loose'),\n",
       " Text(574.7704918032787, 251.25697674418603, 'toss_winner_Deccan Chargers <= 0.5\\ngini = 0.5\\nsamples = 2\\nvalue = [1, 1]\\nclass = Loose'),\n",
       " Text(568.672131147541, 241.77558139534884, 'gini = 0.0\\nsamples = 1\\nvalue = [1, 0]\\nclass = Loose'),\n",
       " Text(580.8688524590164, 241.77558139534884, 'gini = 0.0\\nsamples = 1\\nvalue = [0, 1]\\nclass = Win'),\n",
       " Text(574.7704918032787, 260.73837209302326, 'gini = 0.0\\nsamples = 1\\nvalue = [0, 1]\\nclass = Win'),\n",
       " Text(580.8688524590164, 270.2197674418604, 'gini = 0.0\\nsamples = 1\\nvalue = [0, 1]\\nclass = Win'),\n",
       " Text(599.1639344262295, 279.70116279069765, 'venue_Sheikh Zayed Stadium <= 0.5\\ngini = 0.48\\nsamples = 5\\nvalue = [2, 3]\\nclass = Win'),\n",
       " Text(593.0655737704918, 270.2197674418604, 'venue_Punjab Cricket Association IS Bindra Stadium, Mohali <= 0.5\\ngini = 0.375\\nsamples = 4\\nvalue = [1, 3]\\nclass = Win'),\n",
       " Text(586.967213114754, 260.73837209302326, 'gini = 0.0\\nsamples = 2\\nvalue = [0, 2]\\nclass = Win'),\n",
       " Text(599.1639344262295, 260.73837209302326, 'gini = 0.5\\nsamples = 2\\nvalue = [1, 1]\\nclass = Loose'),\n",
       " Text(605.2622950819672, 270.2197674418604, 'gini = 0.0\\nsamples = 1\\nvalue = [1, 0]\\nclass = Loose'),\n",
       " Text(617.4590163934425, 289.1825581395349, 'venue_Himachal Pradesh Cricket Association Stadium <= 0.5\\ngini = 0.375\\nsamples = 4\\nvalue = [1, 3]\\nclass = Win'),\n",
       " Text(611.3606557377049, 279.70116279069765, 'gini = 0.0\\nsamples = 2\\nvalue = [0, 2]\\nclass = Win'),\n",
       " Text(623.5573770491803, 279.70116279069765, 'gini = 0.5\\nsamples = 2\\nvalue = [1, 1]\\nclass = Loose'),\n",
       " Text(567.0998975409835, 308.1453488372093, 'gini = 0.0\\nsamples = 2\\nvalue = [2, 0]\\nclass = Loose'),\n",
       " Text(666.2459016393442, 317.6267441860465, 'team1_Kochi Tuskers Kerala <= 0.5\\ngini = 0.435\\nsamples = 25\\nvalue = [8, 17]\\nclass = Win'),\n",
       " Text(660.1475409836065, 308.1453488372093, 'team1_Mumbai Indians <= 0.5\\ngini = 0.413\\nsamples = 24\\nvalue = [7, 17]\\nclass = Win'),\n",
       " Text(654.0491803278688, 298.6639534883721, 'team1_Kolkata Knight Riders <= 0.5\\ngini = 0.363\\nsamples = 21\\nvalue = [5, 16]\\nclass = Win'),\n",
       " Text(641.8524590163934, 289.1825581395349, 'team1_Kings XI Punjab <= 0.5\\ngini = 0.18\\nsamples = 10\\nvalue = [1, 9]\\nclass = Win'),\n",
       " Text(635.7540983606557, 279.70116279069765, 'gini = 0.0\\nsamples = 7\\nvalue = [0, 7]\\nclass = Win'),\n",
       " Text(647.9508196721312, 279.70116279069765, 'gini = 0.444\\nsamples = 3\\nvalue = [1, 2]\\nclass = Win'),\n",
       " Text(666.2459016393442, 289.1825581395349, 'toss_winner_Mumbai Indians <= 0.5\\ngini = 0.463\\nsamples = 11\\nvalue = [4, 7]\\nclass = Win'),\n",
       " Text(660.1475409836065, 279.70116279069765, 'toss_winner_Rising Pune Supergiant <= 0.5\\ngini = 0.48\\nsamples = 10\\nvalue = [4, 6]\\nclass = Win'),\n",
       " Text(654.0491803278688, 270.2197674418604, 'toss_winner_Royal Challengers Bangalore <= 0.5\\ngini = 0.494\\nsamples = 9\\nvalue = [4, 5]\\nclass = Win'),\n",
       " Text(647.9508196721312, 260.73837209302326, 'toss_winner_Delhi Capitals <= 0.5\\ngini = 0.5\\nsamples = 6\\nvalue = [3, 3]\\nclass = Loose'),\n",
       " Text(641.8524590163934, 251.25697674418603, 'team2_Sunrisers Hyderabad <= 0.5\\ngini = 0.5\\nsamples = 4\\nvalue = [2, 2]\\nclass = Loose'),\n",
       " Text(635.7540983606557, 241.77558139534884, 'gini = 0.5\\nsamples = 2\\nvalue = [1, 1]\\nclass = Loose'),\n",
       " Text(647.9508196721312, 241.77558139534884, 'gini = 0.5\\nsamples = 2\\nvalue = [1, 1]\\nclass = Loose'),\n",
       " Text(654.0491803278688, 251.25697674418603, 'gini = 0.5\\nsamples = 2\\nvalue = [1, 1]\\nclass = Loose'),\n",
       " Text(660.1475409836065, 260.73837209302326, 'gini = 0.444\\nsamples = 3\\nvalue = [1, 2]\\nclass = Win'),\n",
       " Text(666.2459016393442, 270.2197674418604, 'gini = 0.0\\nsamples = 1\\nvalue = [0, 1]\\nclass = Win'),\n",
       " Text(672.3442622950819, 279.70116279069765, 'gini = 0.0\\nsamples = 1\\nvalue = [0, 1]\\nclass = Win'),\n",
       " Text(666.2459016393442, 298.6639534883721, 'gini = 0.444\\nsamples = 3\\nvalue = [2, 1]\\nclass = Loose'),\n",
       " Text(672.3442622950819, 308.1453488372093, 'gini = 0.0\\nsamples = 1\\nvalue = [1, 0]\\nclass = Loose'),\n",
       " Text(684.5409836065573, 327.1081395348837, 'team1_Kolkata Knight Riders <= 0.5\\ngini = 0.245\\nsamples = 7\\nvalue = [1, 6]\\nclass = Win'),\n",
       " Text(678.4426229508197, 317.6267441860465, 'gini = 0.0\\nsamples = 6\\nvalue = [0, 6]\\nclass = Win'),\n",
       " Text(690.639344262295, 317.6267441860465, 'gini = 0.0\\nsamples = 1\\nvalue = [1, 0]\\nclass = Loose'),\n",
       " Text(727.2295081967213, 336.58953488372094, 'venue_Newlands <= 0.5\\ngini = 0.386\\nsamples = 23\\nvalue = [6, 17]\\nclass = Win'),\n",
       " Text(721.1311475409835, 327.1081395348837, 'team1_Kings XI Punjab <= 0.5\\ngini = 0.351\\nsamples = 22\\nvalue = [5, 17]\\nclass = Win'),\n",
       " Text(702.8360655737705, 317.6267441860465, 'team1_Mumbai Indians <= 0.5\\ngini = 0.219\\nsamples = 16\\nvalue = [2, 14]\\nclass = Win'),\n",
       " Text(696.7377049180327, 308.1453488372093, 'gini = 0.0\\nsamples = 11\\nvalue = [0, 11]\\nclass = Win'),\n",
       " Text(708.9344262295082, 308.1453488372093, 'venue_Eden Gardens <= 0.5\\ngini = 0.48\\nsamples = 5\\nvalue = [2, 3]\\nclass = Win'),\n",
       " Text(702.8360655737705, 298.6639534883721, 'venue_Brabourne Stadium <= 0.5\\ngini = 0.375\\nsamples = 4\\nvalue = [1, 3]\\nclass = Win'),\n",
       " Text(696.7377049180327, 289.1825581395349, 'gini = 0.444\\nsamples = 3\\nvalue = [1, 2]\\nclass = Win'),\n",
       " Text(708.9344262295082, 289.1825581395349, 'gini = 0.0\\nsamples = 1\\nvalue = [0, 1]\\nclass = Win'),\n",
       " Text(715.0327868852459, 298.6639534883721, 'gini = 0.0\\nsamples = 1\\nvalue = [1, 0]\\nclass = Loose'),\n",
       " Text(739.4262295081967, 317.6267441860465, 'venue_MA Chidambaram Stadium, Chepauk <= 0.5\\ngini = 0.5\\nsamples = 6\\nvalue = [3, 3]\\nclass = Loose'),\n",
       " Text(733.327868852459, 308.1453488372093, 'venue_Wankhede Stadium <= 0.5\\ngini = 0.48\\nsamples = 5\\nvalue = [2, 3]\\nclass = Win'),\n",
       " Text(727.2295081967213, 298.6639534883721, 'venue_Punjab Cricket Association IS Bindra Stadium, Mohali <= 0.5\\ngini = 0.375\\nsamples = 4\\nvalue = [1, 3]\\nclass = Win'),\n",
       " Text(721.1311475409835, 289.1825581395349, 'gini = 0.0\\nsamples = 2\\nvalue = [0, 2]\\nclass = Win'),\n",
       " Text(733.327868852459, 289.1825581395349, 'gini = 0.5\\nsamples = 2\\nvalue = [1, 1]\\nclass = Loose'),\n",
       " Text(739.4262295081967, 298.6639534883721, 'gini = 0.0\\nsamples = 1\\nvalue = [1, 0]\\nclass = Loose'),\n",
       " Text(745.5245901639344, 308.1453488372093, 'gini = 0.0\\nsamples = 1\\nvalue = [1, 0]\\nclass = Loose'),\n",
       " Text(733.327868852459, 327.1081395348837, 'gini = 0.0\\nsamples = 1\\nvalue = [1, 0]\\nclass = Loose'),\n",
       " Text(745.5245901639344, 346.0709302325581, 'venue_Maharashtra Cricket Association Stadium <= 0.5\\ngini = 0.18\\nsamples = 10\\nvalue = [1, 9]\\nclass = Win'),\n",
       " Text(739.4262295081967, 336.58953488372094, 'gini = 0.0\\nsamples = 9\\nvalue = [0, 9]\\nclass = Win'),\n",
       " Text(751.622950819672, 336.58953488372094, 'gini = 0.0\\nsamples = 1\\nvalue = [1, 0]\\nclass = Loose'),\n",
       " Text(763.8196721311475, 355.55232558139534, 'venue_M Chinnaswamy Stadium <= 0.5\\ngini = 0.165\\nsamples = 11\\nvalue = [1, 10]\\nclass = Win'),\n",
       " Text(757.7213114754098, 346.0709302325581, 'gini = 0.0\\nsamples = 9\\nvalue = [0, 9]\\nclass = Win'),\n",
       " Text(769.9180327868852, 346.0709302325581, 'gini = 0.5\\nsamples = 2\\nvalue = [1, 1]\\nclass = Loose'),\n",
       " Text(752.5266873719262, 365.03372093023256, 'gini = 0.0\\nsamples = 8\\nvalue = [0, 8]\\nclass = Win'),\n",
       " Text(800.4098360655737, 374.51511627906973, 'team1_Chennai Super Kings <= 0.5\\ngini = 0.42\\nsamples = 20\\nvalue = [14, 6]\\nclass = Loose'),\n",
       " Text(794.311475409836, 365.03372093023256, 'toss_winner_Kings XI Punjab <= 0.5\\ngini = 0.388\\nsamples = 19\\nvalue = [14, 5]\\nclass = Loose'),\n",
       " Text(788.2131147540983, 355.55232558139534, 'team2_Royal Challengers Bangalore <= 0.5\\ngini = 0.305\\nsamples = 16\\nvalue = [13, 3]\\nclass = Loose'),\n",
       " Text(782.1147540983607, 346.0709302325581, 'team1_Mumbai Indians <= 0.5\\ngini = 0.245\\nsamples = 14\\nvalue = [12, 2]\\nclass = Loose'),\n",
       " Text(776.0163934426229, 336.58953488372094, 'team1_Gujarat Lions <= 0.5\\ngini = 0.153\\nsamples = 12\\nvalue = [11, 1]\\nclass = Loose'),\n",
       " Text(769.9180327868852, 327.1081395348837, 'gini = 0.0\\nsamples = 10\\nvalue = [10, 0]\\nclass = Loose'),\n",
       " Text(782.1147540983607, 327.1081395348837, 'gini = 0.5\\nsamples = 2\\nvalue = [1, 1]\\nclass = Loose'),\n",
       " Text(788.2131147540983, 336.58953488372094, 'gini = 0.5\\nsamples = 2\\nvalue = [1, 1]\\nclass = Loose'),\n",
       " Text(794.311475409836, 346.0709302325581, 'gini = 0.5\\nsamples = 2\\nvalue = [1, 1]\\nclass = Loose'),\n",
       " Text(800.4098360655737, 355.55232558139534, 'gini = 0.444\\nsamples = 3\\nvalue = [1, 2]\\nclass = Win'),\n",
       " Text(806.5081967213114, 365.03372093023256, 'gini = 0.0\\nsamples = 1\\nvalue = [0, 1]\\nclass = Win'),\n",
       " Text(824.8032786885245, 393.4779069767442, 'team2_Delhi Capitals <= 0.5\\ngini = 0.231\\nsamples = 15\\nvalue = [13, 2]\\nclass = Loose'),\n",
       " Text(818.7049180327868, 383.99651162790695, 'team2_Kings XI Punjab <= 0.5\\ngini = 0.142\\nsamples = 13\\nvalue = [12, 1]\\nclass = Loose'),\n",
       " Text(812.6065573770492, 374.51511627906973, 'gini = 0.0\\nsamples = 11\\nvalue = [11, 0]\\nclass = Loose'),\n",
       " Text(824.8032786885245, 374.51511627906973, 'gini = 0.5\\nsamples = 2\\nvalue = [1, 1]\\nclass = Loose'),\n",
       " Text(830.9016393442622, 383.99651162790695, 'gini = 0.5\\nsamples = 2\\nvalue = [1, 1]\\nclass = Loose')]"
      ]
     },
     "execution_count": 54,
     "metadata": {},
     "output_type": "execute_result"
    },
    {
     "data": {
      "image/png": "[encoded data removed]",
      "text/plain": [
       "<Figure size 1080x540 with 1 Axes>"
      ]
     },
     "metadata": {
      "needs_background": "light"
     },
     "output_type": "display_data"
    }
   ],
   "source": [
    "plt.figure(figsize = (15,7.5))\n",
    "plot_tree(clt_ipl, filled = True, rounded = True, class_names = [\"Loose\", 'Win'], feature_names = X.columns)"
   ]
  },
  {
   "cell_type": "code",
   "execution_count": 55,
   "metadata": {
    "ExecuteTime": {
     "end_time": "2020-09-19T12:43:18.017365Z",
     "start_time": "2020-09-19T12:43:17.792964Z"
    },
    "scrolled": true
   },
   "outputs": [
    {
     "data": {
      "text/plain": [
       "<sklearn.metrics._plot.confusion_matrix.ConfusionMatrixDisplay at 0x2181a7e5c50>"
      ]
     },
     "execution_count": 55,
     "metadata": {},
     "output_type": "execute_result"
    },
    {
     "data": {
      "image/png": "[encoded data removed]",
      "text/plain": [
       "<Figure size 432x288 with 2 Axes>"
      ]
     },
     "metadata": {
      "needs_background": "light"
     },
     "output_type": "display_data"
    }
   ],
   "source": [
    "plot_confusion_matrix(clt_ipl, X_cv, y_cv)"
   ]
  },
  {
   "cell_type": "code",
   "execution_count": 56,
   "metadata": {
    "ExecuteTime": {
     "end_time": "2020-09-19T12:43:18.255727Z",
     "start_time": "2020-09-19T12:43:18.019380Z"
    }
   },
   "outputs": [
    {
     "data": {
      "text/plain": [
       "<sklearn.metrics._plot.confusion_matrix.ConfusionMatrixDisplay at 0x2181a9d7ef0>"
      ]
     },
     "execution_count": 56,
     "metadata": {},
     "output_type": "execute_result"
    },
    {
     "data": {
      "image/png": "[encoded data removed]",
      "text/plain": [
       "<Figure size 432x288 with 2 Axes>"
      ]
     },
     "metadata": {
      "needs_background": "light"
     },
     "output_type": "display_data"
    }
   ],
   "source": [
    "plot_confusion_matrix(clt_ipl, X_2019, y_2019)"
   ]
  },
  {
   "cell_type": "code",
   "execution_count": 57,
   "metadata": {
    "ExecuteTime": {
     "end_time": "2020-09-19T12:43:18.267696Z",
     "start_time": "2020-09-19T12:43:18.258726Z"
    }
   },
   "outputs": [],
   "source": [
    "pred = clt_ipl.predict(X_cv)"
   ]
  },
  {
   "cell_type": "code",
   "execution_count": 58,
   "metadata": {
    "ExecuteTime": {
     "end_time": "2020-09-19T12:43:18.278664Z",
     "start_time": "2020-09-19T12:43:18.271689Z"
    }
   },
   "outputs": [],
   "source": [
    "score = accuracy_score(y_cv, pred)"
   ]
  },
  {
   "cell_type": "code",
   "execution_count": 59,
   "metadata": {
    "ExecuteTime": {
     "end_time": "2020-09-19T12:43:18.288640Z",
     "start_time": "2020-09-19T12:43:18.281662Z"
    }
   },
   "outputs": [
    {
     "data": {
      "text/plain": [
       "0.5528846153846154"
      ]
     },
     "execution_count": 59,
     "metadata": {},
     "output_type": "execute_result"
    }
   ],
   "source": [
    "score"
   ]
  },
  {
   "cell_type": "code",
   "execution_count": 60,
   "metadata": {
    "ExecuteTime": {
     "end_time": "2020-09-19T12:43:18.300608Z",
     "start_time": "2020-09-19T12:43:18.292628Z"
    }
   },
   "outputs": [],
   "source": [
    "pred_2019 = clt_ipl.predict(X_2019)"
   ]
  },
  {
   "cell_type": "code",
   "execution_count": 61,
   "metadata": {
    "ExecuteTime": {
     "end_time": "2020-09-19T12:43:18.309583Z",
     "start_time": "2020-09-19T12:43:18.303600Z"
    }
   },
   "outputs": [
    {
     "data": {
      "text/plain": [
       "0.5084745762711864"
      ]
     },
     "execution_count": 61,
     "metadata": {},
     "output_type": "execute_result"
    }
   ],
   "source": [
    "accuracy_score(y_2019, pred_2019)"
   ]
  },
  {
   "cell_type": "markdown",
   "metadata": {},
   "source": [
    "### Cost Complexity Pruning"
   ]
  },
  {
   "cell_type": "code",
   "execution_count": 62,
   "metadata": {
    "ExecuteTime": {
     "end_time": "2020-09-19T12:43:18.330537Z",
     "start_time": "2020-09-19T12:43:18.313572Z"
    }
   },
   "outputs": [],
   "source": [
    "path = clt_ipl.cost_complexity_pruning_path(X_train, y_train)\n",
    "ccp_alphas = path.ccp_alphas\n",
    "ccp_alphas = ccp_alphas[:-1]"
   ]
  },
  {
   "cell_type": "code",
   "execution_count": 63,
   "metadata": {
    "ExecuteTime": {
     "end_time": "2020-09-19T12:43:18.353466Z",
     "start_time": "2020-09-19T12:43:18.334533Z"
    }
   },
   "outputs": [],
   "source": [
    "clf_dts = []\n",
    "for ccp_alpha in ccp_alphas:\n",
    "    if ccp_alpha < 0:\n",
    "        break\n",
    "    else:\n",
    "        clt_ipl = DecisionTreeClassifier(ccp_alpha = ccp_alpha)\n",
    "        clt_ipl.fit(X_train, y_train)\n",
    "        clf_dts.append(clt_ipl)"
   ]
  },
  {
   "cell_type": "code",
   "execution_count": 64,
   "metadata": {
    "ExecuteTime": {
     "end_time": "2020-09-19T12:43:18.362442Z",
     "start_time": "2020-09-19T12:43:18.358454Z"
    }
   },
   "outputs": [],
   "source": [
    "# train_scores = [clt_ipl.score(X_train, y_train) for clf_dt in clf_dts]\n",
    "# test_scores = [clt_ipl.score(X_cv, y_cv) for clf_dt in clf_dts]\n",
    "\n",
    "# fig, ax = plt.subplots()\n",
    "# ax.set_xlabel(\"alpha\")\n",
    "# ax.set_ylabel(\"accuracy\")\n",
    "# ax.plot(ccp_alphas, train_scores, marker = 'o', label = \"Train\", drawstyle = \"steps-post\")\n",
    "# ax.plot(ccp_alphas, test_scores, marker = 'o', label = \"Test\", drawstyle = \"steps-post\")\n",
    "# ax.legend()\n",
    "# plt.show()"
   ]
  },
  {
   "cell_type": "markdown",
   "metadata": {},
   "source": [
    "## Random Forest"
   ]
  },
  {
   "cell_type": "code",
   "execution_count": 65,
   "metadata": {
    "ExecuteTime": {
     "end_time": "2020-09-19T12:43:18.393361Z",
     "start_time": "2020-09-19T12:43:18.365455Z"
    }
   },
   "outputs": [],
   "source": [
    "from sklearn.ensemble import RandomForestClassifier"
   ]
  },
  {
   "cell_type": "code",
   "execution_count": 66,
   "metadata": {
    "ExecuteTime": {
     "end_time": "2020-09-19T12:43:18.401362Z",
     "start_time": "2020-09-19T12:43:18.397348Z"
    }
   },
   "outputs": [],
   "source": [
    "rf = RandomForestClassifier()"
   ]
  },
  {
   "cell_type": "code",
   "execution_count": 67,
   "metadata": {
    "ExecuteTime": {
     "end_time": "2020-09-19T12:43:18.743422Z",
     "start_time": "2020-09-19T12:43:18.404330Z"
    }
   },
   "outputs": [
    {
     "name": "stderr",
     "output_type": "stream",
     "text": [
      "C:\\Users\\yashc\\AppData\\Local\\Continuum\\anaconda3\\lib\\site-packages\\ipykernel_launcher.py:1: DataConversionWarning: A column-vector y was passed when a 1d array was expected. Please change the shape of y to (n_samples,), for example using ravel().\n",
      "  \"\"\"Entry point for launching an IPython kernel.\n"
     ]
    },
    {
     "data": {
      "text/plain": [
       "RandomForestClassifier()"
      ]
     },
     "execution_count": 67,
     "metadata": {},
     "output_type": "execute_result"
    }
   ],
   "source": [
    "rf.fit(X_train, y_train)"
   ]
  },
  {
   "cell_type": "code",
   "execution_count": 68,
   "metadata": {
    "ExecuteTime": {
     "end_time": "2020-09-19T12:43:18.795286Z",
     "start_time": "2020-09-19T12:43:18.762374Z"
    }
   },
   "outputs": [],
   "source": [
    "pred_rf = rf.predict(X_cv)"
   ]
  },
  {
   "cell_type": "code",
   "execution_count": 69,
   "metadata": {
    "ExecuteTime": {
     "end_time": "2020-09-19T12:43:18.806268Z",
     "start_time": "2020-09-19T12:43:18.799275Z"
    }
   },
   "outputs": [
    {
     "data": {
      "text/plain": [
       "0.5096153846153846"
      ]
     },
     "execution_count": 69,
     "metadata": {},
     "output_type": "execute_result"
    }
   ],
   "source": [
    "accuracy_score(y_cv, pred_rf)"
   ]
  },
  {
   "cell_type": "code",
   "execution_count": 70,
   "metadata": {
    "ExecuteTime": {
     "end_time": "2020-09-19T12:43:18.838170Z",
     "start_time": "2020-09-19T12:43:18.809247Z"
    }
   },
   "outputs": [],
   "source": [
    "pred_rf_2019 = rf.predict(X_2019)"
   ]
  },
  {
   "cell_type": "code",
   "execution_count": 71,
   "metadata": {
    "ExecuteTime": {
     "end_time": "2020-09-19T12:43:18.849141Z",
     "start_time": "2020-09-19T12:43:18.840163Z"
    }
   },
   "outputs": [
    {
     "data": {
      "text/plain": [
       "0.4915254237288136"
      ]
     },
     "execution_count": 71,
     "metadata": {},
     "output_type": "execute_result"
    }
   ],
   "source": [
    "accuracy_score(y_2019, pred_rf_2019)"
   ]
  },
  {
   "cell_type": "code",
   "execution_count": 72,
   "metadata": {
    "ExecuteTime": {
     "end_time": "2020-09-19T12:43:19.201199Z",
     "start_time": "2020-09-19T12:43:18.851147Z"
    }
   },
   "outputs": [
    {
     "name": "stderr",
     "output_type": "stream",
     "text": [
      "C:\\Users\\yashc\\AppData\\Local\\Continuum\\anaconda3\\lib\\site-packages\\ipykernel_launcher.py:1: DataConversionWarning: A column-vector y was passed when a 1d array was expected. Please change the shape of y to (n_samples,), for example using ravel().\n",
      "  \"\"\"Entry point for launching an IPython kernel.\n"
     ]
    },
    {
     "data": {
      "text/plain": [
       "RandomForestClassifier()"
      ]
     },
     "execution_count": 72,
     "metadata": {},
     "output_type": "execute_result"
    }
   ],
   "source": [
    "rf.fit(X, y)"
   ]
  },
  {
   "cell_type": "code",
   "execution_count": 73,
   "metadata": {
    "ExecuteTime": {
     "end_time": "2020-09-19T12:43:19.236104Z",
     "start_time": "2020-09-19T12:43:19.204191Z"
    }
   },
   "outputs": [],
   "source": [
    "pred_final = rf.predict(X_2019)"
   ]
  },
  {
   "cell_type": "code",
   "execution_count": 74,
   "metadata": {
    "ExecuteTime": {
     "end_time": "2020-09-19T12:43:19.247075Z",
     "start_time": "2020-09-19T12:43:19.238103Z"
    }
   },
   "outputs": [
    {
     "data": {
      "text/plain": [
       "0.5423728813559322"
      ]
     },
     "execution_count": 74,
     "metadata": {},
     "output_type": "execute_result"
    }
   ],
   "source": [
    "accuracy_score(y_2019, pred_final)"
   ]
  },
  {
   "cell_type": "code",
   "execution_count": 75,
   "metadata": {
    "ExecuteTime": {
     "end_time": "2020-09-19T12:43:19.288975Z",
     "start_time": "2020-09-19T12:43:19.250067Z"
    }
   },
   "outputs": [
    {
     "data": {
      "text/html": [
       "<div>\n",
       "<style scoped>\n",
       "    .dataframe tbody tr th:only-of-type {\n",
       "        vertical-align: middle;\n",
       "    }\n",
       "\n",
       "    .dataframe tbody tr th {\n",
       "        vertical-align: top;\n",
       "    }\n",
       "\n",
       "    .dataframe thead th {\n",
       "        text-align: right;\n",
       "    }\n",
       "</style>\n",
       "<table border=\"1\" class=\"dataframe\">\n",
       "  <thead>\n",
       "    <tr style=\"text-align: right;\">\n",
       "      <th></th>\n",
       "      <th>id</th>\n",
       "      <th>season</th>\n",
       "      <th>city</th>\n",
       "      <th>date</th>\n",
       "      <th>team1</th>\n",
       "      <th>team2</th>\n",
       "      <th>toss_winner</th>\n",
       "      <th>toss_decision</th>\n",
       "      <th>dl_applied</th>\n",
       "      <th>winner</th>\n",
       "      <th>venue</th>\n",
       "      <th>Result</th>\n",
       "    </tr>\n",
       "  </thead>\n",
       "  <tbody>\n",
       "    <tr>\n",
       "      <th>0</th>\n",
       "      <td>1</td>\n",
       "      <td>2017</td>\n",
       "      <td>Hyderabad</td>\n",
       "      <td>2017-04-05</td>\n",
       "      <td>Sunrisers Hyderabad</td>\n",
       "      <td>Royal Challengers Bangalore</td>\n",
       "      <td>Royal Challengers Bangalore</td>\n",
       "      <td>1</td>\n",
       "      <td>0</td>\n",
       "      <td>Sunrisers Hyderabad</td>\n",
       "      <td>Rajiv Gandhi International Stadium, Uppal</td>\n",
       "      <td>0</td>\n",
       "    </tr>\n",
       "    <tr>\n",
       "      <th>1</th>\n",
       "      <td>2</td>\n",
       "      <td>2017</td>\n",
       "      <td>Pune</td>\n",
       "      <td>2017-04-06</td>\n",
       "      <td>Mumbai Indians</td>\n",
       "      <td>Rising Pune Supergiant</td>\n",
       "      <td>Rising Pune Supergiant</td>\n",
       "      <td>1</td>\n",
       "      <td>0</td>\n",
       "      <td>Rising Pune Supergiant</td>\n",
       "      <td>Maharashtra Cricket Association Stadium</td>\n",
       "      <td>1</td>\n",
       "    </tr>\n",
       "    <tr>\n",
       "      <th>2</th>\n",
       "      <td>3</td>\n",
       "      <td>2017</td>\n",
       "      <td>Rajkot</td>\n",
       "      <td>2017-04-07</td>\n",
       "      <td>Gujarat Lions</td>\n",
       "      <td>Kolkata Knight Riders</td>\n",
       "      <td>Kolkata Knight Riders</td>\n",
       "      <td>1</td>\n",
       "      <td>0</td>\n",
       "      <td>Kolkata Knight Riders</td>\n",
       "      <td>Saurashtra Cricket Association Stadium</td>\n",
       "      <td>1</td>\n",
       "    </tr>\n",
       "    <tr>\n",
       "      <th>3</th>\n",
       "      <td>4</td>\n",
       "      <td>2017</td>\n",
       "      <td>Indore</td>\n",
       "      <td>2017-04-08</td>\n",
       "      <td>Rising Pune Supergiant</td>\n",
       "      <td>Kings XI Punjab</td>\n",
       "      <td>Kings XI Punjab</td>\n",
       "      <td>1</td>\n",
       "      <td>0</td>\n",
       "      <td>Kings XI Punjab</td>\n",
       "      <td>Holkar Cricket Stadium</td>\n",
       "      <td>1</td>\n",
       "    </tr>\n",
       "    <tr>\n",
       "      <th>4</th>\n",
       "      <td>5</td>\n",
       "      <td>2017</td>\n",
       "      <td>Bangalore</td>\n",
       "      <td>2017-04-08</td>\n",
       "      <td>Royal Challengers Bangalore</td>\n",
       "      <td>Delhi Capitals</td>\n",
       "      <td>Royal Challengers Bangalore</td>\n",
       "      <td>0</td>\n",
       "      <td>0</td>\n",
       "      <td>Royal Challengers Bangalore</td>\n",
       "      <td>M Chinnaswamy Stadium</td>\n",
       "      <td>1</td>\n",
       "    </tr>\n",
       "    <tr>\n",
       "      <th>...</th>\n",
       "      <td>...</td>\n",
       "      <td>...</td>\n",
       "      <td>...</td>\n",
       "      <td>...</td>\n",
       "      <td>...</td>\n",
       "      <td>...</td>\n",
       "      <td>...</td>\n",
       "      <td>...</td>\n",
       "      <td>...</td>\n",
       "      <td>...</td>\n",
       "      <td>...</td>\n",
       "      <td>...</td>\n",
       "    </tr>\n",
       "    <tr>\n",
       "      <th>751</th>\n",
       "      <td>11347</td>\n",
       "      <td>2019</td>\n",
       "      <td>Mumbai</td>\n",
       "      <td>05/05/19</td>\n",
       "      <td>Kolkata Knight Riders</td>\n",
       "      <td>Mumbai Indians</td>\n",
       "      <td>Mumbai Indians</td>\n",
       "      <td>1</td>\n",
       "      <td>0</td>\n",
       "      <td>Mumbai Indians</td>\n",
       "      <td>Wankhede Stadium</td>\n",
       "      <td>1</td>\n",
       "    </tr>\n",
       "    <tr>\n",
       "      <th>752</th>\n",
       "      <td>11412</td>\n",
       "      <td>2019</td>\n",
       "      <td>Chennai</td>\n",
       "      <td>07/05/19</td>\n",
       "      <td>Chennai Super Kings</td>\n",
       "      <td>Mumbai Indians</td>\n",
       "      <td>Chennai Super Kings</td>\n",
       "      <td>0</td>\n",
       "      <td>0</td>\n",
       "      <td>Mumbai Indians</td>\n",
       "      <td>MA Chidambaram Stadium, Chepauk</td>\n",
       "      <td>0</td>\n",
       "    </tr>\n",
       "    <tr>\n",
       "      <th>753</th>\n",
       "      <td>11413</td>\n",
       "      <td>2019</td>\n",
       "      <td>Visakhapatnam</td>\n",
       "      <td>08/05/19</td>\n",
       "      <td>Sunrisers Hyderabad</td>\n",
       "      <td>Delhi Capitals</td>\n",
       "      <td>Delhi Capitals</td>\n",
       "      <td>1</td>\n",
       "      <td>0</td>\n",
       "      <td>Delhi Capitals</td>\n",
       "      <td>Dr. Y.S. Rajasekhara Reddy ACA-VDCA Cricket St...</td>\n",
       "      <td>1</td>\n",
       "    </tr>\n",
       "    <tr>\n",
       "      <th>754</th>\n",
       "      <td>11414</td>\n",
       "      <td>2019</td>\n",
       "      <td>Visakhapatnam</td>\n",
       "      <td>10/05/19</td>\n",
       "      <td>Delhi Capitals</td>\n",
       "      <td>Chennai Super Kings</td>\n",
       "      <td>Chennai Super Kings</td>\n",
       "      <td>1</td>\n",
       "      <td>0</td>\n",
       "      <td>Chennai Super Kings</td>\n",
       "      <td>Dr. Y.S. Rajasekhara Reddy ACA-VDCA Cricket St...</td>\n",
       "      <td>1</td>\n",
       "    </tr>\n",
       "    <tr>\n",
       "      <th>755</th>\n",
       "      <td>11415</td>\n",
       "      <td>2019</td>\n",
       "      <td>Hyderabad</td>\n",
       "      <td>12/05/19</td>\n",
       "      <td>Mumbai Indians</td>\n",
       "      <td>Chennai Super Kings</td>\n",
       "      <td>Mumbai Indians</td>\n",
       "      <td>0</td>\n",
       "      <td>0</td>\n",
       "      <td>Mumbai Indians</td>\n",
       "      <td>Rajiv Gandhi International Stadium, Uppal</td>\n",
       "      <td>1</td>\n",
       "    </tr>\n",
       "  </tbody>\n",
       "</table>\n",
       "<p>752 rows × 12 columns</p>\n",
       "</div>"
      ],
      "text/plain": [
       "        id  season           city        date                        team1  \\\n",
       "0        1    2017      Hyderabad  2017-04-05          Sunrisers Hyderabad   \n",
       "1        2    2017           Pune  2017-04-06               Mumbai Indians   \n",
       "2        3    2017         Rajkot  2017-04-07                Gujarat Lions   \n",
       "3        4    2017         Indore  2017-04-08       Rising Pune Supergiant   \n",
       "4        5    2017      Bangalore  2017-04-08  Royal Challengers Bangalore   \n",
       "..     ...     ...            ...         ...                          ...   \n",
       "751  11347    2019         Mumbai    05/05/19        Kolkata Knight Riders   \n",
       "752  11412    2019        Chennai    07/05/19          Chennai Super Kings   \n",
       "753  11413    2019  Visakhapatnam    08/05/19          Sunrisers Hyderabad   \n",
       "754  11414    2019  Visakhapatnam    10/05/19               Delhi Capitals   \n",
       "755  11415    2019      Hyderabad    12/05/19               Mumbai Indians   \n",
       "\n",
       "                           team2                  toss_winner  toss_decision  \\\n",
       "0    Royal Challengers Bangalore  Royal Challengers Bangalore              1   \n",
       "1         Rising Pune Supergiant       Rising Pune Supergiant              1   \n",
       "2          Kolkata Knight Riders        Kolkata Knight Riders              1   \n",
       "3                Kings XI Punjab              Kings XI Punjab              1   \n",
       "4                 Delhi Capitals  Royal Challengers Bangalore              0   \n",
       "..                           ...                          ...            ...   \n",
       "751               Mumbai Indians               Mumbai Indians              1   \n",
       "752               Mumbai Indians          Chennai Super Kings              0   \n",
       "753               Delhi Capitals               Delhi Capitals              1   \n",
       "754          Chennai Super Kings          Chennai Super Kings              1   \n",
       "755          Chennai Super Kings               Mumbai Indians              0   \n",
       "\n",
       "     dl_applied                       winner  \\\n",
       "0             0          Sunrisers Hyderabad   \n",
       "1             0       Rising Pune Supergiant   \n",
       "2             0        Kolkata Knight Riders   \n",
       "3             0              Kings XI Punjab   \n",
       "4             0  Royal Challengers Bangalore   \n",
       "..          ...                          ...   \n",
       "751           0               Mumbai Indians   \n",
       "752           0               Mumbai Indians   \n",
       "753           0               Delhi Capitals   \n",
       "754           0          Chennai Super Kings   \n",
       "755           0               Mumbai Indians   \n",
       "\n",
       "                                                 venue  Result  \n",
       "0            Rajiv Gandhi International Stadium, Uppal       0  \n",
       "1              Maharashtra Cricket Association Stadium       1  \n",
       "2               Saurashtra Cricket Association Stadium       1  \n",
       "3                               Holkar Cricket Stadium       1  \n",
       "4                                M Chinnaswamy Stadium       1  \n",
       "..                                                 ...     ...  \n",
       "751                                   Wankhede Stadium       1  \n",
       "752                    MA Chidambaram Stadium, Chepauk       0  \n",
       "753  Dr. Y.S. Rajasekhara Reddy ACA-VDCA Cricket St...       1  \n",
       "754  Dr. Y.S. Rajasekhara Reddy ACA-VDCA Cricket St...       1  \n",
       "755          Rajiv Gandhi International Stadium, Uppal       1  \n",
       "\n",
       "[752 rows x 12 columns]"
      ]
     },
     "execution_count": 75,
     "metadata": {},
     "output_type": "execute_result"
    }
   ],
   "source": [
    "matches_final"
   ]
  },
  {
   "cell_type": "code",
   "execution_count": 76,
   "metadata": {
    "ExecuteTime": {
     "end_time": "2020-09-19T12:43:19.301929Z",
     "start_time": "2020-09-19T12:43:19.293951Z"
    }
   },
   "outputs": [],
   "source": [
    "df = matches_final.drop(['toss_winner', 'toss_decision', 'dl_applied', 'Result', 'date', 'city', 'id'], axis = 1)"
   ]
  },
  {
   "cell_type": "code",
   "execution_count": 77,
   "metadata": {
    "ExecuteTime": {
     "end_time": "2020-09-19T12:43:19.311904Z",
     "start_time": "2020-09-19T12:43:19.304942Z"
    }
   },
   "outputs": [],
   "source": [
    "df['Result'] = np.where(df['winner'] == df['team1'], 1, 0)"
   ]
  },
  {
   "cell_type": "code",
   "execution_count": 78,
   "metadata": {
    "ExecuteTime": {
     "end_time": "2020-09-19T12:43:19.320881Z",
     "start_time": "2020-09-19T12:43:19.315890Z"
    }
   },
   "outputs": [],
   "source": [
    "df.drop('winner', axis = 1, inplace = True)"
   ]
  },
  {
   "cell_type": "code",
   "execution_count": 79,
   "metadata": {
    "ExecuteTime": {
     "end_time": "2020-09-19T12:43:19.329854Z",
     "start_time": "2020-09-19T12:43:19.323869Z"
    }
   },
   "outputs": [],
   "source": [
    "df_1 = df.copy()"
   ]
  },
  {
   "cell_type": "code",
   "execution_count": 80,
   "metadata": {
    "ExecuteTime": {
     "end_time": "2020-09-19T12:43:19.348802Z",
     "start_time": "2020-09-19T12:43:19.332847Z"
    }
   },
   "outputs": [],
   "source": [
    "df = pd.get_dummies(df)"
   ]
  },
  {
   "cell_type": "code",
   "execution_count": 81,
   "metadata": {
    "ExecuteTime": {
     "end_time": "2020-09-19T12:43:19.375739Z",
     "start_time": "2020-09-19T12:43:19.350798Z"
    }
   },
   "outputs": [
    {
     "data": {
      "text/html": [
       "<div>\n",
       "<style scoped>\n",
       "    .dataframe tbody tr th:only-of-type {\n",
       "        vertical-align: middle;\n",
       "    }\n",
       "\n",
       "    .dataframe tbody tr th {\n",
       "        vertical-align: top;\n",
       "    }\n",
       "\n",
       "    .dataframe thead th {\n",
       "        text-align: right;\n",
       "    }\n",
       "</style>\n",
       "<table border=\"1\" class=\"dataframe\">\n",
       "  <thead>\n",
       "    <tr style=\"text-align: right;\">\n",
       "      <th></th>\n",
       "      <th>season</th>\n",
       "      <th>Result</th>\n",
       "      <th>team1_Chennai Super Kings</th>\n",
       "      <th>team1_Deccan Chargers</th>\n",
       "      <th>team1_Delhi Capitals</th>\n",
       "      <th>team1_Gujarat Lions</th>\n",
       "      <th>team1_Kings XI Punjab</th>\n",
       "      <th>team1_Kochi Tuskers Kerala</th>\n",
       "      <th>team1_Kolkata Knight Riders</th>\n",
       "      <th>team1_Mumbai Indians</th>\n",
       "      <th>...</th>\n",
       "      <th>venue_Sardar Patel Stadium, Motera</th>\n",
       "      <th>venue_Saurashtra Cricket Association Stadium</th>\n",
       "      <th>venue_Sawai Mansingh Stadium</th>\n",
       "      <th>venue_Shaheed Veer Narayan Singh International Stadium</th>\n",
       "      <th>venue_Sharjah Cricket Stadium</th>\n",
       "      <th>venue_Sheikh Zayed Stadium</th>\n",
       "      <th>venue_St George's Park</th>\n",
       "      <th>venue_SuperSport Park</th>\n",
       "      <th>venue_Vidarbha Cricket Association Stadium, Jamtha</th>\n",
       "      <th>venue_Wankhede Stadium</th>\n",
       "    </tr>\n",
       "  </thead>\n",
       "  <tbody>\n",
       "    <tr>\n",
       "      <th>0</th>\n",
       "      <td>2017</td>\n",
       "      <td>1</td>\n",
       "      <td>0</td>\n",
       "      <td>0</td>\n",
       "      <td>0</td>\n",
       "      <td>0</td>\n",
       "      <td>0</td>\n",
       "      <td>0</td>\n",
       "      <td>0</td>\n",
       "      <td>0</td>\n",
       "      <td>...</td>\n",
       "      <td>0</td>\n",
       "      <td>0</td>\n",
       "      <td>0</td>\n",
       "      <td>0</td>\n",
       "      <td>0</td>\n",
       "      <td>0</td>\n",
       "      <td>0</td>\n",
       "      <td>0</td>\n",
       "      <td>0</td>\n",
       "      <td>0</td>\n",
       "    </tr>\n",
       "    <tr>\n",
       "      <th>1</th>\n",
       "      <td>2017</td>\n",
       "      <td>0</td>\n",
       "      <td>0</td>\n",
       "      <td>0</td>\n",
       "      <td>0</td>\n",
       "      <td>0</td>\n",
       "      <td>0</td>\n",
       "      <td>0</td>\n",
       "      <td>0</td>\n",
       "      <td>1</td>\n",
       "      <td>...</td>\n",
       "      <td>0</td>\n",
       "      <td>0</td>\n",
       "      <td>0</td>\n",
       "      <td>0</td>\n",
       "      <td>0</td>\n",
       "      <td>0</td>\n",
       "      <td>0</td>\n",
       "      <td>0</td>\n",
       "      <td>0</td>\n",
       "      <td>0</td>\n",
       "    </tr>\n",
       "    <tr>\n",
       "      <th>2</th>\n",
       "      <td>2017</td>\n",
       "      <td>0</td>\n",
       "      <td>0</td>\n",
       "      <td>0</td>\n",
       "      <td>0</td>\n",
       "      <td>1</td>\n",
       "      <td>0</td>\n",
       "      <td>0</td>\n",
       "      <td>0</td>\n",
       "      <td>0</td>\n",
       "      <td>...</td>\n",
       "      <td>0</td>\n",
       "      <td>1</td>\n",
       "      <td>0</td>\n",
       "      <td>0</td>\n",
       "      <td>0</td>\n",
       "      <td>0</td>\n",
       "      <td>0</td>\n",
       "      <td>0</td>\n",
       "      <td>0</td>\n",
       "      <td>0</td>\n",
       "    </tr>\n",
       "    <tr>\n",
       "      <th>3</th>\n",
       "      <td>2017</td>\n",
       "      <td>0</td>\n",
       "      <td>0</td>\n",
       "      <td>0</td>\n",
       "      <td>0</td>\n",
       "      <td>0</td>\n",
       "      <td>0</td>\n",
       "      <td>0</td>\n",
       "      <td>0</td>\n",
       "      <td>0</td>\n",
       "      <td>...</td>\n",
       "      <td>0</td>\n",
       "      <td>0</td>\n",
       "      <td>0</td>\n",
       "      <td>0</td>\n",
       "      <td>0</td>\n",
       "      <td>0</td>\n",
       "      <td>0</td>\n",
       "      <td>0</td>\n",
       "      <td>0</td>\n",
       "      <td>0</td>\n",
       "    </tr>\n",
       "    <tr>\n",
       "      <th>4</th>\n",
       "      <td>2017</td>\n",
       "      <td>1</td>\n",
       "      <td>0</td>\n",
       "      <td>0</td>\n",
       "      <td>0</td>\n",
       "      <td>0</td>\n",
       "      <td>0</td>\n",
       "      <td>0</td>\n",
       "      <td>0</td>\n",
       "      <td>0</td>\n",
       "      <td>...</td>\n",
       "      <td>0</td>\n",
       "      <td>0</td>\n",
       "      <td>0</td>\n",
       "      <td>0</td>\n",
       "      <td>0</td>\n",
       "      <td>0</td>\n",
       "      <td>0</td>\n",
       "      <td>0</td>\n",
       "      <td>0</td>\n",
       "      <td>0</td>\n",
       "    </tr>\n",
       "  </tbody>\n",
       "</table>\n",
       "<p>5 rows × 61 columns</p>\n",
       "</div>"
      ],
      "text/plain": [
       "   season  Result  team1_Chennai Super Kings  team1_Deccan Chargers  \\\n",
       "0    2017       1                          0                      0   \n",
       "1    2017       0                          0                      0   \n",
       "2    2017       0                          0                      0   \n",
       "3    2017       0                          0                      0   \n",
       "4    2017       1                          0                      0   \n",
       "\n",
       "   team1_Delhi Capitals  team1_Gujarat Lions  team1_Kings XI Punjab  \\\n",
       "0                     0                    0                      0   \n",
       "1                     0                    0                      0   \n",
       "2                     0                    1                      0   \n",
       "3                     0                    0                      0   \n",
       "4                     0                    0                      0   \n",
       "\n",
       "   team1_Kochi Tuskers Kerala  team1_Kolkata Knight Riders  \\\n",
       "0                           0                            0   \n",
       "1                           0                            0   \n",
       "2                           0                            0   \n",
       "3                           0                            0   \n",
       "4                           0                            0   \n",
       "\n",
       "   team1_Mumbai Indians  ...  venue_Sardar Patel Stadium, Motera  \\\n",
       "0                     0  ...                                   0   \n",
       "1                     1  ...                                   0   \n",
       "2                     0  ...                                   0   \n",
       "3                     0  ...                                   0   \n",
       "4                     0  ...                                   0   \n",
       "\n",
       "   venue_Saurashtra Cricket Association Stadium  venue_Sawai Mansingh Stadium  \\\n",
       "0                                             0                             0   \n",
       "1                                             0                             0   \n",
       "2                                             1                             0   \n",
       "3                                             0                             0   \n",
       "4                                             0                             0   \n",
       "\n",
       "   venue_Shaheed Veer Narayan Singh International Stadium  \\\n",
       "0                                                  0        \n",
       "1                                                  0        \n",
       "2                                                  0        \n",
       "3                                                  0        \n",
       "4                                                  0        \n",
       "\n",
       "   venue_Sharjah Cricket Stadium  venue_Sheikh Zayed Stadium  \\\n",
       "0                              0                           0   \n",
       "1                              0                           0   \n",
       "2                              0                           0   \n",
       "3                              0                           0   \n",
       "4                              0                           0   \n",
       "\n",
       "   venue_St George's Park  venue_SuperSport Park  \\\n",
       "0                       0                      0   \n",
       "1                       0                      0   \n",
       "2                       0                      0   \n",
       "3                       0                      0   \n",
       "4                       0                      0   \n",
       "\n",
       "   venue_Vidarbha Cricket Association Stadium, Jamtha  venue_Wankhede Stadium  \n",
       "0                                                  0                        0  \n",
       "1                                                  0                        0  \n",
       "2                                                  0                        0  \n",
       "3                                                  0                        0  \n",
       "4                                                  0                        0  \n",
       "\n",
       "[5 rows x 61 columns]"
      ]
     },
     "execution_count": 81,
     "metadata": {},
     "output_type": "execute_result"
    }
   ],
   "source": [
    "df.head()"
   ]
  },
  {
   "cell_type": "code",
   "execution_count": 82,
   "metadata": {
    "ExecuteTime": {
     "end_time": "2020-09-19T12:43:19.391691Z",
     "start_time": "2020-09-19T12:43:19.379720Z"
    }
   },
   "outputs": [],
   "source": [
    "train_df = df[df['season'] <= 2018]\n",
    "test_df = df[df['season'] == 2019]"
   ]
  },
  {
   "cell_type": "code",
   "execution_count": 83,
   "metadata": {
    "ExecuteTime": {
     "end_time": "2020-09-19T12:43:19.402658Z",
     "start_time": "2020-09-19T12:43:19.394682Z"
    }
   },
   "outputs": [
    {
     "name": "stderr",
     "output_type": "stream",
     "text": [
      "C:\\Users\\yashc\\AppData\\Local\\Continuum\\anaconda3\\lib\\site-packages\\pandas\\core\\frame.py:4167: SettingWithCopyWarning: \n",
      "A value is trying to be set on a copy of a slice from a DataFrame\n",
      "\n",
      "See the caveats in the documentation: https://pandas.pydata.org/pandas-docs/stable/user_guide/indexing.html#returning-a-view-versus-a-copy\n",
      "  errors=errors,\n"
     ]
    }
   ],
   "source": [
    "train_df.drop(['season'], axis = 1, inplace = True)"
   ]
  },
  {
   "cell_type": "code",
   "execution_count": 84,
   "metadata": {
    "ExecuteTime": {
     "end_time": "2020-09-19T12:43:19.412652Z",
     "start_time": "2020-09-19T12:43:19.406648Z"
    }
   },
   "outputs": [],
   "source": [
    "test_df.drop(['season'], axis = 1, inplace = True)"
   ]
  },
  {
   "cell_type": "code",
   "execution_count": 85,
   "metadata": {
    "ExecuteTime": {
     "end_time": "2020-09-19T12:43:19.423602Z",
     "start_time": "2020-09-19T12:43:19.416623Z"
    }
   },
   "outputs": [],
   "source": [
    "X_2019= test_df.drop('Result', axis = 1)\n",
    "y_2019 = test_df[['Result']]"
   ]
  },
  {
   "cell_type": "code",
   "execution_count": 86,
   "metadata": {
    "ExecuteTime": {
     "end_time": "2020-09-19T12:43:19.432590Z",
     "start_time": "2020-09-19T12:43:19.426595Z"
    }
   },
   "outputs": [],
   "source": [
    "X_df = train_df.drop('Result', axis = 1)\n",
    "y_df = train_df[['Result']]"
   ]
  },
  {
   "cell_type": "code",
   "execution_count": 87,
   "metadata": {
    "ExecuteTime": {
     "end_time": "2020-09-19T12:43:19.444546Z",
     "start_time": "2020-09-19T12:43:19.435571Z"
    }
   },
   "outputs": [],
   "source": [
    "X_train, X_cv, y_train, y_cv = train_test_split(X_df, y_df, test_size = 0.3)"
   ]
  },
  {
   "cell_type": "markdown",
   "metadata": {},
   "source": [
    "### Logistic regression"
   ]
  },
  {
   "cell_type": "code",
   "execution_count": 88,
   "metadata": {
    "ExecuteTime": {
     "end_time": "2020-09-19T12:43:19.450535Z",
     "start_time": "2020-09-19T12:43:19.447539Z"
    }
   },
   "outputs": [],
   "source": [
    "model_df = LogisticRegression()"
   ]
  },
  {
   "cell_type": "code",
   "execution_count": 89,
   "metadata": {
    "ExecuteTime": {
     "end_time": "2020-09-19T12:43:19.481468Z",
     "start_time": "2020-09-19T12:43:19.453524Z"
    }
   },
   "outputs": [
    {
     "name": "stderr",
     "output_type": "stream",
     "text": [
      "C:\\Users\\yashc\\AppData\\Local\\Continuum\\anaconda3\\lib\\site-packages\\sklearn\\utils\\validation.py:72: DataConversionWarning: A column-vector y was passed when a 1d array was expected. Please change the shape of y to (n_samples, ), for example using ravel().\n",
      "  return f(**kwargs)\n"
     ]
    },
    {
     "data": {
      "text/plain": [
       "LogisticRegression()"
      ]
     },
     "execution_count": 89,
     "metadata": {},
     "output_type": "execute_result"
    }
   ],
   "source": [
    "model_df.fit(X_train, y_train)"
   ]
  },
  {
   "cell_type": "code",
   "execution_count": 90,
   "metadata": {
    "ExecuteTime": {
     "end_time": "2020-09-19T12:43:19.492418Z",
     "start_time": "2020-09-19T12:43:19.483442Z"
    }
   },
   "outputs": [],
   "source": [
    "pred_df = model_df.predict(X_cv)"
   ]
  },
  {
   "cell_type": "code",
   "execution_count": 91,
   "metadata": {
    "ExecuteTime": {
     "end_time": "2020-09-19T12:43:19.504386Z",
     "start_time": "2020-09-19T12:43:19.495410Z"
    }
   },
   "outputs": [],
   "source": [
    "pred_df_1 = model_df.predict_proba(X_cv)"
   ]
  },
  {
   "cell_type": "code",
   "execution_count": 92,
   "metadata": {
    "ExecuteTime": {
     "end_time": "2020-09-19T12:43:19.512365Z",
     "start_time": "2020-09-19T12:43:19.507379Z"
    }
   },
   "outputs": [],
   "source": [
    "pred_df_1 = pred_df_1[:,1]"
   ]
  },
  {
   "cell_type": "code",
   "execution_count": 93,
   "metadata": {
    "ExecuteTime": {
     "end_time": "2020-09-19T12:43:19.523336Z",
     "start_time": "2020-09-19T12:43:19.515359Z"
    }
   },
   "outputs": [
    {
     "data": {
      "text/plain": [
       "0.5192307692307693"
      ]
     },
     "execution_count": 93,
     "metadata": {},
     "output_type": "execute_result"
    }
   ],
   "source": [
    "accuracy_score(y_cv, pred_df)"
   ]
  },
  {
   "cell_type": "code",
   "execution_count": 94,
   "metadata": {
    "ExecuteTime": {
     "end_time": "2020-09-19T12:43:19.532320Z",
     "start_time": "2020-09-19T12:43:19.525331Z"
    }
   },
   "outputs": [],
   "source": [
    "pred_2019_df = model_df.predict(X_2019)"
   ]
  },
  {
   "cell_type": "code",
   "execution_count": 95,
   "metadata": {
    "ExecuteTime": {
     "end_time": "2020-09-19T12:43:19.542284Z",
     "start_time": "2020-09-19T12:43:19.535305Z"
    }
   },
   "outputs": [],
   "source": [
    "pred_2019_df_1 = model_df.predict_proba(X_2019)"
   ]
  },
  {
   "cell_type": "code",
   "execution_count": 96,
   "metadata": {
    "ExecuteTime": {
     "end_time": "2020-09-19T12:43:19.549276Z",
     "start_time": "2020-09-19T12:43:19.545277Z"
    }
   },
   "outputs": [],
   "source": [
    "pred_2019_df_1 = pred_2019_df_1[:,1]"
   ]
  },
  {
   "cell_type": "code",
   "execution_count": 97,
   "metadata": {
    "ExecuteTime": {
     "end_time": "2020-09-19T12:43:19.559239Z",
     "start_time": "2020-09-19T12:43:19.551261Z"
    }
   },
   "outputs": [
    {
     "data": {
      "text/plain": [
       "0.4915254237288136"
      ]
     },
     "execution_count": 97,
     "metadata": {},
     "output_type": "execute_result"
    }
   ],
   "source": [
    "accuracy_score(y_2019, pred_2019_df)"
   ]
  },
  {
   "cell_type": "code",
   "execution_count": 98,
   "metadata": {
    "ExecuteTime": {
     "end_time": "2020-09-19T12:43:19.566221Z",
     "start_time": "2020-09-19T12:43:19.562232Z"
    }
   },
   "outputs": [],
   "source": [
    "# roc curve and auc\n",
    "from sklearn.metrics import roc_curve\n",
    "from sklearn.metrics import roc_auc_score\n",
    "from matplotlib import pyplot"
   ]
  },
  {
   "cell_type": "code",
   "execution_count": 99,
   "metadata": {
    "ExecuteTime": {
     "end_time": "2020-09-19T12:43:19.585170Z",
     "start_time": "2020-09-19T12:43:19.568217Z"
    }
   },
   "outputs": [
    {
     "name": "stdout",
     "output_type": "stream",
     "text": [
      "Logistic: ROC AUC=0.567\n",
      "Logistic_2019: ROC AUC=0.487\n"
     ]
    }
   ],
   "source": [
    "lr_auc = roc_auc_score(y_cv, pred_df_1)\n",
    "lr_auc_2019 = roc_auc_score(y_2019, pred_2019_df_1)\n",
    "print('Logistic: ROC AUC=%.3f' % (lr_auc))\n",
    "print('Logistic_2019: ROC AUC=%.3f' % (lr_auc_2019))"
   ]
  },
  {
   "cell_type": "code",
   "execution_count": 100,
   "metadata": {
    "ExecuteTime": {
     "end_time": "2020-09-19T12:43:19.597139Z",
     "start_time": "2020-09-19T12:43:19.588162Z"
    }
   },
   "outputs": [],
   "source": [
    "lr_fpr, lr_tpr, _ = roc_curve(y_cv, pred_df_1)\n",
    "lr_fpr_2019, lr_tpr_2019, _2019 = roc_curve(y_2019, pred_2019_df_1)"
   ]
  },
  {
   "cell_type": "code",
   "execution_count": 101,
   "metadata": {
    "ExecuteTime": {
     "end_time": "2020-09-19T12:43:19.804593Z",
     "start_time": "2020-09-19T12:43:19.600130Z"
    }
   },
   "outputs": [
    {
     "data": {
      "image/png": "[encoded data removed]",
      "text/plain": [
       "<Figure size 432x288 with 1 Axes>"
      ]
     },
     "metadata": {
      "needs_background": "light"
     },
     "output_type": "display_data"
    }
   ],
   "source": [
    "# plot the roc curve for the model\n",
    "pyplot.plot(lr_fpr, lr_tpr, marker='.', label='Logistic')\n",
    "pyplot.plot(lr_fpr_2019, lr_tpr_2019, marker='.', label='Logistic_2019')\n",
    "# axis labels\n",
    "pyplot.xlabel('False Positive Rate')\n",
    "pyplot.ylabel('True Positive Rate')\n",
    "# show the legend\n",
    "pyplot.legend()\n",
    "# show the plot\n",
    "pyplot.show()"
   ]
  },
  {
   "cell_type": "markdown",
   "metadata": {},
   "source": [
    "### Decision Tree"
   ]
  },
  {
   "cell_type": "code",
   "execution_count": 102,
   "metadata": {
    "ExecuteTime": {
     "end_time": "2020-09-19T12:43:19.812583Z",
     "start_time": "2020-09-19T12:43:19.806594Z"
    }
   },
   "outputs": [],
   "source": [
    "dt = DecisionTreeClassifier()"
   ]
  },
  {
   "cell_type": "code",
   "execution_count": 103,
   "metadata": {
    "ExecuteTime": {
     "end_time": "2020-09-19T12:43:19.832513Z",
     "start_time": "2020-09-19T12:43:19.815555Z"
    }
   },
   "outputs": [
    {
     "data": {
      "text/plain": [
       "DecisionTreeClassifier()"
      ]
     },
     "execution_count": 103,
     "metadata": {},
     "output_type": "execute_result"
    }
   ],
   "source": [
    "dt.fit(X_train, y_train)"
   ]
  },
  {
   "cell_type": "code",
   "execution_count": 104,
   "metadata": {
    "ExecuteTime": {
     "end_time": "2020-09-19T12:43:19.841489Z",
     "start_time": "2020-09-19T12:43:19.834504Z"
    }
   },
   "outputs": [],
   "source": [
    "pred_df_dt = dt.predict(X_cv)"
   ]
  },
  {
   "cell_type": "code",
   "execution_count": 105,
   "metadata": {
    "ExecuteTime": {
     "end_time": "2020-09-19T12:43:19.852467Z",
     "start_time": "2020-09-19T12:43:19.843481Z"
    }
   },
   "outputs": [],
   "source": [
    "pred_df_dt_1 = dt.predict_proba(X_cv)"
   ]
  },
  {
   "cell_type": "code",
   "execution_count": 106,
   "metadata": {
    "ExecuteTime": {
     "end_time": "2020-09-19T12:43:19.860435Z",
     "start_time": "2020-09-19T12:43:19.856459Z"
    }
   },
   "outputs": [],
   "source": [
    "pred_df_dt_1 = pred_df_dt_1[:, 1]"
   ]
  },
  {
   "cell_type": "code",
   "execution_count": 107,
   "metadata": {
    "ExecuteTime": {
     "end_time": "2020-09-19T12:43:19.872413Z",
     "start_time": "2020-09-19T12:43:19.864425Z"
    }
   },
   "outputs": [
    {
     "data": {
      "text/plain": [
       "0.5576923076923077"
      ]
     },
     "execution_count": 107,
     "metadata": {},
     "output_type": "execute_result"
    }
   ],
   "source": [
    "accuracy_score(y_cv, pred_df_dt)"
   ]
  },
  {
   "cell_type": "code",
   "execution_count": 108,
   "metadata": {
    "ExecuteTime": {
     "end_time": "2020-09-19T12:43:19.885367Z",
     "start_time": "2020-09-19T12:43:19.876410Z"
    }
   },
   "outputs": [],
   "source": [
    "pred_df_2019 = dt.predict(X_2019)"
   ]
  },
  {
   "cell_type": "code",
   "execution_count": 109,
   "metadata": {
    "ExecuteTime": {
     "end_time": "2020-09-19T12:43:19.896341Z",
     "start_time": "2020-09-19T12:43:19.887362Z"
    }
   },
   "outputs": [],
   "source": [
    "pred_2019_df_dt = dt.predict_proba(X_2019)"
   ]
  },
  {
   "cell_type": "code",
   "execution_count": 110,
   "metadata": {
    "ExecuteTime": {
     "end_time": "2020-09-19T12:43:19.905313Z",
     "start_time": "2020-09-19T12:43:19.900329Z"
    }
   },
   "outputs": [],
   "source": [
    "pred_2019_df_dt = pred_2019_df_dt[:,1]"
   ]
  },
  {
   "cell_type": "code",
   "execution_count": 111,
   "metadata": {
    "ExecuteTime": {
     "end_time": "2020-09-19T12:43:19.915292Z",
     "start_time": "2020-09-19T12:43:19.907309Z"
    }
   },
   "outputs": [
    {
     "data": {
      "text/plain": [
       "0.6440677966101694"
      ]
     },
     "execution_count": 111,
     "metadata": {},
     "output_type": "execute_result"
    }
   ],
   "source": [
    "accuracy_score(y_2019, pred_df_2019)"
   ]
  },
  {
   "cell_type": "code",
   "execution_count": 112,
   "metadata": {
    "ExecuteTime": {
     "end_time": "2020-09-19T12:43:19.932243Z",
     "start_time": "2020-09-19T12:43:19.918279Z"
    }
   },
   "outputs": [
    {
     "name": "stdout",
     "output_type": "stream",
     "text": [
      "Decision Tree: ROC AUC=0.571\n",
      "Decision tree 2019: ROC AUC=0.590\n"
     ]
    }
   ],
   "source": [
    "dt_auc = roc_auc_score(y_cv, pred_df_dt_1)\n",
    "dt_auc_2019 = roc_auc_score(y_2019, pred_2019_df_dt)\n",
    "print('Decision Tree: ROC AUC=%.3f' % (dt_auc))\n",
    "print('Decision tree 2019: ROC AUC=%.3f' % (dt_auc_2019))"
   ]
  },
  {
   "cell_type": "code",
   "execution_count": 113,
   "metadata": {
    "ExecuteTime": {
     "end_time": "2020-09-19T12:43:19.941219Z",
     "start_time": "2020-09-19T12:43:19.934238Z"
    }
   },
   "outputs": [],
   "source": [
    "lr_fpr, lr_tpr, _ = roc_curve(y_cv, pred_df_dt_1)\n",
    "lr_fpr_2019, lr_tpr_2019, _2019 = roc_curve(y_2019, pred_2019_df_dt)"
   ]
  },
  {
   "cell_type": "code",
   "execution_count": 114,
   "metadata": {
    "ExecuteTime": {
     "end_time": "2020-09-19T12:43:20.152656Z",
     "start_time": "2020-09-19T12:43:19.944213Z"
    }
   },
   "outputs": [
    {
     "data": {
      "image/png": "[encoded data removed]",
      "text/plain": [
       "<Figure size 432x288 with 1 Axes>"
      ]
     },
     "metadata": {
      "needs_background": "light"
     },
     "output_type": "display_data"
    }
   ],
   "source": [
    "# plot the roc curve for the model\n",
    "pyplot.plot(lr_fpr, lr_tpr, marker='.', label='Decision Tree')\n",
    "pyplot.plot(lr_fpr_2019, lr_tpr_2019, marker='.', label='Decision Tree 2019')\n",
    "# axis labels\n",
    "pyplot.xlabel('False Positive Rate')\n",
    "pyplot.ylabel('True Positive Rate')\n",
    "# show the legend\n",
    "pyplot.legend()\n",
    "# show the plot\n",
    "pyplot.show()"
   ]
  },
  {
   "cell_type": "markdown",
   "metadata": {},
   "source": [
    "### Random Forest"
   ]
  },
  {
   "cell_type": "code",
   "execution_count": 115,
   "metadata": {
    "ExecuteTime": {
     "end_time": "2020-09-19T12:43:20.432907Z",
     "start_time": "2020-09-19T12:43:20.156642Z"
    }
   },
   "outputs": [
    {
     "name": "stderr",
     "output_type": "stream",
     "text": [
      "C:\\Users\\yashc\\AppData\\Local\\Continuum\\anaconda3\\lib\\site-packages\\ipykernel_launcher.py:1: DataConversionWarning: A column-vector y was passed when a 1d array was expected. Please change the shape of y to (n_samples,), for example using ravel().\n",
      "  \"\"\"Entry point for launching an IPython kernel.\n"
     ]
    },
    {
     "data": {
      "text/plain": [
       "RandomForestClassifier()"
      ]
     },
     "execution_count": 115,
     "metadata": {},
     "output_type": "execute_result"
    }
   ],
   "source": [
    "rf.fit(X_train, y_train)"
   ]
  },
  {
   "cell_type": "code",
   "execution_count": 116,
   "metadata": {
    "ExecuteTime": {
     "end_time": "2020-09-19T12:43:20.464818Z",
     "start_time": "2020-09-19T12:43:20.434900Z"
    }
   },
   "outputs": [],
   "source": [
    "pred_rf_df = rf.predict(X_cv)"
   ]
  },
  {
   "cell_type": "code",
   "execution_count": 117,
   "metadata": {
    "ExecuteTime": {
     "end_time": "2020-09-19T12:43:20.502719Z",
     "start_time": "2020-09-19T12:43:20.466814Z"
    }
   },
   "outputs": [],
   "source": [
    "pred_rf_df_1 = rf.predict_proba(X_cv)"
   ]
  },
  {
   "cell_type": "code",
   "execution_count": 118,
   "metadata": {
    "ExecuteTime": {
     "end_time": "2020-09-19T12:43:20.508700Z",
     "start_time": "2020-09-19T12:43:20.504711Z"
    }
   },
   "outputs": [],
   "source": [
    "pred_rf_df_1 = pred_rf_df_1[:,1]"
   ]
  },
  {
   "cell_type": "code",
   "execution_count": 119,
   "metadata": {
    "ExecuteTime": {
     "end_time": "2020-09-19T12:43:20.519678Z",
     "start_time": "2020-09-19T12:43:20.512697Z"
    }
   },
   "outputs": [
    {
     "data": {
      "text/plain": [
       "0.5625"
      ]
     },
     "execution_count": 119,
     "metadata": {},
     "output_type": "execute_result"
    }
   ],
   "source": [
    "accuracy_score(y_cv, pred_rf_df)"
   ]
  },
  {
   "cell_type": "code",
   "execution_count": 120,
   "metadata": {
    "ExecuteTime": {
     "end_time": "2020-09-19T12:43:20.548595Z",
     "start_time": "2020-09-19T12:43:20.522664Z"
    }
   },
   "outputs": [],
   "source": [
    "pred_rf_2019_df = rf.predict(X_2019)"
   ]
  },
  {
   "cell_type": "code",
   "execution_count": 121,
   "metadata": {
    "ExecuteTime": {
     "end_time": "2020-09-19T12:43:20.574559Z",
     "start_time": "2020-09-19T12:43:20.551592Z"
    }
   },
   "outputs": [],
   "source": [
    "pred_2019_rf_df = rf.predict_proba(X_2019)"
   ]
  },
  {
   "cell_type": "code",
   "execution_count": 122,
   "metadata": {
    "ExecuteTime": {
     "end_time": "2020-09-19T12:43:20.581509Z",
     "start_time": "2020-09-19T12:43:20.576520Z"
    }
   },
   "outputs": [],
   "source": [
    "pred_2019_rf_df = pred_2019_rf_df[:, 1]"
   ]
  },
  {
   "cell_type": "code",
   "execution_count": 123,
   "metadata": {
    "ExecuteTime": {
     "end_time": "2020-09-19T12:43:20.594488Z",
     "start_time": "2020-09-19T12:43:20.585497Z"
    }
   },
   "outputs": [
    {
     "data": {
      "text/plain": [
       "0.5932203389830508"
      ]
     },
     "execution_count": 123,
     "metadata": {},
     "output_type": "execute_result"
    }
   ],
   "source": [
    "accuracy_score(y_2019, pred_rf_2019_df)"
   ]
  },
  {
   "cell_type": "code",
   "execution_count": 124,
   "metadata": {
    "ExecuteTime": {
     "end_time": "2020-09-19T12:43:20.614418Z",
     "start_time": "2020-09-19T12:43:20.596467Z"
    }
   },
   "outputs": [
    {
     "name": "stdout",
     "output_type": "stream",
     "text": [
      "Random Forest: ROC AUC=0.581\n",
      "Random Forest 2019: ROC AUC=0.540\n"
     ]
    }
   ],
   "source": [
    "rf_auc = roc_auc_score(y_cv, pred_rf_df_1)\n",
    "rf_auc_2019 = roc_auc_score(y_2019, pred_2019_rf_df)\n",
    "print('Random Forest: ROC AUC=%.3f' % (rf_auc))\n",
    "print('Random Forest 2019: ROC AUC=%.3f' % (rf_auc_2019))"
   ]
  },
  {
   "cell_type": "code",
   "execution_count": 125,
   "metadata": {
    "ExecuteTime": {
     "end_time": "2020-09-19T12:43:20.625399Z",
     "start_time": "2020-09-19T12:43:20.616413Z"
    }
   },
   "outputs": [],
   "source": [
    "lr_fpr, lr_tpr, _ = roc_curve(y_cv, pred_rf_df_1)\n",
    "lr_fpr_2019, lr_tpr_2019, _2019 = roc_curve(y_2019, pred_2019_rf_df)"
   ]
  },
  {
   "cell_type": "code",
   "execution_count": 126,
   "metadata": {
    "ExecuteTime": {
     "end_time": "2020-09-19T12:43:20.834858Z",
     "start_time": "2020-09-19T12:43:20.628381Z"
    }
   },
   "outputs": [
    {
     "data": {
      "image/png": "[encoded data removed]",
      "text/plain": [
       "<Figure size 432x288 with 1 Axes>"
      ]
     },
     "metadata": {
      "needs_background": "light"
     },
     "output_type": "display_data"
    }
   ],
   "source": [
    "# plot the roc curve for the model\n",
    "pyplot.plot(lr_fpr, lr_tpr, marker='.', label='Random Forest')\n",
    "pyplot.plot(lr_fpr_2019, lr_tpr_2019, marker='.', label='Random Forest 2019')\n",
    "# axis labels\n",
    "pyplot.xlabel('False Positive Rate')\n",
    "pyplot.ylabel('True Positive Rate')\n",
    "# show the legend\n",
    "pyplot.legend()\n",
    "# show the plot\n",
    "pyplot.show()"
   ]
  },
  {
   "cell_type": "markdown",
   "metadata": {},
   "source": [
    "## Final"
   ]
  },
  {
   "cell_type": "code",
   "execution_count": 127,
   "metadata": {
    "ExecuteTime": {
     "end_time": "2020-09-19T12:43:21.132052Z",
     "start_time": "2020-09-19T12:43:20.836825Z"
    }
   },
   "outputs": [
    {
     "name": "stderr",
     "output_type": "stream",
     "text": [
      "C:\\Users\\yashc\\AppData\\Local\\Continuum\\anaconda3\\lib\\site-packages\\ipykernel_launcher.py:1: DataConversionWarning: A column-vector y was passed when a 1d array was expected. Please change the shape of y to (n_samples,), for example using ravel().\n",
      "  \"\"\"Entry point for launching an IPython kernel.\n"
     ]
    },
    {
     "data": {
      "text/plain": [
       "RandomForestClassifier()"
      ]
     },
     "execution_count": 127,
     "metadata": {},
     "output_type": "execute_result"
    }
   ],
   "source": [
    "rf.fit(X_df, y_df)"
   ]
  },
  {
   "cell_type": "code",
   "execution_count": 128,
   "metadata": {
    "ExecuteTime": {
     "end_time": "2020-09-19T12:43:21.160955Z",
     "start_time": "2020-09-19T12:43:21.134053Z"
    }
   },
   "outputs": [],
   "source": [
    "pred_final = rf.predict(X_2019)"
   ]
  },
  {
   "cell_type": "code",
   "execution_count": 129,
   "metadata": {
    "ExecuteTime": {
     "end_time": "2020-09-19T12:43:21.189879Z",
     "start_time": "2020-09-19T12:43:21.162951Z"
    }
   },
   "outputs": [],
   "source": [
    "pred_final_rf = rf.predict_proba(X_2019)"
   ]
  },
  {
   "cell_type": "code",
   "execution_count": 130,
   "metadata": {
    "ExecuteTime": {
     "end_time": "2020-09-19T12:43:21.195863Z",
     "start_time": "2020-09-19T12:43:21.191875Z"
    }
   },
   "outputs": [],
   "source": [
    "pred_final_rf = pred_final_rf[:,1]"
   ]
  },
  {
   "cell_type": "code",
   "execution_count": 131,
   "metadata": {
    "ExecuteTime": {
     "end_time": "2020-09-19T12:43:21.208831Z",
     "start_time": "2020-09-19T12:43:21.198858Z"
    }
   },
   "outputs": [
    {
     "data": {
      "text/plain": [
       "0.5932203389830508"
      ]
     },
     "execution_count": 131,
     "metadata": {},
     "output_type": "execute_result"
    }
   ],
   "source": [
    "accuracy_score(y_2019, pred_final)"
   ]
  },
  {
   "cell_type": "code",
   "execution_count": 132,
   "metadata": {
    "ExecuteTime": {
     "end_time": "2020-09-19T12:43:21.219811Z",
     "start_time": "2020-09-19T12:43:21.211819Z"
    }
   },
   "outputs": [
    {
     "name": "stdout",
     "output_type": "stream",
     "text": [
      "Random Forest 2019: ROC AUC=0.580\n"
     ]
    }
   ],
   "source": [
    "rf_auc_2019 = roc_auc_score(y_2019, pred_final_rf)\n",
    "print('Random Forest 2019: ROC AUC=%.3f' % (rf_auc_2019))"
   ]
  },
  {
   "cell_type": "code",
   "execution_count": 133,
   "metadata": {
    "ExecuteTime": {
     "end_time": "2020-09-19T12:43:21.231766Z",
     "start_time": "2020-09-19T12:43:21.222799Z"
    }
   },
   "outputs": [],
   "source": [
    "rf_fpr_2019, rf_tpr_2019, rf_2019 = roc_curve(y_2019, pred_final_rf)"
   ]
  },
  {
   "cell_type": "code",
   "execution_count": 134,
   "metadata": {
    "ExecuteTime": {
     "end_time": "2020-09-19T12:43:21.254706Z",
     "start_time": "2020-09-19T12:43:21.234766Z"
    }
   },
   "outputs": [
    {
     "data": {
      "text/plain": [
       "DecisionTreeClassifier()"
      ]
     },
     "execution_count": 134,
     "metadata": {},
     "output_type": "execute_result"
    }
   ],
   "source": [
    "dt.fit(X_df, y_df)"
   ]
  },
  {
   "cell_type": "code",
   "execution_count": 135,
   "metadata": {
    "ExecuteTime": {
     "end_time": "2020-09-19T12:43:21.264678Z",
     "start_time": "2020-09-19T12:43:21.256703Z"
    }
   },
   "outputs": [],
   "source": [
    "pred_dt_final = dt.predict(X_2019)"
   ]
  },
  {
   "cell_type": "code",
   "execution_count": 136,
   "metadata": {
    "ExecuteTime": {
     "end_time": "2020-09-19T12:43:21.275662Z",
     "start_time": "2020-09-19T12:43:21.267672Z"
    }
   },
   "outputs": [],
   "source": [
    "pred_dt_final_1 = dt.predict_proba(X_2019)"
   ]
  },
  {
   "cell_type": "code",
   "execution_count": 137,
   "metadata": {
    "ExecuteTime": {
     "end_time": "2020-09-19T12:43:21.285623Z",
     "start_time": "2020-09-19T12:43:21.279640Z"
    }
   },
   "outputs": [],
   "source": [
    "pred_dt_final_1 = pred_dt_final_1[:,1]"
   ]
  },
  {
   "cell_type": "code",
   "execution_count": 138,
   "metadata": {
    "ExecuteTime": {
     "end_time": "2020-09-19T12:43:21.297592Z",
     "start_time": "2020-09-19T12:43:21.289615Z"
    }
   },
   "outputs": [
    {
     "data": {
      "text/plain": [
       "0.559322033898305"
      ]
     },
     "execution_count": 138,
     "metadata": {},
     "output_type": "execute_result"
    }
   ],
   "source": [
    "accuracy_score(y_2019, pred_dt_final)"
   ]
  },
  {
   "cell_type": "code",
   "execution_count": 139,
   "metadata": {
    "ExecuteTime": {
     "end_time": "2020-09-19T12:43:21.313566Z",
     "start_time": "2020-09-19T12:43:21.300599Z"
    }
   },
   "outputs": [
    {
     "name": "stdout",
     "output_type": "stream",
     "text": [
      "Decision Tree 2019: ROC AUC=0.542\n"
     ]
    }
   ],
   "source": [
    "dt_auc_2019 = roc_auc_score(y_2019, pred_dt_final_1)\n",
    "print('Decision Tree 2019: ROC AUC=%.3f' % (dt_auc_2019))"
   ]
  },
  {
   "cell_type": "code",
   "execution_count": 140,
   "metadata": {
    "ExecuteTime": {
     "end_time": "2020-09-19T12:43:21.322532Z",
     "start_time": "2020-09-19T12:43:21.315546Z"
    }
   },
   "outputs": [],
   "source": [
    "lr_fpr_2019, lr_tpr_2019, _2019 = roc_curve(y_2019, pred_dt_final_1)"
   ]
  },
  {
   "cell_type": "code",
   "execution_count": 141,
   "metadata": {
    "ExecuteTime": {
     "end_time": "2020-09-19T12:43:21.543932Z",
     "start_time": "2020-09-19T12:43:21.325517Z"
    }
   },
   "outputs": [
    {
     "data": {
      "image/png": "[encoded data removed]",
      "text/plain": [
       "<Figure size 432x288 with 1 Axes>"
      ]
     },
     "metadata": {
      "needs_background": "light"
     },
     "output_type": "display_data"
    }
   ],
   "source": [
    "# plot the roc curve for the model\n",
    "pyplot.plot(lr_fpr_2019, lr_tpr_2019, marker='.', label='Decision Tree 2019')\n",
    "pyplot.plot(rf_fpr_2019, rf_tpr_2019, marker='.', label='Random Forest 2019')\n",
    "# axis labels\n",
    "pyplot.xlabel('False Positive Rate')\n",
    "pyplot.ylabel('True Positive Rate')\n",
    "# show the legend\n",
    "pyplot.legend()\n",
    "# show the plot\n",
    "pyplot.show()"
   ]
  },
  {
   "cell_type": "markdown",
   "metadata": {},
   "source": [
    "### IPL 2020 Data"
   ]
  },
  {
   "cell_type": "code",
   "execution_count": 142,
   "metadata": {
    "ExecuteTime": {
     "end_time": "2020-09-19T12:43:21.554904Z",
     "start_time": "2020-09-19T12:43:21.545928Z"
    }
   },
   "outputs": [],
   "source": [
    "ipl_2020 = pd.read_csv('ipl_2020.csv')"
   ]
  },
  {
   "cell_type": "code",
   "execution_count": 143,
   "metadata": {
    "ExecuteTime": {
     "end_time": "2020-09-19T12:43:21.574857Z",
     "start_time": "2020-09-19T12:43:21.556900Z"
    }
   },
   "outputs": [
    {
     "data": {
      "text/html": [
       "<div>\n",
       "<style scoped>\n",
       "    .dataframe tbody tr th:only-of-type {\n",
       "        vertical-align: middle;\n",
       "    }\n",
       "\n",
       "    .dataframe tbody tr th {\n",
       "        vertical-align: top;\n",
       "    }\n",
       "\n",
       "    .dataframe thead th {\n",
       "        text-align: right;\n",
       "    }\n",
       "</style>\n",
       "<table border=\"1\" class=\"dataframe\">\n",
       "  <thead>\n",
       "    <tr style=\"text-align: right;\">\n",
       "      <th></th>\n",
       "      <th>Round Number</th>\n",
       "      <th>Date</th>\n",
       "      <th>Location</th>\n",
       "      <th>Home Team</th>\n",
       "      <th>Away Team</th>\n",
       "      <th>Group</th>\n",
       "      <th>Result</th>\n",
       "    </tr>\n",
       "  </thead>\n",
       "  <tbody>\n",
       "    <tr>\n",
       "      <th>0</th>\n",
       "      <td>1</td>\n",
       "      <td>19/09/2020 19:30</td>\n",
       "      <td>Sheikh Zayed Stadium</td>\n",
       "      <td>Mumbai Indians</td>\n",
       "      <td>Chennai Super Kings</td>\n",
       "      <td>NaN</td>\n",
       "      <td>NaN</td>\n",
       "    </tr>\n",
       "    <tr>\n",
       "      <th>1</th>\n",
       "      <td>1</td>\n",
       "      <td>20/09/2020 19:30</td>\n",
       "      <td>Dubai International Cricket Stadium</td>\n",
       "      <td>Delhi Capitals</td>\n",
       "      <td>Kings XI Punjab</td>\n",
       "      <td>NaN</td>\n",
       "      <td>NaN</td>\n",
       "    </tr>\n",
       "    <tr>\n",
       "      <th>2</th>\n",
       "      <td>1</td>\n",
       "      <td>21/09/2020 19:30</td>\n",
       "      <td>Dubai International Cricket Stadium</td>\n",
       "      <td>Sunrisers Hyderabad</td>\n",
       "      <td>Royal Challengers Bangalore</td>\n",
       "      <td>NaN</td>\n",
       "      <td>NaN</td>\n",
       "    </tr>\n",
       "    <tr>\n",
       "      <th>3</th>\n",
       "      <td>1</td>\n",
       "      <td>22/09/2020 19:30</td>\n",
       "      <td>Sharjah Cricket Stadium</td>\n",
       "      <td>Rajasthan Royals</td>\n",
       "      <td>Chennai Super Kings</td>\n",
       "      <td>NaN</td>\n",
       "      <td>NaN</td>\n",
       "    </tr>\n",
       "    <tr>\n",
       "      <th>4</th>\n",
       "      <td>1</td>\n",
       "      <td>23/09/2020 19:30</td>\n",
       "      <td>Sheikh Zayed Stadium</td>\n",
       "      <td>Kolkata Knight Riders</td>\n",
       "      <td>Mumbai Indians</td>\n",
       "      <td>NaN</td>\n",
       "      <td>NaN</td>\n",
       "    </tr>\n",
       "  </tbody>\n",
       "</table>\n",
       "</div>"
      ],
      "text/plain": [
       "   Round Number              Date                             Location  \\\n",
       "0             1  19/09/2020 19:30                 Sheikh Zayed Stadium   \n",
       "1             1  20/09/2020 19:30  Dubai International Cricket Stadium   \n",
       "2             1  21/09/2020 19:30  Dubai International Cricket Stadium   \n",
       "3             1  22/09/2020 19:30              Sharjah Cricket Stadium   \n",
       "4             1  23/09/2020 19:30                 Sheikh Zayed Stadium   \n",
       "\n",
       "               Home Team                    Away Team  Group  Result  \n",
       "0         Mumbai Indians          Chennai Super Kings    NaN     NaN  \n",
       "1         Delhi Capitals              Kings XI Punjab    NaN     NaN  \n",
       "2    Sunrisers Hyderabad  Royal Challengers Bangalore    NaN     NaN  \n",
       "3       Rajasthan Royals          Chennai Super Kings    NaN     NaN  \n",
       "4  Kolkata Knight Riders               Mumbai Indians    NaN     NaN  "
      ]
     },
     "execution_count": 143,
     "metadata": {},
     "output_type": "execute_result"
    }
   ],
   "source": [
    "ipl_2020.head()"
   ]
  },
  {
   "cell_type": "code",
   "execution_count": 144,
   "metadata": {
    "ExecuteTime": {
     "end_time": "2020-09-19T12:43:21.583827Z",
     "start_time": "2020-09-19T12:43:21.576846Z"
    }
   },
   "outputs": [],
   "source": [
    "ipl_2020.drop(['Round Number', 'Date', 'Group', 'Result'], axis = 1, inplace = True)"
   ]
  },
  {
   "cell_type": "code",
   "execution_count": 145,
   "metadata": {
    "ExecuteTime": {
     "end_time": "2020-09-19T12:43:21.591804Z",
     "start_time": "2020-09-19T12:43:21.586832Z"
    }
   },
   "outputs": [],
   "source": [
    "ipl_2020.rename(columns = {'Location' : 'venue', 'Home Team' : 'team1', 'Away Team' : 'team2'}, inplace = True)"
   ]
  },
  {
   "cell_type": "code",
   "execution_count": 146,
   "metadata": {
    "ExecuteTime": {
     "end_time": "2020-09-19T12:43:21.599786Z",
     "start_time": "2020-09-19T12:43:21.594803Z"
    }
   },
   "outputs": [],
   "source": [
    "ipl_2020['season'] = np.where(1 == 1, 2020, 0)"
   ]
  },
  {
   "cell_type": "code",
   "execution_count": 147,
   "metadata": {
    "ExecuteTime": {
     "end_time": "2020-09-19T12:43:21.618732Z",
     "start_time": "2020-09-19T12:43:21.602781Z"
    }
   },
   "outputs": [],
   "source": [
    "final_df = df_1.merge(ipl_2020)"
   ]
  },
  {
   "cell_type": "code",
   "execution_count": 148,
   "metadata": {
    "ExecuteTime": {
     "end_time": "2020-09-19T12:43:21.626712Z",
     "start_time": "2020-09-19T12:43:21.620733Z"
    }
   },
   "outputs": [],
   "source": [
    "frames = [df_1, ipl_2020]"
   ]
  },
  {
   "cell_type": "code",
   "execution_count": 149,
   "metadata": {
    "ExecuteTime": {
     "end_time": "2020-09-19T12:43:21.637680Z",
     "start_time": "2020-09-19T12:43:21.630701Z"
    }
   },
   "outputs": [],
   "source": [
    "final_df = pd.concat(frames)"
   ]
  },
  {
   "cell_type": "code",
   "execution_count": 150,
   "metadata": {
    "ExecuteTime": {
     "end_time": "2020-09-19T12:43:21.660619Z",
     "start_time": "2020-09-19T12:43:21.640692Z"
    }
   },
   "outputs": [
    {
     "data": {
      "text/html": [
       "<div>\n",
       "<style scoped>\n",
       "    .dataframe tbody tr th:only-of-type {\n",
       "        vertical-align: middle;\n",
       "    }\n",
       "\n",
       "    .dataframe tbody tr th {\n",
       "        vertical-align: top;\n",
       "    }\n",
       "\n",
       "    .dataframe thead th {\n",
       "        text-align: right;\n",
       "    }\n",
       "</style>\n",
       "<table border=\"1\" class=\"dataframe\">\n",
       "  <thead>\n",
       "    <tr style=\"text-align: right;\">\n",
       "      <th></th>\n",
       "      <th>season</th>\n",
       "      <th>team1</th>\n",
       "      <th>team2</th>\n",
       "      <th>venue</th>\n",
       "      <th>Result</th>\n",
       "    </tr>\n",
       "  </thead>\n",
       "  <tbody>\n",
       "    <tr>\n",
       "      <th>0</th>\n",
       "      <td>2017</td>\n",
       "      <td>Sunrisers Hyderabad</td>\n",
       "      <td>Royal Challengers Bangalore</td>\n",
       "      <td>Rajiv Gandhi International Stadium, Uppal</td>\n",
       "      <td>1.0</td>\n",
       "    </tr>\n",
       "    <tr>\n",
       "      <th>1</th>\n",
       "      <td>2017</td>\n",
       "      <td>Mumbai Indians</td>\n",
       "      <td>Rising Pune Supergiant</td>\n",
       "      <td>Maharashtra Cricket Association Stadium</td>\n",
       "      <td>0.0</td>\n",
       "    </tr>\n",
       "    <tr>\n",
       "      <th>2</th>\n",
       "      <td>2017</td>\n",
       "      <td>Gujarat Lions</td>\n",
       "      <td>Kolkata Knight Riders</td>\n",
       "      <td>Saurashtra Cricket Association Stadium</td>\n",
       "      <td>0.0</td>\n",
       "    </tr>\n",
       "    <tr>\n",
       "      <th>3</th>\n",
       "      <td>2017</td>\n",
       "      <td>Rising Pune Supergiant</td>\n",
       "      <td>Kings XI Punjab</td>\n",
       "      <td>Holkar Cricket Stadium</td>\n",
       "      <td>0.0</td>\n",
       "    </tr>\n",
       "    <tr>\n",
       "      <th>4</th>\n",
       "      <td>2017</td>\n",
       "      <td>Royal Challengers Bangalore</td>\n",
       "      <td>Delhi Capitals</td>\n",
       "      <td>M Chinnaswamy Stadium</td>\n",
       "      <td>1.0</td>\n",
       "    </tr>\n",
       "    <tr>\n",
       "      <th>...</th>\n",
       "      <td>...</td>\n",
       "      <td>...</td>\n",
       "      <td>...</td>\n",
       "      <td>...</td>\n",
       "      <td>...</td>\n",
       "    </tr>\n",
       "    <tr>\n",
       "      <th>51</th>\n",
       "      <td>2020</td>\n",
       "      <td>Royal Challengers Bangalore</td>\n",
       "      <td>Sunrisers Hyderabad</td>\n",
       "      <td>Sharjah Cricket Stadium</td>\n",
       "      <td>NaN</td>\n",
       "    </tr>\n",
       "    <tr>\n",
       "      <th>52</th>\n",
       "      <td>2020</td>\n",
       "      <td>Chennai Super Kings</td>\n",
       "      <td>Kings XI Punjab</td>\n",
       "      <td>Sheikh Zayed Stadium</td>\n",
       "      <td>NaN</td>\n",
       "    </tr>\n",
       "    <tr>\n",
       "      <th>53</th>\n",
       "      <td>2020</td>\n",
       "      <td>Kolkata Knight Riders</td>\n",
       "      <td>Rajasthan Royals</td>\n",
       "      <td>Dubai International Cricket Stadium</td>\n",
       "      <td>NaN</td>\n",
       "    </tr>\n",
       "    <tr>\n",
       "      <th>54</th>\n",
       "      <td>2020</td>\n",
       "      <td>Delhi Capitals</td>\n",
       "      <td>Royal Challengers Bangalore</td>\n",
       "      <td>Sheikh Zayed Stadium</td>\n",
       "      <td>NaN</td>\n",
       "    </tr>\n",
       "    <tr>\n",
       "      <th>55</th>\n",
       "      <td>2020</td>\n",
       "      <td>Sunrisers Hyderabad</td>\n",
       "      <td>Mumbai Indians</td>\n",
       "      <td>Sharjah Cricket Stadium</td>\n",
       "      <td>NaN</td>\n",
       "    </tr>\n",
       "  </tbody>\n",
       "</table>\n",
       "<p>808 rows × 5 columns</p>\n",
       "</div>"
      ],
      "text/plain": [
       "    season                        team1                        team2  \\\n",
       "0     2017          Sunrisers Hyderabad  Royal Challengers Bangalore   \n",
       "1     2017               Mumbai Indians       Rising Pune Supergiant   \n",
       "2     2017                Gujarat Lions        Kolkata Knight Riders   \n",
       "3     2017       Rising Pune Supergiant              Kings XI Punjab   \n",
       "4     2017  Royal Challengers Bangalore               Delhi Capitals   \n",
       "..     ...                          ...                          ...   \n",
       "51    2020  Royal Challengers Bangalore          Sunrisers Hyderabad   \n",
       "52    2020          Chennai Super Kings              Kings XI Punjab   \n",
       "53    2020        Kolkata Knight Riders             Rajasthan Royals   \n",
       "54    2020               Delhi Capitals  Royal Challengers Bangalore   \n",
       "55    2020          Sunrisers Hyderabad               Mumbai Indians   \n",
       "\n",
       "                                        venue  Result  \n",
       "0   Rajiv Gandhi International Stadium, Uppal     1.0  \n",
       "1     Maharashtra Cricket Association Stadium     0.0  \n",
       "2      Saurashtra Cricket Association Stadium     0.0  \n",
       "3                      Holkar Cricket Stadium     0.0  \n",
       "4                       M Chinnaswamy Stadium     1.0  \n",
       "..                                        ...     ...  \n",
       "51                    Sharjah Cricket Stadium     NaN  \n",
       "52                       Sheikh Zayed Stadium     NaN  \n",
       "53        Dubai International Cricket Stadium     NaN  \n",
       "54                       Sheikh Zayed Stadium     NaN  \n",
       "55                    Sharjah Cricket Stadium     NaN  \n",
       "\n",
       "[808 rows x 5 columns]"
      ]
     },
     "execution_count": 150,
     "metadata": {},
     "output_type": "execute_result"
    }
   ],
   "source": [
    "final_df"
   ]
  },
  {
   "cell_type": "code",
   "execution_count": 151,
   "metadata": {
    "ExecuteTime": {
     "end_time": "2020-09-19T12:43:21.677575Z",
     "start_time": "2020-09-19T12:43:21.664612Z"
    }
   },
   "outputs": [],
   "source": [
    "final_df = pd.get_dummies(final_df)"
   ]
  },
  {
   "cell_type": "code",
   "execution_count": 152,
   "metadata": {
    "ExecuteTime": {
     "end_time": "2020-09-19T12:43:21.686551Z",
     "start_time": "2020-09-19T12:43:21.679569Z"
    }
   },
   "outputs": [],
   "source": [
    "train = final_df[final_df['season'] <= 2019]"
   ]
  },
  {
   "cell_type": "code",
   "execution_count": 153,
   "metadata": {
    "ExecuteTime": {
     "end_time": "2020-09-19T12:43:21.695525Z",
     "start_time": "2020-09-19T12:43:21.688559Z"
    }
   },
   "outputs": [],
   "source": [
    "test = final_df[final_df['season'] == 2020]"
   ]
  },
  {
   "cell_type": "code",
   "execution_count": 154,
   "metadata": {
    "ExecuteTime": {
     "end_time": "2020-09-19T12:43:21.705499Z",
     "start_time": "2020-09-19T12:43:21.698517Z"
    }
   },
   "outputs": [
    {
     "name": "stderr",
     "output_type": "stream",
     "text": [
      "C:\\Users\\yashc\\AppData\\Local\\Continuum\\anaconda3\\lib\\site-packages\\pandas\\core\\frame.py:4167: SettingWithCopyWarning: \n",
      "A value is trying to be set on a copy of a slice from a DataFrame\n",
      "\n",
      "See the caveats in the documentation: https://pandas.pydata.org/pandas-docs/stable/user_guide/indexing.html#returning-a-view-versus-a-copy\n",
      "  errors=errors,\n"
     ]
    }
   ],
   "source": [
    "test.drop(['season', 'Result'], axis = 1, inplace = True)"
   ]
  },
  {
   "cell_type": "code",
   "execution_count": 155,
   "metadata": {
    "ExecuteTime": {
     "end_time": "2020-09-19T12:43:21.717466Z",
     "start_time": "2020-09-19T12:43:21.709488Z"
    }
   },
   "outputs": [],
   "source": [
    "train.drop(['season'], axis = 1, inplace = True)"
   ]
  },
  {
   "cell_type": "code",
   "execution_count": 156,
   "metadata": {
    "ExecuteTime": {
     "end_time": "2020-09-19T12:43:21.727444Z",
     "start_time": "2020-09-19T12:43:21.720463Z"
    }
   },
   "outputs": [],
   "source": [
    "X_final = train.drop('Result', axis = 1)\n",
    "y_final = train[['Result']]"
   ]
  },
  {
   "cell_type": "code",
   "execution_count": 157,
   "metadata": {
    "ExecuteTime": {
     "end_time": "2020-09-19T12:43:22.060560Z",
     "start_time": "2020-09-19T12:43:21.731433Z"
    }
   },
   "outputs": [
    {
     "name": "stderr",
     "output_type": "stream",
     "text": [
      "C:\\Users\\yashc\\AppData\\Local\\Continuum\\anaconda3\\lib\\site-packages\\ipykernel_launcher.py:1: DataConversionWarning: A column-vector y was passed when a 1d array was expected. Please change the shape of y to (n_samples,), for example using ravel().\n",
      "  \"\"\"Entry point for launching an IPython kernel.\n"
     ]
    },
    {
     "data": {
      "text/plain": [
       "RandomForestClassifier()"
      ]
     },
     "execution_count": 157,
     "metadata": {},
     "output_type": "execute_result"
    }
   ],
   "source": [
    "rf.fit(X_final, y_final)"
   ]
  },
  {
   "cell_type": "code",
   "execution_count": 158,
   "metadata": {
    "ExecuteTime": {
     "end_time": "2020-09-19T12:43:22.089472Z",
     "start_time": "2020-09-19T12:43:22.064539Z"
    }
   },
   "outputs": [],
   "source": [
    "x = rf.predict(test)"
   ]
  },
  {
   "cell_type": "code",
   "execution_count": 159,
   "metadata": {
    "ExecuteTime": {
     "end_time": "2020-09-19T12:43:22.120390Z",
     "start_time": "2020-09-19T12:43:22.092464Z"
    }
   },
   "outputs": [],
   "source": [
    "z = rf.predict_proba(test)"
   ]
  },
  {
   "cell_type": "code",
   "execution_count": 160,
   "metadata": {
    "ExecuteTime": {
     "end_time": "2020-09-19T12:43:22.131363Z",
     "start_time": "2020-09-19T12:43:22.122385Z"
    }
   },
   "outputs": [
    {
     "data": {
      "text/plain": [
       "array([[0.49903175, 0.50096825],\n",
       "       [0.78324603, 0.21675397],\n",
       "       [0.4576398 , 0.5423602 ],\n",
       "       [0.81744444, 0.18255556],\n",
       "       [0.31251082, 0.68748918],\n",
       "       [0.60130736, 0.39869264],\n",
       "       [0.25536905, 0.74463095],\n",
       "       [0.43143362, 0.56856638],\n",
       "       [0.83066667, 0.16933333],\n",
       "       [0.51200794, 0.48799206],\n",
       "       [0.58716667, 0.41283333],\n",
       "       [0.49354545, 0.50645455],\n",
       "       [0.43559127, 0.56440873],\n",
       "       [0.39364286, 0.60635714],\n",
       "       [0.82975   , 0.17025   ],\n",
       "       [0.6725653 , 0.3274347 ],\n",
       "       [0.58636436, 0.41363564],\n",
       "       [0.61228571, 0.38771429],\n",
       "       [0.52328571, 0.47671429],\n",
       "       [0.53980844, 0.46019156],\n",
       "       [0.72828571, 0.27171429],\n",
       "       [0.4087904 , 0.5912096 ],\n",
       "       [0.57115476, 0.42884524],\n",
       "       [0.30193939, 0.69806061],\n",
       "       [0.49664286, 0.50335714],\n",
       "       [0.40333333, 0.59666667],\n",
       "       [0.4389881 , 0.5610119 ],\n",
       "       [0.73060606, 0.26939394],\n",
       "       [0.66428571, 0.33571429],\n",
       "       [0.46800397, 0.53199603],\n",
       "       [0.68710462, 0.31289538],\n",
       "       [0.23769048, 0.76230952],\n",
       "       [0.58105556, 0.41894444],\n",
       "       [0.78465476, 0.21534524],\n",
       "       [0.41413095, 0.58586905],\n",
       "       [0.73384632, 0.26615368],\n",
       "       [0.55248052, 0.44751948],\n",
       "       [0.61414286, 0.38585714],\n",
       "       [0.45024101, 0.54975899],\n",
       "       [0.54466667, 0.45533333],\n",
       "       [0.65422222, 0.34577778],\n",
       "       [0.42096825, 0.57903175],\n",
       "       [0.52078571, 0.47921429],\n",
       "       [0.75074206, 0.24925794],\n",
       "       [0.47697619, 0.52302381],\n",
       "       [0.44313492, 0.55686508],\n",
       "       [0.23677778, 0.76322222],\n",
       "       [0.41752381, 0.58247619],\n",
       "       [0.44442396, 0.55557604],\n",
       "       [0.49536147, 0.50463853],\n",
       "       [0.35505556, 0.64494444],\n",
       "       [0.55823016, 0.44176984],\n",
       "       [0.75666667, 0.24333333],\n",
       "       [0.73837302, 0.26162698],\n",
       "       [0.65313492, 0.34686508],\n",
       "       [0.59247619, 0.40752381]])"
      ]
     },
     "execution_count": 160,
     "metadata": {},
     "output_type": "execute_result"
    }
   ],
   "source": [
    "z"
   ]
  },
  {
   "cell_type": "code",
   "execution_count": 161,
   "metadata": {
    "ExecuteTime": {
     "end_time": "2020-09-19T12:43:22.139353Z",
     "start_time": "2020-09-19T12:43:22.134375Z"
    }
   },
   "outputs": [],
   "source": [
    "ipl_2020['Result_rf'] = x"
   ]
  },
  {
   "cell_type": "code",
   "execution_count": 162,
   "metadata": {
    "ExecuteTime": {
     "end_time": "2020-09-19T12:43:22.169258Z",
     "start_time": "2020-09-19T12:43:22.142331Z"
    }
   },
   "outputs": [
    {
     "data": {
      "text/plain": [
       "DecisionTreeClassifier()"
      ]
     },
     "execution_count": 162,
     "metadata": {},
     "output_type": "execute_result"
    }
   ],
   "source": [
    "dt.fit(X_final, y_final)"
   ]
  },
  {
   "cell_type": "code",
   "execution_count": 163,
   "metadata": {
    "ExecuteTime": {
     "end_time": "2020-09-19T12:43:22.180231Z",
     "start_time": "2020-09-19T12:43:22.172251Z"
    }
   },
   "outputs": [],
   "source": [
    "y = dt.predict(test)"
   ]
  },
  {
   "cell_type": "code",
   "execution_count": 164,
   "metadata": {
    "ExecuteTime": {
     "end_time": "2020-09-19T12:43:22.190205Z",
     "start_time": "2020-09-19T12:43:22.182224Z"
    }
   },
   "outputs": [],
   "source": [
    "w = dt.predict_proba(test)"
   ]
  },
  {
   "cell_type": "code",
   "execution_count": 165,
   "metadata": {
    "ExecuteTime": {
     "end_time": "2020-09-19T12:43:22.200177Z",
     "start_time": "2020-09-19T12:43:22.193196Z"
    }
   },
   "outputs": [],
   "source": [
    "ipl_2020['result_dt'] = y"
   ]
  },
  {
   "cell_type": "code",
   "execution_count": 166,
   "metadata": {
    "ExecuteTime": {
     "end_time": "2020-09-19T12:43:22.225109Z",
     "start_time": "2020-09-19T12:43:22.204171Z"
    }
   },
   "outputs": [
    {
     "data": {
      "text/html": [
       "<div>\n",
       "<style scoped>\n",
       "    .dataframe tbody tr th:only-of-type {\n",
       "        vertical-align: middle;\n",
       "    }\n",
       "\n",
       "    .dataframe tbody tr th {\n",
       "        vertical-align: top;\n",
       "    }\n",
       "\n",
       "    .dataframe thead th {\n",
       "        text-align: right;\n",
       "    }\n",
       "</style>\n",
       "<table border=\"1\" class=\"dataframe\">\n",
       "  <thead>\n",
       "    <tr style=\"text-align: right;\">\n",
       "      <th></th>\n",
       "      <th>venue</th>\n",
       "      <th>team1</th>\n",
       "      <th>team2</th>\n",
       "      <th>season</th>\n",
       "      <th>Result_rf</th>\n",
       "      <th>result_dt</th>\n",
       "    </tr>\n",
       "  </thead>\n",
       "  <tbody>\n",
       "    <tr>\n",
       "      <th>6</th>\n",
       "      <td>Dubai International Cricket Stadium</td>\n",
       "      <td>Chennai Super Kings</td>\n",
       "      <td>Delhi Capitals</td>\n",
       "      <td>2020</td>\n",
       "      <td>1.0</td>\n",
       "      <td>1.0</td>\n",
       "    </tr>\n",
       "    <tr>\n",
       "      <th>13</th>\n",
       "      <td>Dubai International Cricket Stadium</td>\n",
       "      <td>Chennai Super Kings</td>\n",
       "      <td>Sunrisers Hyderabad</td>\n",
       "      <td>2020</td>\n",
       "      <td>1.0</td>\n",
       "      <td>1.0</td>\n",
       "    </tr>\n",
       "    <tr>\n",
       "      <th>24</th>\n",
       "      <td>Dubai International Cricket Stadium</td>\n",
       "      <td>Chennai Super Kings</td>\n",
       "      <td>Royal Challengers Bangalore</td>\n",
       "      <td>2020</td>\n",
       "      <td>1.0</td>\n",
       "      <td>0.0</td>\n",
       "    </tr>\n",
       "    <tr>\n",
       "      <th>36</th>\n",
       "      <td>Sheikh Zayed Stadium</td>\n",
       "      <td>Chennai Super Kings</td>\n",
       "      <td>Rajasthan Royals</td>\n",
       "      <td>2020</td>\n",
       "      <td>0.0</td>\n",
       "      <td>0.0</td>\n",
       "    </tr>\n",
       "    <tr>\n",
       "      <th>40</th>\n",
       "      <td>Sharjah Cricket Stadium</td>\n",
       "      <td>Chennai Super Kings</td>\n",
       "      <td>Mumbai Indians</td>\n",
       "      <td>2020</td>\n",
       "      <td>0.0</td>\n",
       "      <td>0.0</td>\n",
       "    </tr>\n",
       "    <tr>\n",
       "      <th>48</th>\n",
       "      <td>Dubai International Cricket Stadium</td>\n",
       "      <td>Chennai Super Kings</td>\n",
       "      <td>Kolkata Knight Riders</td>\n",
       "      <td>2020</td>\n",
       "      <td>1.0</td>\n",
       "      <td>1.0</td>\n",
       "    </tr>\n",
       "    <tr>\n",
       "      <th>52</th>\n",
       "      <td>Sheikh Zayed Stadium</td>\n",
       "      <td>Chennai Super Kings</td>\n",
       "      <td>Kings XI Punjab</td>\n",
       "      <td>2020</td>\n",
       "      <td>0.0</td>\n",
       "      <td>0.0</td>\n",
       "    </tr>\n",
       "  </tbody>\n",
       "</table>\n",
       "</div>"
      ],
      "text/plain": [
       "                                  venue                team1  \\\n",
       "6   Dubai International Cricket Stadium  Chennai Super Kings   \n",
       "13  Dubai International Cricket Stadium  Chennai Super Kings   \n",
       "24  Dubai International Cricket Stadium  Chennai Super Kings   \n",
       "36                 Sheikh Zayed Stadium  Chennai Super Kings   \n",
       "40              Sharjah Cricket Stadium  Chennai Super Kings   \n",
       "48  Dubai International Cricket Stadium  Chennai Super Kings   \n",
       "52                 Sheikh Zayed Stadium  Chennai Super Kings   \n",
       "\n",
       "                          team2  season  Result_rf  result_dt  \n",
       "6                Delhi Capitals    2020        1.0        1.0  \n",
       "13          Sunrisers Hyderabad    2020        1.0        1.0  \n",
       "24  Royal Challengers Bangalore    2020        1.0        0.0  \n",
       "36             Rajasthan Royals    2020        0.0        0.0  \n",
       "40               Mumbai Indians    2020        0.0        0.0  \n",
       "48        Kolkata Knight Riders    2020        1.0        1.0  \n",
       "52              Kings XI Punjab    2020        0.0        0.0  "
      ]
     },
     "execution_count": 166,
     "metadata": {},
     "output_type": "execute_result"
    }
   ],
   "source": [
    "ipl_2020[ipl_2020['team1'] == 'Chennai Super Kings']"
   ]
  },
  {
   "cell_type": "code",
   "execution_count": 167,
   "metadata": {
    "ExecuteTime": {
     "end_time": "2020-09-19T12:43:22.245081Z",
     "start_time": "2020-09-19T12:43:22.228104Z"
    }
   },
   "outputs": [
    {
     "data": {
      "text/html": [
       "<div>\n",
       "<style scoped>\n",
       "    .dataframe tbody tr th:only-of-type {\n",
       "        vertical-align: middle;\n",
       "    }\n",
       "\n",
       "    .dataframe tbody tr th {\n",
       "        vertical-align: top;\n",
       "    }\n",
       "\n",
       "    .dataframe thead th {\n",
       "        text-align: right;\n",
       "    }\n",
       "</style>\n",
       "<table border=\"1\" class=\"dataframe\">\n",
       "  <thead>\n",
       "    <tr style=\"text-align: right;\">\n",
       "      <th></th>\n",
       "      <th>venue</th>\n",
       "      <th>team1</th>\n",
       "      <th>team2</th>\n",
       "      <th>season</th>\n",
       "      <th>Result_rf</th>\n",
       "      <th>result_dt</th>\n",
       "    </tr>\n",
       "  </thead>\n",
       "  <tbody>\n",
       "    <tr>\n",
       "      <th>0</th>\n",
       "      <td>Sheikh Zayed Stadium</td>\n",
       "      <td>Mumbai Indians</td>\n",
       "      <td>Chennai Super Kings</td>\n",
       "      <td>2020</td>\n",
       "      <td>1.0</td>\n",
       "      <td>0.0</td>\n",
       "    </tr>\n",
       "    <tr>\n",
       "      <th>3</th>\n",
       "      <td>Sharjah Cricket Stadium</td>\n",
       "      <td>Rajasthan Royals</td>\n",
       "      <td>Chennai Super Kings</td>\n",
       "      <td>2020</td>\n",
       "      <td>0.0</td>\n",
       "      <td>0.0</td>\n",
       "    </tr>\n",
       "    <tr>\n",
       "      <th>17</th>\n",
       "      <td>Dubai International Cricket Stadium</td>\n",
       "      <td>Kings XI Punjab</td>\n",
       "      <td>Chennai Super Kings</td>\n",
       "      <td>2020</td>\n",
       "      <td>0.0</td>\n",
       "      <td>0.0</td>\n",
       "    </tr>\n",
       "    <tr>\n",
       "      <th>20</th>\n",
       "      <td>Sheikh Zayed Stadium</td>\n",
       "      <td>Kolkata Knight Riders</td>\n",
       "      <td>Chennai Super Kings</td>\n",
       "      <td>2020</td>\n",
       "      <td>0.0</td>\n",
       "      <td>0.0</td>\n",
       "    </tr>\n",
       "    <tr>\n",
       "      <th>28</th>\n",
       "      <td>Dubai International Cricket Stadium</td>\n",
       "      <td>Sunrisers Hyderabad</td>\n",
       "      <td>Chennai Super Kings</td>\n",
       "      <td>2020</td>\n",
       "      <td>0.0</td>\n",
       "      <td>0.0</td>\n",
       "    </tr>\n",
       "    <tr>\n",
       "      <th>33</th>\n",
       "      <td>Sharjah Cricket Stadium</td>\n",
       "      <td>Delhi Capitals</td>\n",
       "      <td>Chennai Super Kings</td>\n",
       "      <td>2020</td>\n",
       "      <td>0.0</td>\n",
       "      <td>0.0</td>\n",
       "    </tr>\n",
       "    <tr>\n",
       "      <th>43</th>\n",
       "      <td>Dubai International Cricket Stadium</td>\n",
       "      <td>Royal Challengers Bangalore</td>\n",
       "      <td>Chennai Super Kings</td>\n",
       "      <td>2020</td>\n",
       "      <td>0.0</td>\n",
       "      <td>0.0</td>\n",
       "    </tr>\n",
       "  </tbody>\n",
       "</table>\n",
       "</div>"
      ],
      "text/plain": [
       "                                  venue                        team1  \\\n",
       "0                  Sheikh Zayed Stadium               Mumbai Indians   \n",
       "3               Sharjah Cricket Stadium             Rajasthan Royals   \n",
       "17  Dubai International Cricket Stadium              Kings XI Punjab   \n",
       "20                 Sheikh Zayed Stadium        Kolkata Knight Riders   \n",
       "28  Dubai International Cricket Stadium          Sunrisers Hyderabad   \n",
       "33              Sharjah Cricket Stadium               Delhi Capitals   \n",
       "43  Dubai International Cricket Stadium  Royal Challengers Bangalore   \n",
       "\n",
       "                  team2  season  Result_rf  result_dt  \n",
       "0   Chennai Super Kings    2020        1.0        0.0  \n",
       "3   Chennai Super Kings    2020        0.0        0.0  \n",
       "17  Chennai Super Kings    2020        0.0        0.0  \n",
       "20  Chennai Super Kings    2020        0.0        0.0  \n",
       "28  Chennai Super Kings    2020        0.0        0.0  \n",
       "33  Chennai Super Kings    2020        0.0        0.0  \n",
       "43  Chennai Super Kings    2020        0.0        0.0  "
      ]
     },
     "execution_count": 167,
     "metadata": {},
     "output_type": "execute_result"
    }
   ],
   "source": [
    "ipl_2020[ipl_2020['team2'] == 'Chennai Super Kings']"
   ]
  },
  {
   "cell_type": "code",
   "execution_count": 168,
   "metadata": {
    "ExecuteTime": {
     "end_time": "2020-09-19T12:43:22.265999Z",
     "start_time": "2020-09-19T12:43:22.248049Z"
    }
   },
   "outputs": [
    {
     "data": {
      "text/html": [
       "<div>\n",
       "<style scoped>\n",
       "    .dataframe tbody tr th:only-of-type {\n",
       "        vertical-align: middle;\n",
       "    }\n",
       "\n",
       "    .dataframe tbody tr th {\n",
       "        vertical-align: top;\n",
       "    }\n",
       "\n",
       "    .dataframe thead th {\n",
       "        text-align: right;\n",
       "    }\n",
       "</style>\n",
       "<table border=\"1\" class=\"dataframe\">\n",
       "  <thead>\n",
       "    <tr style=\"text-align: right;\">\n",
       "      <th></th>\n",
       "      <th>venue</th>\n",
       "      <th>team1</th>\n",
       "      <th>team2</th>\n",
       "      <th>season</th>\n",
       "      <th>Result_rf</th>\n",
       "      <th>result_dt</th>\n",
       "    </tr>\n",
       "  </thead>\n",
       "  <tbody>\n",
       "    <tr>\n",
       "      <th>9</th>\n",
       "      <td>Dubai International Cricket Stadium</td>\n",
       "      <td>Royal Challengers Bangalore</td>\n",
       "      <td>Mumbai Indians</td>\n",
       "      <td>2020</td>\n",
       "      <td>0.0</td>\n",
       "      <td>0.0</td>\n",
       "    </tr>\n",
       "    <tr>\n",
       "      <th>14</th>\n",
       "      <td>Sheikh Zayed Stadium</td>\n",
       "      <td>Royal Challengers Bangalore</td>\n",
       "      <td>Rajasthan Royals</td>\n",
       "      <td>2020</td>\n",
       "      <td>0.0</td>\n",
       "      <td>0.0</td>\n",
       "    </tr>\n",
       "    <tr>\n",
       "      <th>18</th>\n",
       "      <td>Dubai International Cricket Stadium</td>\n",
       "      <td>Royal Challengers Bangalore</td>\n",
       "      <td>Delhi Capitals</td>\n",
       "      <td>2020</td>\n",
       "      <td>0.0</td>\n",
       "      <td>0.0</td>\n",
       "    </tr>\n",
       "    <tr>\n",
       "      <th>27</th>\n",
       "      <td>Sharjah Cricket Stadium</td>\n",
       "      <td>Royal Challengers Bangalore</td>\n",
       "      <td>Kolkata Knight Riders</td>\n",
       "      <td>2020</td>\n",
       "      <td>0.0</td>\n",
       "      <td>0.0</td>\n",
       "    </tr>\n",
       "    <tr>\n",
       "      <th>30</th>\n",
       "      <td>Sharjah Cricket Stadium</td>\n",
       "      <td>Royal Challengers Bangalore</td>\n",
       "      <td>Kings XI Punjab</td>\n",
       "      <td>2020</td>\n",
       "      <td>0.0</td>\n",
       "      <td>0.0</td>\n",
       "    </tr>\n",
       "    <tr>\n",
       "      <th>43</th>\n",
       "      <td>Dubai International Cricket Stadium</td>\n",
       "      <td>Royal Challengers Bangalore</td>\n",
       "      <td>Chennai Super Kings</td>\n",
       "      <td>2020</td>\n",
       "      <td>0.0</td>\n",
       "      <td>0.0</td>\n",
       "    </tr>\n",
       "    <tr>\n",
       "      <th>51</th>\n",
       "      <td>Sharjah Cricket Stadium</td>\n",
       "      <td>Royal Challengers Bangalore</td>\n",
       "      <td>Sunrisers Hyderabad</td>\n",
       "      <td>2020</td>\n",
       "      <td>0.0</td>\n",
       "      <td>1.0</td>\n",
       "    </tr>\n",
       "  </tbody>\n",
       "</table>\n",
       "</div>"
      ],
      "text/plain": [
       "                                  venue                        team1  \\\n",
       "9   Dubai International Cricket Stadium  Royal Challengers Bangalore   \n",
       "14                 Sheikh Zayed Stadium  Royal Challengers Bangalore   \n",
       "18  Dubai International Cricket Stadium  Royal Challengers Bangalore   \n",
       "27              Sharjah Cricket Stadium  Royal Challengers Bangalore   \n",
       "30              Sharjah Cricket Stadium  Royal Challengers Bangalore   \n",
       "43  Dubai International Cricket Stadium  Royal Challengers Bangalore   \n",
       "51              Sharjah Cricket Stadium  Royal Challengers Bangalore   \n",
       "\n",
       "                    team2  season  Result_rf  result_dt  \n",
       "9          Mumbai Indians    2020        0.0        0.0  \n",
       "14       Rajasthan Royals    2020        0.0        0.0  \n",
       "18         Delhi Capitals    2020        0.0        0.0  \n",
       "27  Kolkata Knight Riders    2020        0.0        0.0  \n",
       "30        Kings XI Punjab    2020        0.0        0.0  \n",
       "43    Chennai Super Kings    2020        0.0        0.0  \n",
       "51    Sunrisers Hyderabad    2020        0.0        1.0  "
      ]
     },
     "execution_count": 168,
     "metadata": {},
     "output_type": "execute_result"
    }
   ],
   "source": [
    "ipl_2020[ipl_2020['team1'] == 'Royal Challengers Bangalore']"
   ]
  },
  {
   "cell_type": "code",
   "execution_count": 169,
   "metadata": {
    "ExecuteTime": {
     "end_time": "2020-09-19T12:43:22.284968Z",
     "start_time": "2020-09-19T12:43:22.268012Z"
    }
   },
   "outputs": [
    {
     "data": {
      "text/html": [
       "<div>\n",
       "<style scoped>\n",
       "    .dataframe tbody tr th:only-of-type {\n",
       "        vertical-align: middle;\n",
       "    }\n",
       "\n",
       "    .dataframe tbody tr th {\n",
       "        vertical-align: top;\n",
       "    }\n",
       "\n",
       "    .dataframe thead th {\n",
       "        text-align: right;\n",
       "    }\n",
       "</style>\n",
       "<table border=\"1\" class=\"dataframe\">\n",
       "  <thead>\n",
       "    <tr style=\"text-align: right;\">\n",
       "      <th></th>\n",
       "      <th>venue</th>\n",
       "      <th>team1</th>\n",
       "      <th>team2</th>\n",
       "      <th>season</th>\n",
       "      <th>Result_rf</th>\n",
       "      <th>result_dt</th>\n",
       "    </tr>\n",
       "  </thead>\n",
       "  <tbody>\n",
       "    <tr>\n",
       "      <th>2</th>\n",
       "      <td>Dubai International Cricket Stadium</td>\n",
       "      <td>Sunrisers Hyderabad</td>\n",
       "      <td>Royal Challengers Bangalore</td>\n",
       "      <td>2020</td>\n",
       "      <td>1.0</td>\n",
       "      <td>1.0</td>\n",
       "    </tr>\n",
       "    <tr>\n",
       "      <th>5</th>\n",
       "      <td>Dubai International Cricket Stadium</td>\n",
       "      <td>Kings XI Punjab</td>\n",
       "      <td>Royal Challengers Bangalore</td>\n",
       "      <td>2020</td>\n",
       "      <td>0.0</td>\n",
       "      <td>0.0</td>\n",
       "    </tr>\n",
       "    <tr>\n",
       "      <th>24</th>\n",
       "      <td>Dubai International Cricket Stadium</td>\n",
       "      <td>Chennai Super Kings</td>\n",
       "      <td>Royal Challengers Bangalore</td>\n",
       "      <td>2020</td>\n",
       "      <td>1.0</td>\n",
       "      <td>0.0</td>\n",
       "    </tr>\n",
       "    <tr>\n",
       "      <th>32</th>\n",
       "      <td>Dubai International Cricket Stadium</td>\n",
       "      <td>Rajasthan Royals</td>\n",
       "      <td>Royal Challengers Bangalore</td>\n",
       "      <td>2020</td>\n",
       "      <td>0.0</td>\n",
       "      <td>0.0</td>\n",
       "    </tr>\n",
       "    <tr>\n",
       "      <th>38</th>\n",
       "      <td>Sheikh Zayed Stadium</td>\n",
       "      <td>Kolkata Knight Riders</td>\n",
       "      <td>Royal Challengers Bangalore</td>\n",
       "      <td>2020</td>\n",
       "      <td>1.0</td>\n",
       "      <td>0.0</td>\n",
       "    </tr>\n",
       "    <tr>\n",
       "      <th>47</th>\n",
       "      <td>Sheikh Zayed Stadium</td>\n",
       "      <td>Mumbai Indians</td>\n",
       "      <td>Royal Challengers Bangalore</td>\n",
       "      <td>2020</td>\n",
       "      <td>1.0</td>\n",
       "      <td>0.0</td>\n",
       "    </tr>\n",
       "    <tr>\n",
       "      <th>54</th>\n",
       "      <td>Sheikh Zayed Stadium</td>\n",
       "      <td>Delhi Capitals</td>\n",
       "      <td>Royal Challengers Bangalore</td>\n",
       "      <td>2020</td>\n",
       "      <td>0.0</td>\n",
       "      <td>0.0</td>\n",
       "    </tr>\n",
       "  </tbody>\n",
       "</table>\n",
       "</div>"
      ],
      "text/plain": [
       "                                  venue                  team1  \\\n",
       "2   Dubai International Cricket Stadium    Sunrisers Hyderabad   \n",
       "5   Dubai International Cricket Stadium        Kings XI Punjab   \n",
       "24  Dubai International Cricket Stadium    Chennai Super Kings   \n",
       "32  Dubai International Cricket Stadium       Rajasthan Royals   \n",
       "38                 Sheikh Zayed Stadium  Kolkata Knight Riders   \n",
       "47                 Sheikh Zayed Stadium         Mumbai Indians   \n",
       "54                 Sheikh Zayed Stadium         Delhi Capitals   \n",
       "\n",
       "                          team2  season  Result_rf  result_dt  \n",
       "2   Royal Challengers Bangalore    2020        1.0        1.0  \n",
       "5   Royal Challengers Bangalore    2020        0.0        0.0  \n",
       "24  Royal Challengers Bangalore    2020        1.0        0.0  \n",
       "32  Royal Challengers Bangalore    2020        0.0        0.0  \n",
       "38  Royal Challengers Bangalore    2020        1.0        0.0  \n",
       "47  Royal Challengers Bangalore    2020        1.0        0.0  \n",
       "54  Royal Challengers Bangalore    2020        0.0        0.0  "
      ]
     },
     "execution_count": 169,
     "metadata": {},
     "output_type": "execute_result"
    }
   ],
   "source": [
    "ipl_2020[ipl_2020['team2'] == 'Royal Challengers Bangalore']"
   ]
  },
  {
   "cell_type": "code",
   "execution_count": null,
   "metadata": {},
   "outputs": [],
   "source": []
  },
  {
   "cell_type": "code",
   "execution_count": null,
   "metadata": {},
   "outputs": [],
   "source": []
  },
  {
   "cell_type": "code",
   "execution_count": null,
   "metadata": {},
   "outputs": [],
   "source": []
  },
  {
   "cell_type": "code",
   "execution_count": null,
   "metadata": {},
   "outputs": [],
   "source": []
  },
  {
   "cell_type": "code",
   "execution_count": null,
   "metadata": {},
   "outputs": [],
   "source": []
  },
  {
   "cell_type": "code",
   "execution_count": null,
   "metadata": {},
   "outputs": [],
   "source": []
  },
  {
   "cell_type": "code",
   "execution_count": null,
   "metadata": {},
   "outputs": [],
   "source": []
  },
  {
   "cell_type": "code",
   "execution_count": null,
   "metadata": {},
   "outputs": [],
   "source": []
  }
 ],
 "metadata": {
  "kernelspec": {
   "display_name": "Python 3",
   "language": "python",
   "name": "python3"
  },
  "language_info": {
   "codemirror_mode": {
    "name": "ipython",
    "version": 3
   },
   "file_extension": ".py",
   "mimetype": "text/x-python",
   "name": "python",
   "nbconvert_exporter": "python",
   "pygments_lexer": "ipython3",
   "version": "3.7.3"
  }
 },
 "nbformat": 4,
 "nbformat_minor": 2
}
