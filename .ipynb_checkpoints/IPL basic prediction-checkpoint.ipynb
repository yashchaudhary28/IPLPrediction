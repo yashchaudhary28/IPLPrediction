{
 "cells": [
  {
   "cell_type": "code",
   "execution_count": 1,
   "metadata": {
    "ExecuteTime": {
     "end_time": "2020-09-18T21:53:14.735222Z",
     "start_time": "2020-09-18T21:53:12.602937Z"
    }
   },
   "outputs": [],
   "source": [
    "import pandas as pd\n",
    "import numpy as np\n",
    "import matplotlib.pyplot as plt\n",
    "import seaborn as sns"
   ]
  },
  {
   "cell_type": "code",
   "execution_count": 2,
   "metadata": {
    "ExecuteTime": {
     "end_time": "2020-09-18T21:53:14.763166Z",
     "start_time": "2020-09-18T21:53:14.739213Z"
    }
   },
   "outputs": [],
   "source": [
    "matches = pd.read_csv(\"matches.csv\")"
   ]
  },
  {
   "cell_type": "code",
   "execution_count": 3,
   "metadata": {
    "ExecuteTime": {
     "end_time": "2020-09-18T21:53:14.820998Z",
     "start_time": "2020-09-18T21:53:14.771135Z"
    }
   },
   "outputs": [
    {
     "data": {
      "text/html": [
       "<div>\n",
       "<style scoped>\n",
       "    .dataframe tbody tr th:only-of-type {\n",
       "        vertical-align: middle;\n",
       "    }\n",
       "\n",
       "    .dataframe tbody tr th {\n",
       "        vertical-align: top;\n",
       "    }\n",
       "\n",
       "    .dataframe thead th {\n",
       "        text-align: right;\n",
       "    }\n",
       "</style>\n",
       "<table border=\"1\" class=\"dataframe\">\n",
       "  <thead>\n",
       "    <tr style=\"text-align: right;\">\n",
       "      <th></th>\n",
       "      <th>id</th>\n",
       "      <th>season</th>\n",
       "      <th>city</th>\n",
       "      <th>date</th>\n",
       "      <th>team1</th>\n",
       "      <th>team2</th>\n",
       "      <th>toss_winner</th>\n",
       "      <th>toss_decision</th>\n",
       "      <th>result</th>\n",
       "      <th>dl_applied</th>\n",
       "      <th>winner</th>\n",
       "      <th>win_by_runs</th>\n",
       "      <th>win_by_wickets</th>\n",
       "      <th>player_of_match</th>\n",
       "      <th>venue</th>\n",
       "      <th>umpire1</th>\n",
       "      <th>umpire2</th>\n",
       "      <th>umpire3</th>\n",
       "    </tr>\n",
       "  </thead>\n",
       "  <tbody>\n",
       "    <tr>\n",
       "      <th>0</th>\n",
       "      <td>1</td>\n",
       "      <td>2017</td>\n",
       "      <td>Hyderabad</td>\n",
       "      <td>2017-04-05</td>\n",
       "      <td>Sunrisers Hyderabad</td>\n",
       "      <td>Royal Challengers Bangalore</td>\n",
       "      <td>Royal Challengers Bangalore</td>\n",
       "      <td>field</td>\n",
       "      <td>normal</td>\n",
       "      <td>0</td>\n",
       "      <td>Sunrisers Hyderabad</td>\n",
       "      <td>35</td>\n",
       "      <td>0</td>\n",
       "      <td>Yuvraj Singh</td>\n",
       "      <td>Rajiv Gandhi International Stadium, Uppal</td>\n",
       "      <td>AY Dandekar</td>\n",
       "      <td>NJ Llong</td>\n",
       "      <td>NaN</td>\n",
       "    </tr>\n",
       "    <tr>\n",
       "      <th>1</th>\n",
       "      <td>2</td>\n",
       "      <td>2017</td>\n",
       "      <td>Pune</td>\n",
       "      <td>2017-04-06</td>\n",
       "      <td>Mumbai Indians</td>\n",
       "      <td>Rising Pune Supergiant</td>\n",
       "      <td>Rising Pune Supergiant</td>\n",
       "      <td>field</td>\n",
       "      <td>normal</td>\n",
       "      <td>0</td>\n",
       "      <td>Rising Pune Supergiant</td>\n",
       "      <td>0</td>\n",
       "      <td>7</td>\n",
       "      <td>SPD Smith</td>\n",
       "      <td>Maharashtra Cricket Association Stadium</td>\n",
       "      <td>A Nand Kishore</td>\n",
       "      <td>S Ravi</td>\n",
       "      <td>NaN</td>\n",
       "    </tr>\n",
       "    <tr>\n",
       "      <th>2</th>\n",
       "      <td>3</td>\n",
       "      <td>2017</td>\n",
       "      <td>Rajkot</td>\n",
       "      <td>2017-04-07</td>\n",
       "      <td>Gujarat Lions</td>\n",
       "      <td>Kolkata Knight Riders</td>\n",
       "      <td>Kolkata Knight Riders</td>\n",
       "      <td>field</td>\n",
       "      <td>normal</td>\n",
       "      <td>0</td>\n",
       "      <td>Kolkata Knight Riders</td>\n",
       "      <td>0</td>\n",
       "      <td>10</td>\n",
       "      <td>CA Lynn</td>\n",
       "      <td>Saurashtra Cricket Association Stadium</td>\n",
       "      <td>Nitin Menon</td>\n",
       "      <td>CK Nandan</td>\n",
       "      <td>NaN</td>\n",
       "    </tr>\n",
       "    <tr>\n",
       "      <th>3</th>\n",
       "      <td>4</td>\n",
       "      <td>2017</td>\n",
       "      <td>Indore</td>\n",
       "      <td>2017-04-08</td>\n",
       "      <td>Rising Pune Supergiant</td>\n",
       "      <td>Kings XI Punjab</td>\n",
       "      <td>Kings XI Punjab</td>\n",
       "      <td>field</td>\n",
       "      <td>normal</td>\n",
       "      <td>0</td>\n",
       "      <td>Kings XI Punjab</td>\n",
       "      <td>0</td>\n",
       "      <td>6</td>\n",
       "      <td>GJ Maxwell</td>\n",
       "      <td>Holkar Cricket Stadium</td>\n",
       "      <td>AK Chaudhary</td>\n",
       "      <td>C Shamshuddin</td>\n",
       "      <td>NaN</td>\n",
       "    </tr>\n",
       "    <tr>\n",
       "      <th>4</th>\n",
       "      <td>5</td>\n",
       "      <td>2017</td>\n",
       "      <td>Bangalore</td>\n",
       "      <td>2017-04-08</td>\n",
       "      <td>Royal Challengers Bangalore</td>\n",
       "      <td>Delhi Daredevils</td>\n",
       "      <td>Royal Challengers Bangalore</td>\n",
       "      <td>bat</td>\n",
       "      <td>normal</td>\n",
       "      <td>0</td>\n",
       "      <td>Royal Challengers Bangalore</td>\n",
       "      <td>15</td>\n",
       "      <td>0</td>\n",
       "      <td>KM Jadhav</td>\n",
       "      <td>M Chinnaswamy Stadium</td>\n",
       "      <td>NaN</td>\n",
       "      <td>NaN</td>\n",
       "      <td>NaN</td>\n",
       "    </tr>\n",
       "  </tbody>\n",
       "</table>\n",
       "</div>"
      ],
      "text/plain": [
       "   id  season       city        date                        team1  \\\n",
       "0   1    2017  Hyderabad  2017-04-05          Sunrisers Hyderabad   \n",
       "1   2    2017       Pune  2017-04-06               Mumbai Indians   \n",
       "2   3    2017     Rajkot  2017-04-07                Gujarat Lions   \n",
       "3   4    2017     Indore  2017-04-08       Rising Pune Supergiant   \n",
       "4   5    2017  Bangalore  2017-04-08  Royal Challengers Bangalore   \n",
       "\n",
       "                         team2                  toss_winner toss_decision  \\\n",
       "0  Royal Challengers Bangalore  Royal Challengers Bangalore         field   \n",
       "1       Rising Pune Supergiant       Rising Pune Supergiant         field   \n",
       "2        Kolkata Knight Riders        Kolkata Knight Riders         field   \n",
       "3              Kings XI Punjab              Kings XI Punjab         field   \n",
       "4             Delhi Daredevils  Royal Challengers Bangalore           bat   \n",
       "\n",
       "   result  dl_applied                       winner  win_by_runs  \\\n",
       "0  normal           0          Sunrisers Hyderabad           35   \n",
       "1  normal           0       Rising Pune Supergiant            0   \n",
       "2  normal           0        Kolkata Knight Riders            0   \n",
       "3  normal           0              Kings XI Punjab            0   \n",
       "4  normal           0  Royal Challengers Bangalore           15   \n",
       "\n",
       "   win_by_wickets player_of_match                                      venue  \\\n",
       "0               0    Yuvraj Singh  Rajiv Gandhi International Stadium, Uppal   \n",
       "1               7       SPD Smith    Maharashtra Cricket Association Stadium   \n",
       "2              10         CA Lynn     Saurashtra Cricket Association Stadium   \n",
       "3               6      GJ Maxwell                     Holkar Cricket Stadium   \n",
       "4               0       KM Jadhav                      M Chinnaswamy Stadium   \n",
       "\n",
       "          umpire1        umpire2 umpire3  \n",
       "0     AY Dandekar       NJ Llong     NaN  \n",
       "1  A Nand Kishore         S Ravi     NaN  \n",
       "2     Nitin Menon      CK Nandan     NaN  \n",
       "3    AK Chaudhary  C Shamshuddin     NaN  \n",
       "4             NaN            NaN     NaN  "
      ]
     },
     "execution_count": 3,
     "metadata": {},
     "output_type": "execute_result"
    }
   ],
   "source": [
    "matches.head()"
   ]
  },
  {
   "cell_type": "code",
   "execution_count": 4,
   "metadata": {
    "ExecuteTime": {
     "end_time": "2020-09-18T21:53:14.863878Z",
     "start_time": "2020-09-18T21:53:14.825979Z"
    }
   },
   "outputs": [
    {
     "data": {
      "text/html": [
       "<div>\n",
       "<style scoped>\n",
       "    .dataframe tbody tr th:only-of-type {\n",
       "        vertical-align: middle;\n",
       "    }\n",
       "\n",
       "    .dataframe tbody tr th {\n",
       "        vertical-align: top;\n",
       "    }\n",
       "\n",
       "    .dataframe thead th {\n",
       "        text-align: right;\n",
       "    }\n",
       "</style>\n",
       "<table border=\"1\" class=\"dataframe\">\n",
       "  <thead>\n",
       "    <tr style=\"text-align: right;\">\n",
       "      <th></th>\n",
       "      <th>id</th>\n",
       "      <th>season</th>\n",
       "      <th>city</th>\n",
       "      <th>date</th>\n",
       "      <th>team1</th>\n",
       "      <th>team2</th>\n",
       "      <th>toss_winner</th>\n",
       "      <th>toss_decision</th>\n",
       "      <th>result</th>\n",
       "      <th>dl_applied</th>\n",
       "      <th>winner</th>\n",
       "      <th>win_by_runs</th>\n",
       "      <th>win_by_wickets</th>\n",
       "      <th>player_of_match</th>\n",
       "      <th>venue</th>\n",
       "      <th>umpire1</th>\n",
       "      <th>umpire2</th>\n",
       "      <th>umpire3</th>\n",
       "    </tr>\n",
       "  </thead>\n",
       "  <tbody>\n",
       "    <tr>\n",
       "      <th>461</th>\n",
       "      <td>462</td>\n",
       "      <td>2014</td>\n",
       "      <td>NaN</td>\n",
       "      <td>2014-04-19</td>\n",
       "      <td>Mumbai Indians</td>\n",
       "      <td>Royal Challengers Bangalore</td>\n",
       "      <td>Royal Challengers Bangalore</td>\n",
       "      <td>field</td>\n",
       "      <td>normal</td>\n",
       "      <td>0</td>\n",
       "      <td>Royal Challengers Bangalore</td>\n",
       "      <td>0</td>\n",
       "      <td>7</td>\n",
       "      <td>PA Patel</td>\n",
       "      <td>Dubai International Cricket Stadium</td>\n",
       "      <td>Aleem Dar</td>\n",
       "      <td>AK Chaudhary</td>\n",
       "      <td>NaN</td>\n",
       "    </tr>\n",
       "    <tr>\n",
       "      <th>462</th>\n",
       "      <td>463</td>\n",
       "      <td>2014</td>\n",
       "      <td>NaN</td>\n",
       "      <td>2014-04-19</td>\n",
       "      <td>Kolkata Knight Riders</td>\n",
       "      <td>Delhi Daredevils</td>\n",
       "      <td>Kolkata Knight Riders</td>\n",
       "      <td>bat</td>\n",
       "      <td>normal</td>\n",
       "      <td>0</td>\n",
       "      <td>Delhi Daredevils</td>\n",
       "      <td>0</td>\n",
       "      <td>4</td>\n",
       "      <td>JP Duminy</td>\n",
       "      <td>Dubai International Cricket Stadium</td>\n",
       "      <td>Aleem Dar</td>\n",
       "      <td>VA Kulkarni</td>\n",
       "      <td>NaN</td>\n",
       "    </tr>\n",
       "    <tr>\n",
       "      <th>466</th>\n",
       "      <td>467</td>\n",
       "      <td>2014</td>\n",
       "      <td>NaN</td>\n",
       "      <td>2014-04-23</td>\n",
       "      <td>Chennai Super Kings</td>\n",
       "      <td>Rajasthan Royals</td>\n",
       "      <td>Rajasthan Royals</td>\n",
       "      <td>field</td>\n",
       "      <td>normal</td>\n",
       "      <td>0</td>\n",
       "      <td>Chennai Super Kings</td>\n",
       "      <td>7</td>\n",
       "      <td>0</td>\n",
       "      <td>RA Jadeja</td>\n",
       "      <td>Dubai International Cricket Stadium</td>\n",
       "      <td>HDPK Dharmasena</td>\n",
       "      <td>RK Illingworth</td>\n",
       "      <td>NaN</td>\n",
       "    </tr>\n",
       "    <tr>\n",
       "      <th>468</th>\n",
       "      <td>469</td>\n",
       "      <td>2014</td>\n",
       "      <td>NaN</td>\n",
       "      <td>2014-04-25</td>\n",
       "      <td>Sunrisers Hyderabad</td>\n",
       "      <td>Delhi Daredevils</td>\n",
       "      <td>Sunrisers Hyderabad</td>\n",
       "      <td>bat</td>\n",
       "      <td>normal</td>\n",
       "      <td>0</td>\n",
       "      <td>Sunrisers Hyderabad</td>\n",
       "      <td>4</td>\n",
       "      <td>0</td>\n",
       "      <td>AJ Finch</td>\n",
       "      <td>Dubai International Cricket Stadium</td>\n",
       "      <td>M Erasmus</td>\n",
       "      <td>S Ravi</td>\n",
       "      <td>NaN</td>\n",
       "    </tr>\n",
       "    <tr>\n",
       "      <th>469</th>\n",
       "      <td>470</td>\n",
       "      <td>2014</td>\n",
       "      <td>NaN</td>\n",
       "      <td>2014-04-25</td>\n",
       "      <td>Mumbai Indians</td>\n",
       "      <td>Chennai Super Kings</td>\n",
       "      <td>Mumbai Indians</td>\n",
       "      <td>bat</td>\n",
       "      <td>normal</td>\n",
       "      <td>0</td>\n",
       "      <td>Chennai Super Kings</td>\n",
       "      <td>0</td>\n",
       "      <td>7</td>\n",
       "      <td>MM Sharma</td>\n",
       "      <td>Dubai International Cricket Stadium</td>\n",
       "      <td>BF Bowden</td>\n",
       "      <td>M Erasmus</td>\n",
       "      <td>NaN</td>\n",
       "    </tr>\n",
       "    <tr>\n",
       "      <th>474</th>\n",
       "      <td>475</td>\n",
       "      <td>2014</td>\n",
       "      <td>NaN</td>\n",
       "      <td>2014-04-28</td>\n",
       "      <td>Royal Challengers Bangalore</td>\n",
       "      <td>Kings XI Punjab</td>\n",
       "      <td>Kings XI Punjab</td>\n",
       "      <td>field</td>\n",
       "      <td>normal</td>\n",
       "      <td>0</td>\n",
       "      <td>Kings XI Punjab</td>\n",
       "      <td>0</td>\n",
       "      <td>5</td>\n",
       "      <td>Sandeep Sharma</td>\n",
       "      <td>Dubai International Cricket Stadium</td>\n",
       "      <td>BF Bowden</td>\n",
       "      <td>S Ravi</td>\n",
       "      <td>NaN</td>\n",
       "    </tr>\n",
       "    <tr>\n",
       "      <th>476</th>\n",
       "      <td>477</td>\n",
       "      <td>2014</td>\n",
       "      <td>NaN</td>\n",
       "      <td>2014-04-30</td>\n",
       "      <td>Sunrisers Hyderabad</td>\n",
       "      <td>Mumbai Indians</td>\n",
       "      <td>Mumbai Indians</td>\n",
       "      <td>field</td>\n",
       "      <td>normal</td>\n",
       "      <td>0</td>\n",
       "      <td>Sunrisers Hyderabad</td>\n",
       "      <td>15</td>\n",
       "      <td>0</td>\n",
       "      <td>B Kumar</td>\n",
       "      <td>Dubai International Cricket Stadium</td>\n",
       "      <td>HDPK Dharmasena</td>\n",
       "      <td>M Erasmus</td>\n",
       "      <td>NaN</td>\n",
       "    </tr>\n",
       "  </tbody>\n",
       "</table>\n",
       "</div>"
      ],
      "text/plain": [
       "      id  season city        date                        team1  \\\n",
       "461  462    2014  NaN  2014-04-19               Mumbai Indians   \n",
       "462  463    2014  NaN  2014-04-19        Kolkata Knight Riders   \n",
       "466  467    2014  NaN  2014-04-23          Chennai Super Kings   \n",
       "468  469    2014  NaN  2014-04-25          Sunrisers Hyderabad   \n",
       "469  470    2014  NaN  2014-04-25               Mumbai Indians   \n",
       "474  475    2014  NaN  2014-04-28  Royal Challengers Bangalore   \n",
       "476  477    2014  NaN  2014-04-30          Sunrisers Hyderabad   \n",
       "\n",
       "                           team2                  toss_winner toss_decision  \\\n",
       "461  Royal Challengers Bangalore  Royal Challengers Bangalore         field   \n",
       "462             Delhi Daredevils        Kolkata Knight Riders           bat   \n",
       "466             Rajasthan Royals             Rajasthan Royals         field   \n",
       "468             Delhi Daredevils          Sunrisers Hyderabad           bat   \n",
       "469          Chennai Super Kings               Mumbai Indians           bat   \n",
       "474              Kings XI Punjab              Kings XI Punjab         field   \n",
       "476               Mumbai Indians               Mumbai Indians         field   \n",
       "\n",
       "     result  dl_applied                       winner  win_by_runs  \\\n",
       "461  normal           0  Royal Challengers Bangalore            0   \n",
       "462  normal           0             Delhi Daredevils            0   \n",
       "466  normal           0          Chennai Super Kings            7   \n",
       "468  normal           0          Sunrisers Hyderabad            4   \n",
       "469  normal           0          Chennai Super Kings            0   \n",
       "474  normal           0              Kings XI Punjab            0   \n",
       "476  normal           0          Sunrisers Hyderabad           15   \n",
       "\n",
       "     win_by_wickets player_of_match                                venue  \\\n",
       "461               7        PA Patel  Dubai International Cricket Stadium   \n",
       "462               4       JP Duminy  Dubai International Cricket Stadium   \n",
       "466               0       RA Jadeja  Dubai International Cricket Stadium   \n",
       "468               0        AJ Finch  Dubai International Cricket Stadium   \n",
       "469               7       MM Sharma  Dubai International Cricket Stadium   \n",
       "474               5  Sandeep Sharma  Dubai International Cricket Stadium   \n",
       "476               0         B Kumar  Dubai International Cricket Stadium   \n",
       "\n",
       "             umpire1         umpire2 umpire3  \n",
       "461        Aleem Dar    AK Chaudhary     NaN  \n",
       "462        Aleem Dar     VA Kulkarni     NaN  \n",
       "466  HDPK Dharmasena  RK Illingworth     NaN  \n",
       "468        M Erasmus          S Ravi     NaN  \n",
       "469        BF Bowden       M Erasmus     NaN  \n",
       "474        BF Bowden          S Ravi     NaN  \n",
       "476  HDPK Dharmasena       M Erasmus     NaN  "
      ]
     },
     "execution_count": 4,
     "metadata": {},
     "output_type": "execute_result"
    }
   ],
   "source": [
    "matches[matches['venue'] == \"Dubai International Cricket Stadium\"]"
   ]
  },
  {
   "cell_type": "code",
   "execution_count": 5,
   "metadata": {
    "ExecuteTime": {
     "end_time": "2020-09-18T21:53:14.886815Z",
     "start_time": "2020-09-18T21:53:14.866869Z"
    }
   },
   "outputs": [
    {
     "data": {
      "text/plain": [
       "id                   0\n",
       "season               0\n",
       "city                 7\n",
       "date                 0\n",
       "team1                0\n",
       "team2                0\n",
       "toss_winner          0\n",
       "toss_decision        0\n",
       "result               0\n",
       "dl_applied           0\n",
       "winner               4\n",
       "win_by_runs          0\n",
       "win_by_wickets       0\n",
       "player_of_match      4\n",
       "venue                0\n",
       "umpire1              2\n",
       "umpire2              2\n",
       "umpire3            637\n",
       "dtype: int64"
      ]
     },
     "execution_count": 5,
     "metadata": {},
     "output_type": "execute_result"
    }
   ],
   "source": [
    "matches.isnull().sum()"
   ]
  },
  {
   "cell_type": "code",
   "execution_count": 6,
   "metadata": {
    "ExecuteTime": {
     "end_time": "2020-09-18T21:53:14.910752Z",
     "start_time": "2020-09-18T21:53:14.890804Z"
    }
   },
   "outputs": [],
   "source": [
    "matches['city'].fillna('Dubai', inplace = True)"
   ]
  },
  {
   "cell_type": "code",
   "execution_count": 7,
   "metadata": {
    "ExecuteTime": {
     "end_time": "2020-09-18T21:53:14.963610Z",
     "start_time": "2020-09-18T21:53:14.919729Z"
    }
   },
   "outputs": [
    {
     "data": {
      "text/html": [
       "<div>\n",
       "<style scoped>\n",
       "    .dataframe tbody tr th:only-of-type {\n",
       "        vertical-align: middle;\n",
       "    }\n",
       "\n",
       "    .dataframe tbody tr th {\n",
       "        vertical-align: top;\n",
       "    }\n",
       "\n",
       "    .dataframe thead th {\n",
       "        text-align: right;\n",
       "    }\n",
       "</style>\n",
       "<table border=\"1\" class=\"dataframe\">\n",
       "  <thead>\n",
       "    <tr style=\"text-align: right;\">\n",
       "      <th></th>\n",
       "      <th>id</th>\n",
       "      <th>season</th>\n",
       "      <th>city</th>\n",
       "      <th>date</th>\n",
       "      <th>team1</th>\n",
       "      <th>team2</th>\n",
       "      <th>toss_winner</th>\n",
       "      <th>toss_decision</th>\n",
       "      <th>result</th>\n",
       "      <th>dl_applied</th>\n",
       "      <th>winner</th>\n",
       "      <th>win_by_runs</th>\n",
       "      <th>win_by_wickets</th>\n",
       "      <th>player_of_match</th>\n",
       "      <th>venue</th>\n",
       "      <th>umpire1</th>\n",
       "      <th>umpire2</th>\n",
       "      <th>umpire3</th>\n",
       "    </tr>\n",
       "  </thead>\n",
       "  <tbody>\n",
       "    <tr>\n",
       "      <th>300</th>\n",
       "      <td>301</td>\n",
       "      <td>2011</td>\n",
       "      <td>Delhi</td>\n",
       "      <td>2011-05-21</td>\n",
       "      <td>Delhi Daredevils</td>\n",
       "      <td>Pune Warriors</td>\n",
       "      <td>Delhi Daredevils</td>\n",
       "      <td>bat</td>\n",
       "      <td>no result</td>\n",
       "      <td>0</td>\n",
       "      <td>NaN</td>\n",
       "      <td>0</td>\n",
       "      <td>0</td>\n",
       "      <td>NaN</td>\n",
       "      <td>Feroz Shah Kotla</td>\n",
       "      <td>SS Hazare</td>\n",
       "      <td>RJ Tucker</td>\n",
       "      <td>NaN</td>\n",
       "    </tr>\n",
       "    <tr>\n",
       "      <th>545</th>\n",
       "      <td>546</td>\n",
       "      <td>2015</td>\n",
       "      <td>Bangalore</td>\n",
       "      <td>2015-04-29</td>\n",
       "      <td>Royal Challengers Bangalore</td>\n",
       "      <td>Rajasthan Royals</td>\n",
       "      <td>Rajasthan Royals</td>\n",
       "      <td>field</td>\n",
       "      <td>no result</td>\n",
       "      <td>0</td>\n",
       "      <td>NaN</td>\n",
       "      <td>0</td>\n",
       "      <td>0</td>\n",
       "      <td>NaN</td>\n",
       "      <td>M Chinnaswamy Stadium</td>\n",
       "      <td>JD Cloete</td>\n",
       "      <td>PG Pathak</td>\n",
       "      <td>NaN</td>\n",
       "    </tr>\n",
       "    <tr>\n",
       "      <th>570</th>\n",
       "      <td>571</td>\n",
       "      <td>2015</td>\n",
       "      <td>Bangalore</td>\n",
       "      <td>2015-05-17</td>\n",
       "      <td>Delhi Daredevils</td>\n",
       "      <td>Royal Challengers Bangalore</td>\n",
       "      <td>Royal Challengers Bangalore</td>\n",
       "      <td>field</td>\n",
       "      <td>no result</td>\n",
       "      <td>0</td>\n",
       "      <td>NaN</td>\n",
       "      <td>0</td>\n",
       "      <td>0</td>\n",
       "      <td>NaN</td>\n",
       "      <td>M Chinnaswamy Stadium</td>\n",
       "      <td>HDPK Dharmasena</td>\n",
       "      <td>K Srinivasan</td>\n",
       "      <td>NaN</td>\n",
       "    </tr>\n",
       "    <tr>\n",
       "      <th>744</th>\n",
       "      <td>11340</td>\n",
       "      <td>2019</td>\n",
       "      <td>Bengaluru</td>\n",
       "      <td>30/04/19</td>\n",
       "      <td>Royal Challengers Bangalore</td>\n",
       "      <td>Rajasthan Royals</td>\n",
       "      <td>Rajasthan Royals</td>\n",
       "      <td>field</td>\n",
       "      <td>no result</td>\n",
       "      <td>0</td>\n",
       "      <td>NaN</td>\n",
       "      <td>0</td>\n",
       "      <td>0</td>\n",
       "      <td>NaN</td>\n",
       "      <td>M. Chinnaswamy Stadium</td>\n",
       "      <td>Nigel Llong</td>\n",
       "      <td>Ulhas Gandhe</td>\n",
       "      <td>Anil Chaudhary</td>\n",
       "    </tr>\n",
       "  </tbody>\n",
       "</table>\n",
       "</div>"
      ],
      "text/plain": [
       "        id  season       city        date                        team1  \\\n",
       "300    301    2011      Delhi  2011-05-21             Delhi Daredevils   \n",
       "545    546    2015  Bangalore  2015-04-29  Royal Challengers Bangalore   \n",
       "570    571    2015  Bangalore  2015-05-17             Delhi Daredevils   \n",
       "744  11340    2019  Bengaluru    30/04/19  Royal Challengers Bangalore   \n",
       "\n",
       "                           team2                  toss_winner toss_decision  \\\n",
       "300                Pune Warriors             Delhi Daredevils           bat   \n",
       "545             Rajasthan Royals             Rajasthan Royals         field   \n",
       "570  Royal Challengers Bangalore  Royal Challengers Bangalore         field   \n",
       "744             Rajasthan Royals             Rajasthan Royals         field   \n",
       "\n",
       "        result  dl_applied winner  win_by_runs  win_by_wickets  \\\n",
       "300  no result           0    NaN            0               0   \n",
       "545  no result           0    NaN            0               0   \n",
       "570  no result           0    NaN            0               0   \n",
       "744  no result           0    NaN            0               0   \n",
       "\n",
       "    player_of_match                   venue          umpire1       umpire2  \\\n",
       "300             NaN        Feroz Shah Kotla        SS Hazare     RJ Tucker   \n",
       "545             NaN   M Chinnaswamy Stadium        JD Cloete     PG Pathak   \n",
       "570             NaN   M Chinnaswamy Stadium  HDPK Dharmasena  K Srinivasan   \n",
       "744             NaN  M. Chinnaswamy Stadium      Nigel Llong  Ulhas Gandhe   \n",
       "\n",
       "            umpire3  \n",
       "300             NaN  \n",
       "545             NaN  \n",
       "570             NaN  \n",
       "744  Anil Chaudhary  "
      ]
     },
     "execution_count": 7,
     "metadata": {},
     "output_type": "execute_result"
    }
   ],
   "source": [
    "matches[pd.isnull(matches['winner'])]"
   ]
  },
  {
   "cell_type": "code",
   "execution_count": 8,
   "metadata": {
    "ExecuteTime": {
     "end_time": "2020-09-18T21:53:14.984571Z",
     "start_time": "2020-09-18T21:53:14.967599Z"
    }
   },
   "outputs": [
    {
     "data": {
      "text/plain": [
       "(756, 18)"
      ]
     },
     "execution_count": 8,
     "metadata": {},
     "output_type": "execute_result"
    }
   ],
   "source": [
    "matches.shape"
   ]
  },
  {
   "cell_type": "code",
   "execution_count": 9,
   "metadata": {
    "ExecuteTime": {
     "end_time": "2020-09-18T21:53:15.003526Z",
     "start_time": "2020-09-18T21:53:14.987550Z"
    }
   },
   "outputs": [],
   "source": [
    "matches.drop(['umpire1', 'umpire2', 'umpire3', 'player_of_match', 'result', 'win_by_runs', 'win_by_wickets'], axis = 1, inplace = True)"
   ]
  },
  {
   "cell_type": "code",
   "execution_count": 10,
   "metadata": {
    "ExecuteTime": {
     "end_time": "2020-09-18T21:53:15.045420Z",
     "start_time": "2020-09-18T21:53:15.008490Z"
    }
   },
   "outputs": [],
   "source": [
    "matches.dropna(inplace = True)"
   ]
  },
  {
   "cell_type": "code",
   "execution_count": 11,
   "metadata": {
    "ExecuteTime": {
     "end_time": "2020-09-18T21:53:15.075310Z",
     "start_time": "2020-09-18T21:53:15.050379Z"
    }
   },
   "outputs": [
    {
     "data": {
      "text/html": [
       "<div>\n",
       "<style scoped>\n",
       "    .dataframe tbody tr th:only-of-type {\n",
       "        vertical-align: middle;\n",
       "    }\n",
       "\n",
       "    .dataframe tbody tr th {\n",
       "        vertical-align: top;\n",
       "    }\n",
       "\n",
       "    .dataframe thead th {\n",
       "        text-align: right;\n",
       "    }\n",
       "</style>\n",
       "<table border=\"1\" class=\"dataframe\">\n",
       "  <thead>\n",
       "    <tr style=\"text-align: right;\">\n",
       "      <th></th>\n",
       "      <th>id</th>\n",
       "      <th>season</th>\n",
       "      <th>city</th>\n",
       "      <th>date</th>\n",
       "      <th>team1</th>\n",
       "      <th>team2</th>\n",
       "      <th>toss_winner</th>\n",
       "      <th>toss_decision</th>\n",
       "      <th>dl_applied</th>\n",
       "      <th>winner</th>\n",
       "      <th>venue</th>\n",
       "    </tr>\n",
       "  </thead>\n",
       "  <tbody>\n",
       "    <tr>\n",
       "      <th>0</th>\n",
       "      <td>1</td>\n",
       "      <td>2017</td>\n",
       "      <td>Hyderabad</td>\n",
       "      <td>2017-04-05</td>\n",
       "      <td>Sunrisers Hyderabad</td>\n",
       "      <td>Royal Challengers Bangalore</td>\n",
       "      <td>Royal Challengers Bangalore</td>\n",
       "      <td>field</td>\n",
       "      <td>0</td>\n",
       "      <td>Sunrisers Hyderabad</td>\n",
       "      <td>Rajiv Gandhi International Stadium, Uppal</td>\n",
       "    </tr>\n",
       "    <tr>\n",
       "      <th>1</th>\n",
       "      <td>2</td>\n",
       "      <td>2017</td>\n",
       "      <td>Pune</td>\n",
       "      <td>2017-04-06</td>\n",
       "      <td>Mumbai Indians</td>\n",
       "      <td>Rising Pune Supergiant</td>\n",
       "      <td>Rising Pune Supergiant</td>\n",
       "      <td>field</td>\n",
       "      <td>0</td>\n",
       "      <td>Rising Pune Supergiant</td>\n",
       "      <td>Maharashtra Cricket Association Stadium</td>\n",
       "    </tr>\n",
       "    <tr>\n",
       "      <th>2</th>\n",
       "      <td>3</td>\n",
       "      <td>2017</td>\n",
       "      <td>Rajkot</td>\n",
       "      <td>2017-04-07</td>\n",
       "      <td>Gujarat Lions</td>\n",
       "      <td>Kolkata Knight Riders</td>\n",
       "      <td>Kolkata Knight Riders</td>\n",
       "      <td>field</td>\n",
       "      <td>0</td>\n",
       "      <td>Kolkata Knight Riders</td>\n",
       "      <td>Saurashtra Cricket Association Stadium</td>\n",
       "    </tr>\n",
       "    <tr>\n",
       "      <th>3</th>\n",
       "      <td>4</td>\n",
       "      <td>2017</td>\n",
       "      <td>Indore</td>\n",
       "      <td>2017-04-08</td>\n",
       "      <td>Rising Pune Supergiant</td>\n",
       "      <td>Kings XI Punjab</td>\n",
       "      <td>Kings XI Punjab</td>\n",
       "      <td>field</td>\n",
       "      <td>0</td>\n",
       "      <td>Kings XI Punjab</td>\n",
       "      <td>Holkar Cricket Stadium</td>\n",
       "    </tr>\n",
       "    <tr>\n",
       "      <th>4</th>\n",
       "      <td>5</td>\n",
       "      <td>2017</td>\n",
       "      <td>Bangalore</td>\n",
       "      <td>2017-04-08</td>\n",
       "      <td>Royal Challengers Bangalore</td>\n",
       "      <td>Delhi Daredevils</td>\n",
       "      <td>Royal Challengers Bangalore</td>\n",
       "      <td>bat</td>\n",
       "      <td>0</td>\n",
       "      <td>Royal Challengers Bangalore</td>\n",
       "      <td>M Chinnaswamy Stadium</td>\n",
       "    </tr>\n",
       "  </tbody>\n",
       "</table>\n",
       "</div>"
      ],
      "text/plain": [
       "   id  season       city        date                        team1  \\\n",
       "0   1    2017  Hyderabad  2017-04-05          Sunrisers Hyderabad   \n",
       "1   2    2017       Pune  2017-04-06               Mumbai Indians   \n",
       "2   3    2017     Rajkot  2017-04-07                Gujarat Lions   \n",
       "3   4    2017     Indore  2017-04-08       Rising Pune Supergiant   \n",
       "4   5    2017  Bangalore  2017-04-08  Royal Challengers Bangalore   \n",
       "\n",
       "                         team2                  toss_winner toss_decision  \\\n",
       "0  Royal Challengers Bangalore  Royal Challengers Bangalore         field   \n",
       "1       Rising Pune Supergiant       Rising Pune Supergiant         field   \n",
       "2        Kolkata Knight Riders        Kolkata Knight Riders         field   \n",
       "3              Kings XI Punjab              Kings XI Punjab         field   \n",
       "4             Delhi Daredevils  Royal Challengers Bangalore           bat   \n",
       "\n",
       "   dl_applied                       winner  \\\n",
       "0           0          Sunrisers Hyderabad   \n",
       "1           0       Rising Pune Supergiant   \n",
       "2           0        Kolkata Knight Riders   \n",
       "3           0              Kings XI Punjab   \n",
       "4           0  Royal Challengers Bangalore   \n",
       "\n",
       "                                       venue  \n",
       "0  Rajiv Gandhi International Stadium, Uppal  \n",
       "1    Maharashtra Cricket Association Stadium  \n",
       "2     Saurashtra Cricket Association Stadium  \n",
       "3                     Holkar Cricket Stadium  \n",
       "4                      M Chinnaswamy Stadium  "
      ]
     },
     "execution_count": 11,
     "metadata": {},
     "output_type": "execute_result"
    }
   ],
   "source": [
    "matches.head()"
   ]
  },
  {
   "cell_type": "code",
   "execution_count": 12,
   "metadata": {
    "ExecuteTime": {
     "end_time": "2020-09-18T21:53:15.098250Z",
     "start_time": "2020-09-18T21:53:15.078302Z"
    }
   },
   "outputs": [
    {
     "data": {
      "text/plain": [
       "Mumbai Indians                 109\n",
       "Chennai Super Kings            100\n",
       "Kolkata Knight Riders           92\n",
       "Royal Challengers Bangalore     84\n",
       "Kings XI Punjab                 82\n",
       "Rajasthan Royals                75\n",
       "Delhi Daredevils                67\n",
       "Sunrisers Hyderabad             58\n",
       "Deccan Chargers                 29\n",
       "Gujarat Lions                   13\n",
       "Pune Warriors                   12\n",
       "Delhi Capitals                  10\n",
       "Rising Pune Supergiant          10\n",
       "Kochi Tuskers Kerala             6\n",
       "Rising Pune Supergiants          5\n",
       "Name: winner, dtype: int64"
      ]
     },
     "execution_count": 12,
     "metadata": {},
     "output_type": "execute_result"
    }
   ],
   "source": [
    "matches['winner'].value_counts()"
   ]
  },
  {
   "cell_type": "code",
   "execution_count": 13,
   "metadata": {
    "ExecuteTime": {
     "end_time": "2020-09-18T21:53:15.140140Z",
     "start_time": "2020-09-18T21:53:15.104235Z"
    }
   },
   "outputs": [],
   "source": [
    "matches.replace(['Rising Pune Supergiants', 'Delhi Daredevils'], ['Rising Pune Supergiant', 'Delhi Capitals'], inplace = True)"
   ]
  },
  {
   "cell_type": "code",
   "execution_count": 14,
   "metadata": {
    "ExecuteTime": {
     "end_time": "2020-09-18T21:53:15.159090Z",
     "start_time": "2020-09-18T21:53:15.143131Z"
    }
   },
   "outputs": [
    {
     "data": {
      "text/plain": [
       "13"
      ]
     },
     "execution_count": 14,
     "metadata": {},
     "output_type": "execute_result"
    }
   ],
   "source": [
    "matches['team1'].value_counts().count()"
   ]
  },
  {
   "cell_type": "code",
   "execution_count": 15,
   "metadata": {
    "ExecuteTime": {
     "end_time": "2020-09-18T21:53:15.183027Z",
     "start_time": "2020-09-18T21:53:15.162105Z"
    }
   },
   "outputs": [
    {
     "data": {
      "text/plain": [
       "41"
      ]
     },
     "execution_count": 15,
     "metadata": {},
     "output_type": "execute_result"
    }
   ],
   "source": [
    "matches['venue'].value_counts().count()"
   ]
  },
  {
   "cell_type": "code",
   "execution_count": 16,
   "metadata": {
    "ExecuteTime": {
     "end_time": "2020-09-18T21:53:15.205973Z",
     "start_time": "2020-09-18T21:53:15.186019Z"
    }
   },
   "outputs": [],
   "source": [
    "matches['venue'].replace(['Punjab Cricket Association Stadium, Mohali', 'Subrata Roy Sahara Stadium', 'M. A. Chidambaram Stadium', 'Rajiv Gandhi Intl. Cricket Stadium', 'IS Bindra Stadium', 'M. Chinnaswamy Stadium', 'Feroz Shah Kotla Ground', 'ACA-VDCA Stadium'], ['Punjab Cricket Association IS Bindra Stadium, Mohali', 'Maharashtra Cricket Association Stadium', 'MA Chidambaram Stadium, Chepauk', 'Rajiv Gandhi International Stadium, Uppal', 'Punjab Cricket Association IS Bindra Stadium, Mohali', 'M Chinnaswamy Stadium', 'Feroz Shah Kotla', 'Dr. Y.S. Rajasekhara Reddy ACA-VDCA Cricket Stadium'], inplace = True)"
   ]
  },
  {
   "cell_type": "code",
   "execution_count": 17,
   "metadata": {
    "ExecuteTime": {
     "end_time": "2020-09-18T21:53:15.234885Z",
     "start_time": "2020-09-18T21:53:15.208956Z"
    }
   },
   "outputs": [
    {
     "data": {
      "text/plain": [
       "33"
      ]
     },
     "execution_count": 17,
     "metadata": {},
     "output_type": "execute_result"
    }
   ],
   "source": [
    "matches['venue'].value_counts().count()"
   ]
  },
  {
   "cell_type": "code",
   "execution_count": 18,
   "metadata": {
    "ExecuteTime": {
     "end_time": "2020-09-18T21:53:15.275777Z",
     "start_time": "2020-09-18T21:53:15.238873Z"
    }
   },
   "outputs": [
    {
     "data": {
      "text/html": [
       "<div>\n",
       "<style scoped>\n",
       "    .dataframe tbody tr th:only-of-type {\n",
       "        vertical-align: middle;\n",
       "    }\n",
       "\n",
       "    .dataframe tbody tr th {\n",
       "        vertical-align: top;\n",
       "    }\n",
       "\n",
       "    .dataframe thead th {\n",
       "        text-align: right;\n",
       "    }\n",
       "</style>\n",
       "<table border=\"1\" class=\"dataframe\">\n",
       "  <thead>\n",
       "    <tr style=\"text-align: right;\">\n",
       "      <th></th>\n",
       "      <th>id</th>\n",
       "      <th>season</th>\n",
       "      <th>city</th>\n",
       "      <th>date</th>\n",
       "      <th>team1</th>\n",
       "      <th>team2</th>\n",
       "      <th>toss_winner</th>\n",
       "      <th>toss_decision</th>\n",
       "      <th>dl_applied</th>\n",
       "      <th>winner</th>\n",
       "      <th>venue</th>\n",
       "    </tr>\n",
       "  </thead>\n",
       "  <tbody>\n",
       "    <tr>\n",
       "      <th>0</th>\n",
       "      <td>1</td>\n",
       "      <td>2017</td>\n",
       "      <td>Hyderabad</td>\n",
       "      <td>2017-04-05</td>\n",
       "      <td>Sunrisers Hyderabad</td>\n",
       "      <td>Royal Challengers Bangalore</td>\n",
       "      <td>Royal Challengers Bangalore</td>\n",
       "      <td>field</td>\n",
       "      <td>0</td>\n",
       "      <td>Sunrisers Hyderabad</td>\n",
       "      <td>Rajiv Gandhi International Stadium, Uppal</td>\n",
       "    </tr>\n",
       "    <tr>\n",
       "      <th>1</th>\n",
       "      <td>2</td>\n",
       "      <td>2017</td>\n",
       "      <td>Pune</td>\n",
       "      <td>2017-04-06</td>\n",
       "      <td>Mumbai Indians</td>\n",
       "      <td>Rising Pune Supergiant</td>\n",
       "      <td>Rising Pune Supergiant</td>\n",
       "      <td>field</td>\n",
       "      <td>0</td>\n",
       "      <td>Rising Pune Supergiant</td>\n",
       "      <td>Maharashtra Cricket Association Stadium</td>\n",
       "    </tr>\n",
       "    <tr>\n",
       "      <th>2</th>\n",
       "      <td>3</td>\n",
       "      <td>2017</td>\n",
       "      <td>Rajkot</td>\n",
       "      <td>2017-04-07</td>\n",
       "      <td>Gujarat Lions</td>\n",
       "      <td>Kolkata Knight Riders</td>\n",
       "      <td>Kolkata Knight Riders</td>\n",
       "      <td>field</td>\n",
       "      <td>0</td>\n",
       "      <td>Kolkata Knight Riders</td>\n",
       "      <td>Saurashtra Cricket Association Stadium</td>\n",
       "    </tr>\n",
       "    <tr>\n",
       "      <th>3</th>\n",
       "      <td>4</td>\n",
       "      <td>2017</td>\n",
       "      <td>Indore</td>\n",
       "      <td>2017-04-08</td>\n",
       "      <td>Rising Pune Supergiant</td>\n",
       "      <td>Kings XI Punjab</td>\n",
       "      <td>Kings XI Punjab</td>\n",
       "      <td>field</td>\n",
       "      <td>0</td>\n",
       "      <td>Kings XI Punjab</td>\n",
       "      <td>Holkar Cricket Stadium</td>\n",
       "    </tr>\n",
       "    <tr>\n",
       "      <th>4</th>\n",
       "      <td>5</td>\n",
       "      <td>2017</td>\n",
       "      <td>Bangalore</td>\n",
       "      <td>2017-04-08</td>\n",
       "      <td>Royal Challengers Bangalore</td>\n",
       "      <td>Delhi Capitals</td>\n",
       "      <td>Royal Challengers Bangalore</td>\n",
       "      <td>bat</td>\n",
       "      <td>0</td>\n",
       "      <td>Royal Challengers Bangalore</td>\n",
       "      <td>M Chinnaswamy Stadium</td>\n",
       "    </tr>\n",
       "  </tbody>\n",
       "</table>\n",
       "</div>"
      ],
      "text/plain": [
       "   id  season       city        date                        team1  \\\n",
       "0   1    2017  Hyderabad  2017-04-05          Sunrisers Hyderabad   \n",
       "1   2    2017       Pune  2017-04-06               Mumbai Indians   \n",
       "2   3    2017     Rajkot  2017-04-07                Gujarat Lions   \n",
       "3   4    2017     Indore  2017-04-08       Rising Pune Supergiant   \n",
       "4   5    2017  Bangalore  2017-04-08  Royal Challengers Bangalore   \n",
       "\n",
       "                         team2                  toss_winner toss_decision  \\\n",
       "0  Royal Challengers Bangalore  Royal Challengers Bangalore         field   \n",
       "1       Rising Pune Supergiant       Rising Pune Supergiant         field   \n",
       "2        Kolkata Knight Riders        Kolkata Knight Riders         field   \n",
       "3              Kings XI Punjab              Kings XI Punjab         field   \n",
       "4               Delhi Capitals  Royal Challengers Bangalore           bat   \n",
       "\n",
       "   dl_applied                       winner  \\\n",
       "0           0          Sunrisers Hyderabad   \n",
       "1           0       Rising Pune Supergiant   \n",
       "2           0        Kolkata Knight Riders   \n",
       "3           0              Kings XI Punjab   \n",
       "4           0  Royal Challengers Bangalore   \n",
       "\n",
       "                                       venue  \n",
       "0  Rajiv Gandhi International Stadium, Uppal  \n",
       "1    Maharashtra Cricket Association Stadium  \n",
       "2     Saurashtra Cricket Association Stadium  \n",
       "3                     Holkar Cricket Stadium  \n",
       "4                      M Chinnaswamy Stadium  "
      ]
     },
     "execution_count": 18,
     "metadata": {},
     "output_type": "execute_result"
    }
   ],
   "source": [
    "matches.head()"
   ]
  },
  {
   "cell_type": "code",
   "execution_count": 19,
   "metadata": {
    "ExecuteTime": {
     "end_time": "2020-09-18T21:53:15.291765Z",
     "start_time": "2020-09-18T21:53:15.278770Z"
    }
   },
   "outputs": [],
   "source": [
    "matches['Result'] = np.where(matches['toss_winner'] == matches['winner'], 1, 0)"
   ]
  },
  {
   "cell_type": "code",
   "execution_count": 20,
   "metadata": {
    "ExecuteTime": {
     "end_time": "2020-09-18T21:53:15.310685Z",
     "start_time": "2020-09-18T21:53:15.295724Z"
    }
   },
   "outputs": [],
   "source": [
    "matches['toss_decision'] = np.where(matches['toss_decision'] == 'bat', 0, 1)"
   ]
  },
  {
   "cell_type": "code",
   "execution_count": 21,
   "metadata": {
    "ExecuteTime": {
     "end_time": "2020-09-18T21:53:15.363544Z",
     "start_time": "2020-09-18T21:53:15.314675Z"
    }
   },
   "outputs": [
    {
     "data": {
      "text/html": [
       "<div>\n",
       "<style scoped>\n",
       "    .dataframe tbody tr th:only-of-type {\n",
       "        vertical-align: middle;\n",
       "    }\n",
       "\n",
       "    .dataframe tbody tr th {\n",
       "        vertical-align: top;\n",
       "    }\n",
       "\n",
       "    .dataframe thead th {\n",
       "        text-align: right;\n",
       "    }\n",
       "</style>\n",
       "<table border=\"1\" class=\"dataframe\">\n",
       "  <thead>\n",
       "    <tr style=\"text-align: right;\">\n",
       "      <th></th>\n",
       "      <th>id</th>\n",
       "      <th>season</th>\n",
       "      <th>city</th>\n",
       "      <th>date</th>\n",
       "      <th>team1</th>\n",
       "      <th>team2</th>\n",
       "      <th>toss_winner</th>\n",
       "      <th>toss_decision</th>\n",
       "      <th>dl_applied</th>\n",
       "      <th>winner</th>\n",
       "      <th>venue</th>\n",
       "      <th>Result</th>\n",
       "    </tr>\n",
       "  </thead>\n",
       "  <tbody>\n",
       "    <tr>\n",
       "      <th>0</th>\n",
       "      <td>1</td>\n",
       "      <td>2017</td>\n",
       "      <td>Hyderabad</td>\n",
       "      <td>2017-04-05</td>\n",
       "      <td>Sunrisers Hyderabad</td>\n",
       "      <td>Royal Challengers Bangalore</td>\n",
       "      <td>Royal Challengers Bangalore</td>\n",
       "      <td>1</td>\n",
       "      <td>0</td>\n",
       "      <td>Sunrisers Hyderabad</td>\n",
       "      <td>Rajiv Gandhi International Stadium, Uppal</td>\n",
       "      <td>0</td>\n",
       "    </tr>\n",
       "    <tr>\n",
       "      <th>1</th>\n",
       "      <td>2</td>\n",
       "      <td>2017</td>\n",
       "      <td>Pune</td>\n",
       "      <td>2017-04-06</td>\n",
       "      <td>Mumbai Indians</td>\n",
       "      <td>Rising Pune Supergiant</td>\n",
       "      <td>Rising Pune Supergiant</td>\n",
       "      <td>1</td>\n",
       "      <td>0</td>\n",
       "      <td>Rising Pune Supergiant</td>\n",
       "      <td>Maharashtra Cricket Association Stadium</td>\n",
       "      <td>1</td>\n",
       "    </tr>\n",
       "    <tr>\n",
       "      <th>2</th>\n",
       "      <td>3</td>\n",
       "      <td>2017</td>\n",
       "      <td>Rajkot</td>\n",
       "      <td>2017-04-07</td>\n",
       "      <td>Gujarat Lions</td>\n",
       "      <td>Kolkata Knight Riders</td>\n",
       "      <td>Kolkata Knight Riders</td>\n",
       "      <td>1</td>\n",
       "      <td>0</td>\n",
       "      <td>Kolkata Knight Riders</td>\n",
       "      <td>Saurashtra Cricket Association Stadium</td>\n",
       "      <td>1</td>\n",
       "    </tr>\n",
       "    <tr>\n",
       "      <th>3</th>\n",
       "      <td>4</td>\n",
       "      <td>2017</td>\n",
       "      <td>Indore</td>\n",
       "      <td>2017-04-08</td>\n",
       "      <td>Rising Pune Supergiant</td>\n",
       "      <td>Kings XI Punjab</td>\n",
       "      <td>Kings XI Punjab</td>\n",
       "      <td>1</td>\n",
       "      <td>0</td>\n",
       "      <td>Kings XI Punjab</td>\n",
       "      <td>Holkar Cricket Stadium</td>\n",
       "      <td>1</td>\n",
       "    </tr>\n",
       "    <tr>\n",
       "      <th>4</th>\n",
       "      <td>5</td>\n",
       "      <td>2017</td>\n",
       "      <td>Bangalore</td>\n",
       "      <td>2017-04-08</td>\n",
       "      <td>Royal Challengers Bangalore</td>\n",
       "      <td>Delhi Capitals</td>\n",
       "      <td>Royal Challengers Bangalore</td>\n",
       "      <td>0</td>\n",
       "      <td>0</td>\n",
       "      <td>Royal Challengers Bangalore</td>\n",
       "      <td>M Chinnaswamy Stadium</td>\n",
       "      <td>1</td>\n",
       "    </tr>\n",
       "  </tbody>\n",
       "</table>\n",
       "</div>"
      ],
      "text/plain": [
       "   id  season       city        date                        team1  \\\n",
       "0   1    2017  Hyderabad  2017-04-05          Sunrisers Hyderabad   \n",
       "1   2    2017       Pune  2017-04-06               Mumbai Indians   \n",
       "2   3    2017     Rajkot  2017-04-07                Gujarat Lions   \n",
       "3   4    2017     Indore  2017-04-08       Rising Pune Supergiant   \n",
       "4   5    2017  Bangalore  2017-04-08  Royal Challengers Bangalore   \n",
       "\n",
       "                         team2                  toss_winner  toss_decision  \\\n",
       "0  Royal Challengers Bangalore  Royal Challengers Bangalore              1   \n",
       "1       Rising Pune Supergiant       Rising Pune Supergiant              1   \n",
       "2        Kolkata Knight Riders        Kolkata Knight Riders              1   \n",
       "3              Kings XI Punjab              Kings XI Punjab              1   \n",
       "4               Delhi Capitals  Royal Challengers Bangalore              0   \n",
       "\n",
       "   dl_applied                       winner  \\\n",
       "0           0          Sunrisers Hyderabad   \n",
       "1           0       Rising Pune Supergiant   \n",
       "2           0        Kolkata Knight Riders   \n",
       "3           0              Kings XI Punjab   \n",
       "4           0  Royal Challengers Bangalore   \n",
       "\n",
       "                                       venue  Result  \n",
       "0  Rajiv Gandhi International Stadium, Uppal       0  \n",
       "1    Maharashtra Cricket Association Stadium       1  \n",
       "2     Saurashtra Cricket Association Stadium       1  \n",
       "3                     Holkar Cricket Stadium       1  \n",
       "4                      M Chinnaswamy Stadium       1  "
      ]
     },
     "execution_count": 21,
     "metadata": {},
     "output_type": "execute_result"
    }
   ],
   "source": [
    "matches.head()"
   ]
  },
  {
   "cell_type": "code",
   "execution_count": 22,
   "metadata": {
    "ExecuteTime": {
     "end_time": "2020-09-18T21:53:15.379500Z",
     "start_time": "2020-09-18T21:53:15.372519Z"
    }
   },
   "outputs": [
    {
     "data": {
      "text/plain": [
       "(752, 12)"
      ]
     },
     "execution_count": 22,
     "metadata": {},
     "output_type": "execute_result"
    }
   ],
   "source": [
    "matches.shape"
   ]
  },
  {
   "cell_type": "code",
   "execution_count": 23,
   "metadata": {
    "ExecuteTime": {
     "end_time": "2020-09-18T21:53:15.401445Z",
     "start_time": "2020-09-18T21:53:15.384486Z"
    }
   },
   "outputs": [
    {
     "data": {
      "text/plain": [
       "0.5226063829787234"
      ]
     },
     "execution_count": 23,
     "metadata": {},
     "output_type": "execute_result"
    }
   ],
   "source": [
    "matches['Result'].sum()/752"
   ]
  },
  {
   "cell_type": "markdown",
   "metadata": {},
   "source": [
    "52.26% of the games are won by teams which won toss. "
   ]
  },
  {
   "cell_type": "code",
   "execution_count": 24,
   "metadata": {
    "ExecuteTime": {
     "end_time": "2020-09-18T21:53:15.423385Z",
     "start_time": "2020-09-18T21:53:15.404431Z"
    }
   },
   "outputs": [
    {
     "data": {
      "text/plain": [
       "0.6117021276595744"
      ]
     },
     "execution_count": 24,
     "metadata": {},
     "output_type": "execute_result"
    }
   ],
   "source": [
    "matches['toss_decision'].sum()/752"
   ]
  },
  {
   "cell_type": "markdown",
   "metadata": {},
   "source": [
    "61.17% of the time teams choose fielding first or batting second."
   ]
  },
  {
   "cell_type": "code",
   "execution_count": 25,
   "metadata": {
    "ExecuteTime": {
     "end_time": "2020-09-18T21:53:15.439340Z",
     "start_time": "2020-09-18T21:53:15.426373Z"
    }
   },
   "outputs": [],
   "source": [
    "def win_percentage(team, data):\n",
    "    a = data[(data['team1'] == team) | (data['team2'] == team)]\n",
    "    x = a.shape\n",
    "    a['win/lose'] = np.where(a['winner'] == team, 1, 0)\n",
    "    return (a['win/lose'].sum()/x[0])*100"
   ]
  },
  {
   "cell_type": "code",
   "execution_count": 26,
   "metadata": {
    "ExecuteTime": {
     "end_time": "2020-09-18T21:53:15.471253Z",
     "start_time": "2020-09-18T21:53:15.443328Z"
    }
   },
   "outputs": [],
   "source": [
    "teams = matches['team1'].unique()"
   ]
  },
  {
   "cell_type": "code",
   "execution_count": 27,
   "metadata": {
    "ExecuteTime": {
     "end_time": "2020-09-18T21:53:15.542066Z",
     "start_time": "2020-09-18T21:53:15.474244Z"
    }
   },
   "outputs": [
    {
     "name": "stdout",
     "output_type": "stream",
     "text": [
      "Sunrisers Hyderabad 53.70370370370371\n",
      "Mumbai Indians 58.288770053475936\n",
      "Gujarat Lions 43.333333333333336\n",
      "Rising Pune Supergiant 50.0\n",
      "Royal Challengers Bangalore 47.45762711864407\n",
      "Kolkata Knight Riders 51.68539325842697\n",
      "Delhi Capitals 44.0\n",
      "Kings XI Punjab 46.590909090909086\n",
      "Chennai Super Kings 60.97560975609756\n",
      "Rajasthan Royals 51.724137931034484\n",
      "Deccan Chargers 38.666666666666664\n",
      "Kochi Tuskers Kerala 42.857142857142854\n",
      "Pune Warriors 26.666666666666668\n"
     ]
    },
    {
     "name": "stderr",
     "output_type": "stream",
     "text": [
      "C:\\Users\\yashc\\AppData\\Local\\Continuum\\anaconda3\\lib\\site-packages\\ipykernel_launcher.py:4: SettingWithCopyWarning: \n",
      "A value is trying to be set on a copy of a slice from a DataFrame.\n",
      "Try using .loc[row_indexer,col_indexer] = value instead\n",
      "\n",
      "See the caveats in the documentation: https://pandas.pydata.org/pandas-docs/stable/user_guide/indexing.html#returning-a-view-versus-a-copy\n",
      "  after removing the cwd from sys.path.\n"
     ]
    }
   ],
   "source": [
    "for i in teams:\n",
    "    print(i,win_percentage(i, matches))"
   ]
  },
  {
   "cell_type": "code",
   "execution_count": 28,
   "metadata": {
    "ExecuteTime": {
     "end_time": "2020-09-18T21:53:15.568995Z",
     "start_time": "2020-09-18T21:53:15.544058Z"
    }
   },
   "outputs": [
    {
     "data": {
      "text/html": [
       "<div>\n",
       "<style scoped>\n",
       "    .dataframe tbody tr th:only-of-type {\n",
       "        vertical-align: middle;\n",
       "    }\n",
       "\n",
       "    .dataframe tbody tr th {\n",
       "        vertical-align: top;\n",
       "    }\n",
       "\n",
       "    .dataframe thead th {\n",
       "        text-align: right;\n",
       "    }\n",
       "</style>\n",
       "<table border=\"1\" class=\"dataframe\">\n",
       "  <thead>\n",
       "    <tr style=\"text-align: right;\">\n",
       "      <th></th>\n",
       "      <th>id</th>\n",
       "      <th>season</th>\n",
       "      <th>city</th>\n",
       "      <th>date</th>\n",
       "      <th>team1</th>\n",
       "      <th>team2</th>\n",
       "      <th>toss_winner</th>\n",
       "      <th>toss_decision</th>\n",
       "      <th>dl_applied</th>\n",
       "      <th>winner</th>\n",
       "      <th>venue</th>\n",
       "      <th>Result</th>\n",
       "    </tr>\n",
       "  </thead>\n",
       "  <tbody>\n",
       "    <tr>\n",
       "      <th>0</th>\n",
       "      <td>1</td>\n",
       "      <td>2017</td>\n",
       "      <td>Hyderabad</td>\n",
       "      <td>2017-04-05</td>\n",
       "      <td>Sunrisers Hyderabad</td>\n",
       "      <td>Royal Challengers Bangalore</td>\n",
       "      <td>Royal Challengers Bangalore</td>\n",
       "      <td>1</td>\n",
       "      <td>0</td>\n",
       "      <td>Sunrisers Hyderabad</td>\n",
       "      <td>Rajiv Gandhi International Stadium, Uppal</td>\n",
       "      <td>0</td>\n",
       "    </tr>\n",
       "    <tr>\n",
       "      <th>1</th>\n",
       "      <td>2</td>\n",
       "      <td>2017</td>\n",
       "      <td>Pune</td>\n",
       "      <td>2017-04-06</td>\n",
       "      <td>Mumbai Indians</td>\n",
       "      <td>Rising Pune Supergiant</td>\n",
       "      <td>Rising Pune Supergiant</td>\n",
       "      <td>1</td>\n",
       "      <td>0</td>\n",
       "      <td>Rising Pune Supergiant</td>\n",
       "      <td>Maharashtra Cricket Association Stadium</td>\n",
       "      <td>1</td>\n",
       "    </tr>\n",
       "    <tr>\n",
       "      <th>2</th>\n",
       "      <td>3</td>\n",
       "      <td>2017</td>\n",
       "      <td>Rajkot</td>\n",
       "      <td>2017-04-07</td>\n",
       "      <td>Gujarat Lions</td>\n",
       "      <td>Kolkata Knight Riders</td>\n",
       "      <td>Kolkata Knight Riders</td>\n",
       "      <td>1</td>\n",
       "      <td>0</td>\n",
       "      <td>Kolkata Knight Riders</td>\n",
       "      <td>Saurashtra Cricket Association Stadium</td>\n",
       "      <td>1</td>\n",
       "    </tr>\n",
       "    <tr>\n",
       "      <th>3</th>\n",
       "      <td>4</td>\n",
       "      <td>2017</td>\n",
       "      <td>Indore</td>\n",
       "      <td>2017-04-08</td>\n",
       "      <td>Rising Pune Supergiant</td>\n",
       "      <td>Kings XI Punjab</td>\n",
       "      <td>Kings XI Punjab</td>\n",
       "      <td>1</td>\n",
       "      <td>0</td>\n",
       "      <td>Kings XI Punjab</td>\n",
       "      <td>Holkar Cricket Stadium</td>\n",
       "      <td>1</td>\n",
       "    </tr>\n",
       "    <tr>\n",
       "      <th>4</th>\n",
       "      <td>5</td>\n",
       "      <td>2017</td>\n",
       "      <td>Bangalore</td>\n",
       "      <td>2017-04-08</td>\n",
       "      <td>Royal Challengers Bangalore</td>\n",
       "      <td>Delhi Capitals</td>\n",
       "      <td>Royal Challengers Bangalore</td>\n",
       "      <td>0</td>\n",
       "      <td>0</td>\n",
       "      <td>Royal Challengers Bangalore</td>\n",
       "      <td>M Chinnaswamy Stadium</td>\n",
       "      <td>1</td>\n",
       "    </tr>\n",
       "  </tbody>\n",
       "</table>\n",
       "</div>"
      ],
      "text/plain": [
       "   id  season       city        date                        team1  \\\n",
       "0   1    2017  Hyderabad  2017-04-05          Sunrisers Hyderabad   \n",
       "1   2    2017       Pune  2017-04-06               Mumbai Indians   \n",
       "2   3    2017     Rajkot  2017-04-07                Gujarat Lions   \n",
       "3   4    2017     Indore  2017-04-08       Rising Pune Supergiant   \n",
       "4   5    2017  Bangalore  2017-04-08  Royal Challengers Bangalore   \n",
       "\n",
       "                         team2                  toss_winner  toss_decision  \\\n",
       "0  Royal Challengers Bangalore  Royal Challengers Bangalore              1   \n",
       "1       Rising Pune Supergiant       Rising Pune Supergiant              1   \n",
       "2        Kolkata Knight Riders        Kolkata Knight Riders              1   \n",
       "3              Kings XI Punjab              Kings XI Punjab              1   \n",
       "4               Delhi Capitals  Royal Challengers Bangalore              0   \n",
       "\n",
       "   dl_applied                       winner  \\\n",
       "0           0          Sunrisers Hyderabad   \n",
       "1           0       Rising Pune Supergiant   \n",
       "2           0        Kolkata Knight Riders   \n",
       "3           0              Kings XI Punjab   \n",
       "4           0  Royal Challengers Bangalore   \n",
       "\n",
       "                                       venue  Result  \n",
       "0  Rajiv Gandhi International Stadium, Uppal       0  \n",
       "1    Maharashtra Cricket Association Stadium       1  \n",
       "2     Saurashtra Cricket Association Stadium       1  \n",
       "3                     Holkar Cricket Stadium       1  \n",
       "4                      M Chinnaswamy Stadium       1  "
      ]
     },
     "execution_count": 28,
     "metadata": {},
     "output_type": "execute_result"
    }
   ],
   "source": [
    "matches.head()"
   ]
  },
  {
   "cell_type": "code",
   "execution_count": 29,
   "metadata": {
    "ExecuteTime": {
     "end_time": "2020-09-18T21:53:15.575976Z",
     "start_time": "2020-09-18T21:53:15.570990Z"
    }
   },
   "outputs": [],
   "source": [
    "matches_final = matches.copy()"
   ]
  },
  {
   "cell_type": "code",
   "execution_count": 30,
   "metadata": {
    "ExecuteTime": {
     "end_time": "2020-09-18T21:53:15.587944Z",
     "start_time": "2020-09-18T21:53:15.579962Z"
    }
   },
   "outputs": [],
   "source": [
    "matches.drop(['id', 'city', 'winner', 'date'], axis = 1, inplace = True)"
   ]
  },
  {
   "cell_type": "code",
   "execution_count": 31,
   "metadata": {
    "ExecuteTime": {
     "end_time": "2020-09-18T21:53:15.611882Z",
     "start_time": "2020-09-18T21:53:15.590937Z"
    }
   },
   "outputs": [
    {
     "data": {
      "text/html": [
       "<div>\n",
       "<style scoped>\n",
       "    .dataframe tbody tr th:only-of-type {\n",
       "        vertical-align: middle;\n",
       "    }\n",
       "\n",
       "    .dataframe tbody tr th {\n",
       "        vertical-align: top;\n",
       "    }\n",
       "\n",
       "    .dataframe thead th {\n",
       "        text-align: right;\n",
       "    }\n",
       "</style>\n",
       "<table border=\"1\" class=\"dataframe\">\n",
       "  <thead>\n",
       "    <tr style=\"text-align: right;\">\n",
       "      <th></th>\n",
       "      <th>season</th>\n",
       "      <th>team1</th>\n",
       "      <th>team2</th>\n",
       "      <th>toss_winner</th>\n",
       "      <th>toss_decision</th>\n",
       "      <th>dl_applied</th>\n",
       "      <th>venue</th>\n",
       "      <th>Result</th>\n",
       "    </tr>\n",
       "  </thead>\n",
       "  <tbody>\n",
       "    <tr>\n",
       "      <th>0</th>\n",
       "      <td>2017</td>\n",
       "      <td>Sunrisers Hyderabad</td>\n",
       "      <td>Royal Challengers Bangalore</td>\n",
       "      <td>Royal Challengers Bangalore</td>\n",
       "      <td>1</td>\n",
       "      <td>0</td>\n",
       "      <td>Rajiv Gandhi International Stadium, Uppal</td>\n",
       "      <td>0</td>\n",
       "    </tr>\n",
       "    <tr>\n",
       "      <th>1</th>\n",
       "      <td>2017</td>\n",
       "      <td>Mumbai Indians</td>\n",
       "      <td>Rising Pune Supergiant</td>\n",
       "      <td>Rising Pune Supergiant</td>\n",
       "      <td>1</td>\n",
       "      <td>0</td>\n",
       "      <td>Maharashtra Cricket Association Stadium</td>\n",
       "      <td>1</td>\n",
       "    </tr>\n",
       "    <tr>\n",
       "      <th>2</th>\n",
       "      <td>2017</td>\n",
       "      <td>Gujarat Lions</td>\n",
       "      <td>Kolkata Knight Riders</td>\n",
       "      <td>Kolkata Knight Riders</td>\n",
       "      <td>1</td>\n",
       "      <td>0</td>\n",
       "      <td>Saurashtra Cricket Association Stadium</td>\n",
       "      <td>1</td>\n",
       "    </tr>\n",
       "    <tr>\n",
       "      <th>3</th>\n",
       "      <td>2017</td>\n",
       "      <td>Rising Pune Supergiant</td>\n",
       "      <td>Kings XI Punjab</td>\n",
       "      <td>Kings XI Punjab</td>\n",
       "      <td>1</td>\n",
       "      <td>0</td>\n",
       "      <td>Holkar Cricket Stadium</td>\n",
       "      <td>1</td>\n",
       "    </tr>\n",
       "    <tr>\n",
       "      <th>4</th>\n",
       "      <td>2017</td>\n",
       "      <td>Royal Challengers Bangalore</td>\n",
       "      <td>Delhi Capitals</td>\n",
       "      <td>Royal Challengers Bangalore</td>\n",
       "      <td>0</td>\n",
       "      <td>0</td>\n",
       "      <td>M Chinnaswamy Stadium</td>\n",
       "      <td>1</td>\n",
       "    </tr>\n",
       "  </tbody>\n",
       "</table>\n",
       "</div>"
      ],
      "text/plain": [
       "   season                        team1                        team2  \\\n",
       "0    2017          Sunrisers Hyderabad  Royal Challengers Bangalore   \n",
       "1    2017               Mumbai Indians       Rising Pune Supergiant   \n",
       "2    2017                Gujarat Lions        Kolkata Knight Riders   \n",
       "3    2017       Rising Pune Supergiant              Kings XI Punjab   \n",
       "4    2017  Royal Challengers Bangalore               Delhi Capitals   \n",
       "\n",
       "                   toss_winner  toss_decision  dl_applied  \\\n",
       "0  Royal Challengers Bangalore              1           0   \n",
       "1       Rising Pune Supergiant              1           0   \n",
       "2        Kolkata Knight Riders              1           0   \n",
       "3              Kings XI Punjab              1           0   \n",
       "4  Royal Challengers Bangalore              0           0   \n",
       "\n",
       "                                       venue  Result  \n",
       "0  Rajiv Gandhi International Stadium, Uppal       0  \n",
       "1    Maharashtra Cricket Association Stadium       1  \n",
       "2     Saurashtra Cricket Association Stadium       1  \n",
       "3                     Holkar Cricket Stadium       1  \n",
       "4                      M Chinnaswamy Stadium       1  "
      ]
     },
     "execution_count": 31,
     "metadata": {},
     "output_type": "execute_result"
    }
   ],
   "source": [
    "matches.head()"
   ]
  },
  {
   "cell_type": "code",
   "execution_count": 32,
   "metadata": {
    "ExecuteTime": {
     "end_time": "2020-09-18T21:53:15.634818Z",
     "start_time": "2020-09-18T21:53:15.613873Z"
    }
   },
   "outputs": [],
   "source": [
    "matches = pd.get_dummies(matches)"
   ]
  },
  {
   "cell_type": "code",
   "execution_count": 33,
   "metadata": {
    "ExecuteTime": {
     "end_time": "2020-09-18T21:53:15.648793Z",
     "start_time": "2020-09-18T21:53:15.638804Z"
    }
   },
   "outputs": [],
   "source": [
    "train = matches[matches['season'] <= 2018]"
   ]
  },
  {
   "cell_type": "code",
   "execution_count": 34,
   "metadata": {
    "ExecuteTime": {
     "end_time": "2020-09-18T21:53:15.660747Z",
     "start_time": "2020-09-18T21:53:15.652768Z"
    }
   },
   "outputs": [
    {
     "data": {
      "text/plain": [
       "(693, 76)"
      ]
     },
     "execution_count": 34,
     "metadata": {},
     "output_type": "execute_result"
    }
   ],
   "source": [
    "train.shape"
   ]
  },
  {
   "cell_type": "code",
   "execution_count": 35,
   "metadata": {
    "ExecuteTime": {
     "end_time": "2020-09-18T21:53:15.672714Z",
     "start_time": "2020-09-18T21:53:15.664735Z"
    }
   },
   "outputs": [],
   "source": [
    "test = matches[matches['season'] == 2019]"
   ]
  },
  {
   "cell_type": "code",
   "execution_count": 36,
   "metadata": {
    "ExecuteTime": {
     "end_time": "2020-09-18T21:53:15.682691Z",
     "start_time": "2020-09-18T21:53:15.676706Z"
    }
   },
   "outputs": [
    {
     "data": {
      "text/plain": [
       "(59, 76)"
      ]
     },
     "execution_count": 36,
     "metadata": {},
     "output_type": "execute_result"
    }
   ],
   "source": [
    "test.shape"
   ]
  },
  {
   "cell_type": "code",
   "execution_count": 37,
   "metadata": {
    "ExecuteTime": {
     "end_time": "2020-09-18T21:53:15.700656Z",
     "start_time": "2020-09-18T21:53:15.687679Z"
    }
   },
   "outputs": [
    {
     "name": "stderr",
     "output_type": "stream",
     "text": [
      "C:\\Users\\yashc\\AppData\\Local\\Continuum\\anaconda3\\lib\\site-packages\\pandas\\core\\frame.py:4167: SettingWithCopyWarning: \n",
      "A value is trying to be set on a copy of a slice from a DataFrame\n",
      "\n",
      "See the caveats in the documentation: https://pandas.pydata.org/pandas-docs/stable/user_guide/indexing.html#returning-a-view-versus-a-copy\n",
      "  errors=errors,\n"
     ]
    }
   ],
   "source": [
    "test.drop(['season', 'dl_applied'], axis = 1, inplace = True)"
   ]
  },
  {
   "cell_type": "code",
   "execution_count": 38,
   "metadata": {
    "ExecuteTime": {
     "end_time": "2020-09-18T21:53:15.739534Z",
     "start_time": "2020-09-18T21:53:15.703635Z"
    }
   },
   "outputs": [
    {
     "data": {
      "text/html": [
       "<div>\n",
       "<style scoped>\n",
       "    .dataframe tbody tr th:only-of-type {\n",
       "        vertical-align: middle;\n",
       "    }\n",
       "\n",
       "    .dataframe tbody tr th {\n",
       "        vertical-align: top;\n",
       "    }\n",
       "\n",
       "    .dataframe thead th {\n",
       "        text-align: right;\n",
       "    }\n",
       "</style>\n",
       "<table border=\"1\" class=\"dataframe\">\n",
       "  <thead>\n",
       "    <tr style=\"text-align: right;\">\n",
       "      <th></th>\n",
       "      <th>toss_decision</th>\n",
       "      <th>Result</th>\n",
       "      <th>team1_Chennai Super Kings</th>\n",
       "      <th>team1_Deccan Chargers</th>\n",
       "      <th>team1_Delhi Capitals</th>\n",
       "      <th>team1_Gujarat Lions</th>\n",
       "      <th>team1_Kings XI Punjab</th>\n",
       "      <th>team1_Kochi Tuskers Kerala</th>\n",
       "      <th>team1_Kolkata Knight Riders</th>\n",
       "      <th>team1_Mumbai Indians</th>\n",
       "      <th>...</th>\n",
       "      <th>venue_Sardar Patel Stadium, Motera</th>\n",
       "      <th>venue_Saurashtra Cricket Association Stadium</th>\n",
       "      <th>venue_Sawai Mansingh Stadium</th>\n",
       "      <th>venue_Shaheed Veer Narayan Singh International Stadium</th>\n",
       "      <th>venue_Sharjah Cricket Stadium</th>\n",
       "      <th>venue_Sheikh Zayed Stadium</th>\n",
       "      <th>venue_St George's Park</th>\n",
       "      <th>venue_SuperSport Park</th>\n",
       "      <th>venue_Vidarbha Cricket Association Stadium, Jamtha</th>\n",
       "      <th>venue_Wankhede Stadium</th>\n",
       "    </tr>\n",
       "  </thead>\n",
       "  <tbody>\n",
       "    <tr>\n",
       "      <th>696</th>\n",
       "      <td>1</td>\n",
       "      <td>1</td>\n",
       "      <td>0</td>\n",
       "      <td>0</td>\n",
       "      <td>0</td>\n",
       "      <td>0</td>\n",
       "      <td>0</td>\n",
       "      <td>0</td>\n",
       "      <td>0</td>\n",
       "      <td>0</td>\n",
       "      <td>...</td>\n",
       "      <td>0</td>\n",
       "      <td>0</td>\n",
       "      <td>0</td>\n",
       "      <td>0</td>\n",
       "      <td>0</td>\n",
       "      <td>0</td>\n",
       "      <td>0</td>\n",
       "      <td>0</td>\n",
       "      <td>0</td>\n",
       "      <td>0</td>\n",
       "    </tr>\n",
       "    <tr>\n",
       "      <th>697</th>\n",
       "      <td>1</td>\n",
       "      <td>1</td>\n",
       "      <td>0</td>\n",
       "      <td>0</td>\n",
       "      <td>0</td>\n",
       "      <td>0</td>\n",
       "      <td>0</td>\n",
       "      <td>0</td>\n",
       "      <td>0</td>\n",
       "      <td>0</td>\n",
       "      <td>...</td>\n",
       "      <td>0</td>\n",
       "      <td>0</td>\n",
       "      <td>0</td>\n",
       "      <td>0</td>\n",
       "      <td>0</td>\n",
       "      <td>0</td>\n",
       "      <td>0</td>\n",
       "      <td>0</td>\n",
       "      <td>0</td>\n",
       "      <td>0</td>\n",
       "    </tr>\n",
       "    <tr>\n",
       "      <th>698</th>\n",
       "      <td>1</td>\n",
       "      <td>0</td>\n",
       "      <td>0</td>\n",
       "      <td>0</td>\n",
       "      <td>1</td>\n",
       "      <td>0</td>\n",
       "      <td>0</td>\n",
       "      <td>0</td>\n",
       "      <td>0</td>\n",
       "      <td>0</td>\n",
       "      <td>...</td>\n",
       "      <td>0</td>\n",
       "      <td>0</td>\n",
       "      <td>0</td>\n",
       "      <td>0</td>\n",
       "      <td>0</td>\n",
       "      <td>0</td>\n",
       "      <td>0</td>\n",
       "      <td>0</td>\n",
       "      <td>0</td>\n",
       "      <td>1</td>\n",
       "    </tr>\n",
       "    <tr>\n",
       "      <th>699</th>\n",
       "      <td>1</td>\n",
       "      <td>0</td>\n",
       "      <td>0</td>\n",
       "      <td>0</td>\n",
       "      <td>0</td>\n",
       "      <td>0</td>\n",
       "      <td>1</td>\n",
       "      <td>0</td>\n",
       "      <td>0</td>\n",
       "      <td>0</td>\n",
       "      <td>...</td>\n",
       "      <td>0</td>\n",
       "      <td>0</td>\n",
       "      <td>1</td>\n",
       "      <td>0</td>\n",
       "      <td>0</td>\n",
       "      <td>0</td>\n",
       "      <td>0</td>\n",
       "      <td>0</td>\n",
       "      <td>0</td>\n",
       "      <td>0</td>\n",
       "    </tr>\n",
       "    <tr>\n",
       "      <th>700</th>\n",
       "      <td>0</td>\n",
       "      <td>0</td>\n",
       "      <td>0</td>\n",
       "      <td>0</td>\n",
       "      <td>1</td>\n",
       "      <td>0</td>\n",
       "      <td>0</td>\n",
       "      <td>0</td>\n",
       "      <td>0</td>\n",
       "      <td>0</td>\n",
       "      <td>...</td>\n",
       "      <td>0</td>\n",
       "      <td>0</td>\n",
       "      <td>0</td>\n",
       "      <td>0</td>\n",
       "      <td>0</td>\n",
       "      <td>0</td>\n",
       "      <td>0</td>\n",
       "      <td>0</td>\n",
       "      <td>0</td>\n",
       "      <td>0</td>\n",
       "    </tr>\n",
       "  </tbody>\n",
       "</table>\n",
       "<p>5 rows × 74 columns</p>\n",
       "</div>"
      ],
      "text/plain": [
       "     toss_decision  Result  team1_Chennai Super Kings  team1_Deccan Chargers  \\\n",
       "696              1       1                          0                      0   \n",
       "697              1       1                          0                      0   \n",
       "698              1       0                          0                      0   \n",
       "699              1       0                          0                      0   \n",
       "700              0       0                          0                      0   \n",
       "\n",
       "     team1_Delhi Capitals  team1_Gujarat Lions  team1_Kings XI Punjab  \\\n",
       "696                     0                    0                      0   \n",
       "697                     0                    0                      0   \n",
       "698                     1                    0                      0   \n",
       "699                     0                    0                      1   \n",
       "700                     1                    0                      0   \n",
       "\n",
       "     team1_Kochi Tuskers Kerala  team1_Kolkata Knight Riders  \\\n",
       "696                           0                            0   \n",
       "697                           0                            0   \n",
       "698                           0                            0   \n",
       "699                           0                            0   \n",
       "700                           0                            0   \n",
       "\n",
       "     team1_Mumbai Indians  ...  venue_Sardar Patel Stadium, Motera  \\\n",
       "696                     0  ...                                   0   \n",
       "697                     0  ...                                   0   \n",
       "698                     0  ...                                   0   \n",
       "699                     0  ...                                   0   \n",
       "700                     0  ...                                   0   \n",
       "\n",
       "     venue_Saurashtra Cricket Association Stadium  \\\n",
       "696                                             0   \n",
       "697                                             0   \n",
       "698                                             0   \n",
       "699                                             0   \n",
       "700                                             0   \n",
       "\n",
       "     venue_Sawai Mansingh Stadium  \\\n",
       "696                             0   \n",
       "697                             0   \n",
       "698                             0   \n",
       "699                             1   \n",
       "700                             0   \n",
       "\n",
       "     venue_Shaheed Veer Narayan Singh International Stadium  \\\n",
       "696                                                  0        \n",
       "697                                                  0        \n",
       "698                                                  0        \n",
       "699                                                  0        \n",
       "700                                                  0        \n",
       "\n",
       "     venue_Sharjah Cricket Stadium  venue_Sheikh Zayed Stadium  \\\n",
       "696                              0                           0   \n",
       "697                              0                           0   \n",
       "698                              0                           0   \n",
       "699                              0                           0   \n",
       "700                              0                           0   \n",
       "\n",
       "     venue_St George's Park  venue_SuperSport Park  \\\n",
       "696                       0                      0   \n",
       "697                       0                      0   \n",
       "698                       0                      0   \n",
       "699                       0                      0   \n",
       "700                       0                      0   \n",
       "\n",
       "     venue_Vidarbha Cricket Association Stadium, Jamtha  \\\n",
       "696                                                  0    \n",
       "697                                                  0    \n",
       "698                                                  0    \n",
       "699                                                  0    \n",
       "700                                                  0    \n",
       "\n",
       "     venue_Wankhede Stadium  \n",
       "696                       0  \n",
       "697                       0  \n",
       "698                       1  \n",
       "699                       0  \n",
       "700                       0  \n",
       "\n",
       "[5 rows x 74 columns]"
      ]
     },
     "execution_count": 38,
     "metadata": {},
     "output_type": "execute_result"
    }
   ],
   "source": [
    "test.head()"
   ]
  },
  {
   "cell_type": "code",
   "execution_count": 39,
   "metadata": {
    "ExecuteTime": {
     "end_time": "2020-09-18T21:53:15.750509Z",
     "start_time": "2020-09-18T21:53:15.742527Z"
    }
   },
   "outputs": [
    {
     "name": "stderr",
     "output_type": "stream",
     "text": [
      "C:\\Users\\yashc\\AppData\\Local\\Continuum\\anaconda3\\lib\\site-packages\\pandas\\core\\frame.py:4167: SettingWithCopyWarning: \n",
      "A value is trying to be set on a copy of a slice from a DataFrame\n",
      "\n",
      "See the caveats in the documentation: https://pandas.pydata.org/pandas-docs/stable/user_guide/indexing.html#returning-a-view-versus-a-copy\n",
      "  errors=errors,\n"
     ]
    }
   ],
   "source": [
    "train.drop(['season', 'dl_applied'], axis = 1, inplace = True)"
   ]
  },
  {
   "cell_type": "code",
   "execution_count": 40,
   "metadata": {
    "ExecuteTime": {
     "end_time": "2020-09-18T21:53:15.789409Z",
     "start_time": "2020-09-18T21:53:15.754500Z"
    }
   },
   "outputs": [
    {
     "data": {
      "text/html": [
       "<div>\n",
       "<style scoped>\n",
       "    .dataframe tbody tr th:only-of-type {\n",
       "        vertical-align: middle;\n",
       "    }\n",
       "\n",
       "    .dataframe tbody tr th {\n",
       "        vertical-align: top;\n",
       "    }\n",
       "\n",
       "    .dataframe thead th {\n",
       "        text-align: right;\n",
       "    }\n",
       "</style>\n",
       "<table border=\"1\" class=\"dataframe\">\n",
       "  <thead>\n",
       "    <tr style=\"text-align: right;\">\n",
       "      <th></th>\n",
       "      <th>toss_decision</th>\n",
       "      <th>Result</th>\n",
       "      <th>team1_Chennai Super Kings</th>\n",
       "      <th>team1_Deccan Chargers</th>\n",
       "      <th>team1_Delhi Capitals</th>\n",
       "      <th>team1_Gujarat Lions</th>\n",
       "      <th>team1_Kings XI Punjab</th>\n",
       "      <th>team1_Kochi Tuskers Kerala</th>\n",
       "      <th>team1_Kolkata Knight Riders</th>\n",
       "      <th>team1_Mumbai Indians</th>\n",
       "      <th>...</th>\n",
       "      <th>venue_Sardar Patel Stadium, Motera</th>\n",
       "      <th>venue_Saurashtra Cricket Association Stadium</th>\n",
       "      <th>venue_Sawai Mansingh Stadium</th>\n",
       "      <th>venue_Shaheed Veer Narayan Singh International Stadium</th>\n",
       "      <th>venue_Sharjah Cricket Stadium</th>\n",
       "      <th>venue_Sheikh Zayed Stadium</th>\n",
       "      <th>venue_St George's Park</th>\n",
       "      <th>venue_SuperSport Park</th>\n",
       "      <th>venue_Vidarbha Cricket Association Stadium, Jamtha</th>\n",
       "      <th>venue_Wankhede Stadium</th>\n",
       "    </tr>\n",
       "  </thead>\n",
       "  <tbody>\n",
       "    <tr>\n",
       "      <th>0</th>\n",
       "      <td>1</td>\n",
       "      <td>0</td>\n",
       "      <td>0</td>\n",
       "      <td>0</td>\n",
       "      <td>0</td>\n",
       "      <td>0</td>\n",
       "      <td>0</td>\n",
       "      <td>0</td>\n",
       "      <td>0</td>\n",
       "      <td>0</td>\n",
       "      <td>...</td>\n",
       "      <td>0</td>\n",
       "      <td>0</td>\n",
       "      <td>0</td>\n",
       "      <td>0</td>\n",
       "      <td>0</td>\n",
       "      <td>0</td>\n",
       "      <td>0</td>\n",
       "      <td>0</td>\n",
       "      <td>0</td>\n",
       "      <td>0</td>\n",
       "    </tr>\n",
       "    <tr>\n",
       "      <th>1</th>\n",
       "      <td>1</td>\n",
       "      <td>1</td>\n",
       "      <td>0</td>\n",
       "      <td>0</td>\n",
       "      <td>0</td>\n",
       "      <td>0</td>\n",
       "      <td>0</td>\n",
       "      <td>0</td>\n",
       "      <td>0</td>\n",
       "      <td>1</td>\n",
       "      <td>...</td>\n",
       "      <td>0</td>\n",
       "      <td>0</td>\n",
       "      <td>0</td>\n",
       "      <td>0</td>\n",
       "      <td>0</td>\n",
       "      <td>0</td>\n",
       "      <td>0</td>\n",
       "      <td>0</td>\n",
       "      <td>0</td>\n",
       "      <td>0</td>\n",
       "    </tr>\n",
       "    <tr>\n",
       "      <th>2</th>\n",
       "      <td>1</td>\n",
       "      <td>1</td>\n",
       "      <td>0</td>\n",
       "      <td>0</td>\n",
       "      <td>0</td>\n",
       "      <td>1</td>\n",
       "      <td>0</td>\n",
       "      <td>0</td>\n",
       "      <td>0</td>\n",
       "      <td>0</td>\n",
       "      <td>...</td>\n",
       "      <td>0</td>\n",
       "      <td>1</td>\n",
       "      <td>0</td>\n",
       "      <td>0</td>\n",
       "      <td>0</td>\n",
       "      <td>0</td>\n",
       "      <td>0</td>\n",
       "      <td>0</td>\n",
       "      <td>0</td>\n",
       "      <td>0</td>\n",
       "    </tr>\n",
       "    <tr>\n",
       "      <th>3</th>\n",
       "      <td>1</td>\n",
       "      <td>1</td>\n",
       "      <td>0</td>\n",
       "      <td>0</td>\n",
       "      <td>0</td>\n",
       "      <td>0</td>\n",
       "      <td>0</td>\n",
       "      <td>0</td>\n",
       "      <td>0</td>\n",
       "      <td>0</td>\n",
       "      <td>...</td>\n",
       "      <td>0</td>\n",
       "      <td>0</td>\n",
       "      <td>0</td>\n",
       "      <td>0</td>\n",
       "      <td>0</td>\n",
       "      <td>0</td>\n",
       "      <td>0</td>\n",
       "      <td>0</td>\n",
       "      <td>0</td>\n",
       "      <td>0</td>\n",
       "    </tr>\n",
       "    <tr>\n",
       "      <th>4</th>\n",
       "      <td>0</td>\n",
       "      <td>1</td>\n",
       "      <td>0</td>\n",
       "      <td>0</td>\n",
       "      <td>0</td>\n",
       "      <td>0</td>\n",
       "      <td>0</td>\n",
       "      <td>0</td>\n",
       "      <td>0</td>\n",
       "      <td>0</td>\n",
       "      <td>...</td>\n",
       "      <td>0</td>\n",
       "      <td>0</td>\n",
       "      <td>0</td>\n",
       "      <td>0</td>\n",
       "      <td>0</td>\n",
       "      <td>0</td>\n",
       "      <td>0</td>\n",
       "      <td>0</td>\n",
       "      <td>0</td>\n",
       "      <td>0</td>\n",
       "    </tr>\n",
       "  </tbody>\n",
       "</table>\n",
       "<p>5 rows × 74 columns</p>\n",
       "</div>"
      ],
      "text/plain": [
       "   toss_decision  Result  team1_Chennai Super Kings  team1_Deccan Chargers  \\\n",
       "0              1       0                          0                      0   \n",
       "1              1       1                          0                      0   \n",
       "2              1       1                          0                      0   \n",
       "3              1       1                          0                      0   \n",
       "4              0       1                          0                      0   \n",
       "\n",
       "   team1_Delhi Capitals  team1_Gujarat Lions  team1_Kings XI Punjab  \\\n",
       "0                     0                    0                      0   \n",
       "1                     0                    0                      0   \n",
       "2                     0                    1                      0   \n",
       "3                     0                    0                      0   \n",
       "4                     0                    0                      0   \n",
       "\n",
       "   team1_Kochi Tuskers Kerala  team1_Kolkata Knight Riders  \\\n",
       "0                           0                            0   \n",
       "1                           0                            0   \n",
       "2                           0                            0   \n",
       "3                           0                            0   \n",
       "4                           0                            0   \n",
       "\n",
       "   team1_Mumbai Indians  ...  venue_Sardar Patel Stadium, Motera  \\\n",
       "0                     0  ...                                   0   \n",
       "1                     1  ...                                   0   \n",
       "2                     0  ...                                   0   \n",
       "3                     0  ...                                   0   \n",
       "4                     0  ...                                   0   \n",
       "\n",
       "   venue_Saurashtra Cricket Association Stadium  venue_Sawai Mansingh Stadium  \\\n",
       "0                                             0                             0   \n",
       "1                                             0                             0   \n",
       "2                                             1                             0   \n",
       "3                                             0                             0   \n",
       "4                                             0                             0   \n",
       "\n",
       "   venue_Shaheed Veer Narayan Singh International Stadium  \\\n",
       "0                                                  0        \n",
       "1                                                  0        \n",
       "2                                                  0        \n",
       "3                                                  0        \n",
       "4                                                  0        \n",
       "\n",
       "   venue_Sharjah Cricket Stadium  venue_Sheikh Zayed Stadium  \\\n",
       "0                              0                           0   \n",
       "1                              0                           0   \n",
       "2                              0                           0   \n",
       "3                              0                           0   \n",
       "4                              0                           0   \n",
       "\n",
       "   venue_St George's Park  venue_SuperSport Park  \\\n",
       "0                       0                      0   \n",
       "1                       0                      0   \n",
       "2                       0                      0   \n",
       "3                       0                      0   \n",
       "4                       0                      0   \n",
       "\n",
       "   venue_Vidarbha Cricket Association Stadium, Jamtha  venue_Wankhede Stadium  \n",
       "0                                                  0                        0  \n",
       "1                                                  0                        0  \n",
       "2                                                  0                        0  \n",
       "3                                                  0                        0  \n",
       "4                                                  0                        0  \n",
       "\n",
       "[5 rows x 74 columns]"
      ]
     },
     "execution_count": 40,
     "metadata": {},
     "output_type": "execute_result"
    }
   ],
   "source": [
    "train.head()"
   ]
  },
  {
   "cell_type": "markdown",
   "metadata": {},
   "source": [
    "### Logistic Regression"
   ]
  },
  {
   "cell_type": "code",
   "execution_count": 41,
   "metadata": {
    "ExecuteTime": {
     "end_time": "2020-09-18T21:53:15.801371Z",
     "start_time": "2020-09-18T21:53:15.792395Z"
    }
   },
   "outputs": [],
   "source": [
    "X = train.drop('Result', axis = 1)\n",
    "y = train[['Result']]"
   ]
  },
  {
   "cell_type": "code",
   "execution_count": 42,
   "metadata": {
    "ExecuteTime": {
     "end_time": "2020-09-18T21:53:15.863205Z",
     "start_time": "2020-09-18T21:53:15.804361Z"
    }
   },
   "outputs": [
    {
     "data": {
      "text/html": [
       "<div>\n",
       "<style scoped>\n",
       "    .dataframe tbody tr th:only-of-type {\n",
       "        vertical-align: middle;\n",
       "    }\n",
       "\n",
       "    .dataframe tbody tr th {\n",
       "        vertical-align: top;\n",
       "    }\n",
       "\n",
       "    .dataframe thead th {\n",
       "        text-align: right;\n",
       "    }\n",
       "</style>\n",
       "<table border=\"1\" class=\"dataframe\">\n",
       "  <thead>\n",
       "    <tr style=\"text-align: right;\">\n",
       "      <th></th>\n",
       "      <th>toss_decision</th>\n",
       "      <th>team1_Chennai Super Kings</th>\n",
       "      <th>team1_Deccan Chargers</th>\n",
       "      <th>team1_Delhi Capitals</th>\n",
       "      <th>team1_Gujarat Lions</th>\n",
       "      <th>team1_Kings XI Punjab</th>\n",
       "      <th>team1_Kochi Tuskers Kerala</th>\n",
       "      <th>team1_Kolkata Knight Riders</th>\n",
       "      <th>team1_Mumbai Indians</th>\n",
       "      <th>team1_Pune Warriors</th>\n",
       "      <th>...</th>\n",
       "      <th>venue_Sardar Patel Stadium, Motera</th>\n",
       "      <th>venue_Saurashtra Cricket Association Stadium</th>\n",
       "      <th>venue_Sawai Mansingh Stadium</th>\n",
       "      <th>venue_Shaheed Veer Narayan Singh International Stadium</th>\n",
       "      <th>venue_Sharjah Cricket Stadium</th>\n",
       "      <th>venue_Sheikh Zayed Stadium</th>\n",
       "      <th>venue_St George's Park</th>\n",
       "      <th>venue_SuperSport Park</th>\n",
       "      <th>venue_Vidarbha Cricket Association Stadium, Jamtha</th>\n",
       "      <th>venue_Wankhede Stadium</th>\n",
       "    </tr>\n",
       "  </thead>\n",
       "  <tbody>\n",
       "    <tr>\n",
       "      <th>0</th>\n",
       "      <td>1</td>\n",
       "      <td>0</td>\n",
       "      <td>0</td>\n",
       "      <td>0</td>\n",
       "      <td>0</td>\n",
       "      <td>0</td>\n",
       "      <td>0</td>\n",
       "      <td>0</td>\n",
       "      <td>0</td>\n",
       "      <td>0</td>\n",
       "      <td>...</td>\n",
       "      <td>0</td>\n",
       "      <td>0</td>\n",
       "      <td>0</td>\n",
       "      <td>0</td>\n",
       "      <td>0</td>\n",
       "      <td>0</td>\n",
       "      <td>0</td>\n",
       "      <td>0</td>\n",
       "      <td>0</td>\n",
       "      <td>0</td>\n",
       "    </tr>\n",
       "    <tr>\n",
       "      <th>1</th>\n",
       "      <td>1</td>\n",
       "      <td>0</td>\n",
       "      <td>0</td>\n",
       "      <td>0</td>\n",
       "      <td>0</td>\n",
       "      <td>0</td>\n",
       "      <td>0</td>\n",
       "      <td>0</td>\n",
       "      <td>1</td>\n",
       "      <td>0</td>\n",
       "      <td>...</td>\n",
       "      <td>0</td>\n",
       "      <td>0</td>\n",
       "      <td>0</td>\n",
       "      <td>0</td>\n",
       "      <td>0</td>\n",
       "      <td>0</td>\n",
       "      <td>0</td>\n",
       "      <td>0</td>\n",
       "      <td>0</td>\n",
       "      <td>0</td>\n",
       "    </tr>\n",
       "    <tr>\n",
       "      <th>2</th>\n",
       "      <td>1</td>\n",
       "      <td>0</td>\n",
       "      <td>0</td>\n",
       "      <td>0</td>\n",
       "      <td>1</td>\n",
       "      <td>0</td>\n",
       "      <td>0</td>\n",
       "      <td>0</td>\n",
       "      <td>0</td>\n",
       "      <td>0</td>\n",
       "      <td>...</td>\n",
       "      <td>0</td>\n",
       "      <td>1</td>\n",
       "      <td>0</td>\n",
       "      <td>0</td>\n",
       "      <td>0</td>\n",
       "      <td>0</td>\n",
       "      <td>0</td>\n",
       "      <td>0</td>\n",
       "      <td>0</td>\n",
       "      <td>0</td>\n",
       "    </tr>\n",
       "    <tr>\n",
       "      <th>3</th>\n",
       "      <td>1</td>\n",
       "      <td>0</td>\n",
       "      <td>0</td>\n",
       "      <td>0</td>\n",
       "      <td>0</td>\n",
       "      <td>0</td>\n",
       "      <td>0</td>\n",
       "      <td>0</td>\n",
       "      <td>0</td>\n",
       "      <td>0</td>\n",
       "      <td>...</td>\n",
       "      <td>0</td>\n",
       "      <td>0</td>\n",
       "      <td>0</td>\n",
       "      <td>0</td>\n",
       "      <td>0</td>\n",
       "      <td>0</td>\n",
       "      <td>0</td>\n",
       "      <td>0</td>\n",
       "      <td>0</td>\n",
       "      <td>0</td>\n",
       "    </tr>\n",
       "    <tr>\n",
       "      <th>4</th>\n",
       "      <td>0</td>\n",
       "      <td>0</td>\n",
       "      <td>0</td>\n",
       "      <td>0</td>\n",
       "      <td>0</td>\n",
       "      <td>0</td>\n",
       "      <td>0</td>\n",
       "      <td>0</td>\n",
       "      <td>0</td>\n",
       "      <td>0</td>\n",
       "      <td>...</td>\n",
       "      <td>0</td>\n",
       "      <td>0</td>\n",
       "      <td>0</td>\n",
       "      <td>0</td>\n",
       "      <td>0</td>\n",
       "      <td>0</td>\n",
       "      <td>0</td>\n",
       "      <td>0</td>\n",
       "      <td>0</td>\n",
       "      <td>0</td>\n",
       "    </tr>\n",
       "    <tr>\n",
       "      <th>...</th>\n",
       "      <td>...</td>\n",
       "      <td>...</td>\n",
       "      <td>...</td>\n",
       "      <td>...</td>\n",
       "      <td>...</td>\n",
       "      <td>...</td>\n",
       "      <td>...</td>\n",
       "      <td>...</td>\n",
       "      <td>...</td>\n",
       "      <td>...</td>\n",
       "      <td>...</td>\n",
       "      <td>...</td>\n",
       "      <td>...</td>\n",
       "      <td>...</td>\n",
       "      <td>...</td>\n",
       "      <td>...</td>\n",
       "      <td>...</td>\n",
       "      <td>...</td>\n",
       "      <td>...</td>\n",
       "      <td>...</td>\n",
       "      <td>...</td>\n",
       "    </tr>\n",
       "    <tr>\n",
       "      <th>691</th>\n",
       "      <td>1</td>\n",
       "      <td>0</td>\n",
       "      <td>0</td>\n",
       "      <td>0</td>\n",
       "      <td>0</td>\n",
       "      <td>1</td>\n",
       "      <td>0</td>\n",
       "      <td>0</td>\n",
       "      <td>0</td>\n",
       "      <td>0</td>\n",
       "      <td>...</td>\n",
       "      <td>0</td>\n",
       "      <td>0</td>\n",
       "      <td>0</td>\n",
       "      <td>0</td>\n",
       "      <td>0</td>\n",
       "      <td>0</td>\n",
       "      <td>0</td>\n",
       "      <td>0</td>\n",
       "      <td>0</td>\n",
       "      <td>0</td>\n",
       "    </tr>\n",
       "    <tr>\n",
       "      <th>692</th>\n",
       "      <td>1</td>\n",
       "      <td>0</td>\n",
       "      <td>0</td>\n",
       "      <td>0</td>\n",
       "      <td>0</td>\n",
       "      <td>0</td>\n",
       "      <td>0</td>\n",
       "      <td>0</td>\n",
       "      <td>0</td>\n",
       "      <td>0</td>\n",
       "      <td>...</td>\n",
       "      <td>0</td>\n",
       "      <td>0</td>\n",
       "      <td>0</td>\n",
       "      <td>0</td>\n",
       "      <td>0</td>\n",
       "      <td>0</td>\n",
       "      <td>0</td>\n",
       "      <td>0</td>\n",
       "      <td>0</td>\n",
       "      <td>1</td>\n",
       "    </tr>\n",
       "    <tr>\n",
       "      <th>693</th>\n",
       "      <td>1</td>\n",
       "      <td>0</td>\n",
       "      <td>0</td>\n",
       "      <td>0</td>\n",
       "      <td>0</td>\n",
       "      <td>0</td>\n",
       "      <td>0</td>\n",
       "      <td>1</td>\n",
       "      <td>0</td>\n",
       "      <td>0</td>\n",
       "      <td>...</td>\n",
       "      <td>0</td>\n",
       "      <td>0</td>\n",
       "      <td>0</td>\n",
       "      <td>0</td>\n",
       "      <td>0</td>\n",
       "      <td>0</td>\n",
       "      <td>0</td>\n",
       "      <td>0</td>\n",
       "      <td>0</td>\n",
       "      <td>0</td>\n",
       "    </tr>\n",
       "    <tr>\n",
       "      <th>694</th>\n",
       "      <td>1</td>\n",
       "      <td>0</td>\n",
       "      <td>0</td>\n",
       "      <td>0</td>\n",
       "      <td>0</td>\n",
       "      <td>0</td>\n",
       "      <td>0</td>\n",
       "      <td>0</td>\n",
       "      <td>0</td>\n",
       "      <td>0</td>\n",
       "      <td>...</td>\n",
       "      <td>0</td>\n",
       "      <td>0</td>\n",
       "      <td>0</td>\n",
       "      <td>0</td>\n",
       "      <td>0</td>\n",
       "      <td>0</td>\n",
       "      <td>0</td>\n",
       "      <td>0</td>\n",
       "      <td>0</td>\n",
       "      <td>0</td>\n",
       "    </tr>\n",
       "    <tr>\n",
       "      <th>695</th>\n",
       "      <td>1</td>\n",
       "      <td>0</td>\n",
       "      <td>0</td>\n",
       "      <td>0</td>\n",
       "      <td>0</td>\n",
       "      <td>0</td>\n",
       "      <td>0</td>\n",
       "      <td>0</td>\n",
       "      <td>0</td>\n",
       "      <td>0</td>\n",
       "      <td>...</td>\n",
       "      <td>0</td>\n",
       "      <td>0</td>\n",
       "      <td>0</td>\n",
       "      <td>0</td>\n",
       "      <td>0</td>\n",
       "      <td>0</td>\n",
       "      <td>0</td>\n",
       "      <td>0</td>\n",
       "      <td>0</td>\n",
       "      <td>1</td>\n",
       "    </tr>\n",
       "  </tbody>\n",
       "</table>\n",
       "<p>693 rows × 73 columns</p>\n",
       "</div>"
      ],
      "text/plain": [
       "     toss_decision  team1_Chennai Super Kings  team1_Deccan Chargers  \\\n",
       "0                1                          0                      0   \n",
       "1                1                          0                      0   \n",
       "2                1                          0                      0   \n",
       "3                1                          0                      0   \n",
       "4                0                          0                      0   \n",
       "..             ...                        ...                    ...   \n",
       "691              1                          0                      0   \n",
       "692              1                          0                      0   \n",
       "693              1                          0                      0   \n",
       "694              1                          0                      0   \n",
       "695              1                          0                      0   \n",
       "\n",
       "     team1_Delhi Capitals  team1_Gujarat Lions  team1_Kings XI Punjab  \\\n",
       "0                       0                    0                      0   \n",
       "1                       0                    0                      0   \n",
       "2                       0                    1                      0   \n",
       "3                       0                    0                      0   \n",
       "4                       0                    0                      0   \n",
       "..                    ...                  ...                    ...   \n",
       "691                     0                    0                      1   \n",
       "692                     0                    0                      0   \n",
       "693                     0                    0                      0   \n",
       "694                     0                    0                      0   \n",
       "695                     0                    0                      0   \n",
       "\n",
       "     team1_Kochi Tuskers Kerala  team1_Kolkata Knight Riders  \\\n",
       "0                             0                            0   \n",
       "1                             0                            0   \n",
       "2                             0                            0   \n",
       "3                             0                            0   \n",
       "4                             0                            0   \n",
       "..                          ...                          ...   \n",
       "691                           0                            0   \n",
       "692                           0                            0   \n",
       "693                           0                            1   \n",
       "694                           0                            0   \n",
       "695                           0                            0   \n",
       "\n",
       "     team1_Mumbai Indians  team1_Pune Warriors  ...  \\\n",
       "0                       0                    0  ...   \n",
       "1                       1                    0  ...   \n",
       "2                       0                    0  ...   \n",
       "3                       0                    0  ...   \n",
       "4                       0                    0  ...   \n",
       "..                    ...                  ...  ...   \n",
       "691                     0                    0  ...   \n",
       "692                     0                    0  ...   \n",
       "693                     0                    0  ...   \n",
       "694                     0                    0  ...   \n",
       "695                     0                    0  ...   \n",
       "\n",
       "     venue_Sardar Patel Stadium, Motera  \\\n",
       "0                                     0   \n",
       "1                                     0   \n",
       "2                                     0   \n",
       "3                                     0   \n",
       "4                                     0   \n",
       "..                                  ...   \n",
       "691                                   0   \n",
       "692                                   0   \n",
       "693                                   0   \n",
       "694                                   0   \n",
       "695                                   0   \n",
       "\n",
       "     venue_Saurashtra Cricket Association Stadium  \\\n",
       "0                                               0   \n",
       "1                                               0   \n",
       "2                                               1   \n",
       "3                                               0   \n",
       "4                                               0   \n",
       "..                                            ...   \n",
       "691                                             0   \n",
       "692                                             0   \n",
       "693                                             0   \n",
       "694                                             0   \n",
       "695                                             0   \n",
       "\n",
       "     venue_Sawai Mansingh Stadium  \\\n",
       "0                               0   \n",
       "1                               0   \n",
       "2                               0   \n",
       "3                               0   \n",
       "4                               0   \n",
       "..                            ...   \n",
       "691                             0   \n",
       "692                             0   \n",
       "693                             0   \n",
       "694                             0   \n",
       "695                             0   \n",
       "\n",
       "     venue_Shaheed Veer Narayan Singh International Stadium  \\\n",
       "0                                                    0        \n",
       "1                                                    0        \n",
       "2                                                    0        \n",
       "3                                                    0        \n",
       "4                                                    0        \n",
       "..                                                 ...        \n",
       "691                                                  0        \n",
       "692                                                  0        \n",
       "693                                                  0        \n",
       "694                                                  0        \n",
       "695                                                  0        \n",
       "\n",
       "     venue_Sharjah Cricket Stadium  venue_Sheikh Zayed Stadium  \\\n",
       "0                                0                           0   \n",
       "1                                0                           0   \n",
       "2                                0                           0   \n",
       "3                                0                           0   \n",
       "4                                0                           0   \n",
       "..                             ...                         ...   \n",
       "691                              0                           0   \n",
       "692                              0                           0   \n",
       "693                              0                           0   \n",
       "694                              0                           0   \n",
       "695                              0                           0   \n",
       "\n",
       "     venue_St George's Park  venue_SuperSport Park  \\\n",
       "0                         0                      0   \n",
       "1                         0                      0   \n",
       "2                         0                      0   \n",
       "3                         0                      0   \n",
       "4                         0                      0   \n",
       "..                      ...                    ...   \n",
       "691                       0                      0   \n",
       "692                       0                      0   \n",
       "693                       0                      0   \n",
       "694                       0                      0   \n",
       "695                       0                      0   \n",
       "\n",
       "     venue_Vidarbha Cricket Association Stadium, Jamtha  \\\n",
       "0                                                    0    \n",
       "1                                                    0    \n",
       "2                                                    0    \n",
       "3                                                    0    \n",
       "4                                                    0    \n",
       "..                                                 ...    \n",
       "691                                                  0    \n",
       "692                                                  0    \n",
       "693                                                  0    \n",
       "694                                                  0    \n",
       "695                                                  0    \n",
       "\n",
       "     venue_Wankhede Stadium  \n",
       "0                         0  \n",
       "1                         0  \n",
       "2                         0  \n",
       "3                         0  \n",
       "4                         0  \n",
       "..                      ...  \n",
       "691                       0  \n",
       "692                       1  \n",
       "693                       0  \n",
       "694                       0  \n",
       "695                       1  \n",
       "\n",
       "[693 rows x 73 columns]"
      ]
     },
     "execution_count": 42,
     "metadata": {},
     "output_type": "execute_result"
    }
   ],
   "source": [
    "X"
   ]
  },
  {
   "cell_type": "code",
   "execution_count": 43,
   "metadata": {
    "ExecuteTime": {
     "end_time": "2020-09-18T21:53:15.883151Z",
     "start_time": "2020-09-18T21:53:15.867193Z"
    }
   },
   "outputs": [
    {
     "data": {
      "text/html": [
       "<div>\n",
       "<style scoped>\n",
       "    .dataframe tbody tr th:only-of-type {\n",
       "        vertical-align: middle;\n",
       "    }\n",
       "\n",
       "    .dataframe tbody tr th {\n",
       "        vertical-align: top;\n",
       "    }\n",
       "\n",
       "    .dataframe thead th {\n",
       "        text-align: right;\n",
       "    }\n",
       "</style>\n",
       "<table border=\"1\" class=\"dataframe\">\n",
       "  <thead>\n",
       "    <tr style=\"text-align: right;\">\n",
       "      <th></th>\n",
       "      <th>Result</th>\n",
       "    </tr>\n",
       "  </thead>\n",
       "  <tbody>\n",
       "    <tr>\n",
       "      <th>0</th>\n",
       "      <td>0</td>\n",
       "    </tr>\n",
       "    <tr>\n",
       "      <th>1</th>\n",
       "      <td>1</td>\n",
       "    </tr>\n",
       "    <tr>\n",
       "      <th>2</th>\n",
       "      <td>1</td>\n",
       "    </tr>\n",
       "    <tr>\n",
       "      <th>3</th>\n",
       "      <td>1</td>\n",
       "    </tr>\n",
       "    <tr>\n",
       "      <th>4</th>\n",
       "      <td>1</td>\n",
       "    </tr>\n",
       "    <tr>\n",
       "      <th>...</th>\n",
       "      <td>...</td>\n",
       "    </tr>\n",
       "    <tr>\n",
       "      <th>691</th>\n",
       "      <td>1</td>\n",
       "    </tr>\n",
       "    <tr>\n",
       "      <th>692</th>\n",
       "      <td>1</td>\n",
       "    </tr>\n",
       "    <tr>\n",
       "      <th>693</th>\n",
       "      <td>0</td>\n",
       "    </tr>\n",
       "    <tr>\n",
       "      <th>694</th>\n",
       "      <td>0</td>\n",
       "    </tr>\n",
       "    <tr>\n",
       "      <th>695</th>\n",
       "      <td>1</td>\n",
       "    </tr>\n",
       "  </tbody>\n",
       "</table>\n",
       "<p>693 rows × 1 columns</p>\n",
       "</div>"
      ],
      "text/plain": [
       "     Result\n",
       "0         0\n",
       "1         1\n",
       "2         1\n",
       "3         1\n",
       "4         1\n",
       "..      ...\n",
       "691       1\n",
       "692       1\n",
       "693       0\n",
       "694       0\n",
       "695       1\n",
       "\n",
       "[693 rows x 1 columns]"
      ]
     },
     "execution_count": 43,
     "metadata": {},
     "output_type": "execute_result"
    }
   ],
   "source": [
    "y"
   ]
  },
  {
   "cell_type": "code",
   "execution_count": 44,
   "metadata": {
    "ExecuteTime": {
     "end_time": "2020-09-18T21:53:16.730887Z",
     "start_time": "2020-09-18T21:53:15.888139Z"
    }
   },
   "outputs": [],
   "source": [
    "#Import train test split from sklearn library and split the datasets.\n",
    "from sklearn.model_selection import train_test_split\n",
    "\n",
    "X_train, X_cv, y_train, y_cv = train_test_split(X, y, test_size = 0.3)"
   ]
  },
  {
   "cell_type": "code",
   "execution_count": 45,
   "metadata": {
    "ExecuteTime": {
     "end_time": "2020-09-18T21:53:16.847575Z",
     "start_time": "2020-09-18T21:53:16.733879Z"
    }
   },
   "outputs": [
    {
     "name": "stderr",
     "output_type": "stream",
     "text": [
      "C:\\Users\\yashc\\AppData\\Local\\Continuum\\anaconda3\\lib\\site-packages\\sklearn\\utils\\validation.py:72: DataConversionWarning: A column-vector y was passed when a 1d array was expected. Please change the shape of y to (n_samples, ), for example using ravel().\n",
      "  return f(**kwargs)\n"
     ]
    },
    {
     "data": {
      "text/plain": [
       "0.5144230769230769"
      ]
     },
     "execution_count": 45,
     "metadata": {},
     "output_type": "execute_result"
    }
   ],
   "source": [
    "from sklearn.linear_model import LogisticRegression\n",
    "from sklearn.metrics import accuracy_score\n",
    "\n",
    "model = LogisticRegression()\n",
    "model.fit(X_train, y_train)\n",
    "\n",
    "pred_cv = model.predict(X_cv)\n",
    "\n",
    "accuracy_score(y_cv, pred_cv)"
   ]
  },
  {
   "cell_type": "markdown",
   "metadata": {},
   "source": [
    "Model gives accuracy of 59.69% on cv data."
   ]
  },
  {
   "cell_type": "code",
   "execution_count": 46,
   "metadata": {
    "ExecuteTime": {
     "end_time": "2020-09-18T21:53:16.857545Z",
     "start_time": "2020-09-18T21:53:16.851563Z"
    }
   },
   "outputs": [],
   "source": [
    "X_2019 = test.drop('Result', axis = 1)"
   ]
  },
  {
   "cell_type": "code",
   "execution_count": 47,
   "metadata": {
    "ExecuteTime": {
     "end_time": "2020-09-18T21:53:16.866520Z",
     "start_time": "2020-09-18T21:53:16.860540Z"
    }
   },
   "outputs": [],
   "source": [
    "y_2019 = test[['Result']]"
   ]
  },
  {
   "cell_type": "code",
   "execution_count": 48,
   "metadata": {
    "ExecuteTime": {
     "end_time": "2020-09-18T21:53:16.878505Z",
     "start_time": "2020-09-18T21:53:16.869516Z"
    }
   },
   "outputs": [],
   "source": [
    "pred_2019 = model.predict(X_2019)"
   ]
  },
  {
   "cell_type": "code",
   "execution_count": 49,
   "metadata": {
    "ExecuteTime": {
     "end_time": "2020-09-18T21:53:16.890455Z",
     "start_time": "2020-09-18T21:53:16.882477Z"
    }
   },
   "outputs": [
    {
     "data": {
      "text/plain": [
       "0.423728813559322"
      ]
     },
     "execution_count": 49,
     "metadata": {},
     "output_type": "execute_result"
    }
   ],
   "source": [
    "accuracy_score(y_2019, pred_2019)"
   ]
  },
  {
   "cell_type": "markdown",
   "metadata": {},
   "source": [
    "Our model gives correct prediction of winner 54.23% times for 2019 ipl matches"
   ]
  },
  {
   "cell_type": "markdown",
   "metadata": {},
   "source": [
    "### Decision Tree"
   ]
  },
  {
   "cell_type": "code",
   "execution_count": 50,
   "metadata": {
    "ExecuteTime": {
     "end_time": "2020-09-18T21:53:16.968248Z",
     "start_time": "2020-09-18T21:53:16.894444Z"
    }
   },
   "outputs": [],
   "source": [
    "from sklearn.tree import DecisionTreeClassifier\n",
    "from sklearn.tree import plot_tree\n",
    "from sklearn.model_selection import cross_val_score\n",
    "from sklearn.metrics import confusion_matrix"
   ]
  },
  {
   "cell_type": "code",
   "execution_count": 51,
   "metadata": {
    "ExecuteTime": {
     "end_time": "2020-09-18T21:53:16.976228Z",
     "start_time": "2020-09-18T21:53:16.971241Z"
    }
   },
   "outputs": [],
   "source": [
    "from sklearn.metrics import plot_confusion_matrix"
   ]
  },
  {
   "cell_type": "code",
   "execution_count": 52,
   "metadata": {
    "ExecuteTime": {
     "end_time": "2020-09-18T21:53:16.989192Z",
     "start_time": "2020-09-18T21:53:16.980219Z"
    }
   },
   "outputs": [],
   "source": [
    "X_train, X_cv, y_train, y_cv = train_test_split(X, y, test_size = 0.3)"
   ]
  },
  {
   "cell_type": "code",
   "execution_count": 53,
   "metadata": {
    "ExecuteTime": {
     "end_time": "2020-09-18T21:53:17.013130Z",
     "start_time": "2020-09-18T21:53:16.991186Z"
    }
   },
   "outputs": [],
   "source": [
    "clt_ipl = DecisionTreeClassifier()\n",
    "clt_ipl = clt_ipl.fit(X_train, y_train)"
   ]
  },
  {
   "cell_type": "code",
   "execution_count": 54,
   "metadata": {
    "ExecuteTime": {
     "end_time": "2020-09-18T21:53:50.486622Z",
     "start_time": "2020-09-18T21:53:17.016121Z"
    }
   },
   "outputs": [
    {
     "data": {
      "text/plain": [
       "[Text(717.7924903809554, 402.60375, 'toss_winner_Pune Warriors <= 0.5\\ngini = 0.499\\nsamples = 485\\nvalue = [232, 253]\\nclass = Win'),\n",
       " Text(618.3566343052181, 392.41125, 'toss_decision <= 0.5\\ngini = 0.498\\nsamples = 469\\nvalue = [219, 250]\\nclass = Win'),\n",
       " Text(469.9886811023622, 382.21875, 'toss_winner_Kings XI Punjab <= 0.5\\ngini = 0.497\\nsamples = 188\\nvalue = [101, 87]\\nclass = Loose'),\n",
       " Text(437.4478346456693, 372.02625, 'team2_Deccan Chargers <= 0.5\\ngini = 0.5\\nsamples = 167\\nvalue = [85, 82]\\nclass = Loose'),\n",
       " Text(411.9094488188976, 361.83375, 'venue_Rajiv Gandhi International Stadium, Uppal <= 0.5\\ngini = 0.499\\nsamples = 160\\nvalue = [84, 76]\\nclass = Loose'),\n",
       " Text(380.6043307086614, 351.64125, 'venue_Saurashtra Cricket Association Stadium <= 0.5\\ngini = 0.5\\nsamples = 145\\nvalue = [73, 72]\\nclass = Loose'),\n",
       " Text(374.01377952755905, 341.44875, 'team2_Rajasthan Royals <= 0.5\\ngini = 0.5\\nsamples = 142\\nvalue = [70, 72]\\nclass = Win'),\n",
       " Text(337.76574803149606, 331.25625, 'toss_winner_Deccan Chargers <= 0.5\\ngini = 0.498\\nsamples = 122\\nvalue = [57, 65]\\nclass = Win'),\n",
       " Text(298.2224409448819, 321.06375, 'team2_Chennai Super Kings <= 0.5\\ngini = 0.5\\nsamples = 109\\nvalue = [54, 55]\\nclass = Win'),\n",
       " Text(271.8602362204724, 310.87125000000003, 'toss_winner_Royal Challengers Bangalore <= 0.5\\ngini = 0.498\\nsamples = 96\\nvalue = [45, 51]\\nclass = Win'),\n",
       " Text(258.67913385826773, 300.67875, 'team1_Kochi Tuskers Kerala <= 0.5\\ngini = 0.5\\nsamples = 90\\nvalue = [44, 46]\\nclass = Win'),\n",
       " Text(252.08858267716533, 290.48625, 'venue_Dr DY Patil Sports Academy <= 0.5\\ngini = 0.499\\nsamples = 88\\nvalue = [42, 46]\\nclass = Win'),\n",
       " Text(245.498031496063, 280.29375, 'team2_Mumbai Indians <= 0.5\\ngini = 0.5\\nsamples = 86\\nvalue = [42, 44]\\nclass = Win'),\n",
       " Text(232.31692913385825, 270.10125, 'toss_winner_Rising Pune Supergiant <= 0.5\\ngini = 0.497\\nsamples = 76\\nvalue = [35, 41]\\nclass = Win'),\n",
       " Text(225.7263779527559, 259.90875, 'venue_Sharjah Cricket Stadium <= 0.5\\ngini = 0.496\\nsamples = 75\\nvalue = [34, 41]\\nclass = Win'),\n",
       " Text(219.13582677165354, 249.71625, 'venue_Buffalo Park <= 0.5\\ngini = 0.494\\nsamples = 74\\nvalue = [33, 41]\\nclass = Win'),\n",
       " Text(212.54527559055117, 239.52375, 'team2_Kochi Tuskers Kerala <= 0.5\\ngini = 0.492\\nsamples = 73\\nvalue = [32, 41]\\nclass = Win'),\n",
       " Text(205.9547244094488, 229.33125, 'venue_SuperSport Park <= 0.5\\ngini = 0.494\\nsamples = 72\\nvalue = [32, 40]\\nclass = Win'),\n",
       " Text(199.36417322834646, 219.13875000000002, 'venue_Sardar Patel Stadium, Motera <= 0.5\\ngini = 0.495\\nsamples = 71\\nvalue = [32, 39]\\nclass = Win'),\n",
       " Text(192.7736220472441, 208.94625000000002, 'team2_Kolkata Knight Riders <= 0.5\\ngini = 0.496\\nsamples = 70\\nvalue = [32, 38]\\nclass = Win'),\n",
       " Text(161.46850393700788, 198.75375, 'venue_Eden Gardens <= 0.5\\ngini = 0.489\\nsamples = 54\\nvalue = [23, 31]\\nclass = Win'),\n",
       " Text(154.8779527559055, 188.56125, 'venue_Sheikh Zayed Stadium <= 0.5\\ngini = 0.495\\nsamples = 51\\nvalue = [23, 28]\\nclass = Win'),\n",
       " Text(148.28740157480314, 178.36875, 'venue_JSCA International Stadium Complex <= 0.5\\ngini = 0.493\\nsamples = 50\\nvalue = [22, 28]\\nclass = Win'),\n",
       " Text(141.69685039370077, 168.17625, 'team2_Delhi Capitals <= 0.5\\ngini = 0.49\\nsamples = 49\\nvalue = [21, 28]\\nclass = Win'),\n",
       " Text(118.62992125984252, 157.98375000000001, 'venue_MA Chidambaram Stadium, Chepauk <= 0.5\\ngini = 0.475\\nsamples = 36\\nvalue = [14, 22]\\nclass = Win'),\n",
       " Text(112.03937007874015, 147.79125, 'toss_winner_Mumbai Indians <= 0.5\\ngini = 0.492\\nsamples = 32\\nvalue = [14, 18]\\nclass = Win'),\n",
       " Text(98.85826771653544, 137.59875, 'venue_Dr. Y.S. Rajasekhara Reddy ACA-VDCA Cricket Stadium <= 0.5\\ngini = 0.469\\nsamples = 24\\nvalue = [9, 15]\\nclass = Win'),\n",
       " Text(92.26771653543307, 127.40625, 'team1_Sunrisers Hyderabad <= 0.5\\ngini = 0.483\\nsamples = 22\\nvalue = [9, 13]\\nclass = Win'),\n",
       " Text(85.67716535433071, 117.21375, 'team2_Sunrisers Hyderabad <= 0.5\\ngini = 0.472\\nsamples = 21\\nvalue = [8, 13]\\nclass = Win'),\n",
       " Text(79.08661417322834, 107.02125000000001, 'venue_Feroz Shah Kotla <= 0.5\\ngini = 0.455\\nsamples = 20\\nvalue = [7, 13]\\nclass = Win'),\n",
       " Text(72.49606299212599, 96.82875000000001, 'toss_winner_Delhi Capitals <= 0.5\\ngini = 0.484\\nsamples = 17\\nvalue = [7, 10]\\nclass = Win'),\n",
       " Text(65.90551181102362, 86.63625000000002, 'venue_Kingsmead <= 0.5\\ngini = 0.469\\nsamples = 16\\nvalue = [6, 10]\\nclass = Win'),\n",
       " Text(52.724409448818896, 76.44375000000002, 'venue_Punjab Cricket Association IS Bindra Stadium, Mohali <= 0.5\\ngini = 0.426\\nsamples = 13\\nvalue = [4, 9]\\nclass = Win'),\n",
       " Text(46.13385826771653, 66.25125000000003, 'venue_M Chinnaswamy Stadium <= 0.5\\ngini = 0.444\\nsamples = 12\\nvalue = [4, 8]\\nclass = Win'),\n",
       " Text(39.54330708661417, 56.05875000000003, 'venue_Sawai Mansingh Stadium <= 0.5\\ngini = 0.463\\nsamples = 11\\nvalue = [4, 7]\\nclass = Win'),\n",
       " Text(26.362204724409448, 45.866250000000036, 'team1_Rajasthan Royals <= 0.5\\ngini = 0.49\\nsamples = 7\\nvalue = [3, 4]\\nclass = Win'),\n",
       " Text(19.771653543307085, 35.67375000000004, 'team2_Kings XI Punjab <= 0.5\\ngini = 0.444\\nsamples = 6\\nvalue = [2, 4]\\nclass = Win'),\n",
       " Text(13.181102362204724, 25.481250000000045, 'team1_Chennai Super Kings <= 0.5\\ngini = 0.32\\nsamples = 5\\nvalue = [1, 4]\\nclass = Win'),\n",
       " Text(6.590551181102362, 15.28875000000005, 'gini = 0.0\\nsamples = 2\\nvalue = [0, 2]\\nclass = Win'),\n",
       " Text(19.771653543307085, 15.28875000000005, 'venue_Maharashtra Cricket Association Stadium <= 0.5\\ngini = 0.444\\nsamples = 3\\nvalue = [1, 2]\\nclass = Win'),\n",
       " Text(13.181102362204724, 5.096250000000055, 'gini = 0.0\\nsamples = 1\\nvalue = [0, 1]\\nclass = Win'),\n",
       " Text(26.362204724409448, 5.096250000000055, 'gini = 0.5\\nsamples = 2\\nvalue = [1, 1]\\nclass = Loose'),\n",
       " Text(26.362204724409448, 25.481250000000045, 'gini = 0.0\\nsamples = 1\\nvalue = [1, 0]\\nclass = Loose'),\n",
       " Text(32.95275590551181, 35.67375000000004, 'gini = 0.0\\nsamples = 1\\nvalue = [1, 0]\\nclass = Loose'),\n",
       " Text(52.724409448818896, 45.866250000000036, 'team2_Royal Challengers Bangalore <= 0.5\\ngini = 0.375\\nsamples = 4\\nvalue = [1, 3]\\nclass = Win'),\n",
       " Text(46.13385826771653, 35.67375000000004, 'gini = 0.0\\nsamples = 2\\nvalue = [0, 2]\\nclass = Win'),\n",
       " Text(59.31496062992126, 35.67375000000004, 'gini = 0.5\\nsamples = 2\\nvalue = [1, 1]\\nclass = Loose'),\n",
       " Text(52.724409448818896, 56.05875000000003, 'gini = 0.0\\nsamples = 1\\nvalue = [0, 1]\\nclass = Win'),\n",
       " Text(59.31496062992126, 66.25125000000003, 'gini = 0.0\\nsamples = 1\\nvalue = [0, 1]\\nclass = Win'),\n",
       " Text(79.08661417322834, 76.44375000000002, 'team2_Royal Challengers Bangalore <= 0.5\\ngini = 0.444\\nsamples = 3\\nvalue = [2, 1]\\nclass = Loose'),\n",
       " Text(72.49606299212599, 66.25125000000003, 'gini = 0.0\\nsamples = 1\\nvalue = [0, 1]\\nclass = Win'),\n",
       " Text(85.67716535433071, 66.25125000000003, 'gini = 0.0\\nsamples = 2\\nvalue = [2, 0]\\nclass = Loose'),\n",
       " Text(79.08661417322834, 86.63625000000002, 'gini = 0.0\\nsamples = 1\\nvalue = [1, 0]\\nclass = Loose'),\n",
       " Text(85.67716535433071, 96.82875000000001, 'gini = 0.0\\nsamples = 3\\nvalue = [0, 3]\\nclass = Win'),\n",
       " Text(92.26771653543307, 107.02125000000001, 'gini = 0.0\\nsamples = 1\\nvalue = [1, 0]\\nclass = Loose'),\n",
       " Text(98.85826771653544, 117.21375, 'gini = 0.0\\nsamples = 1\\nvalue = [1, 0]\\nclass = Loose'),\n",
       " Text(105.44881889763779, 127.40625, 'gini = 0.0\\nsamples = 2\\nvalue = [0, 2]\\nclass = Win'),\n",
       " Text(125.22047244094487, 137.59875, 'team2_Sunrisers Hyderabad <= 0.5\\ngini = 0.469\\nsamples = 8\\nvalue = [5, 3]\\nclass = Loose'),\n",
       " Text(118.62992125984252, 127.40625, 'venue_Wankhede Stadium <= 0.5\\ngini = 0.408\\nsamples = 7\\nvalue = [5, 2]\\nclass = Loose'),\n",
       " Text(112.03937007874015, 117.21375, 'gini = 0.0\\nsamples = 2\\nvalue = [2, 0]\\nclass = Loose'),\n",
       " Text(125.22047244094487, 117.21375, 'team2_Rising Pune Supergiant <= 0.5\\ngini = 0.48\\nsamples = 5\\nvalue = [3, 2]\\nclass = Loose'),\n",
       " Text(118.62992125984252, 107.02125000000001, 'team2_Royal Challengers Bangalore <= 0.5\\ngini = 0.5\\nsamples = 4\\nvalue = [2, 2]\\nclass = Loose'),\n",
       " Text(112.03937007874015, 96.82875000000001, 'gini = 0.5\\nsamples = 2\\nvalue = [1, 1]\\nclass = Loose'),\n",
       " Text(125.22047244094487, 96.82875000000001, 'gini = 0.5\\nsamples = 2\\nvalue = [1, 1]\\nclass = Loose'),\n",
       " Text(131.81102362204723, 107.02125000000001, 'gini = 0.0\\nsamples = 1\\nvalue = [1, 0]\\nclass = Loose'),\n",
       " Text(131.81102362204723, 127.40625, 'gini = 0.0\\nsamples = 1\\nvalue = [0, 1]\\nclass = Win'),\n",
       " Text(125.22047244094487, 147.79125, 'gini = 0.0\\nsamples = 4\\nvalue = [0, 4]\\nclass = Win'),\n",
       " Text(164.76377952755905, 157.98375000000001, 'team1_Sunrisers Hyderabad <= 0.5\\ngini = 0.497\\nsamples = 13\\nvalue = [7, 6]\\nclass = Loose'),\n",
       " Text(158.17322834645668, 147.79125, 'venue_Wankhede Stadium <= 0.5\\ngini = 0.463\\nsamples = 11\\nvalue = [7, 4]\\nclass = Loose'),\n",
       " Text(151.58267716535434, 137.59875, 'venue_Brabourne Stadium <= 0.5\\ngini = 0.42\\nsamples = 10\\nvalue = [7, 3]\\nclass = Loose'),\n",
       " Text(144.99212598425197, 127.40625, 'team1_Chennai Super Kings <= 0.5\\ngini = 0.346\\nsamples = 9\\nvalue = [7, 2]\\nclass = Loose'),\n",
       " Text(138.4015748031496, 117.21375, 'gini = 0.0\\nsamples = 4\\nvalue = [4, 0]\\nclass = Loose'),\n",
       " Text(151.58267716535434, 117.21375, 'venue_Feroz Shah Kotla <= 0.5\\ngini = 0.48\\nsamples = 5\\nvalue = [3, 2]\\nclass = Loose'),\n",
       " Text(144.99212598425197, 107.02125000000001, 'venue_Shaheed Veer Narayan Singh International Stadium <= 0.5\\ngini = 0.375\\nsamples = 4\\nvalue = [3, 1]\\nclass = Loose'),\n",
       " Text(138.4015748031496, 96.82875000000001, 'gini = 0.444\\nsamples = 3\\nvalue = [2, 1]\\nclass = Loose'),\n",
       " Text(151.58267716535434, 96.82875000000001, 'gini = 0.0\\nsamples = 1\\nvalue = [1, 0]\\nclass = Loose'),\n",
       " Text(158.17322834645668, 107.02125000000001, 'gini = 0.0\\nsamples = 1\\nvalue = [0, 1]\\nclass = Win'),\n",
       " Text(158.17322834645668, 127.40625, 'gini = 0.0\\nsamples = 1\\nvalue = [0, 1]\\nclass = Win'),\n",
       " Text(164.76377952755905, 137.59875, 'gini = 0.0\\nsamples = 1\\nvalue = [0, 1]\\nclass = Win'),\n",
       " Text(171.35433070866142, 147.79125, 'gini = 0.0\\nsamples = 2\\nvalue = [0, 2]\\nclass = Win'),\n",
       " Text(154.8779527559055, 168.17625, 'gini = 0.0\\nsamples = 1\\nvalue = [1, 0]\\nclass = Loose'),\n",
       " Text(161.46850393700788, 178.36875, 'gini = 0.0\\nsamples = 1\\nvalue = [1, 0]\\nclass = Loose'),\n",
       " Text(168.05905511811022, 188.56125, 'gini = 0.0\\nsamples = 3\\nvalue = [0, 3]\\nclass = Win'),\n",
       " Text(224.0787401574803, 198.75375, \"venue_St George's Park <= 0.5\\ngini = 0.492\\nsamples = 16\\nvalue = [9, 7]\\nclass = Loose\"),\n",
       " Text(217.48818897637796, 188.56125, 'venue_Sheikh Zayed Stadium <= 0.5\\ngini = 0.48\\nsamples = 15\\nvalue = [9, 6]\\nclass = Loose'),\n",
       " Text(210.89763779527559, 178.36875, 'venue_JSCA International Stadium Complex <= 0.5\\ngini = 0.459\\nsamples = 14\\nvalue = [9, 5]\\nclass = Loose'),\n",
       " Text(204.30708661417322, 168.17625, 'venue_Brabourne Stadium <= 0.5\\ngini = 0.426\\nsamples = 13\\nvalue = [9, 4]\\nclass = Loose'),\n",
       " Text(197.71653543307087, 157.98375000000001, 'toss_winner_Rajasthan Royals <= 0.5\\ngini = 0.375\\nsamples = 12\\nvalue = [9, 3]\\nclass = Loose'),\n",
       " Text(191.1259842519685, 147.79125, 'venue_Eden Gardens <= 0.5\\ngini = 0.444\\nsamples = 9\\nvalue = [6, 3]\\nclass = Loose'),\n",
       " Text(177.94488188976376, 137.59875, 'team1_Chennai Super Kings <= 0.5\\ngini = 0.32\\nsamples = 5\\nvalue = [4, 1]\\nclass = Loose'),\n",
       " Text(171.35433070866142, 127.40625, 'gini = 0.375\\nsamples = 4\\nvalue = [3, 1]\\nclass = Loose'),\n",
       " Text(184.53543307086613, 127.40625, 'gini = 0.0\\nsamples = 1\\nvalue = [1, 0]\\nclass = Loose'),\n",
       " Text(204.30708661417322, 137.59875, 'toss_winner_Mumbai Indians <= 0.5\\ngini = 0.5\\nsamples = 4\\nvalue = [2, 2]\\nclass = Loose'),\n",
       " Text(197.71653543307087, 127.40625, 'gini = 0.5\\nsamples = 2\\nvalue = [1, 1]\\nclass = Loose'),\n",
       " Text(210.89763779527559, 127.40625, 'gini = 0.5\\nsamples = 2\\nvalue = [1, 1]\\nclass = Loose'),\n",
       " Text(204.30708661417322, 147.79125, 'gini = 0.0\\nsamples = 3\\nvalue = [3, 0]\\nclass = Loose'),\n",
       " Text(210.89763779527559, 157.98375000000001, 'gini = 0.0\\nsamples = 1\\nvalue = [0, 1]\\nclass = Win'),\n",
       " Text(217.48818897637796, 168.17625, 'gini = 0.0\\nsamples = 1\\nvalue = [0, 1]\\nclass = Win'),\n",
       " Text(224.0787401574803, 178.36875, 'gini = 0.0\\nsamples = 1\\nvalue = [0, 1]\\nclass = Win'),\n",
       " Text(230.66929133858267, 188.56125, 'gini = 0.0\\nsamples = 1\\nvalue = [0, 1]\\nclass = Win'),\n",
       " Text(205.9547244094488, 208.94625000000002, 'gini = 0.0\\nsamples = 1\\nvalue = [0, 1]\\nclass = Win'),\n",
       " Text(212.54527559055117, 219.13875000000002, 'gini = 0.0\\nsamples = 1\\nvalue = [0, 1]\\nclass = Win'),\n",
       " Text(219.13582677165354, 229.33125, 'gini = 0.0\\nsamples = 1\\nvalue = [0, 1]\\nclass = Win'),\n",
       " Text(225.7263779527559, 239.52375, 'gini = 0.0\\nsamples = 1\\nvalue = [1, 0]\\nclass = Loose'),\n",
       " Text(232.31692913385825, 249.71625, 'gini = 0.0\\nsamples = 1\\nvalue = [1, 0]\\nclass = Loose'),\n",
       " Text(238.90748031496062, 259.90875, 'gini = 0.0\\nsamples = 1\\nvalue = [1, 0]\\nclass = Loose'),\n",
       " Text(258.67913385826773, 270.10125, 'venue_Feroz Shah Kotla <= 0.5\\ngini = 0.42\\nsamples = 10\\nvalue = [7, 3]\\nclass = Loose'),\n",
       " Text(252.08858267716533, 259.90875, 'team1_Kolkata Knight Riders <= 0.5\\ngini = 0.346\\nsamples = 9\\nvalue = [7, 2]\\nclass = Loose'),\n",
       " Text(245.498031496063, 249.71625, 'venue_Wankhede Stadium <= 0.5\\ngini = 0.444\\nsamples = 6\\nvalue = [4, 2]\\nclass = Loose'),\n",
       " Text(238.90748031496062, 239.52375, 'team1_Chennai Super Kings <= 0.5\\ngini = 0.5\\nsamples = 4\\nvalue = [2, 2]\\nclass = Loose'),\n",
       " Text(232.31692913385825, 229.33125, 'gini = 0.5\\nsamples = 2\\nvalue = [1, 1]\\nclass = Loose'),\n",
       " Text(245.498031496063, 229.33125, 'gini = 0.5\\nsamples = 2\\nvalue = [1, 1]\\nclass = Loose'),\n",
       " Text(252.08858267716533, 239.52375, 'gini = 0.0\\nsamples = 2\\nvalue = [2, 0]\\nclass = Loose'),\n",
       " Text(258.67913385826773, 249.71625, 'gini = 0.0\\nsamples = 3\\nvalue = [3, 0]\\nclass = Loose'),\n",
       " Text(265.2696850393701, 259.90875, 'gini = 0.0\\nsamples = 1\\nvalue = [0, 1]\\nclass = Win'),\n",
       " Text(258.67913385826773, 280.29375, 'gini = 0.0\\nsamples = 2\\nvalue = [0, 2]\\nclass = Win'),\n",
       " Text(265.2696850393701, 290.48625, 'gini = 0.0\\nsamples = 2\\nvalue = [2, 0]\\nclass = Loose'),\n",
       " Text(285.04133858267716, 300.67875, 'venue_Holkar Cricket Stadium <= 0.5\\ngini = 0.278\\nsamples = 6\\nvalue = [1, 5]\\nclass = Win'),\n",
       " Text(278.4507874015748, 290.48625, 'gini = 0.0\\nsamples = 5\\nvalue = [0, 5]\\nclass = Win'),\n",
       " Text(291.6318897637795, 290.48625, 'gini = 0.0\\nsamples = 1\\nvalue = [1, 0]\\nclass = Loose'),\n",
       " Text(324.5846456692913, 310.87125000000003, 'toss_winner_Mumbai Indians <= 0.5\\ngini = 0.426\\nsamples = 13\\nvalue = [9, 4]\\nclass = Loose'),\n",
       " Text(311.4035433070866, 300.67875, 'toss_winner_Royal Challengers Bangalore <= 0.5\\ngini = 0.219\\nsamples = 8\\nvalue = [7, 1]\\nclass = Loose'),\n",
       " Text(304.81299212598424, 290.48625, 'gini = 0.0\\nsamples = 6\\nvalue = [6, 0]\\nclass = Loose'),\n",
       " Text(317.994094488189, 290.48625, 'gini = 0.5\\nsamples = 2\\nvalue = [1, 1]\\nclass = Loose'),\n",
       " Text(337.76574803149606, 300.67875, 'venue_Dubai International Cricket Stadium <= 0.5\\ngini = 0.48\\nsamples = 5\\nvalue = [2, 3]\\nclass = Win'),\n",
       " Text(331.1751968503937, 290.48625, 'venue_Wankhede Stadium <= 0.5\\ngini = 0.375\\nsamples = 4\\nvalue = [1, 3]\\nclass = Win'),\n",
       " Text(324.5846456692913, 280.29375, 'gini = 0.0\\nsamples = 2\\nvalue = [0, 2]\\nclass = Win'),\n",
       " Text(337.76574803149606, 280.29375, 'gini = 0.5\\nsamples = 2\\nvalue = [1, 1]\\nclass = Loose'),\n",
       " Text(344.3562992125984, 290.48625, 'gini = 0.0\\nsamples = 1\\nvalue = [1, 0]\\nclass = Loose'),\n",
       " Text(377.3090551181102, 321.06375, 'venue_Dr DY Patil Sports Academy <= 0.5\\ngini = 0.355\\nsamples = 13\\nvalue = [3, 10]\\nclass = Win'),\n",
       " Text(370.7185039370079, 310.87125000000003, 'venue_Dr. Y.S. Rajasekhara Reddy ACA-VDCA Cricket Stadium <= 0.5\\ngini = 0.278\\nsamples = 12\\nvalue = [2, 10]\\nclass = Win'),\n",
       " Text(364.1279527559055, 300.67875, 'venue_Feroz Shah Kotla <= 0.5\\ngini = 0.165\\nsamples = 11\\nvalue = [1, 10]\\nclass = Win'),\n",
       " Text(357.53740157480314, 290.48625, 'gini = 0.0\\nsamples = 8\\nvalue = [0, 8]\\nclass = Win'),\n",
       " Text(370.7185039370079, 290.48625, 'gini = 0.444\\nsamples = 3\\nvalue = [1, 2]\\nclass = Win'),\n",
       " Text(377.3090551181102, 300.67875, 'gini = 0.0\\nsamples = 1\\nvalue = [1, 0]\\nclass = Loose'),\n",
       " Text(383.89960629921256, 310.87125000000003, 'gini = 0.0\\nsamples = 1\\nvalue = [1, 0]\\nclass = Loose'),\n",
       " Text(410.26181102362204, 331.25625, 'venue_Sawai Mansingh Stadium <= 0.5\\ngini = 0.455\\nsamples = 20\\nvalue = [13, 7]\\nclass = Loose'),\n",
       " Text(403.6712598425197, 321.06375, 'team1_Deccan Chargers <= 0.5\\ngini = 0.5\\nsamples = 14\\nvalue = [7, 7]\\nclass = Loose'),\n",
       " Text(397.0807086614173, 310.87125000000003, 'venue_Feroz Shah Kotla <= 0.5\\ngini = 0.486\\nsamples = 12\\nvalue = [5, 7]\\nclass = Win'),\n",
       " Text(390.49015748031496, 300.67875, 'venue_MA Chidambaram Stadium, Chepauk <= 0.5\\ngini = 0.5\\nsamples = 10\\nvalue = [5, 5]\\nclass = Loose'),\n",
       " Text(383.89960629921256, 290.48625, 'venue_Brabourne Stadium <= 0.5\\ngini = 0.469\\nsamples = 8\\nvalue = [5, 3]\\nclass = Loose'),\n",
       " Text(377.3090551181102, 280.29375, 'venue_OUTsurance Oval <= 0.5\\ngini = 0.408\\nsamples = 7\\nvalue = [5, 2]\\nclass = Loose'),\n",
       " Text(370.7185039370079, 270.10125, 'venue_Sardar Patel Stadium, Motera <= 0.5\\ngini = 0.278\\nsamples = 6\\nvalue = [5, 1]\\nclass = Loose'),\n",
       " Text(364.1279527559055, 259.90875, 'gini = 0.0\\nsamples = 3\\nvalue = [3, 0]\\nclass = Loose'),\n",
       " Text(377.3090551181102, 259.90875, 'toss_winner_Mumbai Indians <= 0.5\\ngini = 0.444\\nsamples = 3\\nvalue = [2, 1]\\nclass = Loose'),\n",
       " Text(370.7185039370079, 249.71625, 'gini = 0.0\\nsamples = 1\\nvalue = [1, 0]\\nclass = Loose'),\n",
       " Text(383.89960629921256, 249.71625, 'gini = 0.5\\nsamples = 2\\nvalue = [1, 1]\\nclass = Loose'),\n",
       " Text(383.89960629921256, 270.10125, 'gini = 0.0\\nsamples = 1\\nvalue = [0, 1]\\nclass = Win'),\n",
       " Text(390.49015748031496, 280.29375, 'gini = 0.0\\nsamples = 1\\nvalue = [0, 1]\\nclass = Win'),\n",
       " Text(397.0807086614173, 290.48625, 'gini = 0.0\\nsamples = 2\\nvalue = [0, 2]\\nclass = Win'),\n",
       " Text(403.6712598425197, 300.67875, 'gini = 0.0\\nsamples = 2\\nvalue = [0, 2]\\nclass = Win'),\n",
       " Text(410.26181102362204, 310.87125000000003, 'gini = 0.0\\nsamples = 2\\nvalue = [2, 0]\\nclass = Loose'),\n",
       " Text(416.8523622047244, 321.06375, 'gini = 0.0\\nsamples = 6\\nvalue = [6, 0]\\nclass = Loose'),\n",
       " Text(387.1948818897638, 341.44875, 'gini = 0.0\\nsamples = 3\\nvalue = [3, 0]\\nclass = Loose'),\n",
       " Text(443.21456692913387, 351.64125, 'toss_winner_Sunrisers Hyderabad <= 0.5\\ngini = 0.391\\nsamples = 15\\nvalue = [11, 4]\\nclass = Loose'),\n",
       " Text(430.0334645669291, 341.44875, 'team2_Rising Pune Supergiant <= 0.5\\ngini = 0.18\\nsamples = 10\\nvalue = [9, 1]\\nclass = Loose'),\n",
       " Text(423.4429133858268, 331.25625, 'gini = 0.0\\nsamples = 9\\nvalue = [9, 0]\\nclass = Loose'),\n",
       " Text(436.62401574803147, 331.25625, 'gini = 0.0\\nsamples = 1\\nvalue = [0, 1]\\nclass = Win'),\n",
       " Text(456.39566929133855, 341.44875, 'team2_Kolkata Knight Riders <= 0.5\\ngini = 0.48\\nsamples = 5\\nvalue = [2, 3]\\nclass = Win'),\n",
       " Text(449.8051181102362, 331.25625, 'gini = 0.0\\nsamples = 3\\nvalue = [0, 3]\\nclass = Win'),\n",
       " Text(462.98622047244095, 331.25625, 'gini = 0.0\\nsamples = 2\\nvalue = [2, 0]\\nclass = Loose'),\n",
       " Text(462.98622047244095, 361.83375, 'venue_Newlands <= 0.5\\ngini = 0.245\\nsamples = 7\\nvalue = [1, 6]\\nclass = Win'),\n",
       " Text(456.39566929133855, 351.64125, 'gini = 0.0\\nsamples = 6\\nvalue = [0, 6]\\nclass = Win'),\n",
       " Text(469.5767716535433, 351.64125, 'gini = 0.0\\nsamples = 1\\nvalue = [1, 0]\\nclass = Loose'),\n",
       " Text(502.5295275590551, 372.02625, 'venue_Kingsmead <= 0.5\\ngini = 0.363\\nsamples = 21\\nvalue = [16, 5]\\nclass = Loose'),\n",
       " Text(495.93897637795277, 361.83375, 'venue_Newlands <= 0.5\\ngini = 0.32\\nsamples = 20\\nvalue = [16, 4]\\nclass = Loose'),\n",
       " Text(489.34842519685037, 351.64125, 'venue_Himachal Pradesh Cricket Association Stadium <= 0.5\\ngini = 0.266\\nsamples = 19\\nvalue = [16, 3]\\nclass = Loose'),\n",
       " Text(482.75787401574803, 341.44875, 'venue_Punjab Cricket Association IS Bindra Stadium, Mohali <= 0.5\\ngini = 0.198\\nsamples = 18\\nvalue = [16, 2]\\nclass = Loose'),\n",
       " Text(476.16732283464563, 331.25625, 'gini = 0.0\\nsamples = 11\\nvalue = [11, 0]\\nclass = Loose'),\n",
       " Text(489.34842519685037, 331.25625, 'team2_Kolkata Knight Riders <= 0.5\\ngini = 0.408\\nsamples = 7\\nvalue = [5, 2]\\nclass = Loose'),\n",
       " Text(482.75787401574803, 321.06375, 'team2_Sunrisers Hyderabad <= 0.5\\ngini = 0.32\\nsamples = 5\\nvalue = [4, 1]\\nclass = Loose'),\n",
       " Text(476.16732283464563, 310.87125000000003, 'gini = 0.0\\nsamples = 3\\nvalue = [3, 0]\\nclass = Loose'),\n",
       " Text(489.34842519685037, 310.87125000000003, 'gini = 0.5\\nsamples = 2\\nvalue = [1, 1]\\nclass = Loose'),\n",
       " Text(495.93897637795277, 321.06375, 'gini = 0.5\\nsamples = 2\\nvalue = [1, 1]\\nclass = Loose'),\n",
       " Text(495.93897637795277, 341.44875, 'gini = 0.0\\nsamples = 1\\nvalue = [0, 1]\\nclass = Win'),\n",
       " Text(502.5295275590551, 351.64125, 'gini = 0.0\\nsamples = 1\\nvalue = [0, 1]\\nclass = Win'),\n",
       " Text(509.12007874015745, 361.83375, 'gini = 0.0\\nsamples = 1\\nvalue = [0, 1]\\nclass = Win'),\n",
       " Text(766.7245875080739, 382.21875, 'venue_Holkar Cricket Stadium <= 0.5\\ngini = 0.487\\nsamples = 281\\nvalue = [118, 163]\\nclass = Win'),\n",
       " Text(760.1340363269716, 372.02625, 'team1_Gujarat Lions <= 0.5\\ngini = 0.489\\nsamples = 276\\nvalue = [118, 158]\\nclass = Win'),\n",
       " Text(722.8113797405573, 361.83375, 'team2_Delhi Capitals <= 0.5\\ngini = 0.492\\nsamples = 268\\nvalue = [117, 151]\\nclass = Win'),\n",
       " Text(667.9377201110359, 351.64125, 'team1_Kings XI Punjab <= 0.5\\ngini = 0.487\\nsamples = 234\\nvalue = [98, 136]\\nclass = Win'),\n",
       " Text(617.5053614819144, 341.44875, 'toss_winner_Chennai Super Kings <= 0.5\\ngini = 0.478\\nsamples = 205\\nvalue = [81, 124]\\nclass = Win'),\n",
       " Text(585.8414316252461, 331.25625, 'toss_winner_Gujarat Lions <= 0.5\\ngini = 0.484\\nsamples = 185\\nvalue = [76, 109]\\nclass = Win'),\n",
       " Text(555.4663278174213, 321.06375, 'team2_Rajasthan Royals <= 0.5\\ngini = 0.488\\nsamples = 178\\nvalue = [75, 103]\\nclass = Win'),\n",
       " Text(514.4877737450787, 310.87125000000003, 'team1_Kochi Tuskers Kerala <= 0.5\\ngini = 0.494\\nsamples = 150\\nvalue = [67, 83]\\nclass = Win'),\n",
       " Text(507.89722256397636, 300.67875, 'venue_Sharjah Cricket Stadium <= 0.5\\ngini = 0.493\\nsamples = 148\\nvalue = [65, 83]\\nclass = Win'),\n",
       " Text(501.306671382874, 290.48625, 'venue_Dr. Y.S. Rajasekhara Reddy ACA-VDCA Cricket Stadium <= 0.5\\ngini = 0.494\\nsamples = 146\\nvalue = [65, 81]\\nclass = Win'),\n",
       " Text(494.7161202017716, 280.29375, 'venue_MA Chidambaram Stadium, Chepauk <= 0.5\\ngini = 0.493\\nsamples = 145\\nvalue = [64, 81]\\nclass = Win'),\n",
       " Text(465.4834215059055, 270.10125, 'team1_Chennai Super Kings <= 0.5\\ngini = 0.491\\nsamples = 139\\nvalue = [60, 79]\\nclass = Win'),\n",
       " Text(439.97078001968504, 259.90875, 'venue_Nehru Stadium <= 0.5\\ngini = 0.495\\nsamples = 125\\nvalue = [56, 69]\\nclass = Win'),\n",
       " Text(433.38022883858264, 249.71625, 'team2_Deccan Chargers <= 0.5\\ngini = 0.494\\nsamples = 124\\nvalue = [55, 69]\\nclass = Win'),\n",
       " Text(402.12659940944883, 239.52375, 'team1_Delhi Capitals <= 0.5\\ngini = 0.49\\nsamples = 114\\nvalue = [49, 65]\\nclass = Win'),\n",
       " Text(385.7531988188976, 229.33125, 'venue_Dr DY Patil Sports Academy <= 0.5\\ngini = 0.497\\nsamples = 96\\nvalue = [44, 52]\\nclass = Win'),\n",
       " Text(379.16264763779526, 219.13875000000002, 'team1_Pune Warriors <= 0.5\\ngini = 0.498\\nsamples = 94\\nvalue = [44, 50]\\nclass = Win'),\n",
       " Text(372.5720964566929, 208.94625000000002, 'venue_Feroz Shah Kotla <= 0.5\\ngini = 0.496\\nsamples = 92\\nvalue = [42, 50]\\nclass = Win'),\n",
       " Text(365.9815452755905, 198.75375, 'venue_New Wanderers Stadium <= 0.5\\ngini = 0.495\\nsamples = 91\\nvalue = [41, 50]\\nclass = Win'),\n",
       " Text(359.3909940944882, 188.56125, 'team1_Deccan Chargers <= 0.5\\ngini = 0.494\\nsamples = 90\\nvalue = [40, 50]\\nclass = Win'),\n",
       " Text(333.2347440944882, 178.36875, 'team2_Kings XI Punjab <= 0.5\\ngini = 0.497\\nsamples = 82\\nvalue = [38, 44]\\nclass = Win'),\n",
       " Text(300.69389763779526, 168.17625, 'venue_Eden Gardens <= 0.5\\ngini = 0.49\\nsamples = 70\\nvalue = [30, 40]\\nclass = Win'),\n",
       " Text(268.56496062992125, 157.98375000000001, 'venue_JSCA International Stadium Complex <= 0.5\\ngini = 0.48\\nsamples = 55\\nvalue = [22, 33]\\nclass = Win'),\n",
       " Text(261.9744094488189, 147.79125, 'team2_Kochi Tuskers Kerala <= 0.5\\ngini = 0.483\\nsamples = 54\\nvalue = [22, 32]\\nclass = Win'),\n",
       " Text(255.38385826771653, 137.59875, 'venue_Wankhede Stadium <= 0.5\\ngini = 0.486\\nsamples = 53\\nvalue = [22, 31]\\nclass = Win'),\n",
       " Text(224.0787401574803, 127.40625, 'team2_Royal Challengers Bangalore <= 0.5\\ngini = 0.472\\nsamples = 42\\nvalue = [16, 26]\\nclass = Win'),\n",
       " Text(194.42125984251967, 117.21375, 'venue_Sardar Patel Stadium, Motera <= 0.5\\ngini = 0.426\\nsamples = 26\\nvalue = [8, 18]\\nclass = Win'),\n",
       " Text(187.8307086614173, 107.02125000000001, 'team1_Royal Challengers Bangalore <= 0.5\\ngini = 0.403\\nsamples = 25\\nvalue = [7, 18]\\nclass = Win'),\n",
       " Text(174.6496062992126, 96.82875000000001, 'venue_Sawai Mansingh Stadium <= 0.5\\ngini = 0.245\\nsamples = 14\\nvalue = [2, 12]\\nclass = Win'),\n",
       " Text(168.05905511811022, 86.63625000000002, 'team1_Sunrisers Hyderabad <= 0.5\\ngini = 0.153\\nsamples = 12\\nvalue = [1, 11]\\nclass = Win'),\n",
       " Text(161.46850393700788, 76.44375000000002, 'gini = 0.0\\nsamples = 9\\nvalue = [0, 9]\\nclass = Win'),\n",
       " Text(174.6496062992126, 76.44375000000002, 'venue_Rajiv Gandhi International Stadium, Uppal <= 0.5\\ngini = 0.444\\nsamples = 3\\nvalue = [1, 2]\\nclass = Win'),\n",
       " Text(168.05905511811022, 66.25125000000003, 'gini = 0.0\\nsamples = 2\\nvalue = [0, 2]\\nclass = Win'),\n",
       " Text(181.24015748031496, 66.25125000000003, 'gini = 0.0\\nsamples = 1\\nvalue = [1, 0]\\nclass = Loose'),\n",
       " Text(181.24015748031496, 86.63625000000002, 'gini = 0.5\\nsamples = 2\\nvalue = [1, 1]\\nclass = Loose'),\n",
       " Text(201.01181102362204, 96.82875000000001, 'toss_winner_Kolkata Knight Riders <= 0.5\\ngini = 0.496\\nsamples = 11\\nvalue = [5, 6]\\nclass = Win'),\n",
       " Text(194.42125984251967, 86.63625000000002, 'venue_M Chinnaswamy Stadium <= 0.5\\ngini = 0.469\\nsamples = 8\\nvalue = [5, 3]\\nclass = Loose'),\n",
       " Text(187.8307086614173, 76.44375000000002, 'gini = 0.0\\nsamples = 1\\nvalue = [1, 0]\\nclass = Loose'),\n",
       " Text(201.01181102362204, 76.44375000000002, 'team2_Sunrisers Hyderabad <= 0.5\\ngini = 0.49\\nsamples = 7\\nvalue = [4, 3]\\nclass = Loose'),\n",
       " Text(194.42125984251967, 66.25125000000003, 'gini = 0.5\\nsamples = 4\\nvalue = [2, 2]\\nclass = Loose'),\n",
       " Text(207.60236220472441, 66.25125000000003, 'gini = 0.444\\nsamples = 3\\nvalue = [2, 1]\\nclass = Loose'),\n",
       " Text(207.60236220472441, 86.63625000000002, 'gini = 0.0\\nsamples = 3\\nvalue = [0, 3]\\nclass = Win'),\n",
       " Text(201.01181102362204, 107.02125000000001, 'gini = 0.0\\nsamples = 1\\nvalue = [1, 0]\\nclass = Loose'),\n",
       " Text(253.73622047244095, 117.21375, 'venue_Rajiv Gandhi International Stadium, Uppal <= 0.5\\ngini = 0.5\\nsamples = 16\\nvalue = [8, 8]\\nclass = Loose'),\n",
       " Text(247.14566929133858, 107.02125000000001, 'venue_Maharashtra Cricket Association Stadium <= 0.5\\ngini = 0.49\\nsamples = 14\\nvalue = [6, 8]\\nclass = Win'),\n",
       " Text(240.5551181102362, 96.82875000000001, 'venue_Dubai International Cricket Stadium <= 0.5\\ngini = 0.473\\nsamples = 13\\nvalue = [5, 8]\\nclass = Win'),\n",
       " Text(233.96456692913387, 86.63625000000002, 'team1_Mumbai Indians <= 0.5\\ngini = 0.486\\nsamples = 12\\nvalue = [5, 7]\\nclass = Win'),\n",
       " Text(227.3740157480315, 76.44375000000002, 'venue_Sardar Patel Stadium, Motera <= 0.5\\ngini = 0.463\\nsamples = 11\\nvalue = [4, 7]\\nclass = Win'),\n",
       " Text(220.78346456692913, 66.25125000000003, 'team1_Sunrisers Hyderabad <= 0.5\\ngini = 0.48\\nsamples = 10\\nvalue = [4, 6]\\nclass = Win'),\n",
       " Text(214.19291338582676, 56.05875000000003, 'team1_Rising Pune Supergiant <= 0.5\\ngini = 0.494\\nsamples = 9\\nvalue = [4, 5]\\nclass = Win'),\n",
       " Text(207.60236220472441, 45.866250000000036, 'venue_M Chinnaswamy Stadium <= 0.5\\ngini = 0.5\\nsamples = 8\\nvalue = [4, 4]\\nclass = Loose'),\n",
       " Text(201.01181102362204, 35.67375000000004, 'gini = 0.5\\nsamples = 2\\nvalue = [1, 1]\\nclass = Loose'),\n",
       " Text(214.19291338582676, 35.67375000000004, 'team1_Rajasthan Royals <= 0.5\\ngini = 0.5\\nsamples = 6\\nvalue = [3, 3]\\nclass = Loose'),\n",
       " Text(207.60236220472441, 25.481250000000045, 'gini = 0.5\\nsamples = 4\\nvalue = [2, 2]\\nclass = Loose'),\n",
       " Text(220.78346456692913, 25.481250000000045, 'gini = 0.5\\nsamples = 2\\nvalue = [1, 1]\\nclass = Loose'),\n",
       " Text(220.78346456692913, 45.866250000000036, 'gini = 0.0\\nsamples = 1\\nvalue = [0, 1]\\nclass = Win'),\n",
       " Text(227.3740157480315, 56.05875000000003, 'gini = 0.0\\nsamples = 1\\nvalue = [0, 1]\\nclass = Win'),\n",
       " Text(233.96456692913387, 66.25125000000003, 'gini = 0.0\\nsamples = 1\\nvalue = [0, 1]\\nclass = Win'),\n",
       " Text(240.5551181102362, 76.44375000000002, 'gini = 0.0\\nsamples = 1\\nvalue = [1, 0]\\nclass = Loose'),\n",
       " Text(247.14566929133858, 86.63625000000002, 'gini = 0.0\\nsamples = 1\\nvalue = [0, 1]\\nclass = Win'),\n",
       " Text(253.73622047244095, 96.82875000000001, 'gini = 0.0\\nsamples = 1\\nvalue = [1, 0]\\nclass = Loose'),\n",
       " Text(260.3267716535433, 107.02125000000001, 'gini = 0.0\\nsamples = 2\\nvalue = [2, 0]\\nclass = Loose'),\n",
       " Text(286.68897637795277, 127.40625, 'toss_winner_Kolkata Knight Riders <= 0.5\\ngini = 0.496\\nsamples = 11\\nvalue = [6, 5]\\nclass = Loose'),\n",
       " Text(280.09842519685037, 117.21375, 'team1_Rising Pune Supergiant <= 0.5\\ngini = 0.494\\nsamples = 9\\nvalue = [4, 5]\\nclass = Win'),\n",
       " Text(273.50787401574803, 107.02125000000001, 'team1_Sunrisers Hyderabad <= 0.5\\ngini = 0.408\\nsamples = 7\\nvalue = [2, 5]\\nclass = Win'),\n",
       " Text(266.9173228346457, 96.82875000000001, 'team1_Kolkata Knight Riders <= 0.5\\ngini = 0.32\\nsamples = 5\\nvalue = [1, 4]\\nclass = Win'),\n",
       " Text(260.3267716535433, 86.63625000000002, 'gini = 0.0\\nsamples = 2\\nvalue = [0, 2]\\nclass = Win'),\n",
       " Text(273.50787401574803, 86.63625000000002, 'gini = 0.444\\nsamples = 3\\nvalue = [1, 2]\\nclass = Win'),\n",
       " Text(280.09842519685037, 96.82875000000001, 'gini = 0.5\\nsamples = 2\\nvalue = [1, 1]\\nclass = Loose'),\n",
       " Text(286.68897637795277, 107.02125000000001, 'gini = 0.0\\nsamples = 2\\nvalue = [2, 0]\\nclass = Loose'),\n",
       " Text(293.2795275590551, 117.21375, 'gini = 0.0\\nsamples = 2\\nvalue = [2, 0]\\nclass = Loose'),\n",
       " Text(268.56496062992125, 137.59875, 'gini = 0.0\\nsamples = 1\\nvalue = [0, 1]\\nclass = Win'),\n",
       " Text(275.15551181102364, 147.79125, 'gini = 0.0\\nsamples = 1\\nvalue = [0, 1]\\nclass = Win'),\n",
       " Text(332.8228346456693, 157.98375000000001, 'team1_Mumbai Indians <= 0.5\\ngini = 0.498\\nsamples = 15\\nvalue = [8, 7]\\nclass = Loose'),\n",
       " Text(326.23228346456693, 147.79125, 'team2_Sunrisers Hyderabad <= 0.5\\ngini = 0.497\\nsamples = 13\\nvalue = [6, 7]\\nclass = Win'),\n",
       " Text(319.64173228346453, 137.59875, 'toss_winner_Royal Challengers Bangalore <= 0.5\\ngini = 0.444\\nsamples = 9\\nvalue = [3, 6]\\nclass = Win'),\n",
       " Text(313.0511811023622, 127.40625, 'team1_Sunrisers Hyderabad <= 0.5\\ngini = 0.32\\nsamples = 5\\nvalue = [1, 4]\\nclass = Win'),\n",
       " Text(306.46062992125985, 117.21375, 'gini = 0.0\\nsamples = 3\\nvalue = [0, 3]\\nclass = Win'),\n",
       " Text(319.64173228346453, 117.21375, 'gini = 0.5\\nsamples = 2\\nvalue = [1, 1]\\nclass = Loose'),\n",
       " Text(326.23228346456693, 127.40625, 'gini = 0.5\\nsamples = 4\\nvalue = [2, 2]\\nclass = Loose'),\n",
       " Text(332.8228346456693, 137.59875, 'gini = 0.375\\nsamples = 4\\nvalue = [3, 1]\\nclass = Loose'),\n",
       " Text(339.4133858267717, 147.79125, 'gini = 0.0\\nsamples = 2\\nvalue = [2, 0]\\nclass = Loose'),\n",
       " Text(365.7755905511811, 168.17625, 'team1_Sunrisers Hyderabad <= 0.5\\ngini = 0.444\\nsamples = 12\\nvalue = [8, 4]\\nclass = Loose'),\n",
       " Text(359.18503937007875, 157.98375000000001, 'team1_Royal Challengers Bangalore <= 0.5\\ngini = 0.397\\nsamples = 11\\nvalue = [8, 3]\\nclass = Loose'),\n",
       " Text(352.59448818897636, 147.79125, 'gini = 0.0\\nsamples = 5\\nvalue = [5, 0]\\nclass = Loose'),\n",
       " Text(365.7755905511811, 147.79125, 'venue_M Chinnaswamy Stadium <= 0.5\\ngini = 0.5\\nsamples = 6\\nvalue = [3, 3]\\nclass = Loose'),\n",
       " Text(359.18503937007875, 137.59875, 'gini = 0.5\\nsamples = 2\\nvalue = [1, 1]\\nclass = Loose'),\n",
       " Text(372.36614173228344, 137.59875, 'gini = 0.5\\nsamples = 4\\nvalue = [2, 2]\\nclass = Loose'),\n",
       " Text(372.36614173228344, 157.98375000000001, 'gini = 0.0\\nsamples = 1\\nvalue = [0, 1]\\nclass = Win'),\n",
       " Text(385.5472440944882, 178.36875, 'team2_Royal Challengers Bangalore <= 0.5\\ngini = 0.375\\nsamples = 8\\nvalue = [2, 6]\\nclass = Win'),\n",
       " Text(378.95669291338584, 168.17625, 'gini = 0.0\\nsamples = 6\\nvalue = [0, 6]\\nclass = Win'),\n",
       " Text(392.1377952755905, 168.17625, 'gini = 0.0\\nsamples = 2\\nvalue = [2, 0]\\nclass = Loose'),\n",
       " Text(372.5720964566929, 188.56125, 'gini = 0.0\\nsamples = 1\\nvalue = [1, 0]\\nclass = Loose'),\n",
       " Text(379.16264763779526, 198.75375, 'gini = 0.0\\nsamples = 1\\nvalue = [1, 0]\\nclass = Loose'),\n",
       " Text(385.7531988188976, 208.94625000000002, 'gini = 0.0\\nsamples = 2\\nvalue = [2, 0]\\nclass = Loose'),\n",
       " Text(392.34375, 219.13875000000002, 'gini = 0.0\\nsamples = 2\\nvalue = [0, 2]\\nclass = Win'),\n",
       " Text(418.5, 229.33125, 'team2_Mumbai Indians <= 0.5\\ngini = 0.401\\nsamples = 18\\nvalue = [5, 13]\\nclass = Win'),\n",
       " Text(411.9094488188976, 219.13875000000002, 'venue_Maharashtra Cricket Association Stadium <= 0.5\\ngini = 0.36\\nsamples = 17\\nvalue = [4, 13]\\nclass = Win'),\n",
       " Text(405.31889763779526, 208.94625000000002, 'venue_Feroz Shah Kotla <= 0.5\\ngini = 0.305\\nsamples = 16\\nvalue = [3, 13]\\nclass = Win'),\n",
       " Text(398.7283464566929, 198.75375, 'gini = 0.0\\nsamples = 8\\nvalue = [0, 8]\\nclass = Win'),\n",
       " Text(411.9094488188976, 198.75375, 'team2_Kolkata Knight Riders <= 0.5\\ngini = 0.469\\nsamples = 8\\nvalue = [3, 5]\\nclass = Win'),\n",
       " Text(405.31889763779526, 188.56125, 'team2_Royal Challengers Bangalore <= 0.5\\ngini = 0.32\\nsamples = 5\\nvalue = [1, 4]\\nclass = Win'),\n",
       " Text(398.7283464566929, 178.36875, 'gini = 0.0\\nsamples = 2\\nvalue = [0, 2]\\nclass = Win'),\n",
       " Text(411.9094488188976, 178.36875, 'gini = 0.444\\nsamples = 3\\nvalue = [1, 2]\\nclass = Win'),\n",
       " Text(418.5, 188.56125, 'gini = 0.444\\nsamples = 3\\nvalue = [2, 1]\\nclass = Loose'),\n",
       " Text(418.5, 208.94625000000002, 'gini = 0.0\\nsamples = 1\\nvalue = [1, 0]\\nclass = Loose'),\n",
       " Text(425.09055118110234, 219.13875000000002, 'gini = 0.0\\nsamples = 1\\nvalue = [1, 0]\\nclass = Loose'),\n",
       " Text(464.6338582677165, 239.52375, 'venue_New Wanderers Stadium <= 0.5\\ngini = 0.48\\nsamples = 10\\nvalue = [6, 4]\\nclass = Loose'),\n",
       " Text(458.04330708661416, 229.33125, 'team1_Pune Warriors <= 0.5\\ngini = 0.444\\nsamples = 9\\nvalue = [6, 3]\\nclass = Loose'),\n",
       " Text(451.4527559055118, 219.13875000000002, 'team1_Delhi Capitals <= 0.5\\ngini = 0.375\\nsamples = 8\\nvalue = [6, 2]\\nclass = Loose'),\n",
       " Text(444.8622047244094, 208.94625000000002, 'venue_Rajiv Gandhi International Stadium, Uppal <= 0.5\\ngini = 0.444\\nsamples = 6\\nvalue = [4, 2]\\nclass = Loose'),\n",
       " Text(438.2716535433071, 198.75375, 'team1_Kolkata Knight Riders <= 0.5\\ngini = 0.48\\nsamples = 5\\nvalue = [3, 2]\\nclass = Loose'),\n",
       " Text(431.68110236220474, 188.56125, 'venue_M Chinnaswamy Stadium <= 0.5\\ngini = 0.5\\nsamples = 4\\nvalue = [2, 2]\\nclass = Loose'),\n",
       " Text(425.09055118110234, 178.36875, 'gini = 0.5\\nsamples = 2\\nvalue = [1, 1]\\nclass = Loose'),\n",
       " Text(438.2716535433071, 178.36875, 'gini = 0.5\\nsamples = 2\\nvalue = [1, 1]\\nclass = Loose'),\n",
       " Text(444.8622047244094, 188.56125, 'gini = 0.0\\nsamples = 1\\nvalue = [1, 0]\\nclass = Loose'),\n",
       " Text(451.4527559055118, 198.75375, 'gini = 0.0\\nsamples = 1\\nvalue = [1, 0]\\nclass = Loose'),\n",
       " Text(458.04330708661416, 208.94625000000002, 'gini = 0.0\\nsamples = 2\\nvalue = [2, 0]\\nclass = Loose'),\n",
       " Text(464.6338582677165, 219.13875000000002, 'gini = 0.0\\nsamples = 1\\nvalue = [0, 1]\\nclass = Win'),\n",
       " Text(471.2244094488189, 229.33125, 'gini = 0.0\\nsamples = 1\\nvalue = [0, 1]\\nclass = Win'),\n",
       " Text(446.5613312007874, 249.71625, 'gini = 0.0\\nsamples = 1\\nvalue = [1, 0]\\nclass = Loose'),\n",
       " Text(490.996062992126, 259.90875, 'venue_Rajiv Gandhi International Stadium, Uppal <= 0.5\\ngini = 0.408\\nsamples = 14\\nvalue = [4, 10]\\nclass = Win'),\n",
       " Text(484.4055118110236, 249.71625, 'venue_M Chinnaswamy Stadium <= 0.5\\ngini = 0.278\\nsamples = 12\\nvalue = [2, 10]\\nclass = Win'),\n",
       " Text(477.81496062992125, 239.52375, 'gini = 0.0\\nsamples = 9\\nvalue = [0, 9]\\nclass = Win'),\n",
       " Text(490.996062992126, 239.52375, 'toss_winner_Royal Challengers Bangalore <= 0.5\\ngini = 0.444\\nsamples = 3\\nvalue = [2, 1]\\nclass = Loose'),\n",
       " Text(484.4055118110236, 229.33125, 'gini = 0.0\\nsamples = 1\\nvalue = [1, 0]\\nclass = Loose'),\n",
       " Text(497.5866141732283, 229.33125, 'gini = 0.5\\nsamples = 2\\nvalue = [1, 1]\\nclass = Loose'),\n",
       " Text(497.5866141732283, 249.71625, 'gini = 0.0\\nsamples = 2\\nvalue = [2, 0]\\nclass = Loose'),\n",
       " Text(523.9488188976378, 270.10125, 'toss_winner_Deccan Chargers <= 0.5\\ngini = 0.444\\nsamples = 6\\nvalue = [4, 2]\\nclass = Loose'),\n",
       " Text(517.3582677165355, 259.90875, 'toss_winner_Mumbai Indians <= 0.5\\ngini = 0.32\\nsamples = 5\\nvalue = [4, 1]\\nclass = Loose'),\n",
       " Text(510.76771653543307, 249.71625, 'gini = 0.0\\nsamples = 2\\nvalue = [2, 0]\\nclass = Loose'),\n",
       " Text(523.9488188976378, 249.71625, 'team1_Royal Challengers Bangalore <= 0.5\\ngini = 0.444\\nsamples = 3\\nvalue = [2, 1]\\nclass = Loose'),\n",
       " Text(517.3582677165355, 239.52375, 'gini = 0.5\\nsamples = 2\\nvalue = [1, 1]\\nclass = Loose'),\n",
       " Text(530.5393700787401, 239.52375, 'gini = 0.0\\nsamples = 1\\nvalue = [1, 0]\\nclass = Loose'),\n",
       " Text(530.5393700787401, 259.90875, 'gini = 0.0\\nsamples = 1\\nvalue = [0, 1]\\nclass = Win'),\n",
       " Text(507.89722256397636, 280.29375, 'gini = 0.0\\nsamples = 1\\nvalue = [1, 0]\\nclass = Loose'),\n",
       " Text(514.4877737450787, 290.48625, 'gini = 0.0\\nsamples = 2\\nvalue = [0, 2]\\nclass = Win'),\n",
       " Text(521.078324926181, 300.67875, 'gini = 0.0\\nsamples = 2\\nvalue = [2, 0]\\nclass = Loose'),\n",
       " Text(596.4448818897638, 310.87125000000003, 'venue_Sardar Patel Stadium, Motera <= 0.5\\ngini = 0.408\\nsamples = 28\\nvalue = [8, 20]\\nclass = Win'),\n",
       " Text(589.8543307086615, 300.67875, 'venue_Brabourne Stadium <= 0.5\\ngini = 0.384\\nsamples = 27\\nvalue = [7, 20]\\nclass = Win'),\n",
       " Text(583.263779527559, 290.48625, 'team1_Chennai Super Kings <= 0.5\\ngini = 0.355\\nsamples = 26\\nvalue = [6, 20]\\nclass = Win'),\n",
       " Text(570.0826771653543, 280.29375, 'venue_Eden Gardens <= 0.5\\ngini = 0.298\\nsamples = 22\\nvalue = [4, 18]\\nclass = Win'),\n",
       " Text(563.492125984252, 270.10125, 'venue_Wankhede Stadium <= 0.5\\ngini = 0.255\\nsamples = 20\\nvalue = [3, 17]\\nclass = Win'),\n",
       " Text(556.9015748031496, 259.90875, 'venue_Feroz Shah Kotla <= 0.5\\ngini = 0.198\\nsamples = 18\\nvalue = [2, 16]\\nclass = Win'),\n",
       " Text(550.3110236220473, 249.71625, 'team1_Royal Challengers Bangalore <= 0.5\\ngini = 0.124\\nsamples = 15\\nvalue = [1, 14]\\nclass = Win'),\n",
       " Text(543.7204724409448, 239.52375, 'gini = 0.0\\nsamples = 10\\nvalue = [0, 10]\\nclass = Win'),\n",
       " Text(556.9015748031496, 239.52375, 'venue_Sawai Mansingh Stadium <= 0.5\\ngini = 0.32\\nsamples = 5\\nvalue = [1, 4]\\nclass = Win'),\n",
       " Text(550.3110236220473, 229.33125, 'gini = 0.0\\nsamples = 3\\nvalue = [0, 3]\\nclass = Win'),\n",
       " Text(563.492125984252, 229.33125, 'gini = 0.5\\nsamples = 2\\nvalue = [1, 1]\\nclass = Loose'),\n",
       " Text(563.492125984252, 249.71625, 'gini = 0.444\\nsamples = 3\\nvalue = [1, 2]\\nclass = Win'),\n",
       " Text(570.0826771653543, 259.90875, 'gini = 0.5\\nsamples = 2\\nvalue = [1, 1]\\nclass = Loose'),\n",
       " Text(576.6732283464567, 270.10125, 'gini = 0.5\\nsamples = 2\\nvalue = [1, 1]\\nclass = Loose'),\n",
       " Text(596.4448818897638, 280.29375, 'venue_Dr DY Patil Sports Academy <= 0.5\\ngini = 0.5\\nsamples = 4\\nvalue = [2, 2]\\nclass = Loose'),\n",
       " Text(589.8543307086615, 270.10125, 'venue_SuperSport Park <= 0.5\\ngini = 0.444\\nsamples = 3\\nvalue = [2, 1]\\nclass = Loose'),\n",
       " Text(583.263779527559, 259.90875, 'gini = 0.5\\nsamples = 2\\nvalue = [1, 1]\\nclass = Loose'),\n",
       " Text(596.4448818897638, 259.90875, 'gini = 0.0\\nsamples = 1\\nvalue = [1, 0]\\nclass = Loose'),\n",
       " Text(603.0354330708661, 270.10125, 'gini = 0.0\\nsamples = 1\\nvalue = [0, 1]\\nclass = Win'),\n",
       " Text(596.4448818897638, 290.48625, 'gini = 0.0\\nsamples = 1\\nvalue = [1, 0]\\nclass = Loose'),\n",
       " Text(603.0354330708661, 300.67875, 'gini = 0.0\\nsamples = 1\\nvalue = [1, 0]\\nclass = Loose'),\n",
       " Text(616.2165354330708, 321.06375, 'team1_Royal Challengers Bangalore <= 0.5\\ngini = 0.245\\nsamples = 7\\nvalue = [1, 6]\\nclass = Win'),\n",
       " Text(609.6259842519685, 310.87125000000003, 'gini = 0.0\\nsamples = 6\\nvalue = [0, 6]\\nclass = Win'),\n",
       " Text(622.8070866141732, 310.87125000000003, 'gini = 0.0\\nsamples = 1\\nvalue = [1, 0]\\nclass = Loose'),\n",
       " Text(649.1692913385826, 331.25625, 'venue_Newlands <= 0.5\\ngini = 0.375\\nsamples = 20\\nvalue = [5, 15]\\nclass = Win'),\n",
       " Text(642.5787401574803, 321.06375, 'venue_Rajiv Gandhi International Stadium, Uppal <= 0.5\\ngini = 0.332\\nsamples = 19\\nvalue = [4, 15]\\nclass = Win'),\n",
       " Text(635.988188976378, 310.87125000000003, 'team1_Mumbai Indians <= 0.5\\ngini = 0.278\\nsamples = 18\\nvalue = [3, 15]\\nclass = Win'),\n",
       " Text(622.8070866141732, 300.67875, 'venue_Feroz Shah Kotla <= 0.5\\ngini = 0.142\\nsamples = 13\\nvalue = [1, 12]\\nclass = Win'),\n",
       " Text(616.2165354330708, 290.48625, 'gini = 0.0\\nsamples = 10\\nvalue = [0, 10]\\nclass = Win'),\n",
       " Text(629.3976377952756, 290.48625, 'gini = 0.444\\nsamples = 3\\nvalue = [1, 2]\\nclass = Win'),\n",
       " Text(649.1692913385826, 300.67875, 'venue_Eden Gardens <= 0.5\\ngini = 0.48\\nsamples = 5\\nvalue = [2, 3]\\nclass = Win'),\n",
       " Text(642.5787401574803, 290.48625, 'venue_Wankhede Stadium <= 0.5\\ngini = 0.375\\nsamples = 4\\nvalue = [1, 3]\\nclass = Win'),\n",
       " Text(635.988188976378, 280.29375, 'gini = 0.0\\nsamples = 1\\nvalue = [0, 1]\\nclass = Win'),\n",
       " Text(649.1692913385826, 280.29375, 'gini = 0.444\\nsamples = 3\\nvalue = [1, 2]\\nclass = Win'),\n",
       " Text(655.759842519685, 290.48625, 'gini = 0.0\\nsamples = 1\\nvalue = [1, 0]\\nclass = Loose'),\n",
       " Text(649.1692913385826, 310.87125000000003, 'gini = 0.0\\nsamples = 1\\nvalue = [1, 0]\\nclass = Loose'),\n",
       " Text(655.759842519685, 321.06375, 'gini = 0.0\\nsamples = 1\\nvalue = [1, 0]\\nclass = Loose'),\n",
       " Text(718.3700787401575, 341.44875, 'venue_Maharashtra Cricket Association Stadium <= 0.5\\ngini = 0.485\\nsamples = 29\\nvalue = [17, 12]\\nclass = Loose'),\n",
       " Text(711.779527559055, 331.25625, 'toss_winner_Kolkata Knight Riders <= 0.5\\ngini = 0.466\\nsamples = 27\\nvalue = [17, 10]\\nclass = Loose'),\n",
       " Text(698.5984251968504, 321.06375, 'venue_Brabourne Stadium <= 0.5\\ngini = 0.408\\nsamples = 21\\nvalue = [15, 6]\\nclass = Loose'),\n",
       " Text(692.007874015748, 310.87125000000003, 'toss_winner_Mumbai Indians <= 0.5\\ngini = 0.375\\nsamples = 20\\nvalue = [15, 5]\\nclass = Loose'),\n",
       " Text(685.4173228346457, 300.67875, 'venue_Himachal Pradesh Cricket Association Stadium <= 0.5\\ngini = 0.444\\nsamples = 15\\nvalue = [10, 5]\\nclass = Loose'),\n",
       " Text(678.8267716535433, 290.48625, 'team2_Royal Challengers Bangalore <= 0.5\\ngini = 0.408\\nsamples = 14\\nvalue = [10, 4]\\nclass = Loose'),\n",
       " Text(662.3503937007874, 280.29375, 'team2_Sunrisers Hyderabad <= 0.5\\ngini = 0.32\\nsamples = 10\\nvalue = [8, 2]\\nclass = Loose'),\n",
       " Text(649.1692913385826, 270.10125, 'toss_winner_Gujarat Lions <= 0.5\\ngini = 0.219\\nsamples = 8\\nvalue = [7, 1]\\nclass = Loose'),\n",
       " Text(642.5787401574803, 259.90875, 'gini = 0.0\\nsamples = 6\\nvalue = [6, 0]\\nclass = Loose'),\n",
       " Text(655.759842519685, 259.90875, 'venue_Punjab Cricket Association IS Bindra Stadium, Mohali <= 0.5\\ngini = 0.5\\nsamples = 2\\nvalue = [1, 1]\\nclass = Loose'),\n",
       " Text(649.1692913385826, 249.71625, 'gini = 0.0\\nsamples = 1\\nvalue = [1, 0]\\nclass = Loose'),\n",
       " Text(662.3503937007874, 249.71625, 'gini = 0.0\\nsamples = 1\\nvalue = [0, 1]\\nclass = Win'),\n",
       " Text(675.5314960629921, 270.10125, 'venue_Sharjah Cricket Stadium <= 0.5\\ngini = 0.5\\nsamples = 2\\nvalue = [1, 1]\\nclass = Loose'),\n",
       " Text(668.9409448818898, 259.90875, 'gini = 0.0\\nsamples = 1\\nvalue = [0, 1]\\nclass = Win'),\n",
       " Text(682.1220472440945, 259.90875, 'gini = 0.0\\nsamples = 1\\nvalue = [1, 0]\\nclass = Loose'),\n",
       " Text(695.3031496062991, 280.29375, 'venue_M Chinnaswamy Stadium <= 0.5\\ngini = 0.5\\nsamples = 4\\nvalue = [2, 2]\\nclass = Loose'),\n",
       " Text(688.7125984251968, 270.10125, 'gini = 0.5\\nsamples = 2\\nvalue = [1, 1]\\nclass = Loose'),\n",
       " Text(701.8937007874016, 270.10125, 'gini = 0.5\\nsamples = 2\\nvalue = [1, 1]\\nclass = Loose'),\n",
       " Text(692.007874015748, 290.48625, 'gini = 0.0\\nsamples = 1\\nvalue = [0, 1]\\nclass = Win'),\n",
       " Text(698.5984251968504, 300.67875, 'gini = 0.0\\nsamples = 5\\nvalue = [5, 0]\\nclass = Loose'),\n",
       " Text(705.1889763779527, 310.87125000000003, 'gini = 0.0\\nsamples = 1\\nvalue = [0, 1]\\nclass = Win'),\n",
       " Text(724.9606299212599, 321.06375, 'venue_Sheikh Zayed Stadium <= 0.5\\ngini = 0.444\\nsamples = 6\\nvalue = [2, 4]\\nclass = Win'),\n",
       " Text(718.3700787401575, 310.87125000000003, 'venue_Punjab Cricket Association IS Bindra Stadium, Mohali <= 0.5\\ngini = 0.32\\nsamples = 5\\nvalue = [1, 4]\\nclass = Win'),\n",
       " Text(711.779527559055, 300.67875, 'gini = 0.0\\nsamples = 3\\nvalue = [0, 3]\\nclass = Win'),\n",
       " Text(724.9606299212599, 300.67875, 'gini = 0.5\\nsamples = 2\\nvalue = [1, 1]\\nclass = Loose'),\n",
       " Text(731.5511811023622, 310.87125000000003, 'gini = 0.0\\nsamples = 1\\nvalue = [1, 0]\\nclass = Loose'),\n",
       " Text(724.9606299212599, 331.25625, 'gini = 0.0\\nsamples = 2\\nvalue = [0, 2]\\nclass = Win'),\n",
       " Text(777.6850393700787, 351.64125, 'venue_MA Chidambaram Stadium, Chepauk <= 0.5\\ngini = 0.493\\nsamples = 34\\nvalue = [19, 15]\\nclass = Loose'),\n",
       " Text(771.0944881889764, 341.44875, 'venue_Rajiv Gandhi International Stadium, Uppal <= 0.5\\ngini = 0.498\\nsamples = 32\\nvalue = [17, 15]\\nclass = Loose'),\n",
       " Text(764.503937007874, 331.25625, 'team1_Kings XI Punjab <= 0.5\\ngini = 0.495\\nsamples = 31\\nvalue = [17, 14]\\nclass = Loose'),\n",
       " Text(751.3228346456692, 321.06375, 'venue_Sardar Patel Stadium, Motera <= 0.5\\ngini = 0.48\\nsamples = 25\\nvalue = [15, 10]\\nclass = Loose'),\n",
       " Text(744.7322834645669, 310.87125000000003, 'team1_Sunrisers Hyderabad <= 0.5\\ngini = 0.469\\nsamples = 24\\nvalue = [15, 9]\\nclass = Loose'),\n",
       " Text(738.1417322834645, 300.67875, 'venue_SuperSport Park <= 0.5\\ngini = 0.454\\nsamples = 23\\nvalue = [15, 8]\\nclass = Loose'),\n",
       " Text(731.5511811023622, 290.48625, 'team1_Rajasthan Royals <= 0.5\\ngini = 0.434\\nsamples = 22\\nvalue = [15, 7]\\nclass = Loose'),\n",
       " Text(724.9606299212599, 280.29375, 'venue_Maharashtra Cricket Association Stadium <= 0.5\\ngini = 0.455\\nsamples = 20\\nvalue = [13, 7]\\nclass = Loose'),\n",
       " Text(718.3700787401575, 270.10125, 'venue_Dr. Y.S. Rajasekhara Reddy ACA-VDCA Cricket Stadium <= 0.5\\ngini = 0.465\\nsamples = 19\\nvalue = [12, 7]\\nclass = Loose'),\n",
       " Text(711.779527559055, 259.90875, 'venue_New Wanderers Stadium <= 0.5\\ngini = 0.475\\nsamples = 18\\nvalue = [11, 7]\\nclass = Loose'),\n",
       " Text(705.1889763779527, 249.71625, 'team1_Chennai Super Kings <= 0.5\\ngini = 0.484\\nsamples = 17\\nvalue = [10, 7]\\nclass = Loose'),\n",
       " Text(698.5984251968504, 239.52375, 'venue_Feroz Shah Kotla <= 0.5\\ngini = 0.469\\nsamples = 16\\nvalue = [10, 6]\\nclass = Loose'),\n",
       " Text(685.4173228346457, 229.33125, 'team1_Pune Warriors <= 0.5\\ngini = 0.496\\nsamples = 11\\nvalue = [6, 5]\\nclass = Loose'),\n",
       " Text(678.8267716535433, 219.13875000000002, 'venue_Dr DY Patil Sports Academy <= 0.5\\ngini = 0.48\\nsamples = 10\\nvalue = [6, 4]\\nclass = Loose'),\n",
       " Text(672.2362204724409, 208.94625000000002, 'venue_Wankhede Stadium <= 0.5\\ngini = 0.494\\nsamples = 9\\nvalue = [5, 4]\\nclass = Loose'),\n",
       " Text(665.6456692913385, 198.75375, 'venue_Eden Gardens <= 0.5\\ngini = 0.5\\nsamples = 6\\nvalue = [3, 3]\\nclass = Loose'),\n",
       " Text(659.0551181102362, 188.56125, 'gini = 0.5\\nsamples = 4\\nvalue = [2, 2]\\nclass = Loose'),\n",
       " Text(672.2362204724409, 188.56125, 'gini = 0.5\\nsamples = 2\\nvalue = [1, 1]\\nclass = Loose'),\n",
       " Text(678.8267716535433, 198.75375, 'gini = 0.444\\nsamples = 3\\nvalue = [2, 1]\\nclass = Loose'),\n",
       " Text(685.4173228346457, 208.94625000000002, 'gini = 0.0\\nsamples = 1\\nvalue = [1, 0]\\nclass = Loose'),\n",
       " Text(692.007874015748, 219.13875000000002, 'gini = 0.0\\nsamples = 1\\nvalue = [0, 1]\\nclass = Win'),\n",
       " Text(711.779527559055, 229.33125, 'team1_Mumbai Indians <= 0.5\\ngini = 0.32\\nsamples = 5\\nvalue = [4, 1]\\nclass = Loose'),\n",
       " Text(705.1889763779527, 219.13875000000002, 'gini = 0.0\\nsamples = 3\\nvalue = [3, 0]\\nclass = Loose'),\n",
       " Text(718.3700787401575, 219.13875000000002, 'gini = 0.5\\nsamples = 2\\nvalue = [1, 1]\\nclass = Loose'),\n",
       " Text(711.779527559055, 239.52375, 'gini = 0.0\\nsamples = 1\\nvalue = [0, 1]\\nclass = Win'),\n",
       " Text(718.3700787401575, 249.71625, 'gini = 0.0\\nsamples = 1\\nvalue = [1, 0]\\nclass = Loose'),\n",
       " Text(724.9606299212599, 259.90875, 'gini = 0.0\\nsamples = 1\\nvalue = [1, 0]\\nclass = Loose'),\n",
       " Text(731.5511811023622, 270.10125, 'gini = 0.0\\nsamples = 1\\nvalue = [1, 0]\\nclass = Loose'),\n",
       " Text(738.1417322834645, 280.29375, 'gini = 0.0\\nsamples = 2\\nvalue = [2, 0]\\nclass = Loose'),\n",
       " Text(744.7322834645669, 290.48625, 'gini = 0.0\\nsamples = 1\\nvalue = [0, 1]\\nclass = Win'),\n",
       " Text(751.3228346456692, 300.67875, 'gini = 0.0\\nsamples = 1\\nvalue = [0, 1]\\nclass = Win'),\n",
       " Text(757.9133858267717, 310.87125000000003, 'gini = 0.0\\nsamples = 1\\nvalue = [0, 1]\\nclass = Win'),\n",
       " Text(777.6850393700787, 321.06375, 'venue_Himachal Pradesh Cricket Association Stadium <= 0.5\\ngini = 0.444\\nsamples = 6\\nvalue = [2, 4]\\nclass = Win'),\n",
       " Text(771.0944881889764, 310.87125000000003, 'venue_Newlands <= 0.5\\ngini = 0.48\\nsamples = 5\\nvalue = [2, 3]\\nclass = Win'),\n",
       " Text(764.503937007874, 300.67875, 'venue_Punjab Cricket Association IS Bindra Stadium, Mohali <= 0.5\\ngini = 0.5\\nsamples = 4\\nvalue = [2, 2]\\nclass = Loose'),\n",
       " Text(757.9133858267717, 290.48625, 'gini = 0.5\\nsamples = 2\\nvalue = [1, 1]\\nclass = Loose'),\n",
       " Text(771.0944881889764, 290.48625, 'gini = 0.5\\nsamples = 2\\nvalue = [1, 1]\\nclass = Loose'),\n",
       " Text(777.6850393700787, 300.67875, 'gini = 0.0\\nsamples = 1\\nvalue = [0, 1]\\nclass = Win'),\n",
       " Text(784.275590551181, 310.87125000000003, 'gini = 0.0\\nsamples = 1\\nvalue = [0, 1]\\nclass = Win'),\n",
       " Text(777.6850393700787, 331.25625, 'gini = 0.0\\nsamples = 1\\nvalue = [0, 1]\\nclass = Win'),\n",
       " Text(784.275590551181, 341.44875, 'gini = 0.0\\nsamples = 2\\nvalue = [2, 0]\\nclass = Loose'),\n",
       " Text(797.4566929133858, 361.83375, 'toss_winner_Delhi Capitals <= 0.5\\ngini = 0.219\\nsamples = 8\\nvalue = [1, 7]\\nclass = Win'),\n",
       " Text(790.8661417322835, 351.64125, 'gini = 0.0\\nsamples = 5\\nvalue = [0, 5]\\nclass = Win'),\n",
       " Text(804.0472440944882, 351.64125, 'venue_Green Park <= 0.5\\ngini = 0.444\\nsamples = 3\\nvalue = [1, 2]\\nclass = Win'),\n",
       " Text(797.4566929133858, 341.44875, 'gini = 0.5\\nsamples = 2\\nvalue = [1, 1]\\nclass = Loose'),\n",
       " Text(810.6377952755905, 341.44875, 'gini = 0.0\\nsamples = 1\\nvalue = [0, 1]\\nclass = Win'),\n",
       " Text(773.3151386891763, 372.02625, 'gini = 0.0\\nsamples = 5\\nvalue = [0, 5]\\nclass = Win'),\n",
       " Text(817.2283464566929, 392.41125, 'team1_Pune Warriors <= 0.5\\ngini = 0.305\\nsamples = 16\\nvalue = [13, 3]\\nclass = Loose'),\n",
       " Text(810.6377952755905, 382.21875, 'gini = 0.0\\nsamples = 8\\nvalue = [8, 0]\\nclass = Loose'),\n",
       " Text(823.8188976377952, 382.21875, 'venue_MA Chidambaram Stadium, Chepauk <= 0.5\\ngini = 0.469\\nsamples = 8\\nvalue = [5, 3]\\nclass = Loose'),\n",
       " Text(817.2283464566929, 372.02625, 'venue_Maharashtra Cricket Association Stadium <= 0.5\\ngini = 0.408\\nsamples = 7\\nvalue = [5, 2]\\nclass = Loose'),\n",
       " Text(810.6377952755905, 361.83375, 'gini = 0.0\\nsamples = 3\\nvalue = [3, 0]\\nclass = Loose'),\n",
       " Text(823.8188976377952, 361.83375, 'team2_Kings XI Punjab <= 0.5\\ngini = 0.5\\nsamples = 4\\nvalue = [2, 2]\\nclass = Loose'),\n",
       " Text(817.2283464566929, 351.64125, 'gini = 0.5\\nsamples = 2\\nvalue = [1, 1]\\nclass = Loose'),\n",
       " Text(830.4094488188977, 351.64125, 'gini = 0.5\\nsamples = 2\\nvalue = [1, 1]\\nclass = Loose'),\n",
       " Text(830.4094488188977, 372.02625, 'gini = 0.0\\nsamples = 1\\nvalue = [0, 1]\\nclass = Win')]"
      ]
     },
     "execution_count": 54,
     "metadata": {},
     "output_type": "execute_result"
    },
    {
     "data": {
      "image/png": "[encoded data removed]",
      "text/plain": [
       "<Figure size 1080x540 with 1 Axes>"
      ]
     },
     "metadata": {
      "needs_background": "light"
     },
     "output_type": "display_data"
    }
   ],
   "source": [
    "plt.figure(figsize = (15,7.5))\n",
    "plot_tree(clt_ipl, filled = True, rounded = True, class_names = [\"Loose\", 'Win'], feature_names = X.columns)"
   ]
  },
  {
   "cell_type": "code",
   "execution_count": 55,
   "metadata": {
    "ExecuteTime": {
     "end_time": "2020-09-18T21:53:50.790781Z",
     "start_time": "2020-09-18T21:53:50.488589Z"
    },
    "scrolled": true
   },
   "outputs": [
    {
     "data": {
      "text/plain": [
       "<sklearn.metrics._plot.confusion_matrix.ConfusionMatrixDisplay at 0x24c8c0e4240>"
      ]
     },
     "execution_count": 55,
     "metadata": {},
     "output_type": "execute_result"
    },
    {
     "data": {
      "image/png": "[encoded data removed]",
      "text/plain": [
       "<Figure size 432x288 with 2 Axes>"
      ]
     },
     "metadata": {
      "needs_background": "light"
     },
     "output_type": "display_data"
    }
   ],
   "source": [
    "plot_confusion_matrix(clt_ipl, X_cv, y_cv)"
   ]
  },
  {
   "cell_type": "code",
   "execution_count": 56,
   "metadata": {
    "ExecuteTime": {
     "end_time": "2020-09-18T21:53:51.066065Z",
     "start_time": "2020-09-18T21:53:50.792822Z"
    }
   },
   "outputs": [
    {
     "data": {
      "text/plain": [
       "<sklearn.metrics._plot.confusion_matrix.ConfusionMatrixDisplay at 0x24c8bb098d0>"
      ]
     },
     "execution_count": 56,
     "metadata": {},
     "output_type": "execute_result"
    },
    {
     "data": {
      "image/png": "[encoded data removed]",
      "text/plain": [
       "<Figure size 432x288 with 2 Axes>"
      ]
     },
     "metadata": {
      "needs_background": "light"
     },
     "output_type": "display_data"
    }
   ],
   "source": [
    "plot_confusion_matrix(clt_ipl, X_2019, y_2019)"
   ]
  },
  {
   "cell_type": "code",
   "execution_count": 57,
   "metadata": {
    "ExecuteTime": {
     "end_time": "2020-09-18T21:53:51.077017Z",
     "start_time": "2020-09-18T21:53:51.069038Z"
    }
   },
   "outputs": [],
   "source": [
    "pred = clt_ipl.predict(X_cv)"
   ]
  },
  {
   "cell_type": "code",
   "execution_count": 58,
   "metadata": {
    "ExecuteTime": {
     "end_time": "2020-09-18T21:53:51.085992Z",
     "start_time": "2020-09-18T21:53:51.080009Z"
    }
   },
   "outputs": [],
   "source": [
    "score = accuracy_score(y_cv, pred)"
   ]
  },
  {
   "cell_type": "code",
   "execution_count": 59,
   "metadata": {
    "ExecuteTime": {
     "end_time": "2020-09-18T21:53:51.094969Z",
     "start_time": "2020-09-18T21:53:51.088985Z"
    }
   },
   "outputs": [
    {
     "data": {
      "text/plain": [
       "0.5432692307692307"
      ]
     },
     "execution_count": 59,
     "metadata": {},
     "output_type": "execute_result"
    }
   ],
   "source": [
    "score"
   ]
  },
  {
   "cell_type": "code",
   "execution_count": 60,
   "metadata": {
    "ExecuteTime": {
     "end_time": "2020-09-18T21:53:51.107934Z",
     "start_time": "2020-09-18T21:53:51.097960Z"
    }
   },
   "outputs": [],
   "source": [
    "pred_2019 = clt_ipl.predict(X_2019)"
   ]
  },
  {
   "cell_type": "code",
   "execution_count": 61,
   "metadata": {
    "ExecuteTime": {
     "end_time": "2020-09-18T21:53:51.118903Z",
     "start_time": "2020-09-18T21:53:51.110925Z"
    }
   },
   "outputs": [
    {
     "data": {
      "text/plain": [
       "0.5932203389830508"
      ]
     },
     "execution_count": 61,
     "metadata": {},
     "output_type": "execute_result"
    }
   ],
   "source": [
    "accuracy_score(y_2019, pred_2019)"
   ]
  },
  {
   "cell_type": "markdown",
   "metadata": {},
   "source": [
    "### Cost Complexity Pruning"
   ]
  },
  {
   "cell_type": "code",
   "execution_count": 62,
   "metadata": {
    "ExecuteTime": {
     "end_time": "2020-09-18T21:53:51.145857Z",
     "start_time": "2020-09-18T21:53:51.121895Z"
    }
   },
   "outputs": [],
   "source": [
    "path = clt_ipl.cost_complexity_pruning_path(X_train, y_train)\n",
    "ccp_alphas = path.ccp_alphas\n",
    "ccp_alphas = ccp_alphas[:-1]"
   ]
  },
  {
   "cell_type": "code",
   "execution_count": 63,
   "metadata": {
    "ExecuteTime": {
     "end_time": "2020-09-18T21:53:51.170769Z",
     "start_time": "2020-09-18T21:53:51.148834Z"
    }
   },
   "outputs": [],
   "source": [
    "clf_dts = []\n",
    "for ccp_alpha in ccp_alphas:\n",
    "    if ccp_alpha < 0:\n",
    "        break\n",
    "    else:\n",
    "        clt_ipl = DecisionTreeClassifier(ccp_alpha = ccp_alpha)\n",
    "        clt_ipl.fit(X_train, y_train)\n",
    "        clf_dts.append(clt_ipl)"
   ]
  },
  {
   "cell_type": "code",
   "execution_count": 64,
   "metadata": {
    "ExecuteTime": {
     "end_time": "2020-09-18T21:53:51.177745Z",
     "start_time": "2020-09-18T21:53:51.172771Z"
    }
   },
   "outputs": [],
   "source": [
    "# train_scores = [clt_ipl.score(X_train, y_train) for clf_dt in clf_dts]\n",
    "# test_scores = [clt_ipl.score(X_cv, y_cv) for clf_dt in clf_dts]\n",
    "\n",
    "# fig, ax = plt.subplots()\n",
    "# ax.set_xlabel(\"alpha\")\n",
    "# ax.set_ylabel(\"accuracy\")\n",
    "# ax.plot(ccp_alphas, train_scores, marker = 'o', label = \"Train\", drawstyle = \"steps-post\")\n",
    "# ax.plot(ccp_alphas, test_scores, marker = 'o', label = \"Test\", drawstyle = \"steps-post\")\n",
    "# ax.legend()\n",
    "# plt.show()"
   ]
  },
  {
   "cell_type": "markdown",
   "metadata": {},
   "source": [
    "## Random Forest"
   ]
  },
  {
   "cell_type": "code",
   "execution_count": 65,
   "metadata": {
    "ExecuteTime": {
     "end_time": "2020-09-18T21:53:51.210659Z",
     "start_time": "2020-09-18T21:53:51.180737Z"
    }
   },
   "outputs": [],
   "source": [
    "from sklearn.ensemble import RandomForestClassifier"
   ]
  },
  {
   "cell_type": "code",
   "execution_count": 66,
   "metadata": {
    "ExecuteTime": {
     "end_time": "2020-09-18T21:53:51.218656Z",
     "start_time": "2020-09-18T21:53:51.213651Z"
    }
   },
   "outputs": [],
   "source": [
    "rf = RandomForestClassifier()"
   ]
  },
  {
   "cell_type": "code",
   "execution_count": 67,
   "metadata": {
    "ExecuteTime": {
     "end_time": "2020-09-18T21:53:51.597624Z",
     "start_time": "2020-09-18T21:53:51.231601Z"
    }
   },
   "outputs": [
    {
     "name": "stderr",
     "output_type": "stream",
     "text": [
      "C:\\Users\\yashc\\AppData\\Local\\Continuum\\anaconda3\\lib\\site-packages\\ipykernel_launcher.py:1: DataConversionWarning: A column-vector y was passed when a 1d array was expected. Please change the shape of y to (n_samples,), for example using ravel().\n",
      "  \"\"\"Entry point for launching an IPython kernel.\n"
     ]
    },
    {
     "data": {
      "text/plain": [
       "RandomForestClassifier()"
      ]
     },
     "execution_count": 67,
     "metadata": {},
     "output_type": "execute_result"
    }
   ],
   "source": [
    "rf.fit(X_train, y_train)"
   ]
  },
  {
   "cell_type": "code",
   "execution_count": 68,
   "metadata": {
    "ExecuteTime": {
     "end_time": "2020-09-18T21:53:51.636518Z",
     "start_time": "2020-09-18T21:53:51.601613Z"
    }
   },
   "outputs": [],
   "source": [
    "pred_rf = rf.predict(X_cv)"
   ]
  },
  {
   "cell_type": "code",
   "execution_count": 69,
   "metadata": {
    "ExecuteTime": {
     "end_time": "2020-09-18T21:53:51.647491Z",
     "start_time": "2020-09-18T21:53:51.639510Z"
    }
   },
   "outputs": [
    {
     "data": {
      "text/plain": [
       "0.5769230769230769"
      ]
     },
     "execution_count": 69,
     "metadata": {},
     "output_type": "execute_result"
    }
   ],
   "source": [
    "accuracy_score(y_cv, pred_rf)"
   ]
  },
  {
   "cell_type": "code",
   "execution_count": 70,
   "metadata": {
    "ExecuteTime": {
     "end_time": "2020-09-18T21:53:51.684390Z",
     "start_time": "2020-09-18T21:53:51.650483Z"
    }
   },
   "outputs": [],
   "source": [
    "pred_rf_2019 = rf.predict(X_2019)"
   ]
  },
  {
   "cell_type": "code",
   "execution_count": 71,
   "metadata": {
    "ExecuteTime": {
     "end_time": "2020-09-18T21:53:51.695362Z",
     "start_time": "2020-09-18T21:53:51.686386Z"
    }
   },
   "outputs": [
    {
     "data": {
      "text/plain": [
       "0.6271186440677966"
      ]
     },
     "execution_count": 71,
     "metadata": {},
     "output_type": "execute_result"
    }
   ],
   "source": [
    "accuracy_score(y_2019, pred_rf_2019)"
   ]
  },
  {
   "cell_type": "code",
   "execution_count": 72,
   "metadata": {
    "ExecuteTime": {
     "end_time": "2020-09-18T21:53:52.118231Z",
     "start_time": "2020-09-18T21:53:51.699349Z"
    }
   },
   "outputs": [
    {
     "name": "stderr",
     "output_type": "stream",
     "text": [
      "C:\\Users\\yashc\\AppData\\Local\\Continuum\\anaconda3\\lib\\site-packages\\ipykernel_launcher.py:1: DataConversionWarning: A column-vector y was passed when a 1d array was expected. Please change the shape of y to (n_samples,), for example using ravel().\n",
      "  \"\"\"Entry point for launching an IPython kernel.\n"
     ]
    },
    {
     "data": {
      "text/plain": [
       "RandomForestClassifier()"
      ]
     },
     "execution_count": 72,
     "metadata": {},
     "output_type": "execute_result"
    }
   ],
   "source": [
    "rf.fit(X, y)"
   ]
  },
  {
   "cell_type": "code",
   "execution_count": 73,
   "metadata": {
    "ExecuteTime": {
     "end_time": "2020-09-18T21:53:52.152156Z",
     "start_time": "2020-09-18T21:53:52.121225Z"
    }
   },
   "outputs": [],
   "source": [
    "pred_final = rf.predict(X_2019)"
   ]
  },
  {
   "cell_type": "code",
   "execution_count": 74,
   "metadata": {
    "ExecuteTime": {
     "end_time": "2020-09-18T21:53:52.163119Z",
     "start_time": "2020-09-18T21:53:52.154147Z"
    }
   },
   "outputs": [
    {
     "data": {
      "text/plain": [
       "0.576271186440678"
      ]
     },
     "execution_count": 74,
     "metadata": {},
     "output_type": "execute_result"
    }
   ],
   "source": [
    "accuracy_score(y_2019, pred_final)"
   ]
  },
  {
   "cell_type": "code",
   "execution_count": 75,
   "metadata": {
    "ExecuteTime": {
     "end_time": "2020-09-18T21:53:52.206993Z",
     "start_time": "2020-09-18T21:53:52.167101Z"
    }
   },
   "outputs": [
    {
     "data": {
      "text/html": [
       "<div>\n",
       "<style scoped>\n",
       "    .dataframe tbody tr th:only-of-type {\n",
       "        vertical-align: middle;\n",
       "    }\n",
       "\n",
       "    .dataframe tbody tr th {\n",
       "        vertical-align: top;\n",
       "    }\n",
       "\n",
       "    .dataframe thead th {\n",
       "        text-align: right;\n",
       "    }\n",
       "</style>\n",
       "<table border=\"1\" class=\"dataframe\">\n",
       "  <thead>\n",
       "    <tr style=\"text-align: right;\">\n",
       "      <th></th>\n",
       "      <th>id</th>\n",
       "      <th>season</th>\n",
       "      <th>city</th>\n",
       "      <th>date</th>\n",
       "      <th>team1</th>\n",
       "      <th>team2</th>\n",
       "      <th>toss_winner</th>\n",
       "      <th>toss_decision</th>\n",
       "      <th>dl_applied</th>\n",
       "      <th>winner</th>\n",
       "      <th>venue</th>\n",
       "      <th>Result</th>\n",
       "    </tr>\n",
       "  </thead>\n",
       "  <tbody>\n",
       "    <tr>\n",
       "      <th>0</th>\n",
       "      <td>1</td>\n",
       "      <td>2017</td>\n",
       "      <td>Hyderabad</td>\n",
       "      <td>2017-04-05</td>\n",
       "      <td>Sunrisers Hyderabad</td>\n",
       "      <td>Royal Challengers Bangalore</td>\n",
       "      <td>Royal Challengers Bangalore</td>\n",
       "      <td>1</td>\n",
       "      <td>0</td>\n",
       "      <td>Sunrisers Hyderabad</td>\n",
       "      <td>Rajiv Gandhi International Stadium, Uppal</td>\n",
       "      <td>0</td>\n",
       "    </tr>\n",
       "    <tr>\n",
       "      <th>1</th>\n",
       "      <td>2</td>\n",
       "      <td>2017</td>\n",
       "      <td>Pune</td>\n",
       "      <td>2017-04-06</td>\n",
       "      <td>Mumbai Indians</td>\n",
       "      <td>Rising Pune Supergiant</td>\n",
       "      <td>Rising Pune Supergiant</td>\n",
       "      <td>1</td>\n",
       "      <td>0</td>\n",
       "      <td>Rising Pune Supergiant</td>\n",
       "      <td>Maharashtra Cricket Association Stadium</td>\n",
       "      <td>1</td>\n",
       "    </tr>\n",
       "    <tr>\n",
       "      <th>2</th>\n",
       "      <td>3</td>\n",
       "      <td>2017</td>\n",
       "      <td>Rajkot</td>\n",
       "      <td>2017-04-07</td>\n",
       "      <td>Gujarat Lions</td>\n",
       "      <td>Kolkata Knight Riders</td>\n",
       "      <td>Kolkata Knight Riders</td>\n",
       "      <td>1</td>\n",
       "      <td>0</td>\n",
       "      <td>Kolkata Knight Riders</td>\n",
       "      <td>Saurashtra Cricket Association Stadium</td>\n",
       "      <td>1</td>\n",
       "    </tr>\n",
       "    <tr>\n",
       "      <th>3</th>\n",
       "      <td>4</td>\n",
       "      <td>2017</td>\n",
       "      <td>Indore</td>\n",
       "      <td>2017-04-08</td>\n",
       "      <td>Rising Pune Supergiant</td>\n",
       "      <td>Kings XI Punjab</td>\n",
       "      <td>Kings XI Punjab</td>\n",
       "      <td>1</td>\n",
       "      <td>0</td>\n",
       "      <td>Kings XI Punjab</td>\n",
       "      <td>Holkar Cricket Stadium</td>\n",
       "      <td>1</td>\n",
       "    </tr>\n",
       "    <tr>\n",
       "      <th>4</th>\n",
       "      <td>5</td>\n",
       "      <td>2017</td>\n",
       "      <td>Bangalore</td>\n",
       "      <td>2017-04-08</td>\n",
       "      <td>Royal Challengers Bangalore</td>\n",
       "      <td>Delhi Capitals</td>\n",
       "      <td>Royal Challengers Bangalore</td>\n",
       "      <td>0</td>\n",
       "      <td>0</td>\n",
       "      <td>Royal Challengers Bangalore</td>\n",
       "      <td>M Chinnaswamy Stadium</td>\n",
       "      <td>1</td>\n",
       "    </tr>\n",
       "    <tr>\n",
       "      <th>...</th>\n",
       "      <td>...</td>\n",
       "      <td>...</td>\n",
       "      <td>...</td>\n",
       "      <td>...</td>\n",
       "      <td>...</td>\n",
       "      <td>...</td>\n",
       "      <td>...</td>\n",
       "      <td>...</td>\n",
       "      <td>...</td>\n",
       "      <td>...</td>\n",
       "      <td>...</td>\n",
       "      <td>...</td>\n",
       "    </tr>\n",
       "    <tr>\n",
       "      <th>751</th>\n",
       "      <td>11347</td>\n",
       "      <td>2019</td>\n",
       "      <td>Mumbai</td>\n",
       "      <td>05/05/19</td>\n",
       "      <td>Kolkata Knight Riders</td>\n",
       "      <td>Mumbai Indians</td>\n",
       "      <td>Mumbai Indians</td>\n",
       "      <td>1</td>\n",
       "      <td>0</td>\n",
       "      <td>Mumbai Indians</td>\n",
       "      <td>Wankhede Stadium</td>\n",
       "      <td>1</td>\n",
       "    </tr>\n",
       "    <tr>\n",
       "      <th>752</th>\n",
       "      <td>11412</td>\n",
       "      <td>2019</td>\n",
       "      <td>Chennai</td>\n",
       "      <td>07/05/19</td>\n",
       "      <td>Chennai Super Kings</td>\n",
       "      <td>Mumbai Indians</td>\n",
       "      <td>Chennai Super Kings</td>\n",
       "      <td>0</td>\n",
       "      <td>0</td>\n",
       "      <td>Mumbai Indians</td>\n",
       "      <td>MA Chidambaram Stadium, Chepauk</td>\n",
       "      <td>0</td>\n",
       "    </tr>\n",
       "    <tr>\n",
       "      <th>753</th>\n",
       "      <td>11413</td>\n",
       "      <td>2019</td>\n",
       "      <td>Visakhapatnam</td>\n",
       "      <td>08/05/19</td>\n",
       "      <td>Sunrisers Hyderabad</td>\n",
       "      <td>Delhi Capitals</td>\n",
       "      <td>Delhi Capitals</td>\n",
       "      <td>1</td>\n",
       "      <td>0</td>\n",
       "      <td>Delhi Capitals</td>\n",
       "      <td>Dr. Y.S. Rajasekhara Reddy ACA-VDCA Cricket St...</td>\n",
       "      <td>1</td>\n",
       "    </tr>\n",
       "    <tr>\n",
       "      <th>754</th>\n",
       "      <td>11414</td>\n",
       "      <td>2019</td>\n",
       "      <td>Visakhapatnam</td>\n",
       "      <td>10/05/19</td>\n",
       "      <td>Delhi Capitals</td>\n",
       "      <td>Chennai Super Kings</td>\n",
       "      <td>Chennai Super Kings</td>\n",
       "      <td>1</td>\n",
       "      <td>0</td>\n",
       "      <td>Chennai Super Kings</td>\n",
       "      <td>Dr. Y.S. Rajasekhara Reddy ACA-VDCA Cricket St...</td>\n",
       "      <td>1</td>\n",
       "    </tr>\n",
       "    <tr>\n",
       "      <th>755</th>\n",
       "      <td>11415</td>\n",
       "      <td>2019</td>\n",
       "      <td>Hyderabad</td>\n",
       "      <td>12/05/19</td>\n",
       "      <td>Mumbai Indians</td>\n",
       "      <td>Chennai Super Kings</td>\n",
       "      <td>Mumbai Indians</td>\n",
       "      <td>0</td>\n",
       "      <td>0</td>\n",
       "      <td>Mumbai Indians</td>\n",
       "      <td>Rajiv Gandhi International Stadium, Uppal</td>\n",
       "      <td>1</td>\n",
       "    </tr>\n",
       "  </tbody>\n",
       "</table>\n",
       "<p>752 rows × 12 columns</p>\n",
       "</div>"
      ],
      "text/plain": [
       "        id  season           city        date                        team1  \\\n",
       "0        1    2017      Hyderabad  2017-04-05          Sunrisers Hyderabad   \n",
       "1        2    2017           Pune  2017-04-06               Mumbai Indians   \n",
       "2        3    2017         Rajkot  2017-04-07                Gujarat Lions   \n",
       "3        4    2017         Indore  2017-04-08       Rising Pune Supergiant   \n",
       "4        5    2017      Bangalore  2017-04-08  Royal Challengers Bangalore   \n",
       "..     ...     ...            ...         ...                          ...   \n",
       "751  11347    2019         Mumbai    05/05/19        Kolkata Knight Riders   \n",
       "752  11412    2019        Chennai    07/05/19          Chennai Super Kings   \n",
       "753  11413    2019  Visakhapatnam    08/05/19          Sunrisers Hyderabad   \n",
       "754  11414    2019  Visakhapatnam    10/05/19               Delhi Capitals   \n",
       "755  11415    2019      Hyderabad    12/05/19               Mumbai Indians   \n",
       "\n",
       "                           team2                  toss_winner  toss_decision  \\\n",
       "0    Royal Challengers Bangalore  Royal Challengers Bangalore              1   \n",
       "1         Rising Pune Supergiant       Rising Pune Supergiant              1   \n",
       "2          Kolkata Knight Riders        Kolkata Knight Riders              1   \n",
       "3                Kings XI Punjab              Kings XI Punjab              1   \n",
       "4                 Delhi Capitals  Royal Challengers Bangalore              0   \n",
       "..                           ...                          ...            ...   \n",
       "751               Mumbai Indians               Mumbai Indians              1   \n",
       "752               Mumbai Indians          Chennai Super Kings              0   \n",
       "753               Delhi Capitals               Delhi Capitals              1   \n",
       "754          Chennai Super Kings          Chennai Super Kings              1   \n",
       "755          Chennai Super Kings               Mumbai Indians              0   \n",
       "\n",
       "     dl_applied                       winner  \\\n",
       "0             0          Sunrisers Hyderabad   \n",
       "1             0       Rising Pune Supergiant   \n",
       "2             0        Kolkata Knight Riders   \n",
       "3             0              Kings XI Punjab   \n",
       "4             0  Royal Challengers Bangalore   \n",
       "..          ...                          ...   \n",
       "751           0               Mumbai Indians   \n",
       "752           0               Mumbai Indians   \n",
       "753           0               Delhi Capitals   \n",
       "754           0          Chennai Super Kings   \n",
       "755           0               Mumbai Indians   \n",
       "\n",
       "                                                 venue  Result  \n",
       "0            Rajiv Gandhi International Stadium, Uppal       0  \n",
       "1              Maharashtra Cricket Association Stadium       1  \n",
       "2               Saurashtra Cricket Association Stadium       1  \n",
       "3                               Holkar Cricket Stadium       1  \n",
       "4                                M Chinnaswamy Stadium       1  \n",
       "..                                                 ...     ...  \n",
       "751                                   Wankhede Stadium       1  \n",
       "752                    MA Chidambaram Stadium, Chepauk       0  \n",
       "753  Dr. Y.S. Rajasekhara Reddy ACA-VDCA Cricket St...       1  \n",
       "754  Dr. Y.S. Rajasekhara Reddy ACA-VDCA Cricket St...       1  \n",
       "755          Rajiv Gandhi International Stadium, Uppal       1  \n",
       "\n",
       "[752 rows x 12 columns]"
      ]
     },
     "execution_count": 75,
     "metadata": {},
     "output_type": "execute_result"
    }
   ],
   "source": [
    "matches_final"
   ]
  },
  {
   "cell_type": "code",
   "execution_count": 76,
   "metadata": {
    "ExecuteTime": {
     "end_time": "2020-09-18T21:53:52.216966Z",
     "start_time": "2020-09-18T21:53:52.209986Z"
    }
   },
   "outputs": [],
   "source": [
    "df = matches_final.drop(['toss_winner', 'toss_decision', 'dl_applied', 'Result', 'date', 'city', 'id'], axis = 1)"
   ]
  },
  {
   "cell_type": "code",
   "execution_count": 77,
   "metadata": {
    "ExecuteTime": {
     "end_time": "2020-09-18T21:53:52.228937Z",
     "start_time": "2020-09-18T21:53:52.219960Z"
    }
   },
   "outputs": [],
   "source": [
    "df['Result'] = np.where(df['winner'] == df['team1'], 1, 0)"
   ]
  },
  {
   "cell_type": "code",
   "execution_count": 78,
   "metadata": {
    "ExecuteTime": {
     "end_time": "2020-09-18T21:53:52.239926Z",
     "start_time": "2020-09-18T21:53:52.231927Z"
    }
   },
   "outputs": [],
   "source": [
    "df.drop('winner', axis = 1, inplace = True)"
   ]
  },
  {
   "cell_type": "code",
   "execution_count": 79,
   "metadata": {
    "ExecuteTime": {
     "end_time": "2020-09-18T21:53:52.249876Z",
     "start_time": "2020-09-18T21:53:52.244908Z"
    }
   },
   "outputs": [],
   "source": [
    "df_1 = df.copy()"
   ]
  },
  {
   "cell_type": "code",
   "execution_count": 80,
   "metadata": {
    "ExecuteTime": {
     "end_time": "2020-09-18T21:53:52.271820Z",
     "start_time": "2020-09-18T21:53:52.252869Z"
    }
   },
   "outputs": [],
   "source": [
    "df = pd.get_dummies(df)"
   ]
  },
  {
   "cell_type": "code",
   "execution_count": 81,
   "metadata": {
    "ExecuteTime": {
     "end_time": "2020-09-18T21:53:52.305727Z",
     "start_time": "2020-09-18T21:53:52.274813Z"
    }
   },
   "outputs": [
    {
     "data": {
      "text/html": [
       "<div>\n",
       "<style scoped>\n",
       "    .dataframe tbody tr th:only-of-type {\n",
       "        vertical-align: middle;\n",
       "    }\n",
       "\n",
       "    .dataframe tbody tr th {\n",
       "        vertical-align: top;\n",
       "    }\n",
       "\n",
       "    .dataframe thead th {\n",
       "        text-align: right;\n",
       "    }\n",
       "</style>\n",
       "<table border=\"1\" class=\"dataframe\">\n",
       "  <thead>\n",
       "    <tr style=\"text-align: right;\">\n",
       "      <th></th>\n",
       "      <th>season</th>\n",
       "      <th>Result</th>\n",
       "      <th>team1_Chennai Super Kings</th>\n",
       "      <th>team1_Deccan Chargers</th>\n",
       "      <th>team1_Delhi Capitals</th>\n",
       "      <th>team1_Gujarat Lions</th>\n",
       "      <th>team1_Kings XI Punjab</th>\n",
       "      <th>team1_Kochi Tuskers Kerala</th>\n",
       "      <th>team1_Kolkata Knight Riders</th>\n",
       "      <th>team1_Mumbai Indians</th>\n",
       "      <th>...</th>\n",
       "      <th>venue_Sardar Patel Stadium, Motera</th>\n",
       "      <th>venue_Saurashtra Cricket Association Stadium</th>\n",
       "      <th>venue_Sawai Mansingh Stadium</th>\n",
       "      <th>venue_Shaheed Veer Narayan Singh International Stadium</th>\n",
       "      <th>venue_Sharjah Cricket Stadium</th>\n",
       "      <th>venue_Sheikh Zayed Stadium</th>\n",
       "      <th>venue_St George's Park</th>\n",
       "      <th>venue_SuperSport Park</th>\n",
       "      <th>venue_Vidarbha Cricket Association Stadium, Jamtha</th>\n",
       "      <th>venue_Wankhede Stadium</th>\n",
       "    </tr>\n",
       "  </thead>\n",
       "  <tbody>\n",
       "    <tr>\n",
       "      <th>0</th>\n",
       "      <td>2017</td>\n",
       "      <td>1</td>\n",
       "      <td>0</td>\n",
       "      <td>0</td>\n",
       "      <td>0</td>\n",
       "      <td>0</td>\n",
       "      <td>0</td>\n",
       "      <td>0</td>\n",
       "      <td>0</td>\n",
       "      <td>0</td>\n",
       "      <td>...</td>\n",
       "      <td>0</td>\n",
       "      <td>0</td>\n",
       "      <td>0</td>\n",
       "      <td>0</td>\n",
       "      <td>0</td>\n",
       "      <td>0</td>\n",
       "      <td>0</td>\n",
       "      <td>0</td>\n",
       "      <td>0</td>\n",
       "      <td>0</td>\n",
       "    </tr>\n",
       "    <tr>\n",
       "      <th>1</th>\n",
       "      <td>2017</td>\n",
       "      <td>0</td>\n",
       "      <td>0</td>\n",
       "      <td>0</td>\n",
       "      <td>0</td>\n",
       "      <td>0</td>\n",
       "      <td>0</td>\n",
       "      <td>0</td>\n",
       "      <td>0</td>\n",
       "      <td>1</td>\n",
       "      <td>...</td>\n",
       "      <td>0</td>\n",
       "      <td>0</td>\n",
       "      <td>0</td>\n",
       "      <td>0</td>\n",
       "      <td>0</td>\n",
       "      <td>0</td>\n",
       "      <td>0</td>\n",
       "      <td>0</td>\n",
       "      <td>0</td>\n",
       "      <td>0</td>\n",
       "    </tr>\n",
       "    <tr>\n",
       "      <th>2</th>\n",
       "      <td>2017</td>\n",
       "      <td>0</td>\n",
       "      <td>0</td>\n",
       "      <td>0</td>\n",
       "      <td>0</td>\n",
       "      <td>1</td>\n",
       "      <td>0</td>\n",
       "      <td>0</td>\n",
       "      <td>0</td>\n",
       "      <td>0</td>\n",
       "      <td>...</td>\n",
       "      <td>0</td>\n",
       "      <td>1</td>\n",
       "      <td>0</td>\n",
       "      <td>0</td>\n",
       "      <td>0</td>\n",
       "      <td>0</td>\n",
       "      <td>0</td>\n",
       "      <td>0</td>\n",
       "      <td>0</td>\n",
       "      <td>0</td>\n",
       "    </tr>\n",
       "    <tr>\n",
       "      <th>3</th>\n",
       "      <td>2017</td>\n",
       "      <td>0</td>\n",
       "      <td>0</td>\n",
       "      <td>0</td>\n",
       "      <td>0</td>\n",
       "      <td>0</td>\n",
       "      <td>0</td>\n",
       "      <td>0</td>\n",
       "      <td>0</td>\n",
       "      <td>0</td>\n",
       "      <td>...</td>\n",
       "      <td>0</td>\n",
       "      <td>0</td>\n",
       "      <td>0</td>\n",
       "      <td>0</td>\n",
       "      <td>0</td>\n",
       "      <td>0</td>\n",
       "      <td>0</td>\n",
       "      <td>0</td>\n",
       "      <td>0</td>\n",
       "      <td>0</td>\n",
       "    </tr>\n",
       "    <tr>\n",
       "      <th>4</th>\n",
       "      <td>2017</td>\n",
       "      <td>1</td>\n",
       "      <td>0</td>\n",
       "      <td>0</td>\n",
       "      <td>0</td>\n",
       "      <td>0</td>\n",
       "      <td>0</td>\n",
       "      <td>0</td>\n",
       "      <td>0</td>\n",
       "      <td>0</td>\n",
       "      <td>...</td>\n",
       "      <td>0</td>\n",
       "      <td>0</td>\n",
       "      <td>0</td>\n",
       "      <td>0</td>\n",
       "      <td>0</td>\n",
       "      <td>0</td>\n",
       "      <td>0</td>\n",
       "      <td>0</td>\n",
       "      <td>0</td>\n",
       "      <td>0</td>\n",
       "    </tr>\n",
       "  </tbody>\n",
       "</table>\n",
       "<p>5 rows × 61 columns</p>\n",
       "</div>"
      ],
      "text/plain": [
       "   season  Result  team1_Chennai Super Kings  team1_Deccan Chargers  \\\n",
       "0    2017       1                          0                      0   \n",
       "1    2017       0                          0                      0   \n",
       "2    2017       0                          0                      0   \n",
       "3    2017       0                          0                      0   \n",
       "4    2017       1                          0                      0   \n",
       "\n",
       "   team1_Delhi Capitals  team1_Gujarat Lions  team1_Kings XI Punjab  \\\n",
       "0                     0                    0                      0   \n",
       "1                     0                    0                      0   \n",
       "2                     0                    1                      0   \n",
       "3                     0                    0                      0   \n",
       "4                     0                    0                      0   \n",
       "\n",
       "   team1_Kochi Tuskers Kerala  team1_Kolkata Knight Riders  \\\n",
       "0                           0                            0   \n",
       "1                           0                            0   \n",
       "2                           0                            0   \n",
       "3                           0                            0   \n",
       "4                           0                            0   \n",
       "\n",
       "   team1_Mumbai Indians  ...  venue_Sardar Patel Stadium, Motera  \\\n",
       "0                     0  ...                                   0   \n",
       "1                     1  ...                                   0   \n",
       "2                     0  ...                                   0   \n",
       "3                     0  ...                                   0   \n",
       "4                     0  ...                                   0   \n",
       "\n",
       "   venue_Saurashtra Cricket Association Stadium  venue_Sawai Mansingh Stadium  \\\n",
       "0                                             0                             0   \n",
       "1                                             0                             0   \n",
       "2                                             1                             0   \n",
       "3                                             0                             0   \n",
       "4                                             0                             0   \n",
       "\n",
       "   venue_Shaheed Veer Narayan Singh International Stadium  \\\n",
       "0                                                  0        \n",
       "1                                                  0        \n",
       "2                                                  0        \n",
       "3                                                  0        \n",
       "4                                                  0        \n",
       "\n",
       "   venue_Sharjah Cricket Stadium  venue_Sheikh Zayed Stadium  \\\n",
       "0                              0                           0   \n",
       "1                              0                           0   \n",
       "2                              0                           0   \n",
       "3                              0                           0   \n",
       "4                              0                           0   \n",
       "\n",
       "   venue_St George's Park  venue_SuperSport Park  \\\n",
       "0                       0                      0   \n",
       "1                       0                      0   \n",
       "2                       0                      0   \n",
       "3                       0                      0   \n",
       "4                       0                      0   \n",
       "\n",
       "   venue_Vidarbha Cricket Association Stadium, Jamtha  venue_Wankhede Stadium  \n",
       "0                                                  0                        0  \n",
       "1                                                  0                        0  \n",
       "2                                                  0                        0  \n",
       "3                                                  0                        0  \n",
       "4                                                  0                        0  \n",
       "\n",
       "[5 rows x 61 columns]"
      ]
     },
     "execution_count": 81,
     "metadata": {},
     "output_type": "execute_result"
    }
   ],
   "source": [
    "df.head()"
   ]
  },
  {
   "cell_type": "code",
   "execution_count": 82,
   "metadata": {
    "ExecuteTime": {
     "end_time": "2020-09-18T21:53:52.318694Z",
     "start_time": "2020-09-18T21:53:52.308719Z"
    }
   },
   "outputs": [],
   "source": [
    "train_df = df[df['season'] <= 2018]\n",
    "test_df = df[df['season'] == 2019]"
   ]
  },
  {
   "cell_type": "code",
   "execution_count": 83,
   "metadata": {
    "ExecuteTime": {
     "end_time": "2020-09-18T21:53:52.331659Z",
     "start_time": "2020-09-18T21:53:52.322684Z"
    }
   },
   "outputs": [
    {
     "name": "stderr",
     "output_type": "stream",
     "text": [
      "C:\\Users\\yashc\\AppData\\Local\\Continuum\\anaconda3\\lib\\site-packages\\pandas\\core\\frame.py:4167: SettingWithCopyWarning: \n",
      "A value is trying to be set on a copy of a slice from a DataFrame\n",
      "\n",
      "See the caveats in the documentation: https://pandas.pydata.org/pandas-docs/stable/user_guide/indexing.html#returning-a-view-versus-a-copy\n",
      "  errors=errors,\n"
     ]
    }
   ],
   "source": [
    "train_df.drop(['season'], axis = 1, inplace = True)"
   ]
  },
  {
   "cell_type": "code",
   "execution_count": 84,
   "metadata": {
    "ExecuteTime": {
     "end_time": "2020-09-18T21:53:52.342632Z",
     "start_time": "2020-09-18T21:53:52.335648Z"
    }
   },
   "outputs": [],
   "source": [
    "test_df.drop(['season'], axis = 1, inplace = True)"
   ]
  },
  {
   "cell_type": "code",
   "execution_count": 85,
   "metadata": {
    "ExecuteTime": {
     "end_time": "2020-09-18T21:53:52.354617Z",
     "start_time": "2020-09-18T21:53:52.346620Z"
    }
   },
   "outputs": [],
   "source": [
    "X_2019= test_df.drop('Result', axis = 1)\n",
    "y_2019 = test_df[['Result']]"
   ]
  },
  {
   "cell_type": "code",
   "execution_count": 86,
   "metadata": {
    "ExecuteTime": {
     "end_time": "2020-09-18T21:53:52.365570Z",
     "start_time": "2020-09-18T21:53:52.357590Z"
    }
   },
   "outputs": [],
   "source": [
    "X_df = train_df.drop('Result', axis = 1)\n",
    "y_df = train_df[['Result']]"
   ]
  },
  {
   "cell_type": "code",
   "execution_count": 87,
   "metadata": {
    "ExecuteTime": {
     "end_time": "2020-09-18T21:53:52.376544Z",
     "start_time": "2020-09-18T21:53:52.368561Z"
    }
   },
   "outputs": [],
   "source": [
    "X_train, X_cv, y_train, y_cv = train_test_split(X_df, y_df, test_size = 0.3)"
   ]
  },
  {
   "cell_type": "markdown",
   "metadata": {},
   "source": [
    "### Logistic regression"
   ]
  },
  {
   "cell_type": "code",
   "execution_count": 88,
   "metadata": {
    "ExecuteTime": {
     "end_time": "2020-09-18T21:53:52.385514Z",
     "start_time": "2020-09-18T21:53:52.379565Z"
    }
   },
   "outputs": [],
   "source": [
    "model_df = LogisticRegression()"
   ]
  },
  {
   "cell_type": "code",
   "execution_count": 89,
   "metadata": {
    "ExecuteTime": {
     "end_time": "2020-09-18T21:53:52.421418Z",
     "start_time": "2020-09-18T21:53:52.389503Z"
    }
   },
   "outputs": [
    {
     "name": "stderr",
     "output_type": "stream",
     "text": [
      "C:\\Users\\yashc\\AppData\\Local\\Continuum\\anaconda3\\lib\\site-packages\\sklearn\\utils\\validation.py:72: DataConversionWarning: A column-vector y was passed when a 1d array was expected. Please change the shape of y to (n_samples, ), for example using ravel().\n",
      "  return f(**kwargs)\n"
     ]
    },
    {
     "data": {
      "text/plain": [
       "LogisticRegression()"
      ]
     },
     "execution_count": 89,
     "metadata": {},
     "output_type": "execute_result"
    }
   ],
   "source": [
    "model_df.fit(X_train, y_train)"
   ]
  },
  {
   "cell_type": "code",
   "execution_count": 90,
   "metadata": {
    "ExecuteTime": {
     "end_time": "2020-09-18T21:53:52.435379Z",
     "start_time": "2020-09-18T21:53:52.424409Z"
    }
   },
   "outputs": [],
   "source": [
    "pred_df = model_df.predict(X_cv)"
   ]
  },
  {
   "cell_type": "code",
   "execution_count": 91,
   "metadata": {
    "ExecuteTime": {
     "end_time": "2020-09-18T21:53:52.447347Z",
     "start_time": "2020-09-18T21:53:52.438371Z"
    }
   },
   "outputs": [
    {
     "data": {
      "text/plain": [
       "0.5865384615384616"
      ]
     },
     "execution_count": 91,
     "metadata": {},
     "output_type": "execute_result"
    }
   ],
   "source": [
    "accuracy_score(y_cv, pred_df)"
   ]
  },
  {
   "cell_type": "code",
   "execution_count": 92,
   "metadata": {
    "ExecuteTime": {
     "end_time": "2020-09-18T21:53:52.458321Z",
     "start_time": "2020-09-18T21:53:52.451336Z"
    }
   },
   "outputs": [],
   "source": [
    "pred_2019_df = model_df.predict(X_2019)"
   ]
  },
  {
   "cell_type": "code",
   "execution_count": 93,
   "metadata": {
    "ExecuteTime": {
     "end_time": "2020-09-18T21:53:52.470287Z",
     "start_time": "2020-09-18T21:53:52.462307Z"
    }
   },
   "outputs": [
    {
     "data": {
      "text/plain": [
       "0.576271186440678"
      ]
     },
     "execution_count": 93,
     "metadata": {},
     "output_type": "execute_result"
    }
   ],
   "source": [
    "accuracy_score(y_2019, pred_2019_df)"
   ]
  },
  {
   "cell_type": "markdown",
   "metadata": {},
   "source": [
    "### Decision Tree"
   ]
  },
  {
   "cell_type": "code",
   "execution_count": 94,
   "metadata": {
    "ExecuteTime": {
     "end_time": "2020-09-18T21:53:52.478264Z",
     "start_time": "2020-09-18T21:53:52.473281Z"
    }
   },
   "outputs": [],
   "source": [
    "dt = DecisionTreeClassifier()"
   ]
  },
  {
   "cell_type": "code",
   "execution_count": 95,
   "metadata": {
    "ExecuteTime": {
     "end_time": "2020-09-18T21:53:52.507189Z",
     "start_time": "2020-09-18T21:53:52.481256Z"
    }
   },
   "outputs": [
    {
     "data": {
      "text/plain": [
       "DecisionTreeClassifier()"
      ]
     },
     "execution_count": 95,
     "metadata": {},
     "output_type": "execute_result"
    }
   ],
   "source": [
    "dt.fit(X_train, y_train)"
   ]
  },
  {
   "cell_type": "code",
   "execution_count": 96,
   "metadata": {
    "ExecuteTime": {
     "end_time": "2020-09-18T21:53:52.519155Z",
     "start_time": "2020-09-18T21:53:52.510188Z"
    }
   },
   "outputs": [],
   "source": [
    "pred_df_dt = dt.predict(X_cv)"
   ]
  },
  {
   "cell_type": "code",
   "execution_count": 97,
   "metadata": {
    "ExecuteTime": {
     "end_time": "2020-09-18T21:53:52.530127Z",
     "start_time": "2020-09-18T21:53:52.522147Z"
    }
   },
   "outputs": [
    {
     "data": {
      "text/plain": [
       "0.5144230769230769"
      ]
     },
     "execution_count": 97,
     "metadata": {},
     "output_type": "execute_result"
    }
   ],
   "source": [
    "accuracy_score(y_cv, pred_df_dt)"
   ]
  },
  {
   "cell_type": "code",
   "execution_count": 98,
   "metadata": {
    "ExecuteTime": {
     "end_time": "2020-09-18T21:53:52.543094Z",
     "start_time": "2020-09-18T21:53:52.533119Z"
    }
   },
   "outputs": [],
   "source": [
    "pred_df_2019 = dt.predict(X_2019)"
   ]
  },
  {
   "cell_type": "code",
   "execution_count": 99,
   "metadata": {
    "ExecuteTime": {
     "end_time": "2020-09-18T21:53:52.554062Z",
     "start_time": "2020-09-18T21:53:52.546086Z"
    }
   },
   "outputs": [
    {
     "data": {
      "text/plain": [
       "0.5932203389830508"
      ]
     },
     "execution_count": 99,
     "metadata": {},
     "output_type": "execute_result"
    }
   ],
   "source": [
    "accuracy_score(y_2019, pred_df_2019)"
   ]
  },
  {
   "cell_type": "markdown",
   "metadata": {},
   "source": [
    "### Random Forest"
   ]
  },
  {
   "cell_type": "code",
   "execution_count": 100,
   "metadata": {
    "ExecuteTime": {
     "end_time": "2020-09-18T21:53:52.921082Z",
     "start_time": "2020-09-18T21:53:52.557057Z"
    }
   },
   "outputs": [
    {
     "name": "stderr",
     "output_type": "stream",
     "text": [
      "C:\\Users\\yashc\\AppData\\Local\\Continuum\\anaconda3\\lib\\site-packages\\ipykernel_launcher.py:1: DataConversionWarning: A column-vector y was passed when a 1d array was expected. Please change the shape of y to (n_samples,), for example using ravel().\n",
      "  \"\"\"Entry point for launching an IPython kernel.\n"
     ]
    },
    {
     "data": {
      "text/plain": [
       "RandomForestClassifier()"
      ]
     },
     "execution_count": 100,
     "metadata": {},
     "output_type": "execute_result"
    }
   ],
   "source": [
    "rf.fit(X_train, y_train)"
   ]
  },
  {
   "cell_type": "code",
   "execution_count": 101,
   "metadata": {
    "ExecuteTime": {
     "end_time": "2020-09-18T21:53:52.957983Z",
     "start_time": "2020-09-18T21:53:52.923089Z"
    }
   },
   "outputs": [],
   "source": [
    "pred_rf_df = rf.predict(X_cv)"
   ]
  },
  {
   "cell_type": "code",
   "execution_count": 102,
   "metadata": {
    "ExecuteTime": {
     "end_time": "2020-09-18T21:53:52.971947Z",
     "start_time": "2020-09-18T21:53:52.961974Z"
    }
   },
   "outputs": [
    {
     "data": {
      "text/plain": [
       "0.5192307692307693"
      ]
     },
     "execution_count": 102,
     "metadata": {},
     "output_type": "execute_result"
    }
   ],
   "source": [
    "accuracy_score(y_cv, pred_rf_df)"
   ]
  },
  {
   "cell_type": "code",
   "execution_count": 103,
   "metadata": {
    "ExecuteTime": {
     "end_time": "2020-09-18T21:53:53.006854Z",
     "start_time": "2020-09-18T21:53:52.974940Z"
    }
   },
   "outputs": [],
   "source": [
    "pred_rf_2019_df = rf.predict(X_2019)"
   ]
  },
  {
   "cell_type": "code",
   "execution_count": 104,
   "metadata": {
    "ExecuteTime": {
     "end_time": "2020-09-18T21:53:53.017825Z",
     "start_time": "2020-09-18T21:53:53.009861Z"
    }
   },
   "outputs": [
    {
     "data": {
      "text/plain": [
       "0.5254237288135594"
      ]
     },
     "execution_count": 104,
     "metadata": {},
     "output_type": "execute_result"
    }
   ],
   "source": [
    "accuracy_score(y_2019, pred_rf_2019_df)"
   ]
  },
  {
   "cell_type": "markdown",
   "metadata": {},
   "source": [
    "## Final"
   ]
  },
  {
   "cell_type": "code",
   "execution_count": 105,
   "metadata": {
    "ExecuteTime": {
     "end_time": "2020-09-18T21:53:53.415759Z",
     "start_time": "2020-09-18T21:53:53.021824Z"
    }
   },
   "outputs": [
    {
     "name": "stderr",
     "output_type": "stream",
     "text": [
      "C:\\Users\\yashc\\AppData\\Local\\Continuum\\anaconda3\\lib\\site-packages\\ipykernel_launcher.py:1: DataConversionWarning: A column-vector y was passed when a 1d array was expected. Please change the shape of y to (n_samples,), for example using ravel().\n",
      "  \"\"\"Entry point for launching an IPython kernel.\n"
     ]
    },
    {
     "data": {
      "text/plain": [
       "RandomForestClassifier()"
      ]
     },
     "execution_count": 105,
     "metadata": {},
     "output_type": "execute_result"
    }
   ],
   "source": [
    "rf.fit(X_df, y_df)"
   ]
  },
  {
   "cell_type": "code",
   "execution_count": 106,
   "metadata": {
    "ExecuteTime": {
     "end_time": "2020-09-18T21:53:53.447675Z",
     "start_time": "2020-09-18T21:53:53.418752Z"
    }
   },
   "outputs": [],
   "source": [
    "pred_final = rf.predict(X_2019)"
   ]
  },
  {
   "cell_type": "code",
   "execution_count": 107,
   "metadata": {
    "ExecuteTime": {
     "end_time": "2020-09-18T21:53:53.459642Z",
     "start_time": "2020-09-18T21:53:53.450666Z"
    }
   },
   "outputs": [
    {
     "data": {
      "text/plain": [
       "0.5932203389830508"
      ]
     },
     "execution_count": 107,
     "metadata": {},
     "output_type": "execute_result"
    }
   ],
   "source": [
    "accuracy_score(y_2019, pred_final)"
   ]
  },
  {
   "cell_type": "markdown",
   "metadata": {},
   "source": [
    "### IPL 2020 Data"
   ]
  },
  {
   "cell_type": "code",
   "execution_count": 108,
   "metadata": {
    "ExecuteTime": {
     "end_time": "2020-09-18T21:53:53.475597Z",
     "start_time": "2020-09-18T21:53:53.463631Z"
    }
   },
   "outputs": [],
   "source": [
    "ipl_2020 = pd.read_csv('ipl_2020.csv')"
   ]
  },
  {
   "cell_type": "code",
   "execution_count": 109,
   "metadata": {
    "ExecuteTime": {
     "end_time": "2020-09-18T21:53:53.499544Z",
     "start_time": "2020-09-18T21:53:53.479592Z"
    }
   },
   "outputs": [
    {
     "data": {
      "text/html": [
       "<div>\n",
       "<style scoped>\n",
       "    .dataframe tbody tr th:only-of-type {\n",
       "        vertical-align: middle;\n",
       "    }\n",
       "\n",
       "    .dataframe tbody tr th {\n",
       "        vertical-align: top;\n",
       "    }\n",
       "\n",
       "    .dataframe thead th {\n",
       "        text-align: right;\n",
       "    }\n",
       "</style>\n",
       "<table border=\"1\" class=\"dataframe\">\n",
       "  <thead>\n",
       "    <tr style=\"text-align: right;\">\n",
       "      <th></th>\n",
       "      <th>Round Number</th>\n",
       "      <th>Date</th>\n",
       "      <th>Location</th>\n",
       "      <th>Home Team</th>\n",
       "      <th>Away Team</th>\n",
       "      <th>Group</th>\n",
       "      <th>Result</th>\n",
       "    </tr>\n",
       "  </thead>\n",
       "  <tbody>\n",
       "    <tr>\n",
       "      <th>0</th>\n",
       "      <td>1</td>\n",
       "      <td>19/09/2020 19:30</td>\n",
       "      <td>Sheikh Zayed Stadium</td>\n",
       "      <td>Mumbai Indians</td>\n",
       "      <td>Chennai Super Kings</td>\n",
       "      <td>NaN</td>\n",
       "      <td>NaN</td>\n",
       "    </tr>\n",
       "    <tr>\n",
       "      <th>1</th>\n",
       "      <td>1</td>\n",
       "      <td>20/09/2020 19:30</td>\n",
       "      <td>Dubai International Cricket Stadium</td>\n",
       "      <td>Delhi Capitals</td>\n",
       "      <td>Kings XI Punjab</td>\n",
       "      <td>NaN</td>\n",
       "      <td>NaN</td>\n",
       "    </tr>\n",
       "    <tr>\n",
       "      <th>2</th>\n",
       "      <td>1</td>\n",
       "      <td>21/09/2020 19:30</td>\n",
       "      <td>Dubai International Cricket Stadium</td>\n",
       "      <td>Sunrisers Hyderabad</td>\n",
       "      <td>Royal Challengers Bangalore</td>\n",
       "      <td>NaN</td>\n",
       "      <td>NaN</td>\n",
       "    </tr>\n",
       "    <tr>\n",
       "      <th>3</th>\n",
       "      <td>1</td>\n",
       "      <td>22/09/2020 19:30</td>\n",
       "      <td>Sharjah Cricket Stadium</td>\n",
       "      <td>Rajasthan Royals</td>\n",
       "      <td>Chennai Super Kings</td>\n",
       "      <td>NaN</td>\n",
       "      <td>NaN</td>\n",
       "    </tr>\n",
       "    <tr>\n",
       "      <th>4</th>\n",
       "      <td>1</td>\n",
       "      <td>23/09/2020 19:30</td>\n",
       "      <td>Sheikh Zayed Stadium</td>\n",
       "      <td>Kolkata Knight Riders</td>\n",
       "      <td>Mumbai Indians</td>\n",
       "      <td>NaN</td>\n",
       "      <td>NaN</td>\n",
       "    </tr>\n",
       "  </tbody>\n",
       "</table>\n",
       "</div>"
      ],
      "text/plain": [
       "   Round Number              Date                             Location  \\\n",
       "0             1  19/09/2020 19:30                 Sheikh Zayed Stadium   \n",
       "1             1  20/09/2020 19:30  Dubai International Cricket Stadium   \n",
       "2             1  21/09/2020 19:30  Dubai International Cricket Stadium   \n",
       "3             1  22/09/2020 19:30              Sharjah Cricket Stadium   \n",
       "4             1  23/09/2020 19:30                 Sheikh Zayed Stadium   \n",
       "\n",
       "               Home Team                    Away Team  Group  Result  \n",
       "0         Mumbai Indians          Chennai Super Kings    NaN     NaN  \n",
       "1         Delhi Capitals              Kings XI Punjab    NaN     NaN  \n",
       "2    Sunrisers Hyderabad  Royal Challengers Bangalore    NaN     NaN  \n",
       "3       Rajasthan Royals          Chennai Super Kings    NaN     NaN  \n",
       "4  Kolkata Knight Riders               Mumbai Indians    NaN     NaN  "
      ]
     },
     "execution_count": 109,
     "metadata": {},
     "output_type": "execute_result"
    }
   ],
   "source": [
    "ipl_2020.head()"
   ]
  },
  {
   "cell_type": "code",
   "execution_count": 110,
   "metadata": {
    "ExecuteTime": {
     "end_time": "2020-09-18T21:53:53.509509Z",
     "start_time": "2020-09-18T21:53:53.502529Z"
    }
   },
   "outputs": [],
   "source": [
    "ipl_2020.drop(['Round Number', 'Date', 'Group', 'Result'], axis = 1, inplace = True)"
   ]
  },
  {
   "cell_type": "code",
   "execution_count": 111,
   "metadata": {
    "ExecuteTime": {
     "end_time": "2020-09-18T21:53:53.520479Z",
     "start_time": "2020-09-18T21:53:53.513500Z"
    }
   },
   "outputs": [],
   "source": [
    "ipl_2020.rename(columns = {'Location' : 'venue', 'Home Team' : 'team 1', 'Away Team' : 'team 2'}, inplace = True)"
   ]
  },
  {
   "cell_type": "code",
   "execution_count": 112,
   "metadata": {
    "ExecuteTime": {
     "end_time": "2020-09-18T21:53:53.548406Z",
     "start_time": "2020-09-18T21:53:53.524474Z"
    }
   },
   "outputs": [
    {
     "data": {
      "text/html": [
       "<div>\n",
       "<style scoped>\n",
       "    .dataframe tbody tr th:only-of-type {\n",
       "        vertical-align: middle;\n",
       "    }\n",
       "\n",
       "    .dataframe tbody tr th {\n",
       "        vertical-align: top;\n",
       "    }\n",
       "\n",
       "    .dataframe thead th {\n",
       "        text-align: right;\n",
       "    }\n",
       "</style>\n",
       "<table border=\"1\" class=\"dataframe\">\n",
       "  <thead>\n",
       "    <tr style=\"text-align: right;\">\n",
       "      <th></th>\n",
       "      <th>season</th>\n",
       "      <th>team1</th>\n",
       "      <th>team2</th>\n",
       "      <th>venue</th>\n",
       "      <th>Result</th>\n",
       "    </tr>\n",
       "  </thead>\n",
       "  <tbody>\n",
       "    <tr>\n",
       "      <th>0</th>\n",
       "      <td>2017</td>\n",
       "      <td>Sunrisers Hyderabad</td>\n",
       "      <td>Royal Challengers Bangalore</td>\n",
       "      <td>Rajiv Gandhi International Stadium, Uppal</td>\n",
       "      <td>1</td>\n",
       "    </tr>\n",
       "    <tr>\n",
       "      <th>1</th>\n",
       "      <td>2017</td>\n",
       "      <td>Mumbai Indians</td>\n",
       "      <td>Rising Pune Supergiant</td>\n",
       "      <td>Maharashtra Cricket Association Stadium</td>\n",
       "      <td>0</td>\n",
       "    </tr>\n",
       "    <tr>\n",
       "      <th>2</th>\n",
       "      <td>2017</td>\n",
       "      <td>Gujarat Lions</td>\n",
       "      <td>Kolkata Knight Riders</td>\n",
       "      <td>Saurashtra Cricket Association Stadium</td>\n",
       "      <td>0</td>\n",
       "    </tr>\n",
       "    <tr>\n",
       "      <th>3</th>\n",
       "      <td>2017</td>\n",
       "      <td>Rising Pune Supergiant</td>\n",
       "      <td>Kings XI Punjab</td>\n",
       "      <td>Holkar Cricket Stadium</td>\n",
       "      <td>0</td>\n",
       "    </tr>\n",
       "    <tr>\n",
       "      <th>4</th>\n",
       "      <td>2017</td>\n",
       "      <td>Royal Challengers Bangalore</td>\n",
       "      <td>Delhi Capitals</td>\n",
       "      <td>M Chinnaswamy Stadium</td>\n",
       "      <td>1</td>\n",
       "    </tr>\n",
       "    <tr>\n",
       "      <th>...</th>\n",
       "      <td>...</td>\n",
       "      <td>...</td>\n",
       "      <td>...</td>\n",
       "      <td>...</td>\n",
       "      <td>...</td>\n",
       "    </tr>\n",
       "    <tr>\n",
       "      <th>751</th>\n",
       "      <td>2019</td>\n",
       "      <td>Kolkata Knight Riders</td>\n",
       "      <td>Mumbai Indians</td>\n",
       "      <td>Wankhede Stadium</td>\n",
       "      <td>0</td>\n",
       "    </tr>\n",
       "    <tr>\n",
       "      <th>752</th>\n",
       "      <td>2019</td>\n",
       "      <td>Chennai Super Kings</td>\n",
       "      <td>Mumbai Indians</td>\n",
       "      <td>MA Chidambaram Stadium, Chepauk</td>\n",
       "      <td>0</td>\n",
       "    </tr>\n",
       "    <tr>\n",
       "      <th>753</th>\n",
       "      <td>2019</td>\n",
       "      <td>Sunrisers Hyderabad</td>\n",
       "      <td>Delhi Capitals</td>\n",
       "      <td>Dr. Y.S. Rajasekhara Reddy ACA-VDCA Cricket St...</td>\n",
       "      <td>0</td>\n",
       "    </tr>\n",
       "    <tr>\n",
       "      <th>754</th>\n",
       "      <td>2019</td>\n",
       "      <td>Delhi Capitals</td>\n",
       "      <td>Chennai Super Kings</td>\n",
       "      <td>Dr. Y.S. Rajasekhara Reddy ACA-VDCA Cricket St...</td>\n",
       "      <td>0</td>\n",
       "    </tr>\n",
       "    <tr>\n",
       "      <th>755</th>\n",
       "      <td>2019</td>\n",
       "      <td>Mumbai Indians</td>\n",
       "      <td>Chennai Super Kings</td>\n",
       "      <td>Rajiv Gandhi International Stadium, Uppal</td>\n",
       "      <td>1</td>\n",
       "    </tr>\n",
       "  </tbody>\n",
       "</table>\n",
       "<p>752 rows × 5 columns</p>\n",
       "</div>"
      ],
      "text/plain": [
       "     season                        team1                        team2  \\\n",
       "0      2017          Sunrisers Hyderabad  Royal Challengers Bangalore   \n",
       "1      2017               Mumbai Indians       Rising Pune Supergiant   \n",
       "2      2017                Gujarat Lions        Kolkata Knight Riders   \n",
       "3      2017       Rising Pune Supergiant              Kings XI Punjab   \n",
       "4      2017  Royal Challengers Bangalore               Delhi Capitals   \n",
       "..      ...                          ...                          ...   \n",
       "751    2019        Kolkata Knight Riders               Mumbai Indians   \n",
       "752    2019          Chennai Super Kings               Mumbai Indians   \n",
       "753    2019          Sunrisers Hyderabad               Delhi Capitals   \n",
       "754    2019               Delhi Capitals          Chennai Super Kings   \n",
       "755    2019               Mumbai Indians          Chennai Super Kings   \n",
       "\n",
       "                                                 venue  Result  \n",
       "0            Rajiv Gandhi International Stadium, Uppal       1  \n",
       "1              Maharashtra Cricket Association Stadium       0  \n",
       "2               Saurashtra Cricket Association Stadium       0  \n",
       "3                               Holkar Cricket Stadium       0  \n",
       "4                                M Chinnaswamy Stadium       1  \n",
       "..                                                 ...     ...  \n",
       "751                                   Wankhede Stadium       0  \n",
       "752                    MA Chidambaram Stadium, Chepauk       0  \n",
       "753  Dr. Y.S. Rajasekhara Reddy ACA-VDCA Cricket St...       0  \n",
       "754  Dr. Y.S. Rajasekhara Reddy ACA-VDCA Cricket St...       0  \n",
       "755          Rajiv Gandhi International Stadium, Uppal       1  \n",
       "\n",
       "[752 rows x 5 columns]"
      ]
     },
     "execution_count": 112,
     "metadata": {},
     "output_type": "execute_result"
    }
   ],
   "source": [
    "df_1"
   ]
  },
  {
   "cell_type": "code",
   "execution_count": 114,
   "metadata": {
    "ExecuteTime": {
     "end_time": "2020-09-18T21:53:53.591290Z",
     "start_time": "2020-09-18T21:53:53.584310Z"
    }
   },
   "outputs": [],
   "source": [
    "ipl_2020['season'] = np.where(1 == 1, 2019, 0)"
   ]
  },
  {
   "cell_type": "code",
   "execution_count": 116,
   "metadata": {
    "ExecuteTime": {
     "end_time": "2020-09-18T21:54:40.111346Z",
     "start_time": "2020-09-18T21:54:40.094395Z"
    }
   },
   "outputs": [
    {
     "data": {
      "text/html": [
       "<div>\n",
       "<style scoped>\n",
       "    .dataframe tbody tr th:only-of-type {\n",
       "        vertical-align: middle;\n",
       "    }\n",
       "\n",
       "    .dataframe tbody tr th {\n",
       "        vertical-align: top;\n",
       "    }\n",
       "\n",
       "    .dataframe thead th {\n",
       "        text-align: right;\n",
       "    }\n",
       "</style>\n",
       "<table border=\"1\" class=\"dataframe\">\n",
       "  <thead>\n",
       "    <tr style=\"text-align: right;\">\n",
       "      <th></th>\n",
       "      <th>venue</th>\n",
       "      <th>team 1</th>\n",
       "      <th>team 2</th>\n",
       "      <th>season</th>\n",
       "    </tr>\n",
       "  </thead>\n",
       "  <tbody>\n",
       "    <tr>\n",
       "      <th>0</th>\n",
       "      <td>Sheikh Zayed Stadium</td>\n",
       "      <td>Mumbai Indians</td>\n",
       "      <td>Chennai Super Kings</td>\n",
       "      <td>2019</td>\n",
       "    </tr>\n",
       "    <tr>\n",
       "      <th>1</th>\n",
       "      <td>Dubai International Cricket Stadium</td>\n",
       "      <td>Delhi Capitals</td>\n",
       "      <td>Kings XI Punjab</td>\n",
       "      <td>2019</td>\n",
       "    </tr>\n",
       "    <tr>\n",
       "      <th>2</th>\n",
       "      <td>Dubai International Cricket Stadium</td>\n",
       "      <td>Sunrisers Hyderabad</td>\n",
       "      <td>Royal Challengers Bangalore</td>\n",
       "      <td>2019</td>\n",
       "    </tr>\n",
       "    <tr>\n",
       "      <th>3</th>\n",
       "      <td>Sharjah Cricket Stadium</td>\n",
       "      <td>Rajasthan Royals</td>\n",
       "      <td>Chennai Super Kings</td>\n",
       "      <td>2019</td>\n",
       "    </tr>\n",
       "    <tr>\n",
       "      <th>4</th>\n",
       "      <td>Sheikh Zayed Stadium</td>\n",
       "      <td>Kolkata Knight Riders</td>\n",
       "      <td>Mumbai Indians</td>\n",
       "      <td>2019</td>\n",
       "    </tr>\n",
       "  </tbody>\n",
       "</table>\n",
       "</div>"
      ],
      "text/plain": [
       "                                 venue                 team 1  \\\n",
       "0                 Sheikh Zayed Stadium         Mumbai Indians   \n",
       "1  Dubai International Cricket Stadium         Delhi Capitals   \n",
       "2  Dubai International Cricket Stadium    Sunrisers Hyderabad   \n",
       "3              Sharjah Cricket Stadium       Rajasthan Royals   \n",
       "4                 Sheikh Zayed Stadium  Kolkata Knight Riders   \n",
       "\n",
       "                        team 2  season  \n",
       "0          Chennai Super Kings    2019  \n",
       "1              Kings XI Punjab    2019  \n",
       "2  Royal Challengers Bangalore    2019  \n",
       "3          Chennai Super Kings    2019  \n",
       "4               Mumbai Indians    2019  "
      ]
     },
     "execution_count": 116,
     "metadata": {},
     "output_type": "execute_result"
    }
   ],
   "source": [
    "ipl_2020.head()"
   ]
  },
  {
   "cell_type": "code",
   "execution_count": 117,
   "metadata": {
    "ExecuteTime": {
     "end_time": "2020-09-18T21:55:15.490173Z",
     "start_time": "2020-09-18T21:55:15.471225Z"
    }
   },
   "outputs": [],
   "source": [
    "final_df = df_1.merge(ipl_2020)"
   ]
  },
  {
   "cell_type": "code",
   "execution_count": null,
   "metadata": {},
   "outputs": [],
   "source": []
  },
  {
   "cell_type": "code",
   "execution_count": null,
   "metadata": {},
   "outputs": [],
   "source": []
  },
  {
   "cell_type": "code",
   "execution_count": null,
   "metadata": {},
   "outputs": [],
   "source": []
  },
  {
   "cell_type": "code",
   "execution_count": null,
   "metadata": {},
   "outputs": [],
   "source": []
  },
  {
   "cell_type": "code",
   "execution_count": null,
   "metadata": {},
   "outputs": [],
   "source": []
  },
  {
   "cell_type": "code",
   "execution_count": null,
   "metadata": {},
   "outputs": [],
   "source": []
  },
  {
   "cell_type": "code",
   "execution_count": null,
   "metadata": {},
   "outputs": [],
   "source": []
  },
  {
   "cell_type": "code",
   "execution_count": null,
   "metadata": {},
   "outputs": [],
   "source": []
  },
  {
   "cell_type": "code",
   "execution_count": null,
   "metadata": {},
   "outputs": [],
   "source": []
  },
  {
   "cell_type": "code",
   "execution_count": null,
   "metadata": {},
   "outputs": [],
   "source": []
  },
  {
   "cell_type": "code",
   "execution_count": null,
   "metadata": {},
   "outputs": [],
   "source": []
  },
  {
   "cell_type": "code",
   "execution_count": null,
   "metadata": {},
   "outputs": [],
   "source": []
  },
  {
   "cell_type": "code",
   "execution_count": null,
   "metadata": {},
   "outputs": [],
   "source": []
  },
  {
   "cell_type": "code",
   "execution_count": null,
   "metadata": {},
   "outputs": [],
   "source": []
  },
  {
   "cell_type": "code",
   "execution_count": null,
   "metadata": {},
   "outputs": [],
   "source": []
  },
  {
   "cell_type": "code",
   "execution_count": null,
   "metadata": {},
   "outputs": [],
   "source": []
  }
 ],
 "metadata": {
  "kernelspec": {
   "display_name": "Python 3",
   "language": "python",
   "name": "python3"
  },
  "language_info": {
   "codemirror_mode": {
    "name": "ipython",
    "version": 3
   },
   "file_extension": ".py",
   "mimetype": "text/x-python",
   "name": "python",
   "nbconvert_exporter": "python",
   "pygments_lexer": "ipython3",
   "version": "3.7.3"
  }
 },
 "nbformat": 4,
 "nbformat_minor": 2
}
